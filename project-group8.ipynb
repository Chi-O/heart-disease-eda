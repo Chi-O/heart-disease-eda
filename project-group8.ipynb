{
 "cells": [
  {
   "cell_type": "markdown",
   "source": "### CSCI 2000U Fall 2021- Scientific Data Analysis  - Final Project \n----",
   "metadata": {
    "cell_id": "00000-3b9f2d03-00ec-4846-b4b1-a7155ae3a34d",
    "deepnote_app_coordinates": {
     "x": 0,
     "y": null,
     "w": 12,
     "h": 5
    },
    "deepnote_cell_type": "markdown"
   }
  },
  {
   "cell_type": "markdown",
   "source": "### ✩ Team 8 ✩\n##### Chioma Okechukwu &nbsp;&nbsp; | 100741742\n##### Krishna Patel &nbsp;&nbsp;&nbsp;&nbsp;&nbsp;&nbsp;&nbsp;&nbsp;&nbsp;&nbsp;&nbsp;&nbsp;&nbsp;&nbsp;&nbsp;&nbsp; | 100788320\n##### William Dolan &nbsp;&nbsp;&nbsp;&nbsp;&nbsp;&nbsp;&nbsp;&nbsp;&nbsp;&nbsp;&nbsp;&nbsp;&nbsp;&nbsp;&nbsp;   | 100587997\n----\n##### Contributions:  \n\n**Chioma**  \n* Organized assignment of tasks among teammates\n* Detailed the \"Introduction\", \"Getting to Know Our Data\" and \"Analysis of the dataset\" (including the pre-preprocessing step), \"Potential for Data Science\" sections\n* Plotted and wrote up observations for research question 1, wrote observations for research question 2\n* Formatted, reviewed and fixed errors on notebook and `README.md` file on GitHub\n\n**Krishna**\n* Plotted graphs for research question 3 \n* Added some discussions of research question 3\n* Plotted and wrote up observations for research questions 4 and 5 \n* Wrote out the \"Conclusion\" section\n* Wrote up \"Acknowledgements\" and \"README\" section on `README.md` file on GitHub\n\n**William**\n* Plotted heatmap for research question 1 \n* Wrote descriptions for subplots of research question 3\n* Cleaned up spelling errors and titles of graphs\n* Wrote up \"Introduction\", \"Discussion\", and \"Conclusion\" `README.md` blogpost\n",
   "metadata": {
    "tags": [],
    "cell_id": "00001-de424371-11d6-4d5d-a81a-09294bfac7cb",
    "deepnote_app_coordinates": {
     "x": 0,
     "y": 6,
     "w": 12,
     "h": 5
    },
    "deepnote_cell_type": "markdown"
   }
  },
  {
   "cell_type": "markdown",
   "source": "## Introduction\nAcross our team, we felt the need to perform relevant data analysis for our project, something meaningful yet exciting. Indeed we found many interesting datasets during our search, and the one below was not our first choice. We initially proposed a dataset on Avocado prices, however, we reconsidered this and decided to search for a more robust dataset. \nFinally, we spotted a dataset promising enough for compelling analysis and meaningful enough to show us some real-world application of the concepts we learned in the course.  \n\n### **Heart Disease Dataset**\n\n➡️ *Source: https://archive.ics.uci.edu/ml//datasets/Heart+Disease*\n\nOur chosen dataset for this project is the Heart Disease dataset originally donated to the UCI (University of Carlifornia, Irvine) Machine Learning Repository in 1988. It was created by 4 medical doctors and contains data from patients across Cleveland, Hungary, Switzerland, and the VA Long Beach. Records of these patients are found in separate datasets mentioned in the link above, while the Heart Disease dataset is a combination of these observations.  \nAccording to the World Health Organization, [the number one cause of death is heart disease](https://www.who.int/news-room/fact-sheets/detail/the-top-10-causes-of-death), responsible for 16% of the world's total deaths. By 2019, there was an increase in death by heart disease from 2 million deaths in 2000 to 8.9 million recorded that year.  \nWith this dataset, we believe a machine learning model can help detect heart disease early by analyzing risk factors including diabetes, hypertension, obesity, physical inactivity and underlying health issues.\n\n##### Questions we will explore\n1. Does high cholesterol level always mean that an individual has heart disease?\n2. Is heart disease more prevailent in male or female patients?\n3. What other factors can indicate whether a person has, or is at risk for heart disease?\n4. For what age and sex are each type of chest pain most common? \n5. How do different types of chest pain relate to high cholesterol and heart disease among patients?\n\n\n",
   "metadata": {
    "tags": [],
    "cell_id": "00002-d56baf94-5ba7-4338-8cbf-c52e5c162994",
    "deepnote_app_coordinates": {
     "x": 0,
     "y": 12,
     "w": 12,
     "h": 5
    },
    "deepnote_cell_type": "markdown"
   }
  },
  {
   "cell_type": "markdown",
   "source": "## Getting to Know Our Data\n\n#### Description of each attribute\n\n| Attribute | Description | Type | Values |\n|:-----------|:--------------|:-------|:-----|\n| `Age`  | age of the patient in years | Numerical| | \n| `Sex` | gender of the patient  | Categorical  | <ul><li> M - male </li> <li> F - female </li></ul>|\n| `ChestPainType` &nbsp;&nbsp;| chest pain type | Categorical &nbsp;| <ul><li> TA - Typical Angina (chest pain caused by physical or emotional stress) </li> <li> ATA - Atypical Angina (does not have classical symptoms of chest pain) </li> <li> NAP - Non-Anginal Pain (chest pain not caused by a heart attack) </li><li> ASY - Asymptomatic (no symptoms observed) </li></ul>|\n| `RestingBP`| resting blood pressure in mmHg | Numerical | |\n| `Cholesterol` | serum cholesterol in mm/dl | Numerical | |\n| `FastingBS` | fasting blood sugar | Categorical | <ul><li> 1 - if `FastingBS` > 120 mg/dl </li> <li> 0 - otherwise </li></ul>|\n| `RestingECG` | resting electrocardiogram results | Categorical | <ul><li>Normal - nomral ECG reading </li><li> ST - ECG has [ST wave abnormality](https://www.healio.com/cardiology/learn-the-heart/ecg-review/ecg-interpretation-tutorial/68-causes-of-t-wave-st-segment-abnormalities) </li><li> LVH - showing probable or definite [left ventricular hypertrophy](https://www.healio.com/cardiology/learn-the-heart/ecg-review/ecg-interpretation-tutorial/68-causes-of-t-wave-st-segment-abnormalities) by Estes' criteria  </li></ul>|\n| `MaxHR`  | maximum heart rate achieved | Numerical | <ul><li>between 60 and 202 </li></ul>|\n| `ExerciseAngina` | excercise-induced angina | Categorical | <ul><li> Y - yes </li><li> N - no </li></ul> |\n| `Oldpeak`  | [ST depression of ECG](https://en.wikipedia.org/wiki/ST_depression) | Numerical |  |\n| `ST_Slope` | the [slope of the peak exercise ST segment](https://www.sciencedirect.com/science/article/abs/pii/0002870386902656) | Categorical | <ul><li> Up - upward slope </li><li> Flat - slope is zero </li><li> Down - downward slope </li></ul> |\n| `HeartDisease` | output class | Categorical | <ul><li> 1 - individual has heart disease </li><li> 2 - individual does not have heart disease </li></ul> |",
   "metadata": {
    "cell_id": "00003-498db5cf-eb5a-4f18-b51d-9bbad0e08e35",
    "deepnote_app_coordinates": {
     "x": 0,
     "y": 18,
     "w": 12,
     "h": 5
    },
    "deepnote_cell_type": "markdown"
   }
  },
  {
   "cell_type": "code",
   "metadata": {
    "tags": [],
    "cell_id": "00004-bf32c1dd-1342-4c0c-9617-3ce6bbd6b664",
    "deepnote_to_be_reexecuted": false,
    "source_hash": "5775d356",
    "execution_start": 1638836508137,
    "execution_millis": 2506,
    "deepnote_app_coordinates": {
     "x": 0,
     "y": 24,
     "w": 12,
     "h": 5
    },
    "deepnote_cell_type": "code"
   },
   "source": "# importing used libraries\n\nimport pandas as pd\nimport numpy as np\nimport seaborn as sns\nimport matplotlib\nimport matplotlib.pyplot as plt\n\n#### ⬇️⬇️ uncomment this code to install the plotly library - it may take a minute or two :) ######\n# !pip install plotly==5.4.0\n\nimport plotly.express as px\nfrom plotly.subplots import make_subplots\nimport plotly.graph_objects as go\n\n\n# loading our csv dataset into a pandas dataframe\ndf = pd.read_csv('heart.csv')",
   "outputs": [],
   "execution_count": null
  },
  {
   "cell_type": "markdown",
   "source": "First we'll take a look at the dimensions of our dataset ",
   "metadata": {
    "tags": [],
    "cell_id": "00008-c9da5ce3-5217-4709-85d1-84b11c29b8c9",
    "deepnote_app_coordinates": {
     "x": 0,
     "y": 30,
     "w": 12,
     "h": 5
    },
    "deepnote_cell_type": "markdown"
   }
  },
  {
   "cell_type": "code",
   "metadata": {
    "tags": [],
    "cell_id": "00008-979305a2-056b-499f-8566-e265cece5be7",
    "deepnote_to_be_reexecuted": false,
    "source_hash": "67b8f233",
    "execution_start": 1638836510652,
    "execution_millis": 7,
    "deepnote_output_heights": [
     21.1875
    ],
    "deepnote_app_coordinates": {
     "x": 0,
     "y": 36,
     "w": 12,
     "h": 5
    },
    "deepnote_cell_type": "code"
   },
   "source": "print(df.shape, \">> we have 918 records, and 12 attributes\")",
   "outputs": [
    {
     "name": "stdout",
     "text": "(918, 12) >> we have 918 records, and 12 attributes\n",
     "output_type": "stream"
    }
   ],
   "execution_count": null
  },
  {
   "cell_type": "markdown",
   "source": "Then check the datatypes of each attribute",
   "metadata": {
    "tags": [],
    "cell_id": "00007-62b87a7f-7167-4d2e-ba29-44d2546fdaae",
    "deepnote_app_coordinates": {
     "x": 0,
     "y": 42,
     "w": 12,
     "h": 5
    },
    "deepnote_cell_type": "markdown"
   }
  },
  {
   "cell_type": "code",
   "metadata": {
    "tags": [],
    "cell_id": "00008-935b6c03-0a1e-42c3-887a-0e3eb1ec9803",
    "deepnote_to_be_reexecuted": false,
    "source_hash": "52430027",
    "execution_start": 1638836510671,
    "execution_millis": 52,
    "deepnote_output_heights": [
     251.5625
    ],
    "deepnote_app_coordinates": {
     "x": 0,
     "y": 48,
     "w": 12,
     "h": 5
    },
    "deepnote_cell_type": "code"
   },
   "source": "df.dtypes",
   "outputs": [
    {
     "output_type": "execute_result",
     "execution_count": 3,
     "data": {
      "text/plain": "Age                 int64\nSex                object\nChestPainType      object\nRestingBP           int64\nCholesterol         int64\nFastingBS           int64\nRestingECG         object\nMaxHR               int64\nExerciseAngina     object\nOldpeak           float64\nST_Slope           object\nHeartDisease        int64\ndtype: object"
     },
     "metadata": {}
    }
   ],
   "execution_count": null
  },
  {
   "cell_type": "markdown",
   "source": "Now let's see what the first few rows of our data look like:",
   "metadata": {
    "tags": [],
    "cell_id": "00004-773bc57e-d26a-4141-a396-eac532606f0c",
    "deepnote_app_coordinates": {
     "x": 0,
     "y": 54,
     "w": 12,
     "h": 5
    },
    "deepnote_cell_type": "markdown"
   }
  },
  {
   "cell_type": "code",
   "metadata": {
    "tags": [],
    "cell_id": "00006-02666a2e-d9dc-4b5e-a200-966f1c3e676c",
    "deepnote_to_be_reexecuted": false,
    "source_hash": "c085b6ba",
    "execution_start": 1638836510682,
    "execution_millis": 66,
    "deepnote_output_heights": [
     177
    ],
    "deepnote_app_coordinates": {
     "x": 0,
     "y": 60,
     "w": 12,
     "h": 5
    },
    "deepnote_cell_type": "code"
   },
   "source": "df.head()",
   "outputs": [
    {
     "output_type": "execute_result",
     "execution_count": 4,
     "data": {
      "application/vnd.deepnote.dataframe.v2+json": {
       "row_count": 5,
       "column_count": 12,
       "columns": [
        {
         "name": "Age",
         "dtype": "int64",
         "stats": {
          "unique_count": 5,
          "nan_count": 0,
          "min": "37",
          "max": "54",
          "histogram": [
           {
            "bin_start": 37,
            "bin_end": 38.7,
            "count": 1
           },
           {
            "bin_start": 38.7,
            "bin_end": 40.4,
            "count": 1
           },
           {
            "bin_start": 40.4,
            "bin_end": 42.1,
            "count": 0
           },
           {
            "bin_start": 42.1,
            "bin_end": 43.8,
            "count": 0
           },
           {
            "bin_start": 43.8,
            "bin_end": 45.5,
            "count": 0
           },
           {
            "bin_start": 45.5,
            "bin_end": 47.2,
            "count": 0
           },
           {
            "bin_start": 47.2,
            "bin_end": 48.9,
            "count": 1
           },
           {
            "bin_start": 48.9,
            "bin_end": 50.6,
            "count": 1
           },
           {
            "bin_start": 50.6,
            "bin_end": 52.3,
            "count": 0
           },
           {
            "bin_start": 52.3,
            "bin_end": 54,
            "count": 1
           }
          ]
         }
        },
        {
         "name": "Sex",
         "dtype": "object",
         "stats": {
          "unique_count": 2,
          "nan_count": 0,
          "categories": [
           {
            "name": "M",
            "count": 3
           },
           {
            "name": "F",
            "count": 2
           }
          ]
         }
        },
        {
         "name": "ChestPainType",
         "dtype": "object",
         "stats": {
          "unique_count": 3,
          "nan_count": 0,
          "categories": [
           {
            "name": "ATA",
            "count": 2
           },
           {
            "name": "NAP",
            "count": 2
           },
           {
            "name": "ASY",
            "count": 1
           }
          ]
         }
        },
        {
         "name": "RestingBP",
         "dtype": "int64",
         "stats": {
          "unique_count": 5,
          "nan_count": 0,
          "min": "130",
          "max": "160",
          "histogram": [
           {
            "bin_start": 130,
            "bin_end": 133,
            "count": 1
           },
           {
            "bin_start": 133,
            "bin_end": 136,
            "count": 0
           },
           {
            "bin_start": 136,
            "bin_end": 139,
            "count": 1
           },
           {
            "bin_start": 139,
            "bin_end": 142,
            "count": 1
           },
           {
            "bin_start": 142,
            "bin_end": 145,
            "count": 0
           },
           {
            "bin_start": 145,
            "bin_end": 148,
            "count": 0
           },
           {
            "bin_start": 148,
            "bin_end": 151,
            "count": 1
           },
           {
            "bin_start": 151,
            "bin_end": 154,
            "count": 0
           },
           {
            "bin_start": 154,
            "bin_end": 157,
            "count": 0
           },
           {
            "bin_start": 157,
            "bin_end": 160,
            "count": 1
           }
          ]
         }
        },
        {
         "name": "Cholesterol",
         "dtype": "int64",
         "stats": {
          "unique_count": 5,
          "nan_count": 0,
          "min": "180",
          "max": "289",
          "histogram": [
           {
            "bin_start": 180,
            "bin_end": 190.9,
            "count": 1
           },
           {
            "bin_start": 190.9,
            "bin_end": 201.8,
            "count": 1
           },
           {
            "bin_start": 201.8,
            "bin_end": 212.7,
            "count": 0
           },
           {
            "bin_start": 212.7,
            "bin_end": 223.6,
            "count": 1
           },
           {
            "bin_start": 223.6,
            "bin_end": 234.5,
            "count": 0
           },
           {
            "bin_start": 234.5,
            "bin_end": 245.4,
            "count": 0
           },
           {
            "bin_start": 245.4,
            "bin_end": 256.3,
            "count": 0
           },
           {
            "bin_start": 256.3,
            "bin_end": 267.2,
            "count": 0
           },
           {
            "bin_start": 267.2,
            "bin_end": 278.1,
            "count": 0
           },
           {
            "bin_start": 278.1,
            "bin_end": 289,
            "count": 2
           }
          ]
         }
        },
        {
         "name": "FastingBS",
         "dtype": "int64",
         "stats": {
          "unique_count": 1,
          "nan_count": 0,
          "min": "0",
          "max": "0",
          "histogram": [
           {
            "bin_start": -0.5,
            "bin_end": -0.4,
            "count": 0
           },
           {
            "bin_start": -0.4,
            "bin_end": -0.3,
            "count": 0
           },
           {
            "bin_start": -0.3,
            "bin_end": -0.19999999999999996,
            "count": 0
           },
           {
            "bin_start": -0.19999999999999996,
            "bin_end": -0.09999999999999998,
            "count": 0
           },
           {
            "bin_start": -0.09999999999999998,
            "bin_end": 0,
            "count": 0
           },
           {
            "bin_start": 0,
            "bin_end": 0.10000000000000009,
            "count": 5
           },
           {
            "bin_start": 0.10000000000000009,
            "bin_end": 0.20000000000000007,
            "count": 0
           },
           {
            "bin_start": 0.20000000000000007,
            "bin_end": 0.30000000000000004,
            "count": 0
           },
           {
            "bin_start": 0.30000000000000004,
            "bin_end": 0.4,
            "count": 0
           },
           {
            "bin_start": 0.4,
            "bin_end": 0.5,
            "count": 0
           }
          ]
         }
        },
        {
         "name": "RestingECG",
         "dtype": "object",
         "stats": {
          "unique_count": 2,
          "nan_count": 0,
          "categories": [
           {
            "name": "Normal",
            "count": 4
           },
           {
            "name": "ST",
            "count": 1
           }
          ]
         }
        },
        {
         "name": "MaxHR",
         "dtype": "int64",
         "stats": {
          "unique_count": 5,
          "nan_count": 0,
          "min": "98",
          "max": "172",
          "histogram": [
           {
            "bin_start": 98,
            "bin_end": 105.4,
            "count": 1
           },
           {
            "bin_start": 105.4,
            "bin_end": 112.8,
            "count": 1
           },
           {
            "bin_start": 112.8,
            "bin_end": 120.2,
            "count": 0
           },
           {
            "bin_start": 120.2,
            "bin_end": 127.6,
            "count": 1
           },
           {
            "bin_start": 127.6,
            "bin_end": 135,
            "count": 0
           },
           {
            "bin_start": 135,
            "bin_end": 142.4,
            "count": 0
           },
           {
            "bin_start": 142.4,
            "bin_end": 149.8,
            "count": 0
           },
           {
            "bin_start": 149.8,
            "bin_end": 157.2,
            "count": 1
           },
           {
            "bin_start": 157.2,
            "bin_end": 164.60000000000002,
            "count": 0
           },
           {
            "bin_start": 164.60000000000002,
            "bin_end": 172,
            "count": 1
           }
          ]
         }
        },
        {
         "name": "ExerciseAngina",
         "dtype": "object",
         "stats": {
          "unique_count": 2,
          "nan_count": 0,
          "categories": [
           {
            "name": "N",
            "count": 4
           },
           {
            "name": "Y",
            "count": 1
           }
          ]
         }
        },
        {
         "name": "Oldpeak",
         "dtype": "float64",
         "stats": {
          "unique_count": 3,
          "nan_count": 0,
          "min": "0.0",
          "max": "1.5",
          "histogram": [
           {
            "bin_start": 0,
            "bin_end": 0.15,
            "count": 3
           },
           {
            "bin_start": 0.15,
            "bin_end": 0.3,
            "count": 0
           },
           {
            "bin_start": 0.3,
            "bin_end": 0.44999999999999996,
            "count": 0
           },
           {
            "bin_start": 0.44999999999999996,
            "bin_end": 0.6,
            "count": 0
           },
           {
            "bin_start": 0.6,
            "bin_end": 0.75,
            "count": 0
           },
           {
            "bin_start": 0.75,
            "bin_end": 0.8999999999999999,
            "count": 0
           },
           {
            "bin_start": 0.8999999999999999,
            "bin_end": 1.05,
            "count": 1
           },
           {
            "bin_start": 1.05,
            "bin_end": 1.2,
            "count": 0
           },
           {
            "bin_start": 1.2,
            "bin_end": 1.3499999999999999,
            "count": 0
           },
           {
            "bin_start": 1.3499999999999999,
            "bin_end": 1.5,
            "count": 1
           }
          ]
         }
        },
        {
         "name": "ST_Slope",
         "dtype": "object",
         "stats": {
          "unique_count": 2,
          "nan_count": 0,
          "categories": [
           {
            "name": "Up",
            "count": 3
           },
           {
            "name": "Flat",
            "count": 2
           }
          ]
         }
        },
        {
         "name": "HeartDisease",
         "dtype": "int64",
         "stats": {
          "unique_count": 2,
          "nan_count": 0,
          "min": "0",
          "max": "1",
          "histogram": [
           {
            "bin_start": 0,
            "bin_end": 0.1,
            "count": 3
           },
           {
            "bin_start": 0.1,
            "bin_end": 0.2,
            "count": 0
           },
           {
            "bin_start": 0.2,
            "bin_end": 0.30000000000000004,
            "count": 0
           },
           {
            "bin_start": 0.30000000000000004,
            "bin_end": 0.4,
            "count": 0
           },
           {
            "bin_start": 0.4,
            "bin_end": 0.5,
            "count": 0
           },
           {
            "bin_start": 0.5,
            "bin_end": 0.6000000000000001,
            "count": 0
           },
           {
            "bin_start": 0.6000000000000001,
            "bin_end": 0.7000000000000001,
            "count": 0
           },
           {
            "bin_start": 0.7000000000000001,
            "bin_end": 0.8,
            "count": 0
           },
           {
            "bin_start": 0.8,
            "bin_end": 0.9,
            "count": 0
           },
           {
            "bin_start": 0.9,
            "bin_end": 1,
            "count": 2
           }
          ]
         }
        },
        {
         "name": "_deepnote_index_column",
         "dtype": "int64"
        }
       ],
       "rows_top": [
        {
         "Age": 40,
         "Sex": "M",
         "ChestPainType": "ATA",
         "RestingBP": 140,
         "Cholesterol": 289,
         "FastingBS": 0,
         "RestingECG": "Normal",
         "MaxHR": 172,
         "ExerciseAngina": "N",
         "Oldpeak": 0,
         "ST_Slope": "Up",
         "HeartDisease": 0,
         "_deepnote_index_column": 0
        },
        {
         "Age": 49,
         "Sex": "F",
         "ChestPainType": "NAP",
         "RestingBP": 160,
         "Cholesterol": 180,
         "FastingBS": 0,
         "RestingECG": "Normal",
         "MaxHR": 156,
         "ExerciseAngina": "N",
         "Oldpeak": 1,
         "ST_Slope": "Flat",
         "HeartDisease": 1,
         "_deepnote_index_column": 1
        },
        {
         "Age": 37,
         "Sex": "M",
         "ChestPainType": "ATA",
         "RestingBP": 130,
         "Cholesterol": 283,
         "FastingBS": 0,
         "RestingECG": "ST",
         "MaxHR": 98,
         "ExerciseAngina": "N",
         "Oldpeak": 0,
         "ST_Slope": "Up",
         "HeartDisease": 0,
         "_deepnote_index_column": 2
        },
        {
         "Age": 48,
         "Sex": "F",
         "ChestPainType": "ASY",
         "RestingBP": 138,
         "Cholesterol": 214,
         "FastingBS": 0,
         "RestingECG": "Normal",
         "MaxHR": 108,
         "ExerciseAngina": "Y",
         "Oldpeak": 1.5,
         "ST_Slope": "Flat",
         "HeartDisease": 1,
         "_deepnote_index_column": 3
        },
        {
         "Age": 54,
         "Sex": "M",
         "ChestPainType": "NAP",
         "RestingBP": 150,
         "Cholesterol": 195,
         "FastingBS": 0,
         "RestingECG": "Normal",
         "MaxHR": 122,
         "ExerciseAngina": "N",
         "Oldpeak": 0,
         "ST_Slope": "Up",
         "HeartDisease": 0,
         "_deepnote_index_column": 4
        }
       ],
       "rows_bottom": null
      },
      "text/plain": "   Age Sex ChestPainType  RestingBP  Cholesterol  FastingBS RestingECG  MaxHR  \\\n0   40   M           ATA        140          289          0     Normal    172   \n1   49   F           NAP        160          180          0     Normal    156   \n2   37   M           ATA        130          283          0         ST     98   \n3   48   F           ASY        138          214          0     Normal    108   \n4   54   M           NAP        150          195          0     Normal    122   \n\n  ExerciseAngina  Oldpeak ST_Slope  HeartDisease  \n0              N      0.0       Up             0  \n1              N      1.0     Flat             1  \n2              N      0.0       Up             0  \n3              Y      1.5     Flat             1  \n4              N      0.0       Up             0  ",
      "text/html": "<div>\n<style scoped>\n    .dataframe tbody tr th:only-of-type {\n        vertical-align: middle;\n    }\n\n    .dataframe tbody tr th {\n        vertical-align: top;\n    }\n\n    .dataframe thead th {\n        text-align: right;\n    }\n</style>\n<table border=\"1\" class=\"dataframe\">\n  <thead>\n    <tr style=\"text-align: right;\">\n      <th></th>\n      <th>Age</th>\n      <th>Sex</th>\n      <th>ChestPainType</th>\n      <th>RestingBP</th>\n      <th>Cholesterol</th>\n      <th>FastingBS</th>\n      <th>RestingECG</th>\n      <th>MaxHR</th>\n      <th>ExerciseAngina</th>\n      <th>Oldpeak</th>\n      <th>ST_Slope</th>\n      <th>HeartDisease</th>\n    </tr>\n  </thead>\n  <tbody>\n    <tr>\n      <th>0</th>\n      <td>40</td>\n      <td>M</td>\n      <td>ATA</td>\n      <td>140</td>\n      <td>289</td>\n      <td>0</td>\n      <td>Normal</td>\n      <td>172</td>\n      <td>N</td>\n      <td>0.0</td>\n      <td>Up</td>\n      <td>0</td>\n    </tr>\n    <tr>\n      <th>1</th>\n      <td>49</td>\n      <td>F</td>\n      <td>NAP</td>\n      <td>160</td>\n      <td>180</td>\n      <td>0</td>\n      <td>Normal</td>\n      <td>156</td>\n      <td>N</td>\n      <td>1.0</td>\n      <td>Flat</td>\n      <td>1</td>\n    </tr>\n    <tr>\n      <th>2</th>\n      <td>37</td>\n      <td>M</td>\n      <td>ATA</td>\n      <td>130</td>\n      <td>283</td>\n      <td>0</td>\n      <td>ST</td>\n      <td>98</td>\n      <td>N</td>\n      <td>0.0</td>\n      <td>Up</td>\n      <td>0</td>\n    </tr>\n    <tr>\n      <th>3</th>\n      <td>48</td>\n      <td>F</td>\n      <td>ASY</td>\n      <td>138</td>\n      <td>214</td>\n      <td>0</td>\n      <td>Normal</td>\n      <td>108</td>\n      <td>Y</td>\n      <td>1.5</td>\n      <td>Flat</td>\n      <td>1</td>\n    </tr>\n    <tr>\n      <th>4</th>\n      <td>54</td>\n      <td>M</td>\n      <td>NAP</td>\n      <td>150</td>\n      <td>195</td>\n      <td>0</td>\n      <td>Normal</td>\n      <td>122</td>\n      <td>N</td>\n      <td>0.0</td>\n      <td>Up</td>\n      <td>0</td>\n    </tr>\n  </tbody>\n</table>\n</div>"
     },
     "metadata": {}
    }
   ],
   "execution_count": null
  },
  {
   "cell_type": "markdown",
   "source": "## Analysis of the dataset\n#### We'll inspect the quality of the data and decide what pre-processing is necessary",
   "metadata": {
    "tags": [],
    "cell_id": "00010-f728d6f0-7c34-4613-8f41-0d2e27cb30ad",
    "deepnote_app_coordinates": {
     "x": 0,
     "y": 66,
     "w": 12,
     "h": 5
    },
    "deepnote_cell_type": "markdown"
   }
  },
  {
   "cell_type": "markdown",
   "source": "First, let's check if we have any **missing** values",
   "metadata": {
    "tags": [],
    "cell_id": "00012-7edb897e-c123-4a6f-b408-95581bfc7ff7",
    "deepnote_app_coordinates": {
     "x": 0,
     "y": 72,
     "w": 12,
     "h": 5
    },
    "deepnote_cell_type": "markdown"
   }
  },
  {
   "cell_type": "code",
   "metadata": {
    "tags": [],
    "cell_id": "00014-e89c1956-5453-45f2-a6af-d05e36edc185",
    "deepnote_to_be_reexecuted": false,
    "source_hash": "f867ac45",
    "execution_start": 1638836510764,
    "execution_millis": 15207387,
    "deepnote_output_heights": [
     251.5625
    ],
    "deepnote_app_coordinates": {
     "x": 0,
     "y": 78,
     "w": 12,
     "h": 5
    },
    "deepnote_cell_type": "code"
   },
   "source": "print(df.isnull().sum())\nprint(\">> there are no empty/missing/null records\")",
   "outputs": [
    {
     "name": "stdout",
     "text": "Age               0\nSex               0\nChestPainType     0\nRestingBP         0\nCholesterol       0\nFastingBS         0\nRestingECG        0\nMaxHR             0\nExerciseAngina    0\nOldpeak           0\nST_Slope          0\nHeartDisease      0\ndtype: int64\n>> there are no empty/missing/null records\n",
     "output_type": "stream"
    }
   ],
   "execution_count": null
  },
  {
   "cell_type": "markdown",
   "source": "Then check if we have any **duplicate** values",
   "metadata": {
    "tags": [],
    "cell_id": "00014-76abdab9-de0a-4723-9fc7-2f23c64ee4bb",
    "deepnote_app_coordinates": {
     "x": 0,
     "y": 84,
     "w": 12,
     "h": 5
    },
    "deepnote_cell_type": "markdown"
   }
  },
  {
   "cell_type": "code",
   "metadata": {
    "tags": [],
    "cell_id": "00013-9b9d0e89-1257-49a7-9349-fc9983fb6dcd",
    "deepnote_to_be_reexecuted": false,
    "source_hash": "b3ad2b38",
    "execution_start": 1638836510813,
    "execution_millis": 2,
    "deepnote_app_coordinates": {
     "x": 0,
     "y": 90,
     "w": 12,
     "h": 5
    },
    "deepnote_cell_type": "code"
   },
   "source": "print(df.duplicated().sum(), \">> there are no duplicate records found\")",
   "outputs": [
    {
     "name": "stdout",
     "text": "0 >> there are no duplicate records found\n",
     "output_type": "stream"
    }
   ],
   "execution_count": null
  },
  {
   "cell_type": "markdown",
   "source": "Next, let us plot statistics of each numeric attribute and look out for **outliers** and any **anomalies**",
   "metadata": {
    "tags": [],
    "cell_id": "00020-4cf2ed09-1e15-4dcd-80aa-eae61e095fb6",
    "deepnote_app_coordinates": {
     "x": 0,
     "y": 96,
     "w": 12,
     "h": 5
    },
    "deepnote_cell_type": "markdown"
   }
  },
  {
   "cell_type": "code",
   "metadata": {
    "tags": [],
    "cell_id": "00017-e3c91b9c-2eed-4d54-bc54-b6ebbe2683d7",
    "deepnote_to_be_reexecuted": false,
    "source_hash": "a8c1b8f7",
    "execution_start": 1638836510814,
    "execution_millis": 3,
    "deepnote_output_heights": [
     21.1875
    ],
    "deepnote_app_coordinates": {
     "x": 0,
     "y": 102,
     "w": 12,
     "h": 5
    },
    "deepnote_cell_type": "code"
   },
   "source": "# first distinguish numerical and categorical data\n\n# columns with numerical data\nnum_columns =['Age', 'RestingBP', 'Cholesterol', 'MaxHR', 'Oldpeak']\n\n# columns with categorical data\ncat_columns = ['Sex', 'ChestPainType', 'RestingECG', 'ExerciseAngina', 'ST_Slope', 'FastingBS']",
   "outputs": [],
   "execution_count": null
  },
  {
   "cell_type": "markdown",
   "source": "So for each **numerical data** attribute, we plot a histogram and box plot to show us what the distribution of values for that attribute looks like, and see if any data points look **anomalous** \n\nWe'll use the `plotly.histogram` to plot an interactive chart of each attribute against a count of its values.  \n&nbsp;  \n`*Cool tip*: You can hover over each chart to view more information about a particular datapoint!`",
   "metadata": {
    "tags": [],
    "cell_id": "00018-5aa4c481-9c20-48f4-8b3c-bfc7ed3fd55e",
    "deepnote_app_coordinates": {
     "x": 0,
     "y": 108,
     "w": 12,
     "h": 5
    },
    "deepnote_cell_type": "markdown"
   }
  },
  {
   "cell_type": "code",
   "metadata": {
    "tags": [],
    "cell_id": "00017-c8a6aa46-89e3-4679-8b02-20094382f374",
    "deepnote_to_be_reexecuted": false,
    "source_hash": "ec3f4a83",
    "execution_start": 1638836510815,
    "execution_millis": 3336,
    "deepnote_output_heights": [
     402,
     402,
     402,
     402,
     402
    ],
    "deepnote_app_coordinates": {
     "x": 0,
     "y": 114,
     "w": 12,
     "h": 5
    },
    "deepnote_cell_type": "code"
   },
   "source": "for col in num_columns:\n    fig = px.histogram(df, x=col, color=\"HeartDisease\", marginal=\"box\", width=600, height=400, title = \"Exploring \" + col + \" column\")\n    fig.update_traces(marker_line_width = 1, marker_line_color=\"black\")\n    fig.show()",
   "outputs": [
    {
     "data": {
      "text/html": "<html>\n<head><meta charset=\"utf-8\" /></head>\n<body>\n    <div>            <script src=\"https://cdnjs.cloudflare.com/ajax/libs/mathjax/2.7.5/MathJax.js?config=TeX-AMS-MML_SVG\"></script><script type=\"text/javascript\">if (window.MathJax) {MathJax.Hub.Config({SVG: {font: \"STIX-Web\"}});}</script>                <script type=\"text/javascript\">window.PlotlyConfig = {MathJaxConfig: 'local'};</script>\n        <script src=\"https://cdn.plot.ly/plotly-2.4.2.min.js\"></script>                <div id=\"613dd991-fc35-4e43-b381-e480d66eb5d0\" class=\"plotly-graph-div\" style=\"height:400px; width:600px;\"></div>            <script type=\"text/javascript\">                                    window.PLOTLYENV=window.PLOTLYENV || {};                                    if (document.getElementById(\"613dd991-fc35-4e43-b381-e480d66eb5d0\")) {                    Plotly.newPlot(                        \"613dd991-fc35-4e43-b381-e480d66eb5d0\",                        [{\"alignmentgroup\":\"True\",\"bingroup\":\"x\",\"hovertemplate\":\"HeartDisease=0<br>Age=%{x}<br>count=%{y}<extra></extra>\",\"legendgroup\":\"0\",\"marker\":{\"color\":\"#636efa\",\"line\":{\"color\":\"black\",\"width\":1},\"pattern\":{\"shape\":\"\"}},\"name\":\"0\",\"offsetgroup\":\"0\",\"orientation\":\"v\",\"showlegend\":true,\"type\":\"histogram\",\"x\":[40,37,54,39,45,54,48,37,39,42,54,43,43,44,49,40,36,53,52,53,51,56,43,32,41,48,48,54,35,52,59,37,50,36,45,41,52,51,54,49,43,45,50,37,45,32,44,44,44,46,35,52,55,54,52,53,55,49,39,52,39,43,39,56,41,51,57,48,34,50,39,59,47,38,49,35,52,46,58,54,34,48,54,42,38,61,43,39,53,39,42,43,50,39,48,40,55,41,49,54,47,42,52,48,58,58,29,40,53,49,59,37,46,51,46,54,58,50,46,50,48,45,41,62,49,42,57,47,46,42,31,56,50,35,28,56,56,30,54,55,29,48,33,55,53,41,37,37,40,38,41,54,39,55,43,54,61,62,53,55,36,51,55,46,54,54,34,47,45,32,55,45,59,57,54,60,51,55,42,51,59,53,48,36,48,47,53,55,53,65,53,45,38,72,56,44,66,66,60,56,62,63,60,74,60,59,41,51,42,63,56,62,51,55,65,58,51,40,60,35,63,64,55,45,61,57,61,48,68,62,53,75,54,54,59,41,69,37,63,58,55,57,68,51,62,58,67,64,74,65,59,53,44,57,71,64,40,48,43,47,54,48,46,51,71,66,37,42,48,62,44,46,58,52,65,63,45,41,60,57,44,60,63,51,44,57,70,76,67,45,39,42,56,41,57,42,62,59,41,59,66,64,50,44,49,51,45,41,54,42,49,66,65,54,54,52,52,42,54,46,67,34,57,59,51,41,41,50,54,64,51,46,45,56,55,43,64,50,53,45,69,68,34,50,42,42,53,43,52,62,54,54,48,55,58,54,69,68,52,60,58,37,51,43,29,41,63,51,54,44,57,35,41,58,52,45,62,53,47,52,39,53,51,65,44,51,59,71,61,43,58,49,52,44,56,57,53,52,64,66,39,58,47,35,58,56,56,55,41,38],\"xaxis\":\"x\",\"yaxis\":\"y\"},{\"alignmentgroup\":\"True\",\"hovertemplate\":\"HeartDisease=0<br>Age=%{x}<extra></extra>\",\"legendgroup\":\"0\",\"marker\":{\"color\":\"#636efa\",\"line\":{\"color\":\"black\",\"width\":1}},\"name\":\"0\",\"notched\":true,\"offsetgroup\":\"0\",\"showlegend\":false,\"type\":\"box\",\"x\":[40,37,54,39,45,54,48,37,39,42,54,43,43,44,49,40,36,53,52,53,51,56,43,32,41,48,48,54,35,52,59,37,50,36,45,41,52,51,54,49,43,45,50,37,45,32,44,44,44,46,35,52,55,54,52,53,55,49,39,52,39,43,39,56,41,51,57,48,34,50,39,59,47,38,49,35,52,46,58,54,34,48,54,42,38,61,43,39,53,39,42,43,50,39,48,40,55,41,49,54,47,42,52,48,58,58,29,40,53,49,59,37,46,51,46,54,58,50,46,50,48,45,41,62,49,42,57,47,46,42,31,56,50,35,28,56,56,30,54,55,29,48,33,55,53,41,37,37,40,38,41,54,39,55,43,54,61,62,53,55,36,51,55,46,54,54,34,47,45,32,55,45,59,57,54,60,51,55,42,51,59,53,48,36,48,47,53,55,53,65,53,45,38,72,56,44,66,66,60,56,62,63,60,74,60,59,41,51,42,63,56,62,51,55,65,58,51,40,60,35,63,64,55,45,61,57,61,48,68,62,53,75,54,54,59,41,69,37,63,58,55,57,68,51,62,58,67,64,74,65,59,53,44,57,71,64,40,48,43,47,54,48,46,51,71,66,37,42,48,62,44,46,58,52,65,63,45,41,60,57,44,60,63,51,44,57,70,76,67,45,39,42,56,41,57,42,62,59,41,59,66,64,50,44,49,51,45,41,54,42,49,66,65,54,54,52,52,42,54,46,67,34,57,59,51,41,41,50,54,64,51,46,45,56,55,43,64,50,53,45,69,68,34,50,42,42,53,43,52,62,54,54,48,55,58,54,69,68,52,60,58,37,51,43,29,41,63,51,54,44,57,35,41,58,52,45,62,53,47,52,39,53,51,65,44,51,59,71,61,43,58,49,52,44,56,57,53,52,64,66,39,58,47,35,58,56,56,55,41,38],\"xaxis\":\"x2\",\"yaxis\":\"y2\"},{\"alignmentgroup\":\"True\",\"bingroup\":\"x\",\"hovertemplate\":\"HeartDisease=1<br>Age=%{x}<br>count=%{y}<extra></extra>\",\"legendgroup\":\"1\",\"marker\":{\"color\":\"#EF553B\",\"line\":{\"color\":\"black\",\"width\":1},\"pattern\":{\"shape\":\"\"}},\"name\":\"1\",\"offsetgroup\":\"1\",\"orientation\":\"v\",\"showlegend\":true,\"type\":\"histogram\",\"x\":[49,48,37,58,49,38,60,36,44,53,54,41,65,54,43,41,50,47,31,58,52,46,52,57,52,55,32,49,63,56,66,65,43,48,58,65,40,40,46,57,33,38,59,34,47,58,46,56,56,49,54,43,52,50,47,56,54,56,38,44,59,49,46,50,52,43,54,52,52,58,41,53,53,35,54,48,50,47,39,46,51,50,38,41,55,48,48,54,55,48,54,48,45,49,44,48,55,46,59,47,52,54,55,51,52,49,65,32,61,50,57,51,47,60,53,62,51,51,55,58,57,60,41,34,74,57,56,61,68,59,63,38,62,46,42,59,52,60,60,56,40,51,62,63,63,64,43,64,61,52,51,69,59,48,69,36,53,43,56,58,55,67,46,53,38,53,62,47,56,56,64,61,68,57,63,60,66,63,59,61,73,47,65,70,50,60,50,43,38,54,61,42,53,55,61,51,70,61,38,57,38,62,58,52,61,50,51,65,52,47,35,57,62,59,53,62,54,56,56,54,66,63,60,55,65,60,60,59,62,63,57,63,46,58,64,63,52,69,51,60,56,55,54,77,63,55,52,64,60,58,61,40,61,57,63,59,59,55,62,53,68,53,60,59,61,57,56,58,69,67,58,65,63,57,54,72,75,49,51,60,64,61,67,62,65,63,69,62,55,75,67,58,63,62,43,68,65,48,63,61,50,59,65,49,72,50,64,55,63,59,56,62,74,54,62,76,54,70,48,61,66,55,71,74,58,56,58,64,55,57,61,71,38,55,56,69,64,72,69,56,62,67,57,69,51,48,69,64,57,53,67,74,61,64,58,60,57,55,56,61,61,74,62,53,62,46,54,55,62,70,57,56,59,60,63,61,46,53,67,58,57,59,50,48,61,59,40,59,49,44,66,65,42,61,59,62,51,57,58,47,61,45,58,35,58,50,61,54,54,52,47,58,67,57,63,48,60,59,55,60,46,56,56,49,54,57,62,60,63,66,64,56,64,50,54,53,52,40,58,55,66,38,62,58,65,69,67,62,51,46,67,56,41,56,70,70,35,77,58,60,51,55,64,59,58,54,65,63,62,43,61,39,52,62,43,68,62,60,65,60,60,54,44,55,64,60,58,48,67,43,52,59,57,57,55,61,58,58,67,44,63,63,59,57,45,68,57,57],\"xaxis\":\"x\",\"yaxis\":\"y\"},{\"alignmentgroup\":\"True\",\"hovertemplate\":\"HeartDisease=1<br>Age=%{x}<extra></extra>\",\"legendgroup\":\"1\",\"marker\":{\"color\":\"#EF553B\",\"line\":{\"color\":\"black\",\"width\":1}},\"name\":\"1\",\"notched\":true,\"offsetgroup\":\"1\",\"showlegend\":false,\"type\":\"box\",\"x\":[49,48,37,58,49,38,60,36,44,53,54,41,65,54,43,41,50,47,31,58,52,46,52,57,52,55,32,49,63,56,66,65,43,48,58,65,40,40,46,57,33,38,59,34,47,58,46,56,56,49,54,43,52,50,47,56,54,56,38,44,59,49,46,50,52,43,54,52,52,58,41,53,53,35,54,48,50,47,39,46,51,50,38,41,55,48,48,54,55,48,54,48,45,49,44,48,55,46,59,47,52,54,55,51,52,49,65,32,61,50,57,51,47,60,53,62,51,51,55,58,57,60,41,34,74,57,56,61,68,59,63,38,62,46,42,59,52,60,60,56,40,51,62,63,63,64,43,64,61,52,51,69,59,48,69,36,53,43,56,58,55,67,46,53,38,53,62,47,56,56,64,61,68,57,63,60,66,63,59,61,73,47,65,70,50,60,50,43,38,54,61,42,53,55,61,51,70,61,38,57,38,62,58,52,61,50,51,65,52,47,35,57,62,59,53,62,54,56,56,54,66,63,60,55,65,60,60,59,62,63,57,63,46,58,64,63,52,69,51,60,56,55,54,77,63,55,52,64,60,58,61,40,61,57,63,59,59,55,62,53,68,53,60,59,61,57,56,58,69,67,58,65,63,57,54,72,75,49,51,60,64,61,67,62,65,63,69,62,55,75,67,58,63,62,43,68,65,48,63,61,50,59,65,49,72,50,64,55,63,59,56,62,74,54,62,76,54,70,48,61,66,55,71,74,58,56,58,64,55,57,61,71,38,55,56,69,64,72,69,56,62,67,57,69,51,48,69,64,57,53,67,74,61,64,58,60,57,55,56,61,61,74,62,53,62,46,54,55,62,70,57,56,59,60,63,61,46,53,67,58,57,59,50,48,61,59,40,59,49,44,66,65,42,61,59,62,51,57,58,47,61,45,58,35,58,50,61,54,54,52,47,58,67,57,63,48,60,59,55,60,46,56,56,49,54,57,62,60,63,66,64,56,64,50,54,53,52,40,58,55,66,38,62,58,65,69,67,62,51,46,67,56,41,56,70,70,35,77,58,60,51,55,64,59,58,54,65,63,62,43,61,39,52,62,43,68,62,60,65,60,60,54,44,55,64,60,58,48,67,43,52,59,57,57,55,61,58,58,67,44,63,63,59,57,45,68,57,57],\"xaxis\":\"x2\",\"yaxis\":\"y2\"}],                        {\"barmode\":\"relative\",\"height\":400,\"legend\":{\"title\":{\"text\":\"HeartDisease\"},\"tracegroupgap\":0},\"template\":{\"data\":{\"bar\":[{\"error_x\":{\"color\":\"#2a3f5f\"},\"error_y\":{\"color\":\"#2a3f5f\"},\"marker\":{\"line\":{\"color\":\"#E5ECF6\",\"width\":0.5},\"pattern\":{\"fillmode\":\"overlay\",\"size\":10,\"solidity\":0.2}},\"type\":\"bar\"}],\"barpolar\":[{\"marker\":{\"line\":{\"color\":\"#E5ECF6\",\"width\":0.5},\"pattern\":{\"fillmode\":\"overlay\",\"size\":10,\"solidity\":0.2}},\"type\":\"barpolar\"}],\"carpet\":[{\"aaxis\":{\"endlinecolor\":\"#2a3f5f\",\"gridcolor\":\"white\",\"linecolor\":\"white\",\"minorgridcolor\":\"white\",\"startlinecolor\":\"#2a3f5f\"},\"baxis\":{\"endlinecolor\":\"#2a3f5f\",\"gridcolor\":\"white\",\"linecolor\":\"white\",\"minorgridcolor\":\"white\",\"startlinecolor\":\"#2a3f5f\"},\"type\":\"carpet\"}],\"choropleth\":[{\"colorbar\":{\"outlinewidth\":0,\"ticks\":\"\"},\"type\":\"choropleth\"}],\"contour\":[{\"colorbar\":{\"outlinewidth\":0,\"ticks\":\"\"},\"colorscale\":[[0.0,\"#0d0887\"],[0.1111111111111111,\"#46039f\"],[0.2222222222222222,\"#7201a8\"],[0.3333333333333333,\"#9c179e\"],[0.4444444444444444,\"#bd3786\"],[0.5555555555555556,\"#d8576b\"],[0.6666666666666666,\"#ed7953\"],[0.7777777777777778,\"#fb9f3a\"],[0.8888888888888888,\"#fdca26\"],[1.0,\"#f0f921\"]],\"type\":\"contour\"}],\"contourcarpet\":[{\"colorbar\":{\"outlinewidth\":0,\"ticks\":\"\"},\"type\":\"contourcarpet\"}],\"heatmap\":[{\"colorbar\":{\"outlinewidth\":0,\"ticks\":\"\"},\"colorscale\":[[0.0,\"#0d0887\"],[0.1111111111111111,\"#46039f\"],[0.2222222222222222,\"#7201a8\"],[0.3333333333333333,\"#9c179e\"],[0.4444444444444444,\"#bd3786\"],[0.5555555555555556,\"#d8576b\"],[0.6666666666666666,\"#ed7953\"],[0.7777777777777778,\"#fb9f3a\"],[0.8888888888888888,\"#fdca26\"],[1.0,\"#f0f921\"]],\"type\":\"heatmap\"}],\"heatmapgl\":[{\"colorbar\":{\"outlinewidth\":0,\"ticks\":\"\"},\"colorscale\":[[0.0,\"#0d0887\"],[0.1111111111111111,\"#46039f\"],[0.2222222222222222,\"#7201a8\"],[0.3333333333333333,\"#9c179e\"],[0.4444444444444444,\"#bd3786\"],[0.5555555555555556,\"#d8576b\"],[0.6666666666666666,\"#ed7953\"],[0.7777777777777778,\"#fb9f3a\"],[0.8888888888888888,\"#fdca26\"],[1.0,\"#f0f921\"]],\"type\":\"heatmapgl\"}],\"histogram\":[{\"marker\":{\"pattern\":{\"fillmode\":\"overlay\",\"size\":10,\"solidity\":0.2}},\"type\":\"histogram\"}],\"histogram2d\":[{\"colorbar\":{\"outlinewidth\":0,\"ticks\":\"\"},\"colorscale\":[[0.0,\"#0d0887\"],[0.1111111111111111,\"#46039f\"],[0.2222222222222222,\"#7201a8\"],[0.3333333333333333,\"#9c179e\"],[0.4444444444444444,\"#bd3786\"],[0.5555555555555556,\"#d8576b\"],[0.6666666666666666,\"#ed7953\"],[0.7777777777777778,\"#fb9f3a\"],[0.8888888888888888,\"#fdca26\"],[1.0,\"#f0f921\"]],\"type\":\"histogram2d\"}],\"histogram2dcontour\":[{\"colorbar\":{\"outlinewidth\":0,\"ticks\":\"\"},\"colorscale\":[[0.0,\"#0d0887\"],[0.1111111111111111,\"#46039f\"],[0.2222222222222222,\"#7201a8\"],[0.3333333333333333,\"#9c179e\"],[0.4444444444444444,\"#bd3786\"],[0.5555555555555556,\"#d8576b\"],[0.6666666666666666,\"#ed7953\"],[0.7777777777777778,\"#fb9f3a\"],[0.8888888888888888,\"#fdca26\"],[1.0,\"#f0f921\"]],\"type\":\"histogram2dcontour\"}],\"mesh3d\":[{\"colorbar\":{\"outlinewidth\":0,\"ticks\":\"\"},\"type\":\"mesh3d\"}],\"parcoords\":[{\"line\":{\"colorbar\":{\"outlinewidth\":0,\"ticks\":\"\"}},\"type\":\"parcoords\"}],\"pie\":[{\"automargin\":true,\"type\":\"pie\"}],\"scatter\":[{\"marker\":{\"colorbar\":{\"outlinewidth\":0,\"ticks\":\"\"}},\"type\":\"scatter\"}],\"scatter3d\":[{\"line\":{\"colorbar\":{\"outlinewidth\":0,\"ticks\":\"\"}},\"marker\":{\"colorbar\":{\"outlinewidth\":0,\"ticks\":\"\"}},\"type\":\"scatter3d\"}],\"scattercarpet\":[{\"marker\":{\"colorbar\":{\"outlinewidth\":0,\"ticks\":\"\"}},\"type\":\"scattercarpet\"}],\"scattergeo\":[{\"marker\":{\"colorbar\":{\"outlinewidth\":0,\"ticks\":\"\"}},\"type\":\"scattergeo\"}],\"scattergl\":[{\"marker\":{\"colorbar\":{\"outlinewidth\":0,\"ticks\":\"\"}},\"type\":\"scattergl\"}],\"scattermapbox\":[{\"marker\":{\"colorbar\":{\"outlinewidth\":0,\"ticks\":\"\"}},\"type\":\"scattermapbox\"}],\"scatterpolar\":[{\"marker\":{\"colorbar\":{\"outlinewidth\":0,\"ticks\":\"\"}},\"type\":\"scatterpolar\"}],\"scatterpolargl\":[{\"marker\":{\"colorbar\":{\"outlinewidth\":0,\"ticks\":\"\"}},\"type\":\"scatterpolargl\"}],\"scatterternary\":[{\"marker\":{\"colorbar\":{\"outlinewidth\":0,\"ticks\":\"\"}},\"type\":\"scatterternary\"}],\"surface\":[{\"colorbar\":{\"outlinewidth\":0,\"ticks\":\"\"},\"colorscale\":[[0.0,\"#0d0887\"],[0.1111111111111111,\"#46039f\"],[0.2222222222222222,\"#7201a8\"],[0.3333333333333333,\"#9c179e\"],[0.4444444444444444,\"#bd3786\"],[0.5555555555555556,\"#d8576b\"],[0.6666666666666666,\"#ed7953\"],[0.7777777777777778,\"#fb9f3a\"],[0.8888888888888888,\"#fdca26\"],[1.0,\"#f0f921\"]],\"type\":\"surface\"}],\"table\":[{\"cells\":{\"fill\":{\"color\":\"#EBF0F8\"},\"line\":{\"color\":\"white\"}},\"header\":{\"fill\":{\"color\":\"#C8D4E3\"},\"line\":{\"color\":\"white\"}},\"type\":\"table\"}]},\"layout\":{\"annotationdefaults\":{\"arrowcolor\":\"#2a3f5f\",\"arrowhead\":0,\"arrowwidth\":1},\"autotypenumbers\":\"strict\",\"coloraxis\":{\"colorbar\":{\"outlinewidth\":0,\"ticks\":\"\"}},\"colorscale\":{\"diverging\":[[0,\"#8e0152\"],[0.1,\"#c51b7d\"],[0.2,\"#de77ae\"],[0.3,\"#f1b6da\"],[0.4,\"#fde0ef\"],[0.5,\"#f7f7f7\"],[0.6,\"#e6f5d0\"],[0.7,\"#b8e186\"],[0.8,\"#7fbc41\"],[0.9,\"#4d9221\"],[1,\"#276419\"]],\"sequential\":[[0.0,\"#0d0887\"],[0.1111111111111111,\"#46039f\"],[0.2222222222222222,\"#7201a8\"],[0.3333333333333333,\"#9c179e\"],[0.4444444444444444,\"#bd3786\"],[0.5555555555555556,\"#d8576b\"],[0.6666666666666666,\"#ed7953\"],[0.7777777777777778,\"#fb9f3a\"],[0.8888888888888888,\"#fdca26\"],[1.0,\"#f0f921\"]],\"sequentialminus\":[[0.0,\"#0d0887\"],[0.1111111111111111,\"#46039f\"],[0.2222222222222222,\"#7201a8\"],[0.3333333333333333,\"#9c179e\"],[0.4444444444444444,\"#bd3786\"],[0.5555555555555556,\"#d8576b\"],[0.6666666666666666,\"#ed7953\"],[0.7777777777777778,\"#fb9f3a\"],[0.8888888888888888,\"#fdca26\"],[1.0,\"#f0f921\"]]},\"colorway\":[\"#636efa\",\"#EF553B\",\"#00cc96\",\"#ab63fa\",\"#FFA15A\",\"#19d3f3\",\"#FF6692\",\"#B6E880\",\"#FF97FF\",\"#FECB52\"],\"font\":{\"color\":\"#2a3f5f\"},\"geo\":{\"bgcolor\":\"white\",\"lakecolor\":\"white\",\"landcolor\":\"#E5ECF6\",\"showlakes\":true,\"showland\":true,\"subunitcolor\":\"white\"},\"hoverlabel\":{\"align\":\"left\"},\"hovermode\":\"closest\",\"mapbox\":{\"style\":\"light\"},\"paper_bgcolor\":\"white\",\"plot_bgcolor\":\"#E5ECF6\",\"polar\":{\"angularaxis\":{\"gridcolor\":\"white\",\"linecolor\":\"white\",\"ticks\":\"\"},\"bgcolor\":\"#E5ECF6\",\"radialaxis\":{\"gridcolor\":\"white\",\"linecolor\":\"white\",\"ticks\":\"\"}},\"scene\":{\"xaxis\":{\"backgroundcolor\":\"#E5ECF6\",\"gridcolor\":\"white\",\"gridwidth\":2,\"linecolor\":\"white\",\"showbackground\":true,\"ticks\":\"\",\"zerolinecolor\":\"white\"},\"yaxis\":{\"backgroundcolor\":\"#E5ECF6\",\"gridcolor\":\"white\",\"gridwidth\":2,\"linecolor\":\"white\",\"showbackground\":true,\"ticks\":\"\",\"zerolinecolor\":\"white\"},\"zaxis\":{\"backgroundcolor\":\"#E5ECF6\",\"gridcolor\":\"white\",\"gridwidth\":2,\"linecolor\":\"white\",\"showbackground\":true,\"ticks\":\"\",\"zerolinecolor\":\"white\"}},\"shapedefaults\":{\"line\":{\"color\":\"#2a3f5f\"}},\"ternary\":{\"aaxis\":{\"gridcolor\":\"white\",\"linecolor\":\"white\",\"ticks\":\"\"},\"baxis\":{\"gridcolor\":\"white\",\"linecolor\":\"white\",\"ticks\":\"\"},\"bgcolor\":\"#E5ECF6\",\"caxis\":{\"gridcolor\":\"white\",\"linecolor\":\"white\",\"ticks\":\"\"}},\"title\":{\"x\":0.05},\"xaxis\":{\"automargin\":true,\"gridcolor\":\"white\",\"linecolor\":\"white\",\"ticks\":\"\",\"title\":{\"standoff\":15},\"zerolinecolor\":\"white\",\"zerolinewidth\":2},\"yaxis\":{\"automargin\":true,\"gridcolor\":\"white\",\"linecolor\":\"white\",\"ticks\":\"\",\"title\":{\"standoff\":15},\"zerolinecolor\":\"white\",\"zerolinewidth\":2}}},\"title\":{\"text\":\"Exploring Age column\"},\"width\":600,\"xaxis\":{\"anchor\":\"y\",\"domain\":[0.0,1.0],\"title\":{\"text\":\"Age\"}},\"xaxis2\":{\"anchor\":\"y2\",\"domain\":[0.0,1.0],\"matches\":\"x\",\"showgrid\":true,\"showticklabels\":false},\"yaxis\":{\"anchor\":\"x\",\"domain\":[0.0,0.7326],\"title\":{\"text\":\"count\"}},\"yaxis2\":{\"anchor\":\"x2\",\"domain\":[0.7426,1.0],\"matches\":\"y2\",\"showgrid\":false,\"showline\":false,\"showticklabels\":false,\"ticks\":\"\"}},                        {\"responsive\": true}                    ).then(function(){\n                            \nvar gd = document.getElementById('613dd991-fc35-4e43-b381-e480d66eb5d0');\nvar x = new MutationObserver(function (mutations, observer) {{\n        var display = window.getComputedStyle(gd).display;\n        if (!display || display === 'none') {{\n            console.log([gd, 'removed!']);\n            Plotly.purge(gd);\n            observer.disconnect();\n        }}\n}});\n\n// Listen for the removal of the full notebook cells\nvar notebookContainer = gd.closest('#notebook-container');\nif (notebookContainer) {{\n    x.observe(notebookContainer, {childList: true});\n}}\n\n// Listen for the clearing of the current output cell\nvar outputEl = gd.closest('.output');\nif (outputEl) {{\n    x.observe(outputEl, {childList: true});\n}}\n\n                        })                };                            </script>        </div>\n</body>\n</html>"
     },
     "metadata": {},
     "output_type": "display_data"
    },
    {
     "data": {
      "text/html": "<html>\n<head><meta charset=\"utf-8\" /></head>\n<body>\n    <div>            <script src=\"https://cdnjs.cloudflare.com/ajax/libs/mathjax/2.7.5/MathJax.js?config=TeX-AMS-MML_SVG\"></script><script type=\"text/javascript\">if (window.MathJax) {MathJax.Hub.Config({SVG: {font: \"STIX-Web\"}});}</script>                <script type=\"text/javascript\">window.PlotlyConfig = {MathJaxConfig: 'local'};</script>\n        <script src=\"https://cdn.plot.ly/plotly-2.4.2.min.js\"></script>                <div id=\"c91378e1-640a-4ff6-ba5e-e317bd319f55\" class=\"plotly-graph-div\" style=\"height:400px; width:600px;\"></div>            <script type=\"text/javascript\">                                    window.PLOTLYENV=window.PLOTLYENV || {};                                    if (document.getElementById(\"c91378e1-640a-4ff6-ba5e-e317bd319f55\")) {                    Plotly.newPlot(                        \"c91378e1-640a-4ff6-ba5e-e317bd319f55\",                        [{\"alignmentgroup\":\"True\",\"bingroup\":\"x\",\"hovertemplate\":\"HeartDisease=0<br>RestingBP=%{x}<br>count=%{y}<extra></extra>\",\"legendgroup\":\"0\",\"marker\":{\"color\":\"#636efa\",\"line\":{\"color\":\"black\",\"width\":1},\"pattern\":{\"shape\":\"\"}},\"name\":\"0\",\"offsetgroup\":\"0\",\"orientation\":\"v\",\"showlegend\":true,\"type\":\"histogram\",\"x\":[140,130,150,120,130,110,120,130,120,115,120,120,100,120,124,130,130,124,120,113,125,130,150,125,110,120,150,150,150,140,130,120,140,112,140,130,130,160,150,100,150,140,110,120,132,110,150,130,120,150,140,140,110,120,160,140,140,110,130,120,110,142,160,120,125,130,140,120,150,140,190,130,140,140,130,120,125,110,130,120,130,108,120,120,145,130,120,120,140,110,120,120,120,130,100,130,120,120,140,160,160,120,140,140,135,140,120,140,140,140,140,130,130,130,110,160,130,120,180,170,130,135,125,160,120,150,130,110,120,160,100,130,150,120,130,130,130,170,120,140,140,120,120,120,120,120,130,130,130,120,112,140,120,145,120,120,125,140,120,130,150,150,122,140,120,160,98,130,120,105,120,180,180,180,130,120,130,110,140,110,140,120,133,120,110,140,130,140,130,155,80,110,100,160,120,130,110,120,180,126,120,126,152,138,120,154,104,128,134,132,124,131,132,110,140,132,132,106,136,123,130,130,150,130,139,110,140,132,139,120,155,160,133,132,140,150,142,118,136,100,133,130,134,114,135,140,115,128,120,120,135,142,140,128,112,110,140,130,115,112,132,130,138,120,110,160,120,130,122,124,130,101,140,128,140,140,130,105,120,150,120,150,145,140,118,120,156,140,106,104,94,120,120,130,110,148,128,178,126,140,120,140,120,108,130,100,112,110,135,120,134,150,160,125,160,136,134,140,150,142,152,118,132,138,125,112,112,120,108,130,130,105,128,120,130,110,180,110,130,138,160,120,118,129,120,102,130,130,108,140,140,108,124,135,100,110,140,118,152,102,105,130,125,122,130,130,135,94,120,120,150,138,135,150,118,115,130,138,138,120,140,130,140,155,130,110,150,160,150,150,120,130,172,120,140,140,128,138,170,146,138,130,130,122,125,130,120,132,120,138],\"xaxis\":\"x\",\"yaxis\":\"y\"},{\"alignmentgroup\":\"True\",\"hovertemplate\":\"HeartDisease=0<br>RestingBP=%{x}<extra></extra>\",\"legendgroup\":\"0\",\"marker\":{\"color\":\"#636efa\",\"line\":{\"color\":\"black\",\"width\":1}},\"name\":\"0\",\"notched\":true,\"offsetgroup\":\"0\",\"showlegend\":false,\"type\":\"box\",\"x\":[140,130,150,120,130,110,120,130,120,115,120,120,100,120,124,130,130,124,120,113,125,130,150,125,110,120,150,150,150,140,130,120,140,112,140,130,130,160,150,100,150,140,110,120,132,110,150,130,120,150,140,140,110,120,160,140,140,110,130,120,110,142,160,120,125,130,140,120,150,140,190,130,140,140,130,120,125,110,130,120,130,108,120,120,145,130,120,120,140,110,120,120,120,130,100,130,120,120,140,160,160,120,140,140,135,140,120,140,140,140,140,130,130,130,110,160,130,120,180,170,130,135,125,160,120,150,130,110,120,160,100,130,150,120,130,130,130,170,120,140,140,120,120,120,120,120,130,130,130,120,112,140,120,145,120,120,125,140,120,130,150,150,122,140,120,160,98,130,120,105,120,180,180,180,130,120,130,110,140,110,140,120,133,120,110,140,130,140,130,155,80,110,100,160,120,130,110,120,180,126,120,126,152,138,120,154,104,128,134,132,124,131,132,110,140,132,132,106,136,123,130,130,150,130,139,110,140,132,139,120,155,160,133,132,140,150,142,118,136,100,133,130,134,114,135,140,115,128,120,120,135,142,140,128,112,110,140,130,115,112,132,130,138,120,110,160,120,130,122,124,130,101,140,128,140,140,130,105,120,150,120,150,145,140,118,120,156,140,106,104,94,120,120,130,110,148,128,178,126,140,120,140,120,108,130,100,112,110,135,120,134,150,160,125,160,136,134,140,150,142,152,118,132,138,125,112,112,120,108,130,130,105,128,120,130,110,180,110,130,138,160,120,118,129,120,102,130,130,108,140,140,108,124,135,100,110,140,118,152,102,105,130,125,122,130,130,135,94,120,120,150,138,135,150,118,115,130,138,138,120,140,130,140,155,130,110,150,160,150,150,120,130,172,120,140,140,128,138,170,146,138,130,130,122,125,130,120,132,120,138],\"xaxis\":\"x2\",\"yaxis\":\"y2\"},{\"alignmentgroup\":\"True\",\"bingroup\":\"x\",\"hovertemplate\":\"HeartDisease=1<br>RestingBP=%{x}<br>count=%{y}<extra></extra>\",\"legendgroup\":\"1\",\"marker\":{\"color\":\"#EF553B\",\"line\":{\"color\":\"black\",\"width\":1},\"pattern\":{\"shape\":\"\"}},\"name\":\"1\",\"offsetgroup\":\"1\",\"orientation\":\"v\",\"showlegend\":true,\"type\":\"histogram\",\"x\":[160,138,140,136,140,110,100,120,150,145,125,130,140,130,120,110,130,120,120,130,112,120,160,140,120,140,118,130,150,150,140,170,120,160,130,130,150,120,118,150,100,120,130,140,135,180,110,170,150,115,140,150,160,140,160,120,130,155,110,130,140,128,140,140,140,140,140,130,140,160,120,180,120,110,125,106,140,150,110,130,160,145,92,120,140,160,160,200,160,160,120,122,130,130,135,120,145,120,130,140,130,130,140,135,170,150,115,95,105,145,110,110,110,160,125,120,95,120,115,115,95,125,125,115,145,105,140,130,145,125,100,105,115,100,105,125,95,130,115,115,95,130,120,150,140,95,100,110,110,130,120,135,120,115,137,110,120,140,120,130,120,145,115,120,115,105,160,160,155,120,200,150,135,140,150,135,150,185,135,125,160,155,160,140,120,160,115,115,110,120,150,145,130,140,160,140,115,130,150,160,135,140,170,165,200,160,130,145,135,110,120,140,115,110,160,150,180,125,125,130,155,140,132,142,150,120,160,140,110,133,128,170,110,116,120,130,128,130,128,130,120,136,130,124,160,0,122,144,140,136,120,125,134,139,136,122,131,120,152,126,138,154,141,178,110,130,170,126,140,142,120,134,139,140,136,120,170,130,137,142,142,146,160,135,136,130,140,158,136,136,120,110,160,112,122,150,150,102,96,120,144,124,144,131,143,133,143,116,110,125,130,133,150,130,138,104,138,170,132,142,112,172,144,145,150,137,137,134,135,144,141,130,110,158,128,140,150,160,142,137,139,146,156,145,131,140,122,141,180,124,140,140,190,130,160,130,122,120,130,140,120,155,160,144,158,134,127,122,120,130,124,130,110,140,150,134,140,140,120,112,128,170,144,130,140,160,152,126,118,110,160,150,136,138,174,120,130,150,136,108,120,142,146,120,150,150,130,124,110,125,110,100,120,165,130,124,150,140,180,158,120,200,130,120,122,152,120,117,108,112,120,125,145,140,192,123,112,110,132,140,178,120,150,128,138,140,100,138,140,150,125,134,110,132,160,145,126,125,125,125,140,160,125,170,128,110,135,130,130,132,145,118,128,160,120,180,140,130,110,140,145,120,112,132,140,130,120,110,160,132,128,134,154,110,128,148,114,170,152,120,140,124,164,140,110,144,130,130],\"xaxis\":\"x\",\"yaxis\":\"y\"},{\"alignmentgroup\":\"True\",\"hovertemplate\":\"HeartDisease=1<br>RestingBP=%{x}<extra></extra>\",\"legendgroup\":\"1\",\"marker\":{\"color\":\"#EF553B\",\"line\":{\"color\":\"black\",\"width\":1}},\"name\":\"1\",\"notched\":true,\"offsetgroup\":\"1\",\"showlegend\":false,\"type\":\"box\",\"x\":[160,138,140,136,140,110,100,120,150,145,125,130,140,130,120,110,130,120,120,130,112,120,160,140,120,140,118,130,150,150,140,170,120,160,130,130,150,120,118,150,100,120,130,140,135,180,110,170,150,115,140,150,160,140,160,120,130,155,110,130,140,128,140,140,140,140,140,130,140,160,120,180,120,110,125,106,140,150,110,130,160,145,92,120,140,160,160,200,160,160,120,122,130,130,135,120,145,120,130,140,130,130,140,135,170,150,115,95,105,145,110,110,110,160,125,120,95,120,115,115,95,125,125,115,145,105,140,130,145,125,100,105,115,100,105,125,95,130,115,115,95,130,120,150,140,95,100,110,110,130,120,135,120,115,137,110,120,140,120,130,120,145,115,120,115,105,160,160,155,120,200,150,135,140,150,135,150,185,135,125,160,155,160,140,120,160,115,115,110,120,150,145,130,140,160,140,115,130,150,160,135,140,170,165,200,160,130,145,135,110,120,140,115,110,160,150,180,125,125,130,155,140,132,142,150,120,160,140,110,133,128,170,110,116,120,130,128,130,128,130,120,136,130,124,160,0,122,144,140,136,120,125,134,139,136,122,131,120,152,126,138,154,141,178,110,130,170,126,140,142,120,134,139,140,136,120,170,130,137,142,142,146,160,135,136,130,140,158,136,136,120,110,160,112,122,150,150,102,96,120,144,124,144,131,143,133,143,116,110,125,130,133,150,130,138,104,138,170,132,142,112,172,144,145,150,137,137,134,135,144,141,130,110,158,128,140,150,160,142,137,139,146,156,145,131,140,122,141,180,124,140,140,190,130,160,130,122,120,130,140,120,155,160,144,158,134,127,122,120,130,124,130,110,140,150,134,140,140,120,112,128,170,144,130,140,160,152,126,118,110,160,150,136,138,174,120,130,150,136,108,120,142,146,120,150,150,130,124,110,125,110,100,120,165,130,124,150,140,180,158,120,200,130,120,122,152,120,117,108,112,120,125,145,140,192,123,112,110,132,140,178,120,150,128,138,140,100,138,140,150,125,134,110,132,160,145,126,125,125,125,140,160,125,170,128,110,135,130,130,132,145,118,128,160,120,180,140,130,110,140,145,120,112,132,140,130,120,110,160,132,128,134,154,110,128,148,114,170,152,120,140,124,164,140,110,144,130,130],\"xaxis\":\"x2\",\"yaxis\":\"y2\"}],                        {\"barmode\":\"relative\",\"height\":400,\"legend\":{\"title\":{\"text\":\"HeartDisease\"},\"tracegroupgap\":0},\"template\":{\"data\":{\"bar\":[{\"error_x\":{\"color\":\"#2a3f5f\"},\"error_y\":{\"color\":\"#2a3f5f\"},\"marker\":{\"line\":{\"color\":\"#E5ECF6\",\"width\":0.5},\"pattern\":{\"fillmode\":\"overlay\",\"size\":10,\"solidity\":0.2}},\"type\":\"bar\"}],\"barpolar\":[{\"marker\":{\"line\":{\"color\":\"#E5ECF6\",\"width\":0.5},\"pattern\":{\"fillmode\":\"overlay\",\"size\":10,\"solidity\":0.2}},\"type\":\"barpolar\"}],\"carpet\":[{\"aaxis\":{\"endlinecolor\":\"#2a3f5f\",\"gridcolor\":\"white\",\"linecolor\":\"white\",\"minorgridcolor\":\"white\",\"startlinecolor\":\"#2a3f5f\"},\"baxis\":{\"endlinecolor\":\"#2a3f5f\",\"gridcolor\":\"white\",\"linecolor\":\"white\",\"minorgridcolor\":\"white\",\"startlinecolor\":\"#2a3f5f\"},\"type\":\"carpet\"}],\"choropleth\":[{\"colorbar\":{\"outlinewidth\":0,\"ticks\":\"\"},\"type\":\"choropleth\"}],\"contour\":[{\"colorbar\":{\"outlinewidth\":0,\"ticks\":\"\"},\"colorscale\":[[0.0,\"#0d0887\"],[0.1111111111111111,\"#46039f\"],[0.2222222222222222,\"#7201a8\"],[0.3333333333333333,\"#9c179e\"],[0.4444444444444444,\"#bd3786\"],[0.5555555555555556,\"#d8576b\"],[0.6666666666666666,\"#ed7953\"],[0.7777777777777778,\"#fb9f3a\"],[0.8888888888888888,\"#fdca26\"],[1.0,\"#f0f921\"]],\"type\":\"contour\"}],\"contourcarpet\":[{\"colorbar\":{\"outlinewidth\":0,\"ticks\":\"\"},\"type\":\"contourcarpet\"}],\"heatmap\":[{\"colorbar\":{\"outlinewidth\":0,\"ticks\":\"\"},\"colorscale\":[[0.0,\"#0d0887\"],[0.1111111111111111,\"#46039f\"],[0.2222222222222222,\"#7201a8\"],[0.3333333333333333,\"#9c179e\"],[0.4444444444444444,\"#bd3786\"],[0.5555555555555556,\"#d8576b\"],[0.6666666666666666,\"#ed7953\"],[0.7777777777777778,\"#fb9f3a\"],[0.8888888888888888,\"#fdca26\"],[1.0,\"#f0f921\"]],\"type\":\"heatmap\"}],\"heatmapgl\":[{\"colorbar\":{\"outlinewidth\":0,\"ticks\":\"\"},\"colorscale\":[[0.0,\"#0d0887\"],[0.1111111111111111,\"#46039f\"],[0.2222222222222222,\"#7201a8\"],[0.3333333333333333,\"#9c179e\"],[0.4444444444444444,\"#bd3786\"],[0.5555555555555556,\"#d8576b\"],[0.6666666666666666,\"#ed7953\"],[0.7777777777777778,\"#fb9f3a\"],[0.8888888888888888,\"#fdca26\"],[1.0,\"#f0f921\"]],\"type\":\"heatmapgl\"}],\"histogram\":[{\"marker\":{\"pattern\":{\"fillmode\":\"overlay\",\"size\":10,\"solidity\":0.2}},\"type\":\"histogram\"}],\"histogram2d\":[{\"colorbar\":{\"outlinewidth\":0,\"ticks\":\"\"},\"colorscale\":[[0.0,\"#0d0887\"],[0.1111111111111111,\"#46039f\"],[0.2222222222222222,\"#7201a8\"],[0.3333333333333333,\"#9c179e\"],[0.4444444444444444,\"#bd3786\"],[0.5555555555555556,\"#d8576b\"],[0.6666666666666666,\"#ed7953\"],[0.7777777777777778,\"#fb9f3a\"],[0.8888888888888888,\"#fdca26\"],[1.0,\"#f0f921\"]],\"type\":\"histogram2d\"}],\"histogram2dcontour\":[{\"colorbar\":{\"outlinewidth\":0,\"ticks\":\"\"},\"colorscale\":[[0.0,\"#0d0887\"],[0.1111111111111111,\"#46039f\"],[0.2222222222222222,\"#7201a8\"],[0.3333333333333333,\"#9c179e\"],[0.4444444444444444,\"#bd3786\"],[0.5555555555555556,\"#d8576b\"],[0.6666666666666666,\"#ed7953\"],[0.7777777777777778,\"#fb9f3a\"],[0.8888888888888888,\"#fdca26\"],[1.0,\"#f0f921\"]],\"type\":\"histogram2dcontour\"}],\"mesh3d\":[{\"colorbar\":{\"outlinewidth\":0,\"ticks\":\"\"},\"type\":\"mesh3d\"}],\"parcoords\":[{\"line\":{\"colorbar\":{\"outlinewidth\":0,\"ticks\":\"\"}},\"type\":\"parcoords\"}],\"pie\":[{\"automargin\":true,\"type\":\"pie\"}],\"scatter\":[{\"marker\":{\"colorbar\":{\"outlinewidth\":0,\"ticks\":\"\"}},\"type\":\"scatter\"}],\"scatter3d\":[{\"line\":{\"colorbar\":{\"outlinewidth\":0,\"ticks\":\"\"}},\"marker\":{\"colorbar\":{\"outlinewidth\":0,\"ticks\":\"\"}},\"type\":\"scatter3d\"}],\"scattercarpet\":[{\"marker\":{\"colorbar\":{\"outlinewidth\":0,\"ticks\":\"\"}},\"type\":\"scattercarpet\"}],\"scattergeo\":[{\"marker\":{\"colorbar\":{\"outlinewidth\":0,\"ticks\":\"\"}},\"type\":\"scattergeo\"}],\"scattergl\":[{\"marker\":{\"colorbar\":{\"outlinewidth\":0,\"ticks\":\"\"}},\"type\":\"scattergl\"}],\"scattermapbox\":[{\"marker\":{\"colorbar\":{\"outlinewidth\":0,\"ticks\":\"\"}},\"type\":\"scattermapbox\"}],\"scatterpolar\":[{\"marker\":{\"colorbar\":{\"outlinewidth\":0,\"ticks\":\"\"}},\"type\":\"scatterpolar\"}],\"scatterpolargl\":[{\"marker\":{\"colorbar\":{\"outlinewidth\":0,\"ticks\":\"\"}},\"type\":\"scatterpolargl\"}],\"scatterternary\":[{\"marker\":{\"colorbar\":{\"outlinewidth\":0,\"ticks\":\"\"}},\"type\":\"scatterternary\"}],\"surface\":[{\"colorbar\":{\"outlinewidth\":0,\"ticks\":\"\"},\"colorscale\":[[0.0,\"#0d0887\"],[0.1111111111111111,\"#46039f\"],[0.2222222222222222,\"#7201a8\"],[0.3333333333333333,\"#9c179e\"],[0.4444444444444444,\"#bd3786\"],[0.5555555555555556,\"#d8576b\"],[0.6666666666666666,\"#ed7953\"],[0.7777777777777778,\"#fb9f3a\"],[0.8888888888888888,\"#fdca26\"],[1.0,\"#f0f921\"]],\"type\":\"surface\"}],\"table\":[{\"cells\":{\"fill\":{\"color\":\"#EBF0F8\"},\"line\":{\"color\":\"white\"}},\"header\":{\"fill\":{\"color\":\"#C8D4E3\"},\"line\":{\"color\":\"white\"}},\"type\":\"table\"}]},\"layout\":{\"annotationdefaults\":{\"arrowcolor\":\"#2a3f5f\",\"arrowhead\":0,\"arrowwidth\":1},\"autotypenumbers\":\"strict\",\"coloraxis\":{\"colorbar\":{\"outlinewidth\":0,\"ticks\":\"\"}},\"colorscale\":{\"diverging\":[[0,\"#8e0152\"],[0.1,\"#c51b7d\"],[0.2,\"#de77ae\"],[0.3,\"#f1b6da\"],[0.4,\"#fde0ef\"],[0.5,\"#f7f7f7\"],[0.6,\"#e6f5d0\"],[0.7,\"#b8e186\"],[0.8,\"#7fbc41\"],[0.9,\"#4d9221\"],[1,\"#276419\"]],\"sequential\":[[0.0,\"#0d0887\"],[0.1111111111111111,\"#46039f\"],[0.2222222222222222,\"#7201a8\"],[0.3333333333333333,\"#9c179e\"],[0.4444444444444444,\"#bd3786\"],[0.5555555555555556,\"#d8576b\"],[0.6666666666666666,\"#ed7953\"],[0.7777777777777778,\"#fb9f3a\"],[0.8888888888888888,\"#fdca26\"],[1.0,\"#f0f921\"]],\"sequentialminus\":[[0.0,\"#0d0887\"],[0.1111111111111111,\"#46039f\"],[0.2222222222222222,\"#7201a8\"],[0.3333333333333333,\"#9c179e\"],[0.4444444444444444,\"#bd3786\"],[0.5555555555555556,\"#d8576b\"],[0.6666666666666666,\"#ed7953\"],[0.7777777777777778,\"#fb9f3a\"],[0.8888888888888888,\"#fdca26\"],[1.0,\"#f0f921\"]]},\"colorway\":[\"#636efa\",\"#EF553B\",\"#00cc96\",\"#ab63fa\",\"#FFA15A\",\"#19d3f3\",\"#FF6692\",\"#B6E880\",\"#FF97FF\",\"#FECB52\"],\"font\":{\"color\":\"#2a3f5f\"},\"geo\":{\"bgcolor\":\"white\",\"lakecolor\":\"white\",\"landcolor\":\"#E5ECF6\",\"showlakes\":true,\"showland\":true,\"subunitcolor\":\"white\"},\"hoverlabel\":{\"align\":\"left\"},\"hovermode\":\"closest\",\"mapbox\":{\"style\":\"light\"},\"paper_bgcolor\":\"white\",\"plot_bgcolor\":\"#E5ECF6\",\"polar\":{\"angularaxis\":{\"gridcolor\":\"white\",\"linecolor\":\"white\",\"ticks\":\"\"},\"bgcolor\":\"#E5ECF6\",\"radialaxis\":{\"gridcolor\":\"white\",\"linecolor\":\"white\",\"ticks\":\"\"}},\"scene\":{\"xaxis\":{\"backgroundcolor\":\"#E5ECF6\",\"gridcolor\":\"white\",\"gridwidth\":2,\"linecolor\":\"white\",\"showbackground\":true,\"ticks\":\"\",\"zerolinecolor\":\"white\"},\"yaxis\":{\"backgroundcolor\":\"#E5ECF6\",\"gridcolor\":\"white\",\"gridwidth\":2,\"linecolor\":\"white\",\"showbackground\":true,\"ticks\":\"\",\"zerolinecolor\":\"white\"},\"zaxis\":{\"backgroundcolor\":\"#E5ECF6\",\"gridcolor\":\"white\",\"gridwidth\":2,\"linecolor\":\"white\",\"showbackground\":true,\"ticks\":\"\",\"zerolinecolor\":\"white\"}},\"shapedefaults\":{\"line\":{\"color\":\"#2a3f5f\"}},\"ternary\":{\"aaxis\":{\"gridcolor\":\"white\",\"linecolor\":\"white\",\"ticks\":\"\"},\"baxis\":{\"gridcolor\":\"white\",\"linecolor\":\"white\",\"ticks\":\"\"},\"bgcolor\":\"#E5ECF6\",\"caxis\":{\"gridcolor\":\"white\",\"linecolor\":\"white\",\"ticks\":\"\"}},\"title\":{\"x\":0.05},\"xaxis\":{\"automargin\":true,\"gridcolor\":\"white\",\"linecolor\":\"white\",\"ticks\":\"\",\"title\":{\"standoff\":15},\"zerolinecolor\":\"white\",\"zerolinewidth\":2},\"yaxis\":{\"automargin\":true,\"gridcolor\":\"white\",\"linecolor\":\"white\",\"ticks\":\"\",\"title\":{\"standoff\":15},\"zerolinecolor\":\"white\",\"zerolinewidth\":2}}},\"title\":{\"text\":\"Exploring RestingBP column\"},\"width\":600,\"xaxis\":{\"anchor\":\"y\",\"domain\":[0.0,1.0],\"title\":{\"text\":\"RestingBP\"}},\"xaxis2\":{\"anchor\":\"y2\",\"domain\":[0.0,1.0],\"matches\":\"x\",\"showgrid\":true,\"showticklabels\":false},\"yaxis\":{\"anchor\":\"x\",\"domain\":[0.0,0.7326],\"title\":{\"text\":\"count\"}},\"yaxis2\":{\"anchor\":\"x2\",\"domain\":[0.7426,1.0],\"matches\":\"y2\",\"showgrid\":false,\"showline\":false,\"showticklabels\":false,\"ticks\":\"\"}},                        {\"responsive\": true}                    ).then(function(){\n                            \nvar gd = document.getElementById('c91378e1-640a-4ff6-ba5e-e317bd319f55');\nvar x = new MutationObserver(function (mutations, observer) {{\n        var display = window.getComputedStyle(gd).display;\n        if (!display || display === 'none') {{\n            console.log([gd, 'removed!']);\n            Plotly.purge(gd);\n            observer.disconnect();\n        }}\n}});\n\n// Listen for the removal of the full notebook cells\nvar notebookContainer = gd.closest('#notebook-container');\nif (notebookContainer) {{\n    x.observe(notebookContainer, {childList: true});\n}}\n\n// Listen for the clearing of the current output cell\nvar outputEl = gd.closest('.output');\nif (outputEl) {{\n    x.observe(outputEl, {childList: true});\n}}\n\n                        })                };                            </script>        </div>\n</body>\n</html>"
     },
     "metadata": {},
     "output_type": "display_data"
    },
    {
     "data": {
      "text/html": "<html>\n<head><meta charset=\"utf-8\" /></head>\n<body>\n    <div>            <script src=\"https://cdnjs.cloudflare.com/ajax/libs/mathjax/2.7.5/MathJax.js?config=TeX-AMS-MML_SVG\"></script><script type=\"text/javascript\">if (window.MathJax) {MathJax.Hub.Config({SVG: {font: \"STIX-Web\"}});}</script>                <script type=\"text/javascript\">window.PlotlyConfig = {MathJaxConfig: 'local'};</script>\n        <script src=\"https://cdn.plot.ly/plotly-2.4.2.min.js\"></script>                <div id=\"d9ab992c-8f0f-432e-81ef-e065a1b447fa\" class=\"plotly-graph-div\" style=\"height:400px; width:600px;\"></div>            <script type=\"text/javascript\">                                    window.PLOTLYENV=window.PLOTLYENV || {};                                    if (document.getElementById(\"d9ab992c-8f0f-432e-81ef-e065a1b447fa\")) {                    Plotly.newPlot(                        \"d9ab992c-8f0f-432e-81ef-e065a1b447fa\",                        [{\"alignmentgroup\":\"True\",\"bingroup\":\"x\",\"hovertemplate\":\"HeartDisease=0<br>Cholesterol=%{x}<br>count=%{y}<extra></extra>\",\"legendgroup\":\"0\",\"marker\":{\"color\":\"#636efa\",\"line\":{\"color\":\"black\",\"width\":1},\"pattern\":{\"shape\":\"\"}},\"name\":\"0\",\"offsetgroup\":\"0\",\"orientation\":\"v\",\"showlegend\":true,\"type\":\"histogram\",\"x\":[289,283,195,339,237,208,284,211,204,211,273,201,223,184,201,215,209,260,284,468,188,167,186,254,250,177,227,230,264,259,318,223,216,340,224,245,180,194,365,253,254,224,202,260,297,225,412,215,218,163,167,100,277,238,196,216,229,208,307,210,182,207,147,85,269,179,260,254,214,129,241,188,276,297,207,160,272,240,230,246,161,163,230,228,292,294,215,241,243,273,198,249,168,215,159,275,270,291,185,195,263,196,225,238,222,179,243,235,320,187,287,194,238,224,238,312,251,328,280,209,245,192,184,193,297,268,308,249,230,147,219,184,215,308,132,276,219,237,217,196,263,195,298,256,195,295,173,315,281,275,250,309,200,326,266,171,292,271,274,394,160,200,320,275,221,305,220,235,225,198,220,295,213,347,253,246,220,344,358,190,169,181,308,166,211,257,182,0,0,0,0,0,0,0,0,209,213,0,0,166,220,0,0,0,0,0,0,0,240,0,224,0,218,214,252,458,227,240,195,161,0,223,160,236,283,197,298,272,181,220,175,310,203,182,274,171,271,240,165,213,185,207,254,258,139,385,564,263,269,177,234,226,235,303,149,211,199,245,303,204,288,275,243,295,265,228,215,180,222,209,233,197,211,205,417,195,234,198,178,126,226,240,233,261,242,354,245,197,223,208,199,209,236,214,201,244,208,270,306,221,302,313,244,141,269,222,160,235,304,295,271,226,360,273,201,196,201,226,232,177,277,210,207,271,213,268,250,219,267,303,256,204,308,193,262,211,325,254,197,236,234,211,182,196,240,265,246,315,233,394,239,309,255,250,248,214,239,277,298,318,240,250,245,213,204,204,252,227,258,220,168,183,203,283,186,260,231,234,257,325,321,264,308,269,219,175,212,302,243,247,340,266,199,263,294,192,216,223,227,278,220,197,253,192,220,221,240,342,157,175],\"xaxis\":\"x\",\"yaxis\":\"y\"},{\"alignmentgroup\":\"True\",\"hovertemplate\":\"HeartDisease=0<br>Cholesterol=%{x}<extra></extra>\",\"legendgroup\":\"0\",\"marker\":{\"color\":\"#636efa\",\"line\":{\"color\":\"black\",\"width\":1}},\"name\":\"0\",\"notched\":true,\"offsetgroup\":\"0\",\"showlegend\":false,\"type\":\"box\",\"x\":[289,283,195,339,237,208,284,211,204,211,273,201,223,184,201,215,209,260,284,468,188,167,186,254,250,177,227,230,264,259,318,223,216,340,224,245,180,194,365,253,254,224,202,260,297,225,412,215,218,163,167,100,277,238,196,216,229,208,307,210,182,207,147,85,269,179,260,254,214,129,241,188,276,297,207,160,272,240,230,246,161,163,230,228,292,294,215,241,243,273,198,249,168,215,159,275,270,291,185,195,263,196,225,238,222,179,243,235,320,187,287,194,238,224,238,312,251,328,280,209,245,192,184,193,297,268,308,249,230,147,219,184,215,308,132,276,219,237,217,196,263,195,298,256,195,295,173,315,281,275,250,309,200,326,266,171,292,271,274,394,160,200,320,275,221,305,220,235,225,198,220,295,213,347,253,246,220,344,358,190,169,181,308,166,211,257,182,0,0,0,0,0,0,0,0,209,213,0,0,166,220,0,0,0,0,0,0,0,240,0,224,0,218,214,252,458,227,240,195,161,0,223,160,236,283,197,298,272,181,220,175,310,203,182,274,171,271,240,165,213,185,207,254,258,139,385,564,263,269,177,234,226,235,303,149,211,199,245,303,204,288,275,243,295,265,228,215,180,222,209,233,197,211,205,417,195,234,198,178,126,226,240,233,261,242,354,245,197,223,208,199,209,236,214,201,244,208,270,306,221,302,313,244,141,269,222,160,235,304,295,271,226,360,273,201,196,201,226,232,177,277,210,207,271,213,268,250,219,267,303,256,204,308,193,262,211,325,254,197,236,234,211,182,196,240,265,246,315,233,394,239,309,255,250,248,214,239,277,298,318,240,250,245,213,204,204,252,227,258,220,168,183,203,283,186,260,231,234,257,325,321,264,308,269,219,175,212,302,243,247,340,266,199,263,294,192,216,223,227,278,220,197,253,192,220,221,240,342,157,175],\"xaxis\":\"x2\",\"yaxis\":\"y2\"},{\"alignmentgroup\":\"True\",\"bingroup\":\"x\",\"hovertemplate\":\"HeartDisease=1<br>Cholesterol=%{x}<br>count=%{y}<extra></extra>\",\"legendgroup\":\"1\",\"marker\":{\"color\":\"#EF553B\",\"line\":{\"color\":\"black\",\"width\":1},\"pattern\":{\"shape\":\"\"}},\"name\":\"1\",\"offsetgroup\":\"1\",\"orientation\":\"v\",\"showlegend\":true,\"type\":\"histogram\",\"x\":[180,214,207,164,234,196,248,267,288,518,224,172,306,294,175,289,233,205,270,213,342,277,246,265,182,268,529,206,223,213,139,263,291,329,263,275,392,466,186,255,246,282,338,156,248,393,202,388,230,265,166,247,331,341,291,279,603,342,190,290,264,212,272,231,266,288,216,225,404,211,237,285,246,257,216,263,288,226,280,222,303,264,117,336,295,355,193,198,292,268,237,275,219,341,491,260,248,231,126,193,298,242,201,160,223,222,0,0,0,0,0,0,0,0,0,0,0,0,0,0,0,0,0,0,0,0,0,0,0,0,0,0,0,0,0,0,0,0,0,0,0,0,0,0,0,0,0,0,0,0,0,0,0,0,0,0,0,0,0,0,0,0,0,0,0,0,0,0,0,0,0,0,0,0,0,0,0,0,0,0,0,0,0,0,0,0,0,0,0,0,0,0,0,0,0,0,0,0,0,0,0,0,0,0,0,0,0,0,0,0,0,0,0,0,0,0,0,0,0,0,0,260,218,228,236,0,267,0,0,0,0,177,236,0,0,0,0,0,0,186,100,228,0,171,230,0,0,0,281,203,0,0,0,277,0,233,0,0,153,0,0,0,316,0,0,311,0,0,0,270,0,0,217,214,220,214,203,0,339,216,276,241,384,297,248,308,208,210,245,225,0,198,267,258,0,195,235,0,305,282,349,160,312,142,211,218,306,186,252,222,0,0,258,202,204,113,274,192,220,200,261,260,221,216,219,208,232,273,204,270,292,221,289,217,223,110,193,123,210,282,170,369,173,289,152,208,216,244,285,243,219,237,287,258,256,186,264,226,203,284,337,310,254,300,170,310,333,223,254,322,261,256,239,293,407,234,311,203,229,230,229,326,200,256,207,273,223,218,149,197,246,225,315,166,249,281,305,276,319,243,260,309,218,198,270,243,330,266,206,212,275,234,237,289,254,274,258,177,327,305,249,288,283,188,286,274,267,230,269,212,246,249,212,233,283,282,230,167,224,217,228,231,244,259,282,254,299,294,298,231,254,409,172,184,269,174,282,304,300,258,299,289,309,288,216,239,254,330,263,341,307,219,255,164,177,274,268,253,248,185,282,188,290,353,335,206,284,229,286,247,204,204,232,335,205,203,318,225,212,169,187,197,176,241,264,193,131,236],\"xaxis\":\"x\",\"yaxis\":\"y\"},{\"alignmentgroup\":\"True\",\"hovertemplate\":\"HeartDisease=1<br>Cholesterol=%{x}<extra></extra>\",\"legendgroup\":\"1\",\"marker\":{\"color\":\"#EF553B\",\"line\":{\"color\":\"black\",\"width\":1}},\"name\":\"1\",\"notched\":true,\"offsetgroup\":\"1\",\"showlegend\":false,\"type\":\"box\",\"x\":[180,214,207,164,234,196,248,267,288,518,224,172,306,294,175,289,233,205,270,213,342,277,246,265,182,268,529,206,223,213,139,263,291,329,263,275,392,466,186,255,246,282,338,156,248,393,202,388,230,265,166,247,331,341,291,279,603,342,190,290,264,212,272,231,266,288,216,225,404,211,237,285,246,257,216,263,288,226,280,222,303,264,117,336,295,355,193,198,292,268,237,275,219,341,491,260,248,231,126,193,298,242,201,160,223,222,0,0,0,0,0,0,0,0,0,0,0,0,0,0,0,0,0,0,0,0,0,0,0,0,0,0,0,0,0,0,0,0,0,0,0,0,0,0,0,0,0,0,0,0,0,0,0,0,0,0,0,0,0,0,0,0,0,0,0,0,0,0,0,0,0,0,0,0,0,0,0,0,0,0,0,0,0,0,0,0,0,0,0,0,0,0,0,0,0,0,0,0,0,0,0,0,0,0,0,0,0,0,0,0,0,0,0,0,0,0,0,0,0,0,0,260,218,228,236,0,267,0,0,0,0,177,236,0,0,0,0,0,0,186,100,228,0,171,230,0,0,0,281,203,0,0,0,277,0,233,0,0,153,0,0,0,316,0,0,311,0,0,0,270,0,0,217,214,220,214,203,0,339,216,276,241,384,297,248,308,208,210,245,225,0,198,267,258,0,195,235,0,305,282,349,160,312,142,211,218,306,186,252,222,0,0,258,202,204,113,274,192,220,200,261,260,221,216,219,208,232,273,204,270,292,221,289,217,223,110,193,123,210,282,170,369,173,289,152,208,216,244,285,243,219,237,287,258,256,186,264,226,203,284,337,310,254,300,170,310,333,223,254,322,261,256,239,293,407,234,311,203,229,230,229,326,200,256,207,273,223,218,149,197,246,225,315,166,249,281,305,276,319,243,260,309,218,198,270,243,330,266,206,212,275,234,237,289,254,274,258,177,327,305,249,288,283,188,286,274,267,230,269,212,246,249,212,233,283,282,230,167,224,217,228,231,244,259,282,254,299,294,298,231,254,409,172,184,269,174,282,304,300,258,299,289,309,288,216,239,254,330,263,341,307,219,255,164,177,274,268,253,248,185,282,188,290,353,335,206,284,229,286,247,204,204,232,335,205,203,318,225,212,169,187,197,176,241,264,193,131,236],\"xaxis\":\"x2\",\"yaxis\":\"y2\"}],                        {\"barmode\":\"relative\",\"height\":400,\"legend\":{\"title\":{\"text\":\"HeartDisease\"},\"tracegroupgap\":0},\"template\":{\"data\":{\"bar\":[{\"error_x\":{\"color\":\"#2a3f5f\"},\"error_y\":{\"color\":\"#2a3f5f\"},\"marker\":{\"line\":{\"color\":\"#E5ECF6\",\"width\":0.5},\"pattern\":{\"fillmode\":\"overlay\",\"size\":10,\"solidity\":0.2}},\"type\":\"bar\"}],\"barpolar\":[{\"marker\":{\"line\":{\"color\":\"#E5ECF6\",\"width\":0.5},\"pattern\":{\"fillmode\":\"overlay\",\"size\":10,\"solidity\":0.2}},\"type\":\"barpolar\"}],\"carpet\":[{\"aaxis\":{\"endlinecolor\":\"#2a3f5f\",\"gridcolor\":\"white\",\"linecolor\":\"white\",\"minorgridcolor\":\"white\",\"startlinecolor\":\"#2a3f5f\"},\"baxis\":{\"endlinecolor\":\"#2a3f5f\",\"gridcolor\":\"white\",\"linecolor\":\"white\",\"minorgridcolor\":\"white\",\"startlinecolor\":\"#2a3f5f\"},\"type\":\"carpet\"}],\"choropleth\":[{\"colorbar\":{\"outlinewidth\":0,\"ticks\":\"\"},\"type\":\"choropleth\"}],\"contour\":[{\"colorbar\":{\"outlinewidth\":0,\"ticks\":\"\"},\"colorscale\":[[0.0,\"#0d0887\"],[0.1111111111111111,\"#46039f\"],[0.2222222222222222,\"#7201a8\"],[0.3333333333333333,\"#9c179e\"],[0.4444444444444444,\"#bd3786\"],[0.5555555555555556,\"#d8576b\"],[0.6666666666666666,\"#ed7953\"],[0.7777777777777778,\"#fb9f3a\"],[0.8888888888888888,\"#fdca26\"],[1.0,\"#f0f921\"]],\"type\":\"contour\"}],\"contourcarpet\":[{\"colorbar\":{\"outlinewidth\":0,\"ticks\":\"\"},\"type\":\"contourcarpet\"}],\"heatmap\":[{\"colorbar\":{\"outlinewidth\":0,\"ticks\":\"\"},\"colorscale\":[[0.0,\"#0d0887\"],[0.1111111111111111,\"#46039f\"],[0.2222222222222222,\"#7201a8\"],[0.3333333333333333,\"#9c179e\"],[0.4444444444444444,\"#bd3786\"],[0.5555555555555556,\"#d8576b\"],[0.6666666666666666,\"#ed7953\"],[0.7777777777777778,\"#fb9f3a\"],[0.8888888888888888,\"#fdca26\"],[1.0,\"#f0f921\"]],\"type\":\"heatmap\"}],\"heatmapgl\":[{\"colorbar\":{\"outlinewidth\":0,\"ticks\":\"\"},\"colorscale\":[[0.0,\"#0d0887\"],[0.1111111111111111,\"#46039f\"],[0.2222222222222222,\"#7201a8\"],[0.3333333333333333,\"#9c179e\"],[0.4444444444444444,\"#bd3786\"],[0.5555555555555556,\"#d8576b\"],[0.6666666666666666,\"#ed7953\"],[0.7777777777777778,\"#fb9f3a\"],[0.8888888888888888,\"#fdca26\"],[1.0,\"#f0f921\"]],\"type\":\"heatmapgl\"}],\"histogram\":[{\"marker\":{\"pattern\":{\"fillmode\":\"overlay\",\"size\":10,\"solidity\":0.2}},\"type\":\"histogram\"}],\"histogram2d\":[{\"colorbar\":{\"outlinewidth\":0,\"ticks\":\"\"},\"colorscale\":[[0.0,\"#0d0887\"],[0.1111111111111111,\"#46039f\"],[0.2222222222222222,\"#7201a8\"],[0.3333333333333333,\"#9c179e\"],[0.4444444444444444,\"#bd3786\"],[0.5555555555555556,\"#d8576b\"],[0.6666666666666666,\"#ed7953\"],[0.7777777777777778,\"#fb9f3a\"],[0.8888888888888888,\"#fdca26\"],[1.0,\"#f0f921\"]],\"type\":\"histogram2d\"}],\"histogram2dcontour\":[{\"colorbar\":{\"outlinewidth\":0,\"ticks\":\"\"},\"colorscale\":[[0.0,\"#0d0887\"],[0.1111111111111111,\"#46039f\"],[0.2222222222222222,\"#7201a8\"],[0.3333333333333333,\"#9c179e\"],[0.4444444444444444,\"#bd3786\"],[0.5555555555555556,\"#d8576b\"],[0.6666666666666666,\"#ed7953\"],[0.7777777777777778,\"#fb9f3a\"],[0.8888888888888888,\"#fdca26\"],[1.0,\"#f0f921\"]],\"type\":\"histogram2dcontour\"}],\"mesh3d\":[{\"colorbar\":{\"outlinewidth\":0,\"ticks\":\"\"},\"type\":\"mesh3d\"}],\"parcoords\":[{\"line\":{\"colorbar\":{\"outlinewidth\":0,\"ticks\":\"\"}},\"type\":\"parcoords\"}],\"pie\":[{\"automargin\":true,\"type\":\"pie\"}],\"scatter\":[{\"marker\":{\"colorbar\":{\"outlinewidth\":0,\"ticks\":\"\"}},\"type\":\"scatter\"}],\"scatter3d\":[{\"line\":{\"colorbar\":{\"outlinewidth\":0,\"ticks\":\"\"}},\"marker\":{\"colorbar\":{\"outlinewidth\":0,\"ticks\":\"\"}},\"type\":\"scatter3d\"}],\"scattercarpet\":[{\"marker\":{\"colorbar\":{\"outlinewidth\":0,\"ticks\":\"\"}},\"type\":\"scattercarpet\"}],\"scattergeo\":[{\"marker\":{\"colorbar\":{\"outlinewidth\":0,\"ticks\":\"\"}},\"type\":\"scattergeo\"}],\"scattergl\":[{\"marker\":{\"colorbar\":{\"outlinewidth\":0,\"ticks\":\"\"}},\"type\":\"scattergl\"}],\"scattermapbox\":[{\"marker\":{\"colorbar\":{\"outlinewidth\":0,\"ticks\":\"\"}},\"type\":\"scattermapbox\"}],\"scatterpolar\":[{\"marker\":{\"colorbar\":{\"outlinewidth\":0,\"ticks\":\"\"}},\"type\":\"scatterpolar\"}],\"scatterpolargl\":[{\"marker\":{\"colorbar\":{\"outlinewidth\":0,\"ticks\":\"\"}},\"type\":\"scatterpolargl\"}],\"scatterternary\":[{\"marker\":{\"colorbar\":{\"outlinewidth\":0,\"ticks\":\"\"}},\"type\":\"scatterternary\"}],\"surface\":[{\"colorbar\":{\"outlinewidth\":0,\"ticks\":\"\"},\"colorscale\":[[0.0,\"#0d0887\"],[0.1111111111111111,\"#46039f\"],[0.2222222222222222,\"#7201a8\"],[0.3333333333333333,\"#9c179e\"],[0.4444444444444444,\"#bd3786\"],[0.5555555555555556,\"#d8576b\"],[0.6666666666666666,\"#ed7953\"],[0.7777777777777778,\"#fb9f3a\"],[0.8888888888888888,\"#fdca26\"],[1.0,\"#f0f921\"]],\"type\":\"surface\"}],\"table\":[{\"cells\":{\"fill\":{\"color\":\"#EBF0F8\"},\"line\":{\"color\":\"white\"}},\"header\":{\"fill\":{\"color\":\"#C8D4E3\"},\"line\":{\"color\":\"white\"}},\"type\":\"table\"}]},\"layout\":{\"annotationdefaults\":{\"arrowcolor\":\"#2a3f5f\",\"arrowhead\":0,\"arrowwidth\":1},\"autotypenumbers\":\"strict\",\"coloraxis\":{\"colorbar\":{\"outlinewidth\":0,\"ticks\":\"\"}},\"colorscale\":{\"diverging\":[[0,\"#8e0152\"],[0.1,\"#c51b7d\"],[0.2,\"#de77ae\"],[0.3,\"#f1b6da\"],[0.4,\"#fde0ef\"],[0.5,\"#f7f7f7\"],[0.6,\"#e6f5d0\"],[0.7,\"#b8e186\"],[0.8,\"#7fbc41\"],[0.9,\"#4d9221\"],[1,\"#276419\"]],\"sequential\":[[0.0,\"#0d0887\"],[0.1111111111111111,\"#46039f\"],[0.2222222222222222,\"#7201a8\"],[0.3333333333333333,\"#9c179e\"],[0.4444444444444444,\"#bd3786\"],[0.5555555555555556,\"#d8576b\"],[0.6666666666666666,\"#ed7953\"],[0.7777777777777778,\"#fb9f3a\"],[0.8888888888888888,\"#fdca26\"],[1.0,\"#f0f921\"]],\"sequentialminus\":[[0.0,\"#0d0887\"],[0.1111111111111111,\"#46039f\"],[0.2222222222222222,\"#7201a8\"],[0.3333333333333333,\"#9c179e\"],[0.4444444444444444,\"#bd3786\"],[0.5555555555555556,\"#d8576b\"],[0.6666666666666666,\"#ed7953\"],[0.7777777777777778,\"#fb9f3a\"],[0.8888888888888888,\"#fdca26\"],[1.0,\"#f0f921\"]]},\"colorway\":[\"#636efa\",\"#EF553B\",\"#00cc96\",\"#ab63fa\",\"#FFA15A\",\"#19d3f3\",\"#FF6692\",\"#B6E880\",\"#FF97FF\",\"#FECB52\"],\"font\":{\"color\":\"#2a3f5f\"},\"geo\":{\"bgcolor\":\"white\",\"lakecolor\":\"white\",\"landcolor\":\"#E5ECF6\",\"showlakes\":true,\"showland\":true,\"subunitcolor\":\"white\"},\"hoverlabel\":{\"align\":\"left\"},\"hovermode\":\"closest\",\"mapbox\":{\"style\":\"light\"},\"paper_bgcolor\":\"white\",\"plot_bgcolor\":\"#E5ECF6\",\"polar\":{\"angularaxis\":{\"gridcolor\":\"white\",\"linecolor\":\"white\",\"ticks\":\"\"},\"bgcolor\":\"#E5ECF6\",\"radialaxis\":{\"gridcolor\":\"white\",\"linecolor\":\"white\",\"ticks\":\"\"}},\"scene\":{\"xaxis\":{\"backgroundcolor\":\"#E5ECF6\",\"gridcolor\":\"white\",\"gridwidth\":2,\"linecolor\":\"white\",\"showbackground\":true,\"ticks\":\"\",\"zerolinecolor\":\"white\"},\"yaxis\":{\"backgroundcolor\":\"#E5ECF6\",\"gridcolor\":\"white\",\"gridwidth\":2,\"linecolor\":\"white\",\"showbackground\":true,\"ticks\":\"\",\"zerolinecolor\":\"white\"},\"zaxis\":{\"backgroundcolor\":\"#E5ECF6\",\"gridcolor\":\"white\",\"gridwidth\":2,\"linecolor\":\"white\",\"showbackground\":true,\"ticks\":\"\",\"zerolinecolor\":\"white\"}},\"shapedefaults\":{\"line\":{\"color\":\"#2a3f5f\"}},\"ternary\":{\"aaxis\":{\"gridcolor\":\"white\",\"linecolor\":\"white\",\"ticks\":\"\"},\"baxis\":{\"gridcolor\":\"white\",\"linecolor\":\"white\",\"ticks\":\"\"},\"bgcolor\":\"#E5ECF6\",\"caxis\":{\"gridcolor\":\"white\",\"linecolor\":\"white\",\"ticks\":\"\"}},\"title\":{\"x\":0.05},\"xaxis\":{\"automargin\":true,\"gridcolor\":\"white\",\"linecolor\":\"white\",\"ticks\":\"\",\"title\":{\"standoff\":15},\"zerolinecolor\":\"white\",\"zerolinewidth\":2},\"yaxis\":{\"automargin\":true,\"gridcolor\":\"white\",\"linecolor\":\"white\",\"ticks\":\"\",\"title\":{\"standoff\":15},\"zerolinecolor\":\"white\",\"zerolinewidth\":2}}},\"title\":{\"text\":\"Exploring Cholesterol column\"},\"width\":600,\"xaxis\":{\"anchor\":\"y\",\"domain\":[0.0,1.0],\"title\":{\"text\":\"Cholesterol\"}},\"xaxis2\":{\"anchor\":\"y2\",\"domain\":[0.0,1.0],\"matches\":\"x\",\"showgrid\":true,\"showticklabels\":false},\"yaxis\":{\"anchor\":\"x\",\"domain\":[0.0,0.7326],\"title\":{\"text\":\"count\"}},\"yaxis2\":{\"anchor\":\"x2\",\"domain\":[0.7426,1.0],\"matches\":\"y2\",\"showgrid\":false,\"showline\":false,\"showticklabels\":false,\"ticks\":\"\"}},                        {\"responsive\": true}                    ).then(function(){\n                            \nvar gd = document.getElementById('d9ab992c-8f0f-432e-81ef-e065a1b447fa');\nvar x = new MutationObserver(function (mutations, observer) {{\n        var display = window.getComputedStyle(gd).display;\n        if (!display || display === 'none') {{\n            console.log([gd, 'removed!']);\n            Plotly.purge(gd);\n            observer.disconnect();\n        }}\n}});\n\n// Listen for the removal of the full notebook cells\nvar notebookContainer = gd.closest('#notebook-container');\nif (notebookContainer) {{\n    x.observe(notebookContainer, {childList: true});\n}}\n\n// Listen for the clearing of the current output cell\nvar outputEl = gd.closest('.output');\nif (outputEl) {{\n    x.observe(outputEl, {childList: true});\n}}\n\n                        })                };                            </script>        </div>\n</body>\n</html>"
     },
     "metadata": {},
     "output_type": "display_data"
    },
    {
     "data": {
      "text/html": "<html>\n<head><meta charset=\"utf-8\" /></head>\n<body>\n    <div>            <script src=\"https://cdnjs.cloudflare.com/ajax/libs/mathjax/2.7.5/MathJax.js?config=TeX-AMS-MML_SVG\"></script><script type=\"text/javascript\">if (window.MathJax) {MathJax.Hub.Config({SVG: {font: \"STIX-Web\"}});}</script>                <script type=\"text/javascript\">window.PlotlyConfig = {MathJaxConfig: 'local'};</script>\n        <script src=\"https://cdn.plot.ly/plotly-2.4.2.min.js\"></script>                <div id=\"4d0e91f2-1f4b-42d4-bdb7-bac51bd58a4f\" class=\"plotly-graph-div\" style=\"height:400px; width:600px;\"></div>            <script type=\"text/javascript\">                                    window.PLOTLYENV=window.PLOTLYENV || {};                                    if (document.getElementById(\"4d0e91f2-1f4b-42d4-bdb7-bac51bd58a4f\")) {                    Plotly.newPlot(                        \"4d0e91f2-1f4b-42d4-bdb7-bac51bd58a4f\",                        [{\"alignmentgroup\":\"True\",\"bingroup\":\"x\",\"hovertemplate\":\"HeartDisease=0<br>MaxHR=%{x}<br>count=%{y}<extra></extra>\",\"legendgroup\":\"0\",\"marker\":{\"color\":\"#636efa\",\"line\":{\"color\":\"black\",\"width\":1},\"pattern\":{\"shape\":\"\"}},\"name\":\"0\",\"offsetgroup\":\"0\",\"orientation\":\"v\",\"showlegend\":true,\"type\":\"histogram\",\"x\":[172,98,122,170,170,142,120,142,145,137,150,165,142,142,164,138,178,112,118,127,145,114,154,155,142,148,130,130,168,170,120,168,170,184,122,150,140,170,134,174,175,144,145,130,144,184,170,135,115,116,150,138,160,154,165,142,110,160,140,148,180,138,160,140,144,100,140,110,168,135,106,124,125,150,135,185,139,140,150,110,190,175,140,152,130,120,175,146,155,132,155,176,160,120,100,150,140,160,130,130,174,150,140,118,100,160,160,188,162,172,150,150,90,150,140,130,110,110,120,116,160,110,180,116,132,136,98,150,150,146,150,100,140,180,185,128,164,170,137,150,170,125,185,137,140,170,184,158,167,129,142,140,160,155,118,137,115,152,130,150,172,120,155,165,138,175,150,145,140,165,134,180,100,126,155,135,160,160,170,120,140,132,156,180,138,135,148,150,120,154,141,138,179,114,97,127,99,120,140,140,86,120,118,116,133,131,111,107,160,130,161,130,139,180,135,69,138,80,126,153,160,128,150,144,135,100,120,139,135,86,160,112,137,141,154,128,126,165,133,110,136,96,151,96,137,135,160,105,121,140,161,111,180,159,125,144,178,180,181,143,159,139,152,157,130,138,170,150,186,163,179,156,165,184,157,179,175,168,96,173,169,171,150,186,149,163,143,116,142,148,179,173,178,168,126,178,140,145,163,164,151,133,162,175,163,143,138,153,170,162,162,114,151,152,163,169,158,178,165,160,172,192,168,182,125,172,179,158,167,122,149,172,170,162,155,161,154,159,152,152,131,115,174,163,194,122,173,162,147,157,160,156,175,161,122,158,151,151,178,160,154,187,166,165,202,172,172,154,147,170,174,182,132,162,190,185,146,160,156,172,182,143,142,148,188,123,157,162,137,171,172,171,162,173,153,148,115,169,155,152,152,131,179,174,144,163,169,166,182,173],\"xaxis\":\"x\",\"yaxis\":\"y\"},{\"alignmentgroup\":\"True\",\"hovertemplate\":\"HeartDisease=0<br>MaxHR=%{x}<extra></extra>\",\"legendgroup\":\"0\",\"marker\":{\"color\":\"#636efa\",\"line\":{\"color\":\"black\",\"width\":1}},\"name\":\"0\",\"notched\":true,\"offsetgroup\":\"0\",\"showlegend\":false,\"type\":\"box\",\"x\":[172,98,122,170,170,142,120,142,145,137,150,165,142,142,164,138,178,112,118,127,145,114,154,155,142,148,130,130,168,170,120,168,170,184,122,150,140,170,134,174,175,144,145,130,144,184,170,135,115,116,150,138,160,154,165,142,110,160,140,148,180,138,160,140,144,100,140,110,168,135,106,124,125,150,135,185,139,140,150,110,190,175,140,152,130,120,175,146,155,132,155,176,160,120,100,150,140,160,130,130,174,150,140,118,100,160,160,188,162,172,150,150,90,150,140,130,110,110,120,116,160,110,180,116,132,136,98,150,150,146,150,100,140,180,185,128,164,170,137,150,170,125,185,137,140,170,184,158,167,129,142,140,160,155,118,137,115,152,130,150,172,120,155,165,138,175,150,145,140,165,134,180,100,126,155,135,160,160,170,120,140,132,156,180,138,135,148,150,120,154,141,138,179,114,97,127,99,120,140,140,86,120,118,116,133,131,111,107,160,130,161,130,139,180,135,69,138,80,126,153,160,128,150,144,135,100,120,139,135,86,160,112,137,141,154,128,126,165,133,110,136,96,151,96,137,135,160,105,121,140,161,111,180,159,125,144,178,180,181,143,159,139,152,157,130,138,170,150,186,163,179,156,165,184,157,179,175,168,96,173,169,171,150,186,149,163,143,116,142,148,179,173,178,168,126,178,140,145,163,164,151,133,162,175,163,143,138,153,170,162,162,114,151,152,163,169,158,178,165,160,172,192,168,182,125,172,179,158,167,122,149,172,170,162,155,161,154,159,152,152,131,115,174,163,194,122,173,162,147,157,160,156,175,161,122,158,151,151,178,160,154,187,166,165,202,172,172,154,147,170,174,182,132,162,190,185,146,160,156,172,182,143,142,148,188,123,157,162,137,171,172,171,162,173,153,148,115,169,155,152,152,131,179,174,144,163,169,166,182,173],\"xaxis\":\"x2\",\"yaxis\":\"y2\"},{\"alignmentgroup\":\"True\",\"bingroup\":\"x\",\"hovertemplate\":\"HeartDisease=1<br>MaxHR=%{x}<br>count=%{y}<extra></extra>\",\"legendgroup\":\"1\",\"marker\":{\"color\":\"#EF553B\",\"line\":{\"color\":\"black\",\"width\":1},\"pattern\":{\"shape\":\"\"}},\"name\":\"1\",\"offsetgroup\":\"1\",\"orientation\":\"v\",\"showlegend\":true,\"type\":\"histogram\",\"x\":[156,108,130,99,140,166,125,160,150,130,122,130,87,100,120,170,121,98,153,140,96,125,82,145,150,128,130,170,115,125,94,112,155,92,140,115,130,152,124,92,150,170,130,180,170,110,150,122,124,175,118,130,94,125,158,150,125,150,150,100,119,96,175,140,134,135,105,120,124,92,138,120,116,140,140,110,140,98,150,112,150,150,134,118,136,99,102,142,143,103,150,150,130,120,135,115,96,115,125,145,110,91,130,150,126,122,93,127,110,139,131,92,149,149,120,123,126,127,155,138,182,110,176,154,123,148,121,77,136,175,109,166,128,133,128,119,82,130,143,82,144,170,134,154,149,145,122,114,113,120,104,130,115,128,104,125,120,140,100,100,92,125,113,95,128,115,72,124,99,148,140,117,120,120,86,63,108,98,115,105,121,118,122,157,156,99,120,145,156,155,105,99,135,83,145,60,92,115,120,98,150,143,105,122,70,110,163,67,128,120,130,100,72,94,122,78,150,103,98,110,90,112,140,149,105,141,157,117,120,120,148,84,125,124,106,111,180,129,125,140,120,124,117,110,105,155,110,122,118,123,80,165,86,118,84,117,128,125,97,106,130,140,122,120,108,148,123,110,118,125,106,112,128,144,140,102,108,145,127,110,140,148,130,130,140,138,140,112,131,112,150,110,88,150,120,132,120,110,121,135,120,117,113,127,109,128,115,102,140,135,122,119,130,112,122,120,105,129,162,100,140,73,108,116,118,122,124,102,126,160,115,115,105,110,119,109,135,130,112,126,120,110,119,110,130,159,84,116,120,122,122,94,150,130,113,140,100,127,98,123,98,112,108,128,138,126,154,100,93,109,141,142,142,170,154,145,120,155,129,165,150,140,126,150,138,125,181,134,126,177,120,114,125,125,143,103,142,112,152,152,140,147,105,130,111,128,169,109,108,168,118,156,71,124,147,166,157,162,117,161,144,133,103,139,116,88,99,160,169,132,96,144,132,163,195,95,160,114,173,111,165,182,154,130,174,146,125,106,122,147,163,150,158,105,112,125,156,162,171,141,173,145,131,159,131,126,127,132,97,136,146,140,161,145,120,150,160,144,158,155,142,113,153,132,158,132,160,168,108,143,156,162,164,143,130,161,140,146,150,144,144,136,90,123,132,141,115,174],\"xaxis\":\"x\",\"yaxis\":\"y\"},{\"alignmentgroup\":\"True\",\"hovertemplate\":\"HeartDisease=1<br>MaxHR=%{x}<extra></extra>\",\"legendgroup\":\"1\",\"marker\":{\"color\":\"#EF553B\",\"line\":{\"color\":\"black\",\"width\":1}},\"name\":\"1\",\"notched\":true,\"offsetgroup\":\"1\",\"showlegend\":false,\"type\":\"box\",\"x\":[156,108,130,99,140,166,125,160,150,130,122,130,87,100,120,170,121,98,153,140,96,125,82,145,150,128,130,170,115,125,94,112,155,92,140,115,130,152,124,92,150,170,130,180,170,110,150,122,124,175,118,130,94,125,158,150,125,150,150,100,119,96,175,140,134,135,105,120,124,92,138,120,116,140,140,110,140,98,150,112,150,150,134,118,136,99,102,142,143,103,150,150,130,120,135,115,96,115,125,145,110,91,130,150,126,122,93,127,110,139,131,92,149,149,120,123,126,127,155,138,182,110,176,154,123,148,121,77,136,175,109,166,128,133,128,119,82,130,143,82,144,170,134,154,149,145,122,114,113,120,104,130,115,128,104,125,120,140,100,100,92,125,113,95,128,115,72,124,99,148,140,117,120,120,86,63,108,98,115,105,121,118,122,157,156,99,120,145,156,155,105,99,135,83,145,60,92,115,120,98,150,143,105,122,70,110,163,67,128,120,130,100,72,94,122,78,150,103,98,110,90,112,140,149,105,141,157,117,120,120,148,84,125,124,106,111,180,129,125,140,120,124,117,110,105,155,110,122,118,123,80,165,86,118,84,117,128,125,97,106,130,140,122,120,108,148,123,110,118,125,106,112,128,144,140,102,108,145,127,110,140,148,130,130,140,138,140,112,131,112,150,110,88,150,120,132,120,110,121,135,120,117,113,127,109,128,115,102,140,135,122,119,130,112,122,120,105,129,162,100,140,73,108,116,118,122,124,102,126,160,115,115,105,110,119,109,135,130,112,126,120,110,119,110,130,159,84,116,120,122,122,94,150,130,113,140,100,127,98,123,98,112,108,128,138,126,154,100,93,109,141,142,142,170,154,145,120,155,129,165,150,140,126,150,138,125,181,134,126,177,120,114,125,125,143,103,142,112,152,152,140,147,105,130,111,128,169,109,108,168,118,156,71,124,147,166,157,162,117,161,144,133,103,139,116,88,99,160,169,132,96,144,132,163,195,95,160,114,173,111,165,182,154,130,174,146,125,106,122,147,163,150,158,105,112,125,156,162,171,141,173,145,131,159,131,126,127,132,97,136,146,140,161,145,120,150,160,144,158,155,142,113,153,132,158,132,160,168,108,143,156,162,164,143,130,161,140,146,150,144,144,136,90,123,132,141,115,174],\"xaxis\":\"x2\",\"yaxis\":\"y2\"}],                        {\"barmode\":\"relative\",\"height\":400,\"legend\":{\"title\":{\"text\":\"HeartDisease\"},\"tracegroupgap\":0},\"template\":{\"data\":{\"bar\":[{\"error_x\":{\"color\":\"#2a3f5f\"},\"error_y\":{\"color\":\"#2a3f5f\"},\"marker\":{\"line\":{\"color\":\"#E5ECF6\",\"width\":0.5},\"pattern\":{\"fillmode\":\"overlay\",\"size\":10,\"solidity\":0.2}},\"type\":\"bar\"}],\"barpolar\":[{\"marker\":{\"line\":{\"color\":\"#E5ECF6\",\"width\":0.5},\"pattern\":{\"fillmode\":\"overlay\",\"size\":10,\"solidity\":0.2}},\"type\":\"barpolar\"}],\"carpet\":[{\"aaxis\":{\"endlinecolor\":\"#2a3f5f\",\"gridcolor\":\"white\",\"linecolor\":\"white\",\"minorgridcolor\":\"white\",\"startlinecolor\":\"#2a3f5f\"},\"baxis\":{\"endlinecolor\":\"#2a3f5f\",\"gridcolor\":\"white\",\"linecolor\":\"white\",\"minorgridcolor\":\"white\",\"startlinecolor\":\"#2a3f5f\"},\"type\":\"carpet\"}],\"choropleth\":[{\"colorbar\":{\"outlinewidth\":0,\"ticks\":\"\"},\"type\":\"choropleth\"}],\"contour\":[{\"colorbar\":{\"outlinewidth\":0,\"ticks\":\"\"},\"colorscale\":[[0.0,\"#0d0887\"],[0.1111111111111111,\"#46039f\"],[0.2222222222222222,\"#7201a8\"],[0.3333333333333333,\"#9c179e\"],[0.4444444444444444,\"#bd3786\"],[0.5555555555555556,\"#d8576b\"],[0.6666666666666666,\"#ed7953\"],[0.7777777777777778,\"#fb9f3a\"],[0.8888888888888888,\"#fdca26\"],[1.0,\"#f0f921\"]],\"type\":\"contour\"}],\"contourcarpet\":[{\"colorbar\":{\"outlinewidth\":0,\"ticks\":\"\"},\"type\":\"contourcarpet\"}],\"heatmap\":[{\"colorbar\":{\"outlinewidth\":0,\"ticks\":\"\"},\"colorscale\":[[0.0,\"#0d0887\"],[0.1111111111111111,\"#46039f\"],[0.2222222222222222,\"#7201a8\"],[0.3333333333333333,\"#9c179e\"],[0.4444444444444444,\"#bd3786\"],[0.5555555555555556,\"#d8576b\"],[0.6666666666666666,\"#ed7953\"],[0.7777777777777778,\"#fb9f3a\"],[0.8888888888888888,\"#fdca26\"],[1.0,\"#f0f921\"]],\"type\":\"heatmap\"}],\"heatmapgl\":[{\"colorbar\":{\"outlinewidth\":0,\"ticks\":\"\"},\"colorscale\":[[0.0,\"#0d0887\"],[0.1111111111111111,\"#46039f\"],[0.2222222222222222,\"#7201a8\"],[0.3333333333333333,\"#9c179e\"],[0.4444444444444444,\"#bd3786\"],[0.5555555555555556,\"#d8576b\"],[0.6666666666666666,\"#ed7953\"],[0.7777777777777778,\"#fb9f3a\"],[0.8888888888888888,\"#fdca26\"],[1.0,\"#f0f921\"]],\"type\":\"heatmapgl\"}],\"histogram\":[{\"marker\":{\"pattern\":{\"fillmode\":\"overlay\",\"size\":10,\"solidity\":0.2}},\"type\":\"histogram\"}],\"histogram2d\":[{\"colorbar\":{\"outlinewidth\":0,\"ticks\":\"\"},\"colorscale\":[[0.0,\"#0d0887\"],[0.1111111111111111,\"#46039f\"],[0.2222222222222222,\"#7201a8\"],[0.3333333333333333,\"#9c179e\"],[0.4444444444444444,\"#bd3786\"],[0.5555555555555556,\"#d8576b\"],[0.6666666666666666,\"#ed7953\"],[0.7777777777777778,\"#fb9f3a\"],[0.8888888888888888,\"#fdca26\"],[1.0,\"#f0f921\"]],\"type\":\"histogram2d\"}],\"histogram2dcontour\":[{\"colorbar\":{\"outlinewidth\":0,\"ticks\":\"\"},\"colorscale\":[[0.0,\"#0d0887\"],[0.1111111111111111,\"#46039f\"],[0.2222222222222222,\"#7201a8\"],[0.3333333333333333,\"#9c179e\"],[0.4444444444444444,\"#bd3786\"],[0.5555555555555556,\"#d8576b\"],[0.6666666666666666,\"#ed7953\"],[0.7777777777777778,\"#fb9f3a\"],[0.8888888888888888,\"#fdca26\"],[1.0,\"#f0f921\"]],\"type\":\"histogram2dcontour\"}],\"mesh3d\":[{\"colorbar\":{\"outlinewidth\":0,\"ticks\":\"\"},\"type\":\"mesh3d\"}],\"parcoords\":[{\"line\":{\"colorbar\":{\"outlinewidth\":0,\"ticks\":\"\"}},\"type\":\"parcoords\"}],\"pie\":[{\"automargin\":true,\"type\":\"pie\"}],\"scatter\":[{\"marker\":{\"colorbar\":{\"outlinewidth\":0,\"ticks\":\"\"}},\"type\":\"scatter\"}],\"scatter3d\":[{\"line\":{\"colorbar\":{\"outlinewidth\":0,\"ticks\":\"\"}},\"marker\":{\"colorbar\":{\"outlinewidth\":0,\"ticks\":\"\"}},\"type\":\"scatter3d\"}],\"scattercarpet\":[{\"marker\":{\"colorbar\":{\"outlinewidth\":0,\"ticks\":\"\"}},\"type\":\"scattercarpet\"}],\"scattergeo\":[{\"marker\":{\"colorbar\":{\"outlinewidth\":0,\"ticks\":\"\"}},\"type\":\"scattergeo\"}],\"scattergl\":[{\"marker\":{\"colorbar\":{\"outlinewidth\":0,\"ticks\":\"\"}},\"type\":\"scattergl\"}],\"scattermapbox\":[{\"marker\":{\"colorbar\":{\"outlinewidth\":0,\"ticks\":\"\"}},\"type\":\"scattermapbox\"}],\"scatterpolar\":[{\"marker\":{\"colorbar\":{\"outlinewidth\":0,\"ticks\":\"\"}},\"type\":\"scatterpolar\"}],\"scatterpolargl\":[{\"marker\":{\"colorbar\":{\"outlinewidth\":0,\"ticks\":\"\"}},\"type\":\"scatterpolargl\"}],\"scatterternary\":[{\"marker\":{\"colorbar\":{\"outlinewidth\":0,\"ticks\":\"\"}},\"type\":\"scatterternary\"}],\"surface\":[{\"colorbar\":{\"outlinewidth\":0,\"ticks\":\"\"},\"colorscale\":[[0.0,\"#0d0887\"],[0.1111111111111111,\"#46039f\"],[0.2222222222222222,\"#7201a8\"],[0.3333333333333333,\"#9c179e\"],[0.4444444444444444,\"#bd3786\"],[0.5555555555555556,\"#d8576b\"],[0.6666666666666666,\"#ed7953\"],[0.7777777777777778,\"#fb9f3a\"],[0.8888888888888888,\"#fdca26\"],[1.0,\"#f0f921\"]],\"type\":\"surface\"}],\"table\":[{\"cells\":{\"fill\":{\"color\":\"#EBF0F8\"},\"line\":{\"color\":\"white\"}},\"header\":{\"fill\":{\"color\":\"#C8D4E3\"},\"line\":{\"color\":\"white\"}},\"type\":\"table\"}]},\"layout\":{\"annotationdefaults\":{\"arrowcolor\":\"#2a3f5f\",\"arrowhead\":0,\"arrowwidth\":1},\"autotypenumbers\":\"strict\",\"coloraxis\":{\"colorbar\":{\"outlinewidth\":0,\"ticks\":\"\"}},\"colorscale\":{\"diverging\":[[0,\"#8e0152\"],[0.1,\"#c51b7d\"],[0.2,\"#de77ae\"],[0.3,\"#f1b6da\"],[0.4,\"#fde0ef\"],[0.5,\"#f7f7f7\"],[0.6,\"#e6f5d0\"],[0.7,\"#b8e186\"],[0.8,\"#7fbc41\"],[0.9,\"#4d9221\"],[1,\"#276419\"]],\"sequential\":[[0.0,\"#0d0887\"],[0.1111111111111111,\"#46039f\"],[0.2222222222222222,\"#7201a8\"],[0.3333333333333333,\"#9c179e\"],[0.4444444444444444,\"#bd3786\"],[0.5555555555555556,\"#d8576b\"],[0.6666666666666666,\"#ed7953\"],[0.7777777777777778,\"#fb9f3a\"],[0.8888888888888888,\"#fdca26\"],[1.0,\"#f0f921\"]],\"sequentialminus\":[[0.0,\"#0d0887\"],[0.1111111111111111,\"#46039f\"],[0.2222222222222222,\"#7201a8\"],[0.3333333333333333,\"#9c179e\"],[0.4444444444444444,\"#bd3786\"],[0.5555555555555556,\"#d8576b\"],[0.6666666666666666,\"#ed7953\"],[0.7777777777777778,\"#fb9f3a\"],[0.8888888888888888,\"#fdca26\"],[1.0,\"#f0f921\"]]},\"colorway\":[\"#636efa\",\"#EF553B\",\"#00cc96\",\"#ab63fa\",\"#FFA15A\",\"#19d3f3\",\"#FF6692\",\"#B6E880\",\"#FF97FF\",\"#FECB52\"],\"font\":{\"color\":\"#2a3f5f\"},\"geo\":{\"bgcolor\":\"white\",\"lakecolor\":\"white\",\"landcolor\":\"#E5ECF6\",\"showlakes\":true,\"showland\":true,\"subunitcolor\":\"white\"},\"hoverlabel\":{\"align\":\"left\"},\"hovermode\":\"closest\",\"mapbox\":{\"style\":\"light\"},\"paper_bgcolor\":\"white\",\"plot_bgcolor\":\"#E5ECF6\",\"polar\":{\"angularaxis\":{\"gridcolor\":\"white\",\"linecolor\":\"white\",\"ticks\":\"\"},\"bgcolor\":\"#E5ECF6\",\"radialaxis\":{\"gridcolor\":\"white\",\"linecolor\":\"white\",\"ticks\":\"\"}},\"scene\":{\"xaxis\":{\"backgroundcolor\":\"#E5ECF6\",\"gridcolor\":\"white\",\"gridwidth\":2,\"linecolor\":\"white\",\"showbackground\":true,\"ticks\":\"\",\"zerolinecolor\":\"white\"},\"yaxis\":{\"backgroundcolor\":\"#E5ECF6\",\"gridcolor\":\"white\",\"gridwidth\":2,\"linecolor\":\"white\",\"showbackground\":true,\"ticks\":\"\",\"zerolinecolor\":\"white\"},\"zaxis\":{\"backgroundcolor\":\"#E5ECF6\",\"gridcolor\":\"white\",\"gridwidth\":2,\"linecolor\":\"white\",\"showbackground\":true,\"ticks\":\"\",\"zerolinecolor\":\"white\"}},\"shapedefaults\":{\"line\":{\"color\":\"#2a3f5f\"}},\"ternary\":{\"aaxis\":{\"gridcolor\":\"white\",\"linecolor\":\"white\",\"ticks\":\"\"},\"baxis\":{\"gridcolor\":\"white\",\"linecolor\":\"white\",\"ticks\":\"\"},\"bgcolor\":\"#E5ECF6\",\"caxis\":{\"gridcolor\":\"white\",\"linecolor\":\"white\",\"ticks\":\"\"}},\"title\":{\"x\":0.05},\"xaxis\":{\"automargin\":true,\"gridcolor\":\"white\",\"linecolor\":\"white\",\"ticks\":\"\",\"title\":{\"standoff\":15},\"zerolinecolor\":\"white\",\"zerolinewidth\":2},\"yaxis\":{\"automargin\":true,\"gridcolor\":\"white\",\"linecolor\":\"white\",\"ticks\":\"\",\"title\":{\"standoff\":15},\"zerolinecolor\":\"white\",\"zerolinewidth\":2}}},\"title\":{\"text\":\"Exploring MaxHR column\"},\"width\":600,\"xaxis\":{\"anchor\":\"y\",\"domain\":[0.0,1.0],\"title\":{\"text\":\"MaxHR\"}},\"xaxis2\":{\"anchor\":\"y2\",\"domain\":[0.0,1.0],\"matches\":\"x\",\"showgrid\":true,\"showticklabels\":false},\"yaxis\":{\"anchor\":\"x\",\"domain\":[0.0,0.7326],\"title\":{\"text\":\"count\"}},\"yaxis2\":{\"anchor\":\"x2\",\"domain\":[0.7426,1.0],\"matches\":\"y2\",\"showgrid\":false,\"showline\":false,\"showticklabels\":false,\"ticks\":\"\"}},                        {\"responsive\": true}                    ).then(function(){\n                            \nvar gd = document.getElementById('4d0e91f2-1f4b-42d4-bdb7-bac51bd58a4f');\nvar x = new MutationObserver(function (mutations, observer) {{\n        var display = window.getComputedStyle(gd).display;\n        if (!display || display === 'none') {{\n            console.log([gd, 'removed!']);\n            Plotly.purge(gd);\n            observer.disconnect();\n        }}\n}});\n\n// Listen for the removal of the full notebook cells\nvar notebookContainer = gd.closest('#notebook-container');\nif (notebookContainer) {{\n    x.observe(notebookContainer, {childList: true});\n}}\n\n// Listen for the clearing of the current output cell\nvar outputEl = gd.closest('.output');\nif (outputEl) {{\n    x.observe(outputEl, {childList: true});\n}}\n\n                        })                };                            </script>        </div>\n</body>\n</html>"
     },
     "metadata": {},
     "output_type": "display_data"
    },
    {
     "data": {
      "text/html": "<html>\n<head><meta charset=\"utf-8\" /></head>\n<body>\n    <div>            <script src=\"https://cdnjs.cloudflare.com/ajax/libs/mathjax/2.7.5/MathJax.js?config=TeX-AMS-MML_SVG\"></script><script type=\"text/javascript\">if (window.MathJax) {MathJax.Hub.Config({SVG: {font: \"STIX-Web\"}});}</script>                <script type=\"text/javascript\">window.PlotlyConfig = {MathJaxConfig: 'local'};</script>\n        <script src=\"https://cdn.plot.ly/plotly-2.4.2.min.js\"></script>                <div id=\"05e2871b-d69f-402d-b98d-34873ddfec3e\" class=\"plotly-graph-div\" style=\"height:400px; width:600px;\"></div>            <script type=\"text/javascript\">                                    window.PLOTLYENV=window.PLOTLYENV || {};                                    if (document.getElementById(\"05e2871b-d69f-402d-b98d-34873ddfec3e\")) {                    Plotly.newPlot(                        \"05e2871b-d69f-402d-b98d-34873ddfec3e\",                        [{\"alignmentgroup\":\"True\",\"bingroup\":\"x\",\"hovertemplate\":\"HeartDisease=0<br>Oldpeak=%{x}<br>count=%{y}<extra></extra>\",\"legendgroup\":\"0\",\"marker\":{\"color\":\"#636efa\",\"line\":{\"color\":\"black\",\"width\":1},\"pattern\":{\"shape\":\"\"}},\"name\":\"0\",\"offsetgroup\":\"0\",\"orientation\":\"v\",\"showlegend\":true,\"type\":\"histogram\",\"x\":[0.0,0.0,0.0,0.0,0.0,0.0,0.0,0.0,0.0,0.0,1.5,0.0,0.0,1.0,0.0,0.0,0.0,3.0,0.0,0.0,0.0,0.0,0.0,0.0,0.0,0.0,1.0,0.0,0.0,0.0,1.0,0.0,0.0,1.0,0.0,0.0,1.5,0.0,1.0,0.0,0.0,0.0,0.0,0.0,0.0,0.0,0.0,0.0,0.0,0.0,0.0,0.0,0.0,0.0,0.0,2.0,0.5,0.0,0.0,0.0,0.0,0.0,0.0,0.0,0.0,0.0,0.0,0.0,0.0,0.0,0.0,1.0,0.0,0.0,0.0,0.0,0.0,0.0,0.0,0.0,0.0,2.0,0.0,1.5,0.0,1.0,0.0,2.0,0.0,0.0,0.0,0.0,0.0,0.0,0.0,0.0,0.0,0.0,0.0,1.0,0.0,0.0,0.0,0.0,0.0,0.0,0.0,0.0,0.0,0.0,0.0,0.0,0.0,0.0,1.0,0.0,0.0,1.0,0.0,0.0,0.0,0.0,0.0,0.0,1.0,0.0,1.0,0.0,0.0,0.0,0.0,0.0,0.0,0.0,0.0,1.0,0.0,0.0,0.0,0.0,0.0,0.0,0.0,0.0,0.0,0.0,0.0,0.0,0.0,0.0,0.0,0.0,1.0,0.0,0.0,2.0,0.0,1.0,0.0,0.0,0.0,0.5,0.0,0.0,1.0,0.0,0.0,2.0,0.0,0.0,0.0,0.0,0.0,0.8,0.0,0.0,2.0,0.0,0.0,0.0,0.0,0.0,2.0,0.0,0.0,1.0,0.0,0.2,0.7,1.0,2.0,-0.1,-1.1,1.6,0.0,0.0,1.3,-0.5,1.5,0.0,0.0,1.5,0.0,0.2,2.0,1.5,0.0,0.0,0.0,0.1,2.0,0.1,0.1,0.4,0.3,1.0,0.2,0.0,0.3,-0.1,3.0,0.5,0.0,0.1,0.3,0.0,0.0,0.2,0.2,0.0,0.3,2.0,0.2,0.1,2.0,1.5,0.3,1.0,0.2,0.0,0.2,1.0,0.0,1.0,0.2,0.3,1.6,0.2,0.2,0.4,0.5,0.0,0.0,0.0,1.6,1.8,1.4,0.2,1.2,0.1,0.0,0.2,0.0,0.6,0.0,2.3,0.0,0.0,0.0,0.0,0.4,0.0,0.0,0.0,0.8,0.0,0.6,0.0,0.0,0.2,0.0,0.9,2.3,0.0,0.3,0.6,0.0,1.1,0.3,3.0,0.0,0.0,0.8,2.0,1.5,0.8,0.0,4.2,0.0,0.0,0.4,0.2,1.1,0.6,0.0,1.2,0.0,0.0,0.0,0.0,0.0,2.6,0.8,0.5,0.0,0.1,0.8,0.0,1.6,1.4,0.0,0.7,0.0,0.0,1.4,0.0,0.0,1.6,0.0,2.0,0.5,0.0,0.0,1.9,0.0,0.0,0.0,0.0,1.2,0.2,0.1,1.5,0.0,0.0,0.8,0.6,0.0,1.9,0.1,1.2,1.2,0.0,0.0,1.4,1.0,1.6,1.8,1.0,1.2,0.0,0.6,3.5,2.4,0.2,0.0,1.4,0.0,0.0,0.4,0.0,1.6,1.4,0.0,1.0,0.0,0.0,1.8,0.0,0.0,0.2,0.0,0.4,1.5,0.8,0.0,0.6,1.6,0.4,1.0,1.5,0.0,0.6,0.5,0.0,1.3,0.4,0.0,0.0,0.6,0.0,0.0,0.6,0.0,0.0,0.4,0.0,0.0,1.2,0.0,0.0],\"xaxis\":\"x\",\"yaxis\":\"y\"},{\"alignmentgroup\":\"True\",\"hovertemplate\":\"HeartDisease=0<br>Oldpeak=%{x}<extra></extra>\",\"legendgroup\":\"0\",\"marker\":{\"color\":\"#636efa\",\"line\":{\"color\":\"black\",\"width\":1}},\"name\":\"0\",\"notched\":true,\"offsetgroup\":\"0\",\"showlegend\":false,\"type\":\"box\",\"x\":[0.0,0.0,0.0,0.0,0.0,0.0,0.0,0.0,0.0,0.0,1.5,0.0,0.0,1.0,0.0,0.0,0.0,3.0,0.0,0.0,0.0,0.0,0.0,0.0,0.0,0.0,1.0,0.0,0.0,0.0,1.0,0.0,0.0,1.0,0.0,0.0,1.5,0.0,1.0,0.0,0.0,0.0,0.0,0.0,0.0,0.0,0.0,0.0,0.0,0.0,0.0,0.0,0.0,0.0,0.0,2.0,0.5,0.0,0.0,0.0,0.0,0.0,0.0,0.0,0.0,0.0,0.0,0.0,0.0,0.0,0.0,1.0,0.0,0.0,0.0,0.0,0.0,0.0,0.0,0.0,0.0,2.0,0.0,1.5,0.0,1.0,0.0,2.0,0.0,0.0,0.0,0.0,0.0,0.0,0.0,0.0,0.0,0.0,0.0,1.0,0.0,0.0,0.0,0.0,0.0,0.0,0.0,0.0,0.0,0.0,0.0,0.0,0.0,0.0,1.0,0.0,0.0,1.0,0.0,0.0,0.0,0.0,0.0,0.0,1.0,0.0,1.0,0.0,0.0,0.0,0.0,0.0,0.0,0.0,0.0,1.0,0.0,0.0,0.0,0.0,0.0,0.0,0.0,0.0,0.0,0.0,0.0,0.0,0.0,0.0,0.0,0.0,1.0,0.0,0.0,2.0,0.0,1.0,0.0,0.0,0.0,0.5,0.0,0.0,1.0,0.0,0.0,2.0,0.0,0.0,0.0,0.0,0.0,0.8,0.0,0.0,2.0,0.0,0.0,0.0,0.0,0.0,2.0,0.0,0.0,1.0,0.0,0.2,0.7,1.0,2.0,-0.1,-1.1,1.6,0.0,0.0,1.3,-0.5,1.5,0.0,0.0,1.5,0.0,0.2,2.0,1.5,0.0,0.0,0.0,0.1,2.0,0.1,0.1,0.4,0.3,1.0,0.2,0.0,0.3,-0.1,3.0,0.5,0.0,0.1,0.3,0.0,0.0,0.2,0.2,0.0,0.3,2.0,0.2,0.1,2.0,1.5,0.3,1.0,0.2,0.0,0.2,1.0,0.0,1.0,0.2,0.3,1.6,0.2,0.2,0.4,0.5,0.0,0.0,0.0,1.6,1.8,1.4,0.2,1.2,0.1,0.0,0.2,0.0,0.6,0.0,2.3,0.0,0.0,0.0,0.0,0.4,0.0,0.0,0.0,0.8,0.0,0.6,0.0,0.0,0.2,0.0,0.9,2.3,0.0,0.3,0.6,0.0,1.1,0.3,3.0,0.0,0.0,0.8,2.0,1.5,0.8,0.0,4.2,0.0,0.0,0.4,0.2,1.1,0.6,0.0,1.2,0.0,0.0,0.0,0.0,0.0,2.6,0.8,0.5,0.0,0.1,0.8,0.0,1.6,1.4,0.0,0.7,0.0,0.0,1.4,0.0,0.0,1.6,0.0,2.0,0.5,0.0,0.0,1.9,0.0,0.0,0.0,0.0,1.2,0.2,0.1,1.5,0.0,0.0,0.8,0.6,0.0,1.9,0.1,1.2,1.2,0.0,0.0,1.4,1.0,1.6,1.8,1.0,1.2,0.0,0.6,3.5,2.4,0.2,0.0,1.4,0.0,0.0,0.4,0.0,1.6,1.4,0.0,1.0,0.0,0.0,1.8,0.0,0.0,0.2,0.0,0.4,1.5,0.8,0.0,0.6,1.6,0.4,1.0,1.5,0.0,0.6,0.5,0.0,1.3,0.4,0.0,0.0,0.6,0.0,0.0,0.6,0.0,0.0,0.4,0.0,0.0,1.2,0.0,0.0],\"xaxis\":\"x2\",\"yaxis\":\"y2\"},{\"alignmentgroup\":\"True\",\"bingroup\":\"x\",\"hovertemplate\":\"HeartDisease=1<br>Oldpeak=%{x}<br>count=%{y}<extra></extra>\",\"legendgroup\":\"1\",\"marker\":{\"color\":\"#EF553B\",\"line\":{\"color\":\"black\",\"width\":1},\"pattern\":{\"shape\":\"\"}},\"name\":\"1\",\"offsetgroup\":\"1\",\"orientation\":\"v\",\"showlegend\":true,\"type\":\"histogram\",\"x\":[1.0,1.5,1.5,2.0,1.0,0.0,1.0,3.0,3.0,0.0,2.0,2.0,1.5,0.0,1.0,0.0,2.0,2.0,1.5,0.0,1.0,1.0,4.0,1.0,0.0,1.5,0.0,0.0,0.0,1.0,1.0,2.0,0.0,1.5,2.0,1.0,2.0,1.0,0.0,3.0,1.0,0.0,1.5,0.0,0.0,1.0,0.0,2.0,1.5,0.0,0.0,2.0,2.5,2.5,3.0,1.0,1.0,3.0,1.0,2.0,0.0,0.0,2.0,5.0,2.0,2.0,1.5,2.0,2.0,0.0,1.0,1.5,0.0,0.0,0.0,0.0,0.0,1.5,0.0,0.0,1.0,0.0,2.5,3.0,0.0,2.0,3.0,2.0,2.0,1.0,1.5,2.0,1.0,1.0,0.0,2.0,2.0,0.0,0.0,1.0,1.0,1.0,3.0,2.0,1.5,2.0,0.0,0.7,1.5,0.7,1.4,0.0,2.1,0.4,1.5,1.7,2.2,1.5,0.1,0.5,0.7,0.1,1.6,0.2,1.3,0.3,1.8,2.5,1.8,2.6,-0.9,2.8,2.5,-2.6,-1.5,0.9,0.8,1.1,2.4,-1.0,0.0,-0.7,-0.8,3.7,2.0,1.1,1.5,1.3,1.4,0.0,0.0,0.0,0.0,0.0,1.6,1.0,0.0,0.5,-1.0,1.0,0.3,0.0,1.5,0.0,0.0,0.0,0.0,0.0,0.0,0.0,1.0,2.0,0.0,2.0,2.0,0.5,2.0,0.0,1.0,0.0,0.0,1.0,1.2,2.0,0.0,0.5,0.5,2.0,0.0,0.0,0.0,0.0,1.0,0.0,1.0,0.0,0.0,0.0,0.7,2.0,0.0,0.0,0.0,1.0,0.0,0.0,0.0,0.7,2.0,0.0,1.2,0.0,-0.5,0.0,0.0,2.0,1.5,1.0,-2.0,3.0,0.0,3.0,1.5,2.5,0.0,2.0,0.5,1.0,0.5,1.0,1.0,2.5,2.0,1.0,2.0,0.0,3.0,1.0,1.2,0.5,1.5,1.6,1.4,2.0,1.0,1.5,2.0,1.0,1.5,1.2,0.0,0.0,1.5,1.9,0.0,1.3,2.0,2.5,1.6,0.0,3.0,1.5,1.7,0.0,2.0,2.0,2.5,2.0,2.5,2.5,1.5,1.1,1.2,2.0,3.0,1.0,0.0,3.0,1.7,2.5,1.0,3.0,0.0,1.0,4.0,2.0,2.0,3.0,1.2,3.0,1.5,0.0,2.0,1.3,0.5,0.0,1.5,1.0,1.0,4.0,1.0,1.0,1.7,1.5,1.4,1.1,1.8,0.0,2.0,2.5,1.0,1.2,4.0,2.0,1.2,3.5,1.5,3.0,0.0,1.5,1.5,2.0,1.8,1.8,0.0,1.8,1.4,4.0,1.1,2.0,1.7,0.0,1.5,2.5,2.0,1.5,0.5,1.5,1.5,1.2,3.0,1.9,3.0,1.8,1.0,1.5,0.0,1.5,0.8,2.0,2.0,0.0,2.0,0.0,1.0,0.5,0.0,1.7,1.5,1.3,0.0,1.5,3.0,1.5,0.0,0.0,0.0,0.0,0.0,2.4,0.3,0.6,1.2,1.2,4.0,2.6,1.8,3.1,2.6,2.5,0.4,3.4,0.9,0.0,1.9,0.0,0.0,2.2,0.8,0.0,0.0,1.0,1.8,3.6,0.0,1.4,1.2,0.6,0.0,0.0,3.6,0.0,2.0,1.6,0.8,2.6,0.0,2.2,0.0,1.0,1.0,0.1,1.0,1.0,1.4,0.5,2.6,0.0,3.4,0.0,0.8,4.0,1.6,2.0,3.2,1.2,1.8,1.4,1.8,0.1,2.2,1.2,2.0,0.6,0.0,2.0,0.0,2.0,3.2,5.6,1.0,3.8,1.4,3.0,1.4,2.0,0.9,1.9,4.2,3.6,0.2,1.9,0.0,2.1,2.9,2.6,0.0,0.0,0.0,2.8,1.6,0.8,1.8,0.2,2.2,2.8,2.8,1.8,1.2,3.0,1.0,1.2,0.0,6.2,2.5,1.6,3.6,1.4,0.6,3.0,2.8,1.4,0.0,1.2,0.0,2.4,1.8,1.0,1.5,0.1,1.0,0.8,0.0,3.0,2.0,0.0,4.4,2.8,0.8,2.8,4.0,0.0,1.0,0.2,1.2,3.4,1.2,0.0],\"xaxis\":\"x\",\"yaxis\":\"y\"},{\"alignmentgroup\":\"True\",\"hovertemplate\":\"HeartDisease=1<br>Oldpeak=%{x}<extra></extra>\",\"legendgroup\":\"1\",\"marker\":{\"color\":\"#EF553B\",\"line\":{\"color\":\"black\",\"width\":1}},\"name\":\"1\",\"notched\":true,\"offsetgroup\":\"1\",\"showlegend\":false,\"type\":\"box\",\"x\":[1.0,1.5,1.5,2.0,1.0,0.0,1.0,3.0,3.0,0.0,2.0,2.0,1.5,0.0,1.0,0.0,2.0,2.0,1.5,0.0,1.0,1.0,4.0,1.0,0.0,1.5,0.0,0.0,0.0,1.0,1.0,2.0,0.0,1.5,2.0,1.0,2.0,1.0,0.0,3.0,1.0,0.0,1.5,0.0,0.0,1.0,0.0,2.0,1.5,0.0,0.0,2.0,2.5,2.5,3.0,1.0,1.0,3.0,1.0,2.0,0.0,0.0,2.0,5.0,2.0,2.0,1.5,2.0,2.0,0.0,1.0,1.5,0.0,0.0,0.0,0.0,0.0,1.5,0.0,0.0,1.0,0.0,2.5,3.0,0.0,2.0,3.0,2.0,2.0,1.0,1.5,2.0,1.0,1.0,0.0,2.0,2.0,0.0,0.0,1.0,1.0,1.0,3.0,2.0,1.5,2.0,0.0,0.7,1.5,0.7,1.4,0.0,2.1,0.4,1.5,1.7,2.2,1.5,0.1,0.5,0.7,0.1,1.6,0.2,1.3,0.3,1.8,2.5,1.8,2.6,-0.9,2.8,2.5,-2.6,-1.5,0.9,0.8,1.1,2.4,-1.0,0.0,-0.7,-0.8,3.7,2.0,1.1,1.5,1.3,1.4,0.0,0.0,0.0,0.0,0.0,1.6,1.0,0.0,0.5,-1.0,1.0,0.3,0.0,1.5,0.0,0.0,0.0,0.0,0.0,0.0,0.0,1.0,2.0,0.0,2.0,2.0,0.5,2.0,0.0,1.0,0.0,0.0,1.0,1.2,2.0,0.0,0.5,0.5,2.0,0.0,0.0,0.0,0.0,1.0,0.0,1.0,0.0,0.0,0.0,0.7,2.0,0.0,0.0,0.0,1.0,0.0,0.0,0.0,0.7,2.0,0.0,1.2,0.0,-0.5,0.0,0.0,2.0,1.5,1.0,-2.0,3.0,0.0,3.0,1.5,2.5,0.0,2.0,0.5,1.0,0.5,1.0,1.0,2.5,2.0,1.0,2.0,0.0,3.0,1.0,1.2,0.5,1.5,1.6,1.4,2.0,1.0,1.5,2.0,1.0,1.5,1.2,0.0,0.0,1.5,1.9,0.0,1.3,2.0,2.5,1.6,0.0,3.0,1.5,1.7,0.0,2.0,2.0,2.5,2.0,2.5,2.5,1.5,1.1,1.2,2.0,3.0,1.0,0.0,3.0,1.7,2.5,1.0,3.0,0.0,1.0,4.0,2.0,2.0,3.0,1.2,3.0,1.5,0.0,2.0,1.3,0.5,0.0,1.5,1.0,1.0,4.0,1.0,1.0,1.7,1.5,1.4,1.1,1.8,0.0,2.0,2.5,1.0,1.2,4.0,2.0,1.2,3.5,1.5,3.0,0.0,1.5,1.5,2.0,1.8,1.8,0.0,1.8,1.4,4.0,1.1,2.0,1.7,0.0,1.5,2.5,2.0,1.5,0.5,1.5,1.5,1.2,3.0,1.9,3.0,1.8,1.0,1.5,0.0,1.5,0.8,2.0,2.0,0.0,2.0,0.0,1.0,0.5,0.0,1.7,1.5,1.3,0.0,1.5,3.0,1.5,0.0,0.0,0.0,0.0,0.0,2.4,0.3,0.6,1.2,1.2,4.0,2.6,1.8,3.1,2.6,2.5,0.4,3.4,0.9,0.0,1.9,0.0,0.0,2.2,0.8,0.0,0.0,1.0,1.8,3.6,0.0,1.4,1.2,0.6,0.0,0.0,3.6,0.0,2.0,1.6,0.8,2.6,0.0,2.2,0.0,1.0,1.0,0.1,1.0,1.0,1.4,0.5,2.6,0.0,3.4,0.0,0.8,4.0,1.6,2.0,3.2,1.2,1.8,1.4,1.8,0.1,2.2,1.2,2.0,0.6,0.0,2.0,0.0,2.0,3.2,5.6,1.0,3.8,1.4,3.0,1.4,2.0,0.9,1.9,4.2,3.6,0.2,1.9,0.0,2.1,2.9,2.6,0.0,0.0,0.0,2.8,1.6,0.8,1.8,0.2,2.2,2.8,2.8,1.8,1.2,3.0,1.0,1.2,0.0,6.2,2.5,1.6,3.6,1.4,0.6,3.0,2.8,1.4,0.0,1.2,0.0,2.4,1.8,1.0,1.5,0.1,1.0,0.8,0.0,3.0,2.0,0.0,4.4,2.8,0.8,2.8,4.0,0.0,1.0,0.2,1.2,3.4,1.2,0.0],\"xaxis\":\"x2\",\"yaxis\":\"y2\"}],                        {\"barmode\":\"relative\",\"height\":400,\"legend\":{\"title\":{\"text\":\"HeartDisease\"},\"tracegroupgap\":0},\"template\":{\"data\":{\"bar\":[{\"error_x\":{\"color\":\"#2a3f5f\"},\"error_y\":{\"color\":\"#2a3f5f\"},\"marker\":{\"line\":{\"color\":\"#E5ECF6\",\"width\":0.5},\"pattern\":{\"fillmode\":\"overlay\",\"size\":10,\"solidity\":0.2}},\"type\":\"bar\"}],\"barpolar\":[{\"marker\":{\"line\":{\"color\":\"#E5ECF6\",\"width\":0.5},\"pattern\":{\"fillmode\":\"overlay\",\"size\":10,\"solidity\":0.2}},\"type\":\"barpolar\"}],\"carpet\":[{\"aaxis\":{\"endlinecolor\":\"#2a3f5f\",\"gridcolor\":\"white\",\"linecolor\":\"white\",\"minorgridcolor\":\"white\",\"startlinecolor\":\"#2a3f5f\"},\"baxis\":{\"endlinecolor\":\"#2a3f5f\",\"gridcolor\":\"white\",\"linecolor\":\"white\",\"minorgridcolor\":\"white\",\"startlinecolor\":\"#2a3f5f\"},\"type\":\"carpet\"}],\"choropleth\":[{\"colorbar\":{\"outlinewidth\":0,\"ticks\":\"\"},\"type\":\"choropleth\"}],\"contour\":[{\"colorbar\":{\"outlinewidth\":0,\"ticks\":\"\"},\"colorscale\":[[0.0,\"#0d0887\"],[0.1111111111111111,\"#46039f\"],[0.2222222222222222,\"#7201a8\"],[0.3333333333333333,\"#9c179e\"],[0.4444444444444444,\"#bd3786\"],[0.5555555555555556,\"#d8576b\"],[0.6666666666666666,\"#ed7953\"],[0.7777777777777778,\"#fb9f3a\"],[0.8888888888888888,\"#fdca26\"],[1.0,\"#f0f921\"]],\"type\":\"contour\"}],\"contourcarpet\":[{\"colorbar\":{\"outlinewidth\":0,\"ticks\":\"\"},\"type\":\"contourcarpet\"}],\"heatmap\":[{\"colorbar\":{\"outlinewidth\":0,\"ticks\":\"\"},\"colorscale\":[[0.0,\"#0d0887\"],[0.1111111111111111,\"#46039f\"],[0.2222222222222222,\"#7201a8\"],[0.3333333333333333,\"#9c179e\"],[0.4444444444444444,\"#bd3786\"],[0.5555555555555556,\"#d8576b\"],[0.6666666666666666,\"#ed7953\"],[0.7777777777777778,\"#fb9f3a\"],[0.8888888888888888,\"#fdca26\"],[1.0,\"#f0f921\"]],\"type\":\"heatmap\"}],\"heatmapgl\":[{\"colorbar\":{\"outlinewidth\":0,\"ticks\":\"\"},\"colorscale\":[[0.0,\"#0d0887\"],[0.1111111111111111,\"#46039f\"],[0.2222222222222222,\"#7201a8\"],[0.3333333333333333,\"#9c179e\"],[0.4444444444444444,\"#bd3786\"],[0.5555555555555556,\"#d8576b\"],[0.6666666666666666,\"#ed7953\"],[0.7777777777777778,\"#fb9f3a\"],[0.8888888888888888,\"#fdca26\"],[1.0,\"#f0f921\"]],\"type\":\"heatmapgl\"}],\"histogram\":[{\"marker\":{\"pattern\":{\"fillmode\":\"overlay\",\"size\":10,\"solidity\":0.2}},\"type\":\"histogram\"}],\"histogram2d\":[{\"colorbar\":{\"outlinewidth\":0,\"ticks\":\"\"},\"colorscale\":[[0.0,\"#0d0887\"],[0.1111111111111111,\"#46039f\"],[0.2222222222222222,\"#7201a8\"],[0.3333333333333333,\"#9c179e\"],[0.4444444444444444,\"#bd3786\"],[0.5555555555555556,\"#d8576b\"],[0.6666666666666666,\"#ed7953\"],[0.7777777777777778,\"#fb9f3a\"],[0.8888888888888888,\"#fdca26\"],[1.0,\"#f0f921\"]],\"type\":\"histogram2d\"}],\"histogram2dcontour\":[{\"colorbar\":{\"outlinewidth\":0,\"ticks\":\"\"},\"colorscale\":[[0.0,\"#0d0887\"],[0.1111111111111111,\"#46039f\"],[0.2222222222222222,\"#7201a8\"],[0.3333333333333333,\"#9c179e\"],[0.4444444444444444,\"#bd3786\"],[0.5555555555555556,\"#d8576b\"],[0.6666666666666666,\"#ed7953\"],[0.7777777777777778,\"#fb9f3a\"],[0.8888888888888888,\"#fdca26\"],[1.0,\"#f0f921\"]],\"type\":\"histogram2dcontour\"}],\"mesh3d\":[{\"colorbar\":{\"outlinewidth\":0,\"ticks\":\"\"},\"type\":\"mesh3d\"}],\"parcoords\":[{\"line\":{\"colorbar\":{\"outlinewidth\":0,\"ticks\":\"\"}},\"type\":\"parcoords\"}],\"pie\":[{\"automargin\":true,\"type\":\"pie\"}],\"scatter\":[{\"marker\":{\"colorbar\":{\"outlinewidth\":0,\"ticks\":\"\"}},\"type\":\"scatter\"}],\"scatter3d\":[{\"line\":{\"colorbar\":{\"outlinewidth\":0,\"ticks\":\"\"}},\"marker\":{\"colorbar\":{\"outlinewidth\":0,\"ticks\":\"\"}},\"type\":\"scatter3d\"}],\"scattercarpet\":[{\"marker\":{\"colorbar\":{\"outlinewidth\":0,\"ticks\":\"\"}},\"type\":\"scattercarpet\"}],\"scattergeo\":[{\"marker\":{\"colorbar\":{\"outlinewidth\":0,\"ticks\":\"\"}},\"type\":\"scattergeo\"}],\"scattergl\":[{\"marker\":{\"colorbar\":{\"outlinewidth\":0,\"ticks\":\"\"}},\"type\":\"scattergl\"}],\"scattermapbox\":[{\"marker\":{\"colorbar\":{\"outlinewidth\":0,\"ticks\":\"\"}},\"type\":\"scattermapbox\"}],\"scatterpolar\":[{\"marker\":{\"colorbar\":{\"outlinewidth\":0,\"ticks\":\"\"}},\"type\":\"scatterpolar\"}],\"scatterpolargl\":[{\"marker\":{\"colorbar\":{\"outlinewidth\":0,\"ticks\":\"\"}},\"type\":\"scatterpolargl\"}],\"scatterternary\":[{\"marker\":{\"colorbar\":{\"outlinewidth\":0,\"ticks\":\"\"}},\"type\":\"scatterternary\"}],\"surface\":[{\"colorbar\":{\"outlinewidth\":0,\"ticks\":\"\"},\"colorscale\":[[0.0,\"#0d0887\"],[0.1111111111111111,\"#46039f\"],[0.2222222222222222,\"#7201a8\"],[0.3333333333333333,\"#9c179e\"],[0.4444444444444444,\"#bd3786\"],[0.5555555555555556,\"#d8576b\"],[0.6666666666666666,\"#ed7953\"],[0.7777777777777778,\"#fb9f3a\"],[0.8888888888888888,\"#fdca26\"],[1.0,\"#f0f921\"]],\"type\":\"surface\"}],\"table\":[{\"cells\":{\"fill\":{\"color\":\"#EBF0F8\"},\"line\":{\"color\":\"white\"}},\"header\":{\"fill\":{\"color\":\"#C8D4E3\"},\"line\":{\"color\":\"white\"}},\"type\":\"table\"}]},\"layout\":{\"annotationdefaults\":{\"arrowcolor\":\"#2a3f5f\",\"arrowhead\":0,\"arrowwidth\":1},\"autotypenumbers\":\"strict\",\"coloraxis\":{\"colorbar\":{\"outlinewidth\":0,\"ticks\":\"\"}},\"colorscale\":{\"diverging\":[[0,\"#8e0152\"],[0.1,\"#c51b7d\"],[0.2,\"#de77ae\"],[0.3,\"#f1b6da\"],[0.4,\"#fde0ef\"],[0.5,\"#f7f7f7\"],[0.6,\"#e6f5d0\"],[0.7,\"#b8e186\"],[0.8,\"#7fbc41\"],[0.9,\"#4d9221\"],[1,\"#276419\"]],\"sequential\":[[0.0,\"#0d0887\"],[0.1111111111111111,\"#46039f\"],[0.2222222222222222,\"#7201a8\"],[0.3333333333333333,\"#9c179e\"],[0.4444444444444444,\"#bd3786\"],[0.5555555555555556,\"#d8576b\"],[0.6666666666666666,\"#ed7953\"],[0.7777777777777778,\"#fb9f3a\"],[0.8888888888888888,\"#fdca26\"],[1.0,\"#f0f921\"]],\"sequentialminus\":[[0.0,\"#0d0887\"],[0.1111111111111111,\"#46039f\"],[0.2222222222222222,\"#7201a8\"],[0.3333333333333333,\"#9c179e\"],[0.4444444444444444,\"#bd3786\"],[0.5555555555555556,\"#d8576b\"],[0.6666666666666666,\"#ed7953\"],[0.7777777777777778,\"#fb9f3a\"],[0.8888888888888888,\"#fdca26\"],[1.0,\"#f0f921\"]]},\"colorway\":[\"#636efa\",\"#EF553B\",\"#00cc96\",\"#ab63fa\",\"#FFA15A\",\"#19d3f3\",\"#FF6692\",\"#B6E880\",\"#FF97FF\",\"#FECB52\"],\"font\":{\"color\":\"#2a3f5f\"},\"geo\":{\"bgcolor\":\"white\",\"lakecolor\":\"white\",\"landcolor\":\"#E5ECF6\",\"showlakes\":true,\"showland\":true,\"subunitcolor\":\"white\"},\"hoverlabel\":{\"align\":\"left\"},\"hovermode\":\"closest\",\"mapbox\":{\"style\":\"light\"},\"paper_bgcolor\":\"white\",\"plot_bgcolor\":\"#E5ECF6\",\"polar\":{\"angularaxis\":{\"gridcolor\":\"white\",\"linecolor\":\"white\",\"ticks\":\"\"},\"bgcolor\":\"#E5ECF6\",\"radialaxis\":{\"gridcolor\":\"white\",\"linecolor\":\"white\",\"ticks\":\"\"}},\"scene\":{\"xaxis\":{\"backgroundcolor\":\"#E5ECF6\",\"gridcolor\":\"white\",\"gridwidth\":2,\"linecolor\":\"white\",\"showbackground\":true,\"ticks\":\"\",\"zerolinecolor\":\"white\"},\"yaxis\":{\"backgroundcolor\":\"#E5ECF6\",\"gridcolor\":\"white\",\"gridwidth\":2,\"linecolor\":\"white\",\"showbackground\":true,\"ticks\":\"\",\"zerolinecolor\":\"white\"},\"zaxis\":{\"backgroundcolor\":\"#E5ECF6\",\"gridcolor\":\"white\",\"gridwidth\":2,\"linecolor\":\"white\",\"showbackground\":true,\"ticks\":\"\",\"zerolinecolor\":\"white\"}},\"shapedefaults\":{\"line\":{\"color\":\"#2a3f5f\"}},\"ternary\":{\"aaxis\":{\"gridcolor\":\"white\",\"linecolor\":\"white\",\"ticks\":\"\"},\"baxis\":{\"gridcolor\":\"white\",\"linecolor\":\"white\",\"ticks\":\"\"},\"bgcolor\":\"#E5ECF6\",\"caxis\":{\"gridcolor\":\"white\",\"linecolor\":\"white\",\"ticks\":\"\"}},\"title\":{\"x\":0.05},\"xaxis\":{\"automargin\":true,\"gridcolor\":\"white\",\"linecolor\":\"white\",\"ticks\":\"\",\"title\":{\"standoff\":15},\"zerolinecolor\":\"white\",\"zerolinewidth\":2},\"yaxis\":{\"automargin\":true,\"gridcolor\":\"white\",\"linecolor\":\"white\",\"ticks\":\"\",\"title\":{\"standoff\":15},\"zerolinecolor\":\"white\",\"zerolinewidth\":2}}},\"title\":{\"text\":\"Exploring Oldpeak column\"},\"width\":600,\"xaxis\":{\"anchor\":\"y\",\"domain\":[0.0,1.0],\"title\":{\"text\":\"Oldpeak\"}},\"xaxis2\":{\"anchor\":\"y2\",\"domain\":[0.0,1.0],\"matches\":\"x\",\"showgrid\":true,\"showticklabels\":false},\"yaxis\":{\"anchor\":\"x\",\"domain\":[0.0,0.7326],\"title\":{\"text\":\"count\"}},\"yaxis2\":{\"anchor\":\"x2\",\"domain\":[0.7426,1.0],\"matches\":\"y2\",\"showgrid\":false,\"showline\":false,\"showticklabels\":false,\"ticks\":\"\"}},                        {\"responsive\": true}                    ).then(function(){\n                            \nvar gd = document.getElementById('05e2871b-d69f-402d-b98d-34873ddfec3e');\nvar x = new MutationObserver(function (mutations, observer) {{\n        var display = window.getComputedStyle(gd).display;\n        if (!display || display === 'none') {{\n            console.log([gd, 'removed!']);\n            Plotly.purge(gd);\n            observer.disconnect();\n        }}\n}});\n\n// Listen for the removal of the full notebook cells\nvar notebookContainer = gd.closest('#notebook-container');\nif (notebookContainer) {{\n    x.observe(notebookContainer, {childList: true});\n}}\n\n// Listen for the clearing of the current output cell\nvar outputEl = gd.closest('.output');\nif (outputEl) {{\n    x.observe(outputEl, {childList: true});\n}}\n\n                        })                };                            </script>        </div>\n</body>\n</html>"
     },
     "metadata": {},
     "output_type": "display_data"
    }
   ],
   "execution_count": null
  },
  {
   "cell_type": "markdown",
   "source": "*What do we notice from the charts above?*\n\n1.&nbsp;First, there is a suspicious number of records where `Cholesterol = 0`, which is [not biologically possible](https://www.webmd.com/cholesterol-management/cholesterol-too-low) (note that the higher values of `Cholesterol` such as `564` and `603` are in fact possible)  \n2. There is also a datapoint where `RestingBP = 0` - that seems odd.\n\nThese two observations look like **outliers**. Let us explore them further in the **pre-processing** step.",
   "metadata": {
    "tags": [],
    "cell_id": "00020-e33a1f48-becf-4b35-9a1f-740f6587156c",
    "deepnote_app_coordinates": {
     "x": 0,
     "y": 120,
     "w": 12,
     "h": 5
    },
    "deepnote_cell_type": "markdown"
   }
  },
  {
   "cell_type": "markdown",
   "source": "### Pre-processing \n\n#### Pre-processing Numerical Data",
   "metadata": {
    "tags": [],
    "cell_id": "00021-36eef805-9b14-4298-bda4-c62d068ac284",
    "deepnote_app_coordinates": {
     "x": 0,
     "y": 126,
     "w": 12,
     "h": 5
    },
    "deepnote_cell_type": "markdown"
   }
  },
  {
   "cell_type": "markdown",
   "source": "##### RestingBP Outliers\nWithin our team, we first discussed possible reasons why this `RestingBP` data is `0`, concluding that is is most likely a missing data point. ",
   "metadata": {
    "tags": [],
    "cell_id": "00021-3bbc8da1-b49d-40ab-a404-8e19e3006a70",
    "deepnote_app_coordinates": {
     "x": 0,
     "y": 132,
     "w": 12,
     "h": 5
    },
    "deepnote_cell_type": "markdown"
   }
  },
  {
   "cell_type": "code",
   "metadata": {
    "tags": [],
    "cell_id": "00022-d95f14c7-cc9a-4bf9-b41f-0036144bcbbf",
    "deepnote_to_be_reexecuted": false,
    "source_hash": "1f7194f4",
    "execution_start": 1638836514152,
    "execution_millis": 54,
    "deepnote_output_heights": [
     null,
     61
    ],
    "deepnote_app_coordinates": {
     "x": 0,
     "y": 138,
     "w": 12,
     "h": 5
    },
    "deepnote_cell_type": "code"
   },
   "source": "# confirm how many datapoints have a RestingBP = 0\nprint((df[\"RestingBP\"] == 0).sum(), \">> row with RestingBP = 0\")\n\n# show this row\ndf[df[\"RestingBP\"] == 0]",
   "outputs": [
    {
     "name": "stdout",
     "text": "1 >> row with RestingBP = 0\n",
     "output_type": "stream"
    },
    {
     "output_type": "execute_result",
     "execution_count": 9,
     "data": {
      "application/vnd.deepnote.dataframe.v2+json": {
       "row_count": 1,
       "column_count": 12,
       "columns": [
        {
         "name": "Age",
         "dtype": "int64",
         "stats": {
          "unique_count": 1,
          "nan_count": 0,
          "min": "55",
          "max": "55",
          "histogram": [
           {
            "bin_start": 54.5,
            "bin_end": 54.6,
            "count": 0
           },
           {
            "bin_start": 54.6,
            "bin_end": 54.7,
            "count": 0
           },
           {
            "bin_start": 54.7,
            "bin_end": 54.8,
            "count": 0
           },
           {
            "bin_start": 54.8,
            "bin_end": 54.9,
            "count": 0
           },
           {
            "bin_start": 54.9,
            "bin_end": 55,
            "count": 0
           },
           {
            "bin_start": 55,
            "bin_end": 55.1,
            "count": 1
           },
           {
            "bin_start": 55.1,
            "bin_end": 55.2,
            "count": 0
           },
           {
            "bin_start": 55.2,
            "bin_end": 55.3,
            "count": 0
           },
           {
            "bin_start": 55.3,
            "bin_end": 55.4,
            "count": 0
           },
           {
            "bin_start": 55.4,
            "bin_end": 55.5,
            "count": 0
           }
          ]
         }
        },
        {
         "name": "Sex",
         "dtype": "object",
         "stats": {
          "unique_count": 1,
          "nan_count": 0,
          "categories": [
           {
            "name": "M",
            "count": 1
           }
          ]
         }
        },
        {
         "name": "ChestPainType",
         "dtype": "object",
         "stats": {
          "unique_count": 1,
          "nan_count": 0,
          "categories": [
           {
            "name": "NAP",
            "count": 1
           }
          ]
         }
        },
        {
         "name": "RestingBP",
         "dtype": "int64",
         "stats": {
          "unique_count": 1,
          "nan_count": 0,
          "min": "0",
          "max": "0",
          "histogram": [
           {
            "bin_start": -0.5,
            "bin_end": -0.4,
            "count": 0
           },
           {
            "bin_start": -0.4,
            "bin_end": -0.3,
            "count": 0
           },
           {
            "bin_start": -0.3,
            "bin_end": -0.19999999999999996,
            "count": 0
           },
           {
            "bin_start": -0.19999999999999996,
            "bin_end": -0.09999999999999998,
            "count": 0
           },
           {
            "bin_start": -0.09999999999999998,
            "bin_end": 0,
            "count": 0
           },
           {
            "bin_start": 0,
            "bin_end": 0.10000000000000009,
            "count": 1
           },
           {
            "bin_start": 0.10000000000000009,
            "bin_end": 0.20000000000000007,
            "count": 0
           },
           {
            "bin_start": 0.20000000000000007,
            "bin_end": 0.30000000000000004,
            "count": 0
           },
           {
            "bin_start": 0.30000000000000004,
            "bin_end": 0.4,
            "count": 0
           },
           {
            "bin_start": 0.4,
            "bin_end": 0.5,
            "count": 0
           }
          ]
         }
        },
        {
         "name": "Cholesterol",
         "dtype": "int64",
         "stats": {
          "unique_count": 1,
          "nan_count": 0,
          "min": "0",
          "max": "0",
          "histogram": [
           {
            "bin_start": -0.5,
            "bin_end": -0.4,
            "count": 0
           },
           {
            "bin_start": -0.4,
            "bin_end": -0.3,
            "count": 0
           },
           {
            "bin_start": -0.3,
            "bin_end": -0.19999999999999996,
            "count": 0
           },
           {
            "bin_start": -0.19999999999999996,
            "bin_end": -0.09999999999999998,
            "count": 0
           },
           {
            "bin_start": -0.09999999999999998,
            "bin_end": 0,
            "count": 0
           },
           {
            "bin_start": 0,
            "bin_end": 0.10000000000000009,
            "count": 1
           },
           {
            "bin_start": 0.10000000000000009,
            "bin_end": 0.20000000000000007,
            "count": 0
           },
           {
            "bin_start": 0.20000000000000007,
            "bin_end": 0.30000000000000004,
            "count": 0
           },
           {
            "bin_start": 0.30000000000000004,
            "bin_end": 0.4,
            "count": 0
           },
           {
            "bin_start": 0.4,
            "bin_end": 0.5,
            "count": 0
           }
          ]
         }
        },
        {
         "name": "FastingBS",
         "dtype": "int64",
         "stats": {
          "unique_count": 1,
          "nan_count": 0,
          "min": "0",
          "max": "0",
          "histogram": [
           {
            "bin_start": -0.5,
            "bin_end": -0.4,
            "count": 0
           },
           {
            "bin_start": -0.4,
            "bin_end": -0.3,
            "count": 0
           },
           {
            "bin_start": -0.3,
            "bin_end": -0.19999999999999996,
            "count": 0
           },
           {
            "bin_start": -0.19999999999999996,
            "bin_end": -0.09999999999999998,
            "count": 0
           },
           {
            "bin_start": -0.09999999999999998,
            "bin_end": 0,
            "count": 0
           },
           {
            "bin_start": 0,
            "bin_end": 0.10000000000000009,
            "count": 1
           },
           {
            "bin_start": 0.10000000000000009,
            "bin_end": 0.20000000000000007,
            "count": 0
           },
           {
            "bin_start": 0.20000000000000007,
            "bin_end": 0.30000000000000004,
            "count": 0
           },
           {
            "bin_start": 0.30000000000000004,
            "bin_end": 0.4,
            "count": 0
           },
           {
            "bin_start": 0.4,
            "bin_end": 0.5,
            "count": 0
           }
          ]
         }
        },
        {
         "name": "RestingECG",
         "dtype": "object",
         "stats": {
          "unique_count": 1,
          "nan_count": 0,
          "categories": [
           {
            "name": "Normal",
            "count": 1
           }
          ]
         }
        },
        {
         "name": "MaxHR",
         "dtype": "int64",
         "stats": {
          "unique_count": 1,
          "nan_count": 0,
          "min": "155",
          "max": "155",
          "histogram": [
           {
            "bin_start": 154.5,
            "bin_end": 154.6,
            "count": 0
           },
           {
            "bin_start": 154.6,
            "bin_end": 154.7,
            "count": 0
           },
           {
            "bin_start": 154.7,
            "bin_end": 154.8,
            "count": 0
           },
           {
            "bin_start": 154.8,
            "bin_end": 154.9,
            "count": 0
           },
           {
            "bin_start": 154.9,
            "bin_end": 155,
            "count": 0
           },
           {
            "bin_start": 155,
            "bin_end": 155.1,
            "count": 1
           },
           {
            "bin_start": 155.1,
            "bin_end": 155.2,
            "count": 0
           },
           {
            "bin_start": 155.2,
            "bin_end": 155.3,
            "count": 0
           },
           {
            "bin_start": 155.3,
            "bin_end": 155.4,
            "count": 0
           },
           {
            "bin_start": 155.4,
            "bin_end": 155.5,
            "count": 0
           }
          ]
         }
        },
        {
         "name": "ExerciseAngina",
         "dtype": "object",
         "stats": {
          "unique_count": 1,
          "nan_count": 0,
          "categories": [
           {
            "name": "N",
            "count": 1
           }
          ]
         }
        },
        {
         "name": "Oldpeak",
         "dtype": "float64",
         "stats": {
          "unique_count": 1,
          "nan_count": 0,
          "min": "1.5",
          "max": "1.5",
          "histogram": [
           {
            "bin_start": 1,
            "bin_end": 1.1,
            "count": 0
           },
           {
            "bin_start": 1.1,
            "bin_end": 1.2,
            "count": 0
           },
           {
            "bin_start": 1.2,
            "bin_end": 1.3,
            "count": 0
           },
           {
            "bin_start": 1.3,
            "bin_end": 1.4,
            "count": 0
           },
           {
            "bin_start": 1.4,
            "bin_end": 1.5,
            "count": 0
           },
           {
            "bin_start": 1.5,
            "bin_end": 1.6,
            "count": 1
           },
           {
            "bin_start": 1.6,
            "bin_end": 1.7000000000000002,
            "count": 0
           },
           {
            "bin_start": 1.7000000000000002,
            "bin_end": 1.8,
            "count": 0
           },
           {
            "bin_start": 1.8,
            "bin_end": 1.9,
            "count": 0
           },
           {
            "bin_start": 1.9,
            "bin_end": 2,
            "count": 0
           }
          ]
         }
        },
        {
         "name": "ST_Slope",
         "dtype": "object",
         "stats": {
          "unique_count": 1,
          "nan_count": 0,
          "categories": [
           {
            "name": "Flat",
            "count": 1
           }
          ]
         }
        },
        {
         "name": "HeartDisease",
         "dtype": "int64",
         "stats": {
          "unique_count": 1,
          "nan_count": 0,
          "min": "1",
          "max": "1",
          "histogram": [
           {
            "bin_start": 0.5,
            "bin_end": 0.6,
            "count": 0
           },
           {
            "bin_start": 0.6,
            "bin_end": 0.7,
            "count": 0
           },
           {
            "bin_start": 0.7,
            "bin_end": 0.8,
            "count": 0
           },
           {
            "bin_start": 0.8,
            "bin_end": 0.9,
            "count": 0
           },
           {
            "bin_start": 0.9,
            "bin_end": 1,
            "count": 0
           },
           {
            "bin_start": 1,
            "bin_end": 1.1,
            "count": 1
           },
           {
            "bin_start": 1.1,
            "bin_end": 1.2000000000000002,
            "count": 0
           },
           {
            "bin_start": 1.2000000000000002,
            "bin_end": 1.3,
            "count": 0
           },
           {
            "bin_start": 1.3,
            "bin_end": 1.4,
            "count": 0
           },
           {
            "bin_start": 1.4,
            "bin_end": 1.5,
            "count": 0
           }
          ]
         }
        },
        {
         "name": "_deepnote_index_column",
         "dtype": "int64"
        }
       ],
       "rows_top": [
        {
         "Age": 55,
         "Sex": "M",
         "ChestPainType": "NAP",
         "RestingBP": 0,
         "Cholesterol": 0,
         "FastingBS": 0,
         "RestingECG": "Normal",
         "MaxHR": 155,
         "ExerciseAngina": "N",
         "Oldpeak": 1.5,
         "ST_Slope": "Flat",
         "HeartDisease": 1,
         "_deepnote_index_column": 449
        }
       ],
       "rows_bottom": null
      },
      "text/plain": "     Age Sex ChestPainType  RestingBP  Cholesterol  FastingBS RestingECG  \\\n449   55   M           NAP          0            0          0     Normal   \n\n     MaxHR ExerciseAngina  Oldpeak ST_Slope  HeartDisease  \n449    155              N      1.5     Flat             1  ",
      "text/html": "<div>\n<style scoped>\n    .dataframe tbody tr th:only-of-type {\n        vertical-align: middle;\n    }\n\n    .dataframe tbody tr th {\n        vertical-align: top;\n    }\n\n    .dataframe thead th {\n        text-align: right;\n    }\n</style>\n<table border=\"1\" class=\"dataframe\">\n  <thead>\n    <tr style=\"text-align: right;\">\n      <th></th>\n      <th>Age</th>\n      <th>Sex</th>\n      <th>ChestPainType</th>\n      <th>RestingBP</th>\n      <th>Cholesterol</th>\n      <th>FastingBS</th>\n      <th>RestingECG</th>\n      <th>MaxHR</th>\n      <th>ExerciseAngina</th>\n      <th>Oldpeak</th>\n      <th>ST_Slope</th>\n      <th>HeartDisease</th>\n    </tr>\n  </thead>\n  <tbody>\n    <tr>\n      <th>449</th>\n      <td>55</td>\n      <td>M</td>\n      <td>NAP</td>\n      <td>0</td>\n      <td>0</td>\n      <td>0</td>\n      <td>Normal</td>\n      <td>155</td>\n      <td>N</td>\n      <td>1.5</td>\n      <td>Flat</td>\n      <td>1</td>\n    </tr>\n  </tbody>\n</table>\n</div>"
     },
     "metadata": {}
    }
   ],
   "execution_count": null
  },
  {
   "cell_type": "markdown",
   "source": "##### How we dealt with the RestingBP outlier\nConsidering it is just one outlier in this case, we have decided to drop this anomalous row from the dataset.",
   "metadata": {
    "tags": [],
    "cell_id": "00023-641f67dd-cf94-4921-b700-632d0e48af97",
    "deepnote_app_coordinates": {
     "x": 0,
     "y": 144,
     "w": 12,
     "h": 5
    },
    "deepnote_cell_type": "markdown"
   }
  },
  {
   "cell_type": "code",
   "metadata": {
    "tags": [],
    "cell_id": "00024-b1c5173d-de82-4bae-b466-e458c9599438",
    "deepnote_to_be_reexecuted": false,
    "source_hash": "e3e9d88f",
    "execution_start": 1638836514212,
    "execution_millis": 49,
    "deepnote_output_heights": [
     21.1875
    ],
    "deepnote_app_coordinates": {
     "x": 0,
     "y": 150,
     "w": 12,
     "h": 5
    },
    "deepnote_cell_type": "code"
   },
   "source": "df = df[df[\"RestingBP\"] > 0]\nprint(df.shape, \">> we now have 917 records; we have successfully dropped the anomaly\")",
   "outputs": [
    {
     "name": "stdout",
     "text": "(917, 12) >> we now have 917 records; we have successfully dropped the anomaly\n",
     "output_type": "stream"
    }
   ],
   "execution_count": null
  },
  {
   "cell_type": "markdown",
   "source": "##### Cholesterol Outliers\n\nAgain we discussed the possible reasons why some records have `Cholesterol = 0`. In the dataset `.csv` file, the `Cholesterol = 0` rows are all roughly between the indexes `293` and `539`. Since a human can not have a cholesterol level of zero, there must be an issue when obtaining the information. We noted that since all the zero cholestrol levels were grouped together, it's likely that they were caused by a technical issue that prevented the tests from being done for some time rather than human error. \n\nTo help us decide what to do with these outliers, we will:  \n1.&nbsp;Gather more information on the number of outliers  \n2. Re-plot our data but this time excluding the anomalous data points  \n3. Check for any *strong* differences between the rows including the outliers and the rows excluding them.  \n4. Check particularly for any differences in the `HeartDisease` column when including the outliers vs. excluding them ",
   "metadata": {
    "tags": [],
    "cell_id": "00025-e6a78df9-0575-4de5-aaee-ec1623582ea8",
    "deepnote_app_coordinates": {
     "x": 0,
     "y": 156,
     "w": 12,
     "h": 5
    },
    "deepnote_cell_type": "markdown"
   }
  },
  {
   "cell_type": "code",
   "metadata": {
    "tags": [],
    "cell_id": "00025-f822a782-2b6e-46d3-9444-5a6a94316fc5",
    "deepnote_to_be_reexecuted": false,
    "source_hash": "3dde366a",
    "execution_start": 1638836514261,
    "execution_millis": 44,
    "deepnote_output_heights": [
     null,
     382.1875
    ],
    "deepnote_app_coordinates": {
     "x": 0,
     "y": 162,
     "w": 12,
     "h": 5
    },
    "deepnote_cell_type": "code"
   },
   "source": "# confirm how many rows have the outliers\nprint((df[\"Cholesterol\"] == 0).sum(), \">> rows with Cholesterol = 0\")\n\n# show these rows\ndf_chol_is_zero = df[df[\"Cholesterol\"] == 0]\ndf_chol_is_zero",
   "outputs": [
    {
     "name": "stdout",
     "text": "171 >> rows with Cholesterol = 0\n",
     "output_type": "stream"
    },
    {
     "output_type": "execute_result",
     "execution_count": 11,
     "data": {
      "application/vnd.deepnote.dataframe.v2+json": {
       "row_count": 171,
       "column_count": 12,
       "columns": [
        {
         "name": "Age",
         "dtype": "int64",
         "stats": {
          "unique_count": 38,
          "nan_count": 0,
          "min": "32",
          "max": "74",
          "histogram": [
           {
            "bin_start": 32,
            "bin_end": 36.2,
            "count": 4
           },
           {
            "bin_start": 36.2,
            "bin_end": 40.4,
            "count": 8
           },
           {
            "bin_start": 40.4,
            "bin_end": 44.6,
            "count": 8
           },
           {
            "bin_start": 44.6,
            "bin_end": 48.8,
            "count": 9
           },
           {
            "bin_start": 48.8,
            "bin_end": 53,
            "count": 20
           },
           {
            "bin_start": 53,
            "bin_end": 57.2,
            "count": 36
           },
           {
            "bin_start": 57.2,
            "bin_end": 61.400000000000006,
            "count": 37
           },
           {
            "bin_start": 61.400000000000006,
            "bin_end": 65.6,
            "count": 31
           },
           {
            "bin_start": 65.6,
            "bin_end": 69.80000000000001,
            "count": 12
           },
           {
            "bin_start": 69.80000000000001,
            "bin_end": 74,
            "count": 6
           }
          ]
         }
        },
        {
         "name": "Sex",
         "dtype": "object",
         "stats": {
          "unique_count": 2,
          "nan_count": 0,
          "categories": [
           {
            "name": "M",
            "count": 160
           },
           {
            "name": "F",
            "count": 11
           }
          ]
         }
        },
        {
         "name": "ChestPainType",
         "dtype": "object",
         "stats": {
          "unique_count": 4,
          "nan_count": 0,
          "categories": [
           {
            "name": "ASY",
            "count": 126
           },
           {
            "name": "NAP",
            "count": 33
           },
           {
            "name": "2 others",
            "count": 12
           }
          ]
         }
        },
        {
         "name": "RestingBP",
         "dtype": "int64",
         "stats": {
          "unique_count": 37,
          "nan_count": 0,
          "min": "80",
          "max": "200",
          "histogram": [
           {
            "bin_start": 80,
            "bin_end": 92,
            "count": 1
           },
           {
            "bin_start": 92,
            "bin_end": 104,
            "count": 11
           },
           {
            "bin_start": 104,
            "bin_end": 116,
            "count": 32
           },
           {
            "bin_start": 116,
            "bin_end": 128,
            "count": 37
           },
           {
            "bin_start": 128,
            "bin_end": 140,
            "count": 37
           },
           {
            "bin_start": 140,
            "bin_end": 152,
            "count": 26
           },
           {
            "bin_start": 152,
            "bin_end": 164,
            "count": 18
           },
           {
            "bin_start": 164,
            "bin_end": 176,
            "count": 3
           },
           {
            "bin_start": 176,
            "bin_end": 188,
            "count": 4
           },
           {
            "bin_start": 188,
            "bin_end": 200,
            "count": 2
           }
          ]
         }
        },
        {
         "name": "Cholesterol",
         "dtype": "int64",
         "stats": {
          "unique_count": 1,
          "nan_count": 0,
          "min": "0",
          "max": "0",
          "histogram": [
           {
            "bin_start": -0.5,
            "bin_end": -0.4,
            "count": 0
           },
           {
            "bin_start": -0.4,
            "bin_end": -0.3,
            "count": 0
           },
           {
            "bin_start": -0.3,
            "bin_end": -0.19999999999999996,
            "count": 0
           },
           {
            "bin_start": -0.19999999999999996,
            "bin_end": -0.09999999999999998,
            "count": 0
           },
           {
            "bin_start": -0.09999999999999998,
            "bin_end": 0,
            "count": 0
           },
           {
            "bin_start": 0,
            "bin_end": 0.10000000000000009,
            "count": 171
           },
           {
            "bin_start": 0.10000000000000009,
            "bin_end": 0.20000000000000007,
            "count": 0
           },
           {
            "bin_start": 0.20000000000000007,
            "bin_end": 0.30000000000000004,
            "count": 0
           },
           {
            "bin_start": 0.30000000000000004,
            "bin_end": 0.4,
            "count": 0
           },
           {
            "bin_start": 0.4,
            "bin_end": 0.5,
            "count": 0
           }
          ]
         }
        },
        {
         "name": "FastingBS",
         "dtype": "int64",
         "stats": {
          "unique_count": 2,
          "nan_count": 0,
          "min": "0",
          "max": "1",
          "histogram": [
           {
            "bin_start": 0,
            "bin_end": 0.1,
            "count": 82
           },
           {
            "bin_start": 0.1,
            "bin_end": 0.2,
            "count": 0
           },
           {
            "bin_start": 0.2,
            "bin_end": 0.30000000000000004,
            "count": 0
           },
           {
            "bin_start": 0.30000000000000004,
            "bin_end": 0.4,
            "count": 0
           },
           {
            "bin_start": 0.4,
            "bin_end": 0.5,
            "count": 0
           },
           {
            "bin_start": 0.5,
            "bin_end": 0.6000000000000001,
            "count": 0
           },
           {
            "bin_start": 0.6000000000000001,
            "bin_end": 0.7000000000000001,
            "count": 0
           },
           {
            "bin_start": 0.7000000000000001,
            "bin_end": 0.8,
            "count": 0
           },
           {
            "bin_start": 0.8,
            "bin_end": 0.9,
            "count": 0
           },
           {
            "bin_start": 0.9,
            "bin_end": 1,
            "count": 89
           }
          ]
         }
        },
        {
         "name": "RestingECG",
         "dtype": "object",
         "stats": {
          "unique_count": 3,
          "nan_count": 0,
          "categories": [
           {
            "name": "Normal",
            "count": 106
           },
           {
            "name": "ST",
            "count": 53
           },
           {
            "name": "LVH",
            "count": 12
           }
          ]
         }
        },
        {
         "name": "MaxHR",
         "dtype": "int64",
         "stats": {
          "unique_count": 78,
          "nan_count": 0,
          "min": "60",
          "max": "182",
          "histogram": [
           {
            "bin_start": 60,
            "bin_end": 72.2,
            "count": 6
           },
           {
            "bin_start": 72.2,
            "bin_end": 84.4,
            "count": 7
           },
           {
            "bin_start": 84.4,
            "bin_end": 96.6,
            "count": 9
           },
           {
            "bin_start": 96.6,
            "bin_end": 108.8,
            "count": 22
           },
           {
            "bin_start": 108.8,
            "bin_end": 121,
            "count": 43
           },
           {
            "bin_start": 121,
            "bin_end": 133.2,
            "count": 37
           },
           {
            "bin_start": 133.2,
            "bin_end": 145.39999999999998,
            "count": 19
           },
           {
            "bin_start": 145.39999999999998,
            "bin_end": 157.6,
            "count": 18
           },
           {
            "bin_start": 157.6,
            "bin_end": 169.8,
            "count": 4
           },
           {
            "bin_start": 169.8,
            "bin_end": 182,
            "count": 6
           }
          ]
         }
        },
        {
         "name": "ExerciseAngina",
         "dtype": "object",
         "stats": {
          "unique_count": 2,
          "nan_count": 0,
          "categories": [
           {
            "name": "N",
            "count": 87
           },
           {
            "name": "Y",
            "count": 84
           }
          ]
         }
        },
        {
         "name": "Oldpeak",
         "dtype": "float64",
         "stats": {
          "unique_count": 37,
          "nan_count": 0,
          "min": "-2.6",
          "max": "3.7",
          "histogram": [
           {
            "bin_start": -2.6,
            "bin_end": -1.97,
            "count": 2
           },
           {
            "bin_start": -1.97,
            "bin_end": -1.3399999999999999,
            "count": 1
           },
           {
            "bin_start": -1.3399999999999999,
            "bin_end": -0.7099999999999997,
            "count": 5
           },
           {
            "bin_start": -0.7099999999999997,
            "bin_end": -0.07999999999999963,
            "count": 4
           },
           {
            "bin_start": -0.07999999999999963,
            "bin_end": 0.5500000000000003,
            "count": 68
           },
           {
            "bin_start": 0.5500000000000003,
            "bin_end": 1.1800000000000006,
            "count": 29
           },
           {
            "bin_start": 1.1800000000000006,
            "bin_end": 1.810000000000001,
            "count": 28
           },
           {
            "bin_start": 1.810000000000001,
            "bin_end": 2.440000000000001,
            "count": 21
           },
           {
            "bin_start": 2.440000000000001,
            "bin_end": 3.0700000000000007,
            "count": 12
           },
           {
            "bin_start": 3.0700000000000007,
            "bin_end": 3.7,
            "count": 1
           }
          ]
         }
        },
        {
         "name": "ST_Slope",
         "dtype": "object",
         "stats": {
          "unique_count": 3,
          "nan_count": 0,
          "categories": [
           {
            "name": "Flat",
            "count": 105
           },
           {
            "name": "Up",
            "count": 46
           },
           {
            "name": "Down",
            "count": 20
           }
          ]
         }
        },
        {
         "name": "HeartDisease",
         "dtype": "int64",
         "stats": {
          "unique_count": 2,
          "nan_count": 0,
          "min": "0",
          "max": "1",
          "histogram": [
           {
            "bin_start": 0,
            "bin_end": 0.1,
            "count": 20
           },
           {
            "bin_start": 0.1,
            "bin_end": 0.2,
            "count": 0
           },
           {
            "bin_start": 0.2,
            "bin_end": 0.30000000000000004,
            "count": 0
           },
           {
            "bin_start": 0.30000000000000004,
            "bin_end": 0.4,
            "count": 0
           },
           {
            "bin_start": 0.4,
            "bin_end": 0.5,
            "count": 0
           },
           {
            "bin_start": 0.5,
            "bin_end": 0.6000000000000001,
            "count": 0
           },
           {
            "bin_start": 0.6000000000000001,
            "bin_end": 0.7000000000000001,
            "count": 0
           },
           {
            "bin_start": 0.7000000000000001,
            "bin_end": 0.8,
            "count": 0
           },
           {
            "bin_start": 0.8,
            "bin_end": 0.9,
            "count": 0
           },
           {
            "bin_start": 0.9,
            "bin_end": 1,
            "count": 151
           }
          ]
         }
        },
        {
         "name": "_deepnote_index_column",
         "dtype": "int64"
        }
       ],
       "rows_top": [
        {
         "Age": 65,
         "Sex": "M",
         "ChestPainType": "ASY",
         "RestingBP": 115,
         "Cholesterol": 0,
         "FastingBS": 0,
         "RestingECG": "Normal",
         "MaxHR": 93,
         "ExerciseAngina": "Y",
         "Oldpeak": 0,
         "ST_Slope": "Flat",
         "HeartDisease": 1,
         "_deepnote_index_column": 293
        },
        {
         "Age": 32,
         "Sex": "M",
         "ChestPainType": "TA",
         "RestingBP": 95,
         "Cholesterol": 0,
         "FastingBS": 1,
         "RestingECG": "Normal",
         "MaxHR": 127,
         "ExerciseAngina": "N",
         "Oldpeak": 0.7,
         "ST_Slope": "Up",
         "HeartDisease": 1,
         "_deepnote_index_column": 294
        },
        {
         "Age": 61,
         "Sex": "M",
         "ChestPainType": "ASY",
         "RestingBP": 105,
         "Cholesterol": 0,
         "FastingBS": 1,
         "RestingECG": "Normal",
         "MaxHR": 110,
         "ExerciseAngina": "Y",
         "Oldpeak": 1.5,
         "ST_Slope": "Up",
         "HeartDisease": 1,
         "_deepnote_index_column": 295
        },
        {
         "Age": 50,
         "Sex": "M",
         "ChestPainType": "ASY",
         "RestingBP": 145,
         "Cholesterol": 0,
         "FastingBS": 1,
         "RestingECG": "Normal",
         "MaxHR": 139,
         "ExerciseAngina": "Y",
         "Oldpeak": 0.7,
         "ST_Slope": "Flat",
         "HeartDisease": 1,
         "_deepnote_index_column": 296
        },
        {
         "Age": 57,
         "Sex": "M",
         "ChestPainType": "ASY",
         "RestingBP": 110,
         "Cholesterol": 0,
         "FastingBS": 1,
         "RestingECG": "ST",
         "MaxHR": 131,
         "ExerciseAngina": "Y",
         "Oldpeak": 1.4,
         "ST_Slope": "Up",
         "HeartDisease": 1,
         "_deepnote_index_column": 297
        },
        {
         "Age": 51,
         "Sex": "M",
         "ChestPainType": "ASY",
         "RestingBP": 110,
         "Cholesterol": 0,
         "FastingBS": 1,
         "RestingECG": "Normal",
         "MaxHR": 92,
         "ExerciseAngina": "N",
         "Oldpeak": 0,
         "ST_Slope": "Flat",
         "HeartDisease": 1,
         "_deepnote_index_column": 298
        },
        {
         "Age": 47,
         "Sex": "M",
         "ChestPainType": "ASY",
         "RestingBP": 110,
         "Cholesterol": 0,
         "FastingBS": 1,
         "RestingECG": "ST",
         "MaxHR": 149,
         "ExerciseAngina": "N",
         "Oldpeak": 2.1,
         "ST_Slope": "Up",
         "HeartDisease": 1,
         "_deepnote_index_column": 299
        },
        {
         "Age": 60,
         "Sex": "M",
         "ChestPainType": "ASY",
         "RestingBP": 160,
         "Cholesterol": 0,
         "FastingBS": 1,
         "RestingECG": "Normal",
         "MaxHR": 149,
         "ExerciseAngina": "N",
         "Oldpeak": 0.4,
         "ST_Slope": "Flat",
         "HeartDisease": 1,
         "_deepnote_index_column": 300
        },
        {
         "Age": 55,
         "Sex": "M",
         "ChestPainType": "ATA",
         "RestingBP": 140,
         "Cholesterol": 0,
         "FastingBS": 0,
         "RestingECG": "ST",
         "MaxHR": 150,
         "ExerciseAngina": "N",
         "Oldpeak": 0.2,
         "ST_Slope": "Up",
         "HeartDisease": 0,
         "_deepnote_index_column": 301
        },
        {
         "Age": 53,
         "Sex": "M",
         "ChestPainType": "ASY",
         "RestingBP": 125,
         "Cholesterol": 0,
         "FastingBS": 1,
         "RestingECG": "Normal",
         "MaxHR": 120,
         "ExerciseAngina": "N",
         "Oldpeak": 1.5,
         "ST_Slope": "Up",
         "HeartDisease": 1,
         "_deepnote_index_column": 302
        },
        {
         "Age": 62,
         "Sex": "F",
         "ChestPainType": "ASY",
         "RestingBP": 120,
         "Cholesterol": 0,
         "FastingBS": 1,
         "RestingECG": "ST",
         "MaxHR": 123,
         "ExerciseAngina": "Y",
         "Oldpeak": 1.7,
         "ST_Slope": "Down",
         "HeartDisease": 1,
         "_deepnote_index_column": 303
        },
        {
         "Age": 51,
         "Sex": "M",
         "ChestPainType": "ASY",
         "RestingBP": 95,
         "Cholesterol": 0,
         "FastingBS": 1,
         "RestingECG": "Normal",
         "MaxHR": 126,
         "ExerciseAngina": "N",
         "Oldpeak": 2.2,
         "ST_Slope": "Flat",
         "HeartDisease": 1,
         "_deepnote_index_column": 304
        },
        {
         "Age": 51,
         "Sex": "F",
         "ChestPainType": "ASY",
         "RestingBP": 120,
         "Cholesterol": 0,
         "FastingBS": 1,
         "RestingECG": "Normal",
         "MaxHR": 127,
         "ExerciseAngina": "Y",
         "Oldpeak": 1.5,
         "ST_Slope": "Up",
         "HeartDisease": 1,
         "_deepnote_index_column": 305
        },
        {
         "Age": 55,
         "Sex": "M",
         "ChestPainType": "ASY",
         "RestingBP": 115,
         "Cholesterol": 0,
         "FastingBS": 1,
         "RestingECG": "Normal",
         "MaxHR": 155,
         "ExerciseAngina": "N",
         "Oldpeak": 0.1,
         "ST_Slope": "Flat",
         "HeartDisease": 1,
         "_deepnote_index_column": 306
        },
        {
         "Age": 53,
         "Sex": "M",
         "ChestPainType": "ATA",
         "RestingBP": 130,
         "Cholesterol": 0,
         "FastingBS": 0,
         "RestingECG": "ST",
         "MaxHR": 120,
         "ExerciseAngina": "N",
         "Oldpeak": 0.7,
         "ST_Slope": "Down",
         "HeartDisease": 0,
         "_deepnote_index_column": 307
        },
        {
         "Age": 58,
         "Sex": "M",
         "ChestPainType": "ASY",
         "RestingBP": 115,
         "Cholesterol": 0,
         "FastingBS": 1,
         "RestingECG": "Normal",
         "MaxHR": 138,
         "ExerciseAngina": "N",
         "Oldpeak": 0.5,
         "ST_Slope": "Up",
         "HeartDisease": 1,
         "_deepnote_index_column": 308
        },
        {
         "Age": 57,
         "Sex": "M",
         "ChestPainType": "ASY",
         "RestingBP": 95,
         "Cholesterol": 0,
         "FastingBS": 1,
         "RestingECG": "Normal",
         "MaxHR": 182,
         "ExerciseAngina": "N",
         "Oldpeak": 0.7,
         "ST_Slope": "Down",
         "HeartDisease": 1,
         "_deepnote_index_column": 309
        },
        {
         "Age": 65,
         "Sex": "M",
         "ChestPainType": "ASY",
         "RestingBP": 155,
         "Cholesterol": 0,
         "FastingBS": 0,
         "RestingECG": "Normal",
         "MaxHR": 154,
         "ExerciseAngina": "N",
         "Oldpeak": 1,
         "ST_Slope": "Up",
         "HeartDisease": 0,
         "_deepnote_index_column": 310
        },
        {
         "Age": 60,
         "Sex": "M",
         "ChestPainType": "ASY",
         "RestingBP": 125,
         "Cholesterol": 0,
         "FastingBS": 1,
         "RestingECG": "Normal",
         "MaxHR": 110,
         "ExerciseAngina": "N",
         "Oldpeak": 0.1,
         "ST_Slope": "Up",
         "HeartDisease": 1,
         "_deepnote_index_column": 311
        },
        {
         "Age": 41,
         "Sex": "M",
         "ChestPainType": "ASY",
         "RestingBP": 125,
         "Cholesterol": 0,
         "FastingBS": 1,
         "RestingECG": "Normal",
         "MaxHR": 176,
         "ExerciseAngina": "N",
         "Oldpeak": 1.6,
         "ST_Slope": "Up",
         "HeartDisease": 1,
         "_deepnote_index_column": 312
        },
        {
         "Age": 34,
         "Sex": "M",
         "ChestPainType": "ASY",
         "RestingBP": 115,
         "Cholesterol": 0,
         "FastingBS": 1,
         "RestingECG": "Normal",
         "MaxHR": 154,
         "ExerciseAngina": "N",
         "Oldpeak": 0.2,
         "ST_Slope": "Up",
         "HeartDisease": 1,
         "_deepnote_index_column": 313
        },
        {
         "Age": 53,
         "Sex": "M",
         "ChestPainType": "ASY",
         "RestingBP": 80,
         "Cholesterol": 0,
         "FastingBS": 0,
         "RestingECG": "Normal",
         "MaxHR": 141,
         "ExerciseAngina": "Y",
         "Oldpeak": 2,
         "ST_Slope": "Down",
         "HeartDisease": 0,
         "_deepnote_index_column": 314
        },
        {
         "Age": 74,
         "Sex": "M",
         "ChestPainType": "ATA",
         "RestingBP": 145,
         "Cholesterol": 0,
         "FastingBS": 1,
         "RestingECG": "ST",
         "MaxHR": 123,
         "ExerciseAngina": "N",
         "Oldpeak": 1.3,
         "ST_Slope": "Up",
         "HeartDisease": 1,
         "_deepnote_index_column": 315
        },
        {
         "Age": 57,
         "Sex": "M",
         "ChestPainType": "NAP",
         "RestingBP": 105,
         "Cholesterol": 0,
         "FastingBS": 1,
         "RestingECG": "Normal",
         "MaxHR": 148,
         "ExerciseAngina": "N",
         "Oldpeak": 0.3,
         "ST_Slope": "Flat",
         "HeartDisease": 1,
         "_deepnote_index_column": 316
        },
        {
         "Age": 56,
         "Sex": "M",
         "ChestPainType": "ASY",
         "RestingBP": 140,
         "Cholesterol": 0,
         "FastingBS": 1,
         "RestingECG": "Normal",
         "MaxHR": 121,
         "ExerciseAngina": "Y",
         "Oldpeak": 1.8,
         "ST_Slope": "Up",
         "HeartDisease": 1,
         "_deepnote_index_column": 317
        },
        {
         "Age": 61,
         "Sex": "M",
         "ChestPainType": "ASY",
         "RestingBP": 130,
         "Cholesterol": 0,
         "FastingBS": 1,
         "RestingECG": "Normal",
         "MaxHR": 77,
         "ExerciseAngina": "N",
         "Oldpeak": 2.5,
         "ST_Slope": "Flat",
         "HeartDisease": 1,
         "_deepnote_index_column": 318
        },
        {
         "Age": 68,
         "Sex": "M",
         "ChestPainType": "ASY",
         "RestingBP": 145,
         "Cholesterol": 0,
         "FastingBS": 1,
         "RestingECG": "Normal",
         "MaxHR": 136,
         "ExerciseAngina": "N",
         "Oldpeak": 1.8,
         "ST_Slope": "Up",
         "HeartDisease": 1,
         "_deepnote_index_column": 319
        },
        {
         "Age": 59,
         "Sex": "M",
         "ChestPainType": "NAP",
         "RestingBP": 125,
         "Cholesterol": 0,
         "FastingBS": 1,
         "RestingECG": "Normal",
         "MaxHR": 175,
         "ExerciseAngina": "N",
         "Oldpeak": 2.6,
         "ST_Slope": "Flat",
         "HeartDisease": 1,
         "_deepnote_index_column": 320
        },
        {
         "Age": 63,
         "Sex": "M",
         "ChestPainType": "ASY",
         "RestingBP": 100,
         "Cholesterol": 0,
         "FastingBS": 1,
         "RestingECG": "Normal",
         "MaxHR": 109,
         "ExerciseAngina": "N",
         "Oldpeak": -0.9,
         "ST_Slope": "Flat",
         "HeartDisease": 1,
         "_deepnote_index_column": 321
        },
        {
         "Age": 38,
         "Sex": "F",
         "ChestPainType": "ASY",
         "RestingBP": 105,
         "Cholesterol": 0,
         "FastingBS": 1,
         "RestingECG": "Normal",
         "MaxHR": 166,
         "ExerciseAngina": "N",
         "Oldpeak": 2.8,
         "ST_Slope": "Up",
         "HeartDisease": 1,
         "_deepnote_index_column": 322
        },
        {
         "Age": 62,
         "Sex": "M",
         "ChestPainType": "ASY",
         "RestingBP": 115,
         "Cholesterol": 0,
         "FastingBS": 1,
         "RestingECG": "Normal",
         "MaxHR": 128,
         "ExerciseAngina": "Y",
         "Oldpeak": 2.5,
         "ST_Slope": "Down",
         "HeartDisease": 1,
         "_deepnote_index_column": 323
        },
        {
         "Age": 46,
         "Sex": "M",
         "ChestPainType": "ASY",
         "RestingBP": 100,
         "Cholesterol": 0,
         "FastingBS": 1,
         "RestingECG": "ST",
         "MaxHR": 133,
         "ExerciseAngina": "N",
         "Oldpeak": -2.6,
         "ST_Slope": "Flat",
         "HeartDisease": 1,
         "_deepnote_index_column": 324
        },
        {
         "Age": 42,
         "Sex": "M",
         "ChestPainType": "ASY",
         "RestingBP": 105,
         "Cholesterol": 0,
         "FastingBS": 1,
         "RestingECG": "Normal",
         "MaxHR": 128,
         "ExerciseAngina": "Y",
         "Oldpeak": -1.5,
         "ST_Slope": "Down",
         "HeartDisease": 1,
         "_deepnote_index_column": 325
        },
        {
         "Age": 45,
         "Sex": "M",
         "ChestPainType": "NAP",
         "RestingBP": 110,
         "Cholesterol": 0,
         "FastingBS": 0,
         "RestingECG": "Normal",
         "MaxHR": 138,
         "ExerciseAngina": "N",
         "Oldpeak": -0.1,
         "ST_Slope": "Up",
         "HeartDisease": 0,
         "_deepnote_index_column": 326
        },
        {
         "Age": 59,
         "Sex": "M",
         "ChestPainType": "ASY",
         "RestingBP": 125,
         "Cholesterol": 0,
         "FastingBS": 1,
         "RestingECG": "Normal",
         "MaxHR": 119,
         "ExerciseAngina": "Y",
         "Oldpeak": 0.9,
         "ST_Slope": "Up",
         "HeartDisease": 1,
         "_deepnote_index_column": 327
        },
        {
         "Age": 52,
         "Sex": "M",
         "ChestPainType": "ASY",
         "RestingBP": 95,
         "Cholesterol": 0,
         "FastingBS": 1,
         "RestingECG": "Normal",
         "MaxHR": 82,
         "ExerciseAngina": "Y",
         "Oldpeak": 0.8,
         "ST_Slope": "Flat",
         "HeartDisease": 1,
         "_deepnote_index_column": 328
        },
        {
         "Age": 60,
         "Sex": "M",
         "ChestPainType": "ASY",
         "RestingBP": 130,
         "Cholesterol": 0,
         "FastingBS": 1,
         "RestingECG": "ST",
         "MaxHR": 130,
         "ExerciseAngina": "Y",
         "Oldpeak": 1.1,
         "ST_Slope": "Down",
         "HeartDisease": 1,
         "_deepnote_index_column": 329
        },
        {
         "Age": 60,
         "Sex": "M",
         "ChestPainType": "NAP",
         "RestingBP": 115,
         "Cholesterol": 0,
         "FastingBS": 1,
         "RestingECG": "Normal",
         "MaxHR": 143,
         "ExerciseAngina": "N",
         "Oldpeak": 2.4,
         "ST_Slope": "Up",
         "HeartDisease": 1,
         "_deepnote_index_column": 330
        },
        {
         "Age": 56,
         "Sex": "M",
         "ChestPainType": "ASY",
         "RestingBP": 115,
         "Cholesterol": 0,
         "FastingBS": 1,
         "RestingECG": "ST",
         "MaxHR": 82,
         "ExerciseAngina": "N",
         "Oldpeak": -1,
         "ST_Slope": "Up",
         "HeartDisease": 1,
         "_deepnote_index_column": 331
        },
        {
         "Age": 38,
         "Sex": "M",
         "ChestPainType": "NAP",
         "RestingBP": 100,
         "Cholesterol": 0,
         "FastingBS": 0,
         "RestingECG": "Normal",
         "MaxHR": 179,
         "ExerciseAngina": "N",
         "Oldpeak": -1.1,
         "ST_Slope": "Up",
         "HeartDisease": 0,
         "_deepnote_index_column": 332
        },
        {
         "Age": 40,
         "Sex": "M",
         "ChestPainType": "ASY",
         "RestingBP": 95,
         "Cholesterol": 0,
         "FastingBS": 1,
         "RestingECG": "ST",
         "MaxHR": 144,
         "ExerciseAngina": "N",
         "Oldpeak": 0,
         "ST_Slope": "Up",
         "HeartDisease": 1,
         "_deepnote_index_column": 333
        }
       ],
       "rows_bottom": [
        {
         "Age": 57,
         "Sex": "M",
         "ChestPainType": "ASY",
         "RestingBP": 128,
         "Cholesterol": 0,
         "FastingBS": 1,
         "RestingECG": "ST",
         "MaxHR": 148,
         "ExerciseAngina": "Y",
         "Oldpeak": 1,
         "ST_Slope": "Flat",
         "HeartDisease": 1,
         "_deepnote_index_column": 430
        },
        {
         "Age": 63,
         "Sex": "M",
         "ChestPainType": "ASY",
         "RestingBP": 126,
         "Cholesterol": 0,
         "FastingBS": 0,
         "RestingECG": "ST",
         "MaxHR": 120,
         "ExerciseAngina": "N",
         "Oldpeak": 1.5,
         "ST_Slope": "Down",
         "HeartDisease": 0,
         "_deepnote_index_column": 434
        },
        {
         "Age": 60,
         "Sex": "M",
         "ChestPainType": "ASY",
         "RestingBP": 152,
         "Cholesterol": 0,
         "FastingBS": 0,
         "RestingECG": "ST",
         "MaxHR": 118,
         "ExerciseAngina": "Y",
         "Oldpeak": 0,
         "ST_Slope": "Up",
         "HeartDisease": 0,
         "_deepnote_index_column": 435
        },
        {
         "Age": 58,
         "Sex": "M",
         "ChestPainType": "ASY",
         "RestingBP": 116,
         "Cholesterol": 0,
         "FastingBS": 0,
         "RestingECG": "Normal",
         "MaxHR": 124,
         "ExerciseAngina": "N",
         "Oldpeak": 1,
         "ST_Slope": "Up",
         "HeartDisease": 1,
         "_deepnote_index_column": 436
        },
        {
         "Age": 64,
         "Sex": "M",
         "ChestPainType": "ASY",
         "RestingBP": 120,
         "Cholesterol": 0,
         "FastingBS": 1,
         "RestingECG": "ST",
         "MaxHR": 106,
         "ExerciseAngina": "N",
         "Oldpeak": 2,
         "ST_Slope": "Flat",
         "HeartDisease": 1,
         "_deepnote_index_column": 437
        },
        {
         "Age": 63,
         "Sex": "M",
         "ChestPainType": "NAP",
         "RestingBP": 130,
         "Cholesterol": 0,
         "FastingBS": 0,
         "RestingECG": "ST",
         "MaxHR": 111,
         "ExerciseAngina": "Y",
         "Oldpeak": 0,
         "ST_Slope": "Flat",
         "HeartDisease": 1,
         "_deepnote_index_column": 438
        },
        {
         "Age": 74,
         "Sex": "M",
         "ChestPainType": "NAP",
         "RestingBP": 138,
         "Cholesterol": 0,
         "FastingBS": 0,
         "RestingECG": "Normal",
         "MaxHR": 116,
         "ExerciseAngina": "N",
         "Oldpeak": 0.2,
         "ST_Slope": "Up",
         "HeartDisease": 0,
         "_deepnote_index_column": 439
        },
        {
         "Age": 52,
         "Sex": "M",
         "ChestPainType": "NAP",
         "RestingBP": 128,
         "Cholesterol": 0,
         "FastingBS": 0,
         "RestingECG": "ST",
         "MaxHR": 180,
         "ExerciseAngina": "N",
         "Oldpeak": 3,
         "ST_Slope": "Up",
         "HeartDisease": 1,
         "_deepnote_index_column": 440
        },
        {
         "Age": 69,
         "Sex": "M",
         "ChestPainType": "ASY",
         "RestingBP": 130,
         "Cholesterol": 0,
         "FastingBS": 1,
         "RestingECG": "ST",
         "MaxHR": 129,
         "ExerciseAngina": "N",
         "Oldpeak": 1,
         "ST_Slope": "Flat",
         "HeartDisease": 1,
         "_deepnote_index_column": 441
        },
        {
         "Age": 51,
         "Sex": "M",
         "ChestPainType": "ASY",
         "RestingBP": 128,
         "Cholesterol": 0,
         "FastingBS": 1,
         "RestingECG": "ST",
         "MaxHR": 125,
         "ExerciseAngina": "Y",
         "Oldpeak": 1.2,
         "ST_Slope": "Flat",
         "HeartDisease": 1,
         "_deepnote_index_column": 442
        },
        {
         "Age": 54,
         "Sex": "M",
         "ChestPainType": "ASY",
         "RestingBP": 130,
         "Cholesterol": 0,
         "FastingBS": 0,
         "RestingECG": "ST",
         "MaxHR": 117,
         "ExerciseAngina": "Y",
         "Oldpeak": 1.4,
         "ST_Slope": "Flat",
         "HeartDisease": 1,
         "_deepnote_index_column": 446
        },
        {
         "Age": 52,
         "Sex": "M",
         "ChestPainType": "NAP",
         "RestingBP": 122,
         "Cholesterol": 0,
         "FastingBS": 0,
         "RestingECG": "Normal",
         "MaxHR": 110,
         "ExerciseAngina": "Y",
         "Oldpeak": 2,
         "ST_Slope": "Down",
         "HeartDisease": 1,
         "_deepnote_index_column": 450
        },
        {
         "Age": 64,
         "Sex": "M",
         "ChestPainType": "ASY",
         "RestingBP": 144,
         "Cholesterol": 0,
         "FastingBS": 0,
         "RestingECG": "ST",
         "MaxHR": 122,
         "ExerciseAngina": "Y",
         "Oldpeak": 1,
         "ST_Slope": "Flat",
         "HeartDisease": 1,
         "_deepnote_index_column": 451
        },
        {
         "Age": 60,
         "Sex": "M",
         "ChestPainType": "ASY",
         "RestingBP": 120,
         "Cholesterol": 0,
         "FastingBS": 0,
         "RestingECG": "Normal",
         "MaxHR": 133,
         "ExerciseAngina": "Y",
         "Oldpeak": 2,
         "ST_Slope": "Up",
         "HeartDisease": 0,
         "_deepnote_index_column": 453
        },
        {
         "Age": 59,
         "Sex": "M",
         "ChestPainType": "ASY",
         "RestingBP": 154,
         "Cholesterol": 0,
         "FastingBS": 0,
         "RestingECG": "ST",
         "MaxHR": 131,
         "ExerciseAngina": "Y",
         "Oldpeak": 1.5,
         "ST_Slope": "Up",
         "HeartDisease": 0,
         "_deepnote_index_column": 455
        },
        {
         "Age": 61,
         "Sex": "M",
         "ChestPainType": "NAP",
         "RestingBP": 120,
         "Cholesterol": 0,
         "FastingBS": 0,
         "RestingECG": "Normal",
         "MaxHR": 80,
         "ExerciseAngina": "Y",
         "Oldpeak": 0,
         "ST_Slope": "Flat",
         "HeartDisease": 1,
         "_deepnote_index_column": 456
        },
        {
         "Age": 40,
         "Sex": "M",
         "ChestPainType": "ASY",
         "RestingBP": 125,
         "Cholesterol": 0,
         "FastingBS": 1,
         "RestingECG": "Normal",
         "MaxHR": 165,
         "ExerciseAngina": "N",
         "Oldpeak": 0,
         "ST_Slope": "Flat",
         "HeartDisease": 1,
         "_deepnote_index_column": 457
        },
        {
         "Age": 61,
         "Sex": "M",
         "ChestPainType": "ASY",
         "RestingBP": 134,
         "Cholesterol": 0,
         "FastingBS": 1,
         "RestingECG": "ST",
         "MaxHR": 86,
         "ExerciseAngina": "N",
         "Oldpeak": 1.5,
         "ST_Slope": "Flat",
         "HeartDisease": 1,
         "_deepnote_index_column": 458
        },
        {
         "Age": 41,
         "Sex": "M",
         "ChestPainType": "ASY",
         "RestingBP": 104,
         "Cholesterol": 0,
         "FastingBS": 0,
         "RestingECG": "ST",
         "MaxHR": 111,
         "ExerciseAngina": "N",
         "Oldpeak": 0,
         "ST_Slope": "Up",
         "HeartDisease": 0,
         "_deepnote_index_column": 459
        },
        {
         "Age": 63,
         "Sex": "M",
         "ChestPainType": "ASY",
         "RestingBP": 136,
         "Cholesterol": 0,
         "FastingBS": 0,
         "RestingECG": "Normal",
         "MaxHR": 84,
         "ExerciseAngina": "Y",
         "Oldpeak": 0,
         "ST_Slope": "Flat",
         "HeartDisease": 1,
         "_deepnote_index_column": 461
        },
        {
         "Age": 51,
         "Sex": "M",
         "ChestPainType": "ASY",
         "RestingBP": 128,
         "Cholesterol": 0,
         "FastingBS": 0,
         "RestingECG": "Normal",
         "MaxHR": 107,
         "ExerciseAngina": "N",
         "Oldpeak": 0,
         "ST_Slope": "Up",
         "HeartDisease": 0,
         "_deepnote_index_column": 463
        },
        {
         "Age": 59,
         "Sex": "M",
         "ChestPainType": "NAP",
         "RestingBP": 131,
         "Cholesterol": 0,
         "FastingBS": 0,
         "RestingECG": "Normal",
         "MaxHR": 128,
         "ExerciseAngina": "Y",
         "Oldpeak": 2,
         "ST_Slope": "Down",
         "HeartDisease": 1,
         "_deepnote_index_column": 464
        },
        {
         "Age": 55,
         "Sex": "M",
         "ChestPainType": "NAP",
         "RestingBP": 120,
         "Cholesterol": 0,
         "FastingBS": 0,
         "RestingECG": "ST",
         "MaxHR": 125,
         "ExerciseAngina": "Y",
         "Oldpeak": 2.5,
         "ST_Slope": "Flat",
         "HeartDisease": 1,
         "_deepnote_index_column": 466
        },
        {
         "Age": 63,
         "Sex": "F",
         "ChestPainType": "ATA",
         "RestingBP": 132,
         "Cholesterol": 0,
         "FastingBS": 0,
         "RestingECG": "Normal",
         "MaxHR": 130,
         "ExerciseAngina": "N",
         "Oldpeak": 0.1,
         "ST_Slope": "Up",
         "HeartDisease": 0,
         "_deepnote_index_column": 467
        },
        {
         "Age": 53,
         "Sex": "M",
         "ChestPainType": "ASY",
         "RestingBP": 126,
         "Cholesterol": 0,
         "FastingBS": 0,
         "RestingECG": "Normal",
         "MaxHR": 106,
         "ExerciseAngina": "N",
         "Oldpeak": 0,
         "ST_Slope": "Flat",
         "HeartDisease": 1,
         "_deepnote_index_column": 470
        },
        {
         "Age": 68,
         "Sex": "M",
         "ChestPainType": "ASY",
         "RestingBP": 138,
         "Cholesterol": 0,
         "FastingBS": 0,
         "RestingECG": "Normal",
         "MaxHR": 130,
         "ExerciseAngina": "Y",
         "Oldpeak": 3,
         "ST_Slope": "Flat",
         "HeartDisease": 1,
         "_deepnote_index_column": 471
        },
        {
         "Age": 53,
         "Sex": "M",
         "ChestPainType": "ASY",
         "RestingBP": 154,
         "Cholesterol": 0,
         "FastingBS": 1,
         "RestingECG": "ST",
         "MaxHR": 140,
         "ExerciseAngina": "Y",
         "Oldpeak": 1.5,
         "ST_Slope": "Flat",
         "HeartDisease": 1,
         "_deepnote_index_column": 472
        },
        {
         "Age": 62,
         "Sex": "M",
         "ChestPainType": "ATA",
         "RestingBP": 131,
         "Cholesterol": 0,
         "FastingBS": 0,
         "RestingECG": "Normal",
         "MaxHR": 130,
         "ExerciseAngina": "N",
         "Oldpeak": 0.1,
         "ST_Slope": "Up",
         "HeartDisease": 0,
         "_deepnote_index_column": 474
        },
        {
         "Age": 59,
         "Sex": "M",
         "ChestPainType": "ASY",
         "RestingBP": 178,
         "Cholesterol": 0,
         "FastingBS": 1,
         "RestingECG": "LVH",
         "MaxHR": 120,
         "ExerciseAngina": "Y",
         "Oldpeak": 0,
         "ST_Slope": "Flat",
         "HeartDisease": 1,
         "_deepnote_index_column": 475
        },
        {
         "Age": 61,
         "Sex": "M",
         "ChestPainType": "ASY",
         "RestingBP": 110,
         "Cholesterol": 0,
         "FastingBS": 1,
         "RestingECG": "Normal",
         "MaxHR": 108,
         "ExerciseAngina": "Y",
         "Oldpeak": 2,
         "ST_Slope": "Down",
         "HeartDisease": 1,
         "_deepnote_index_column": 477
        },
        {
         "Age": 56,
         "Sex": "M",
         "ChestPainType": "NAP",
         "RestingBP": 170,
         "Cholesterol": 0,
         "FastingBS": 0,
         "RestingECG": "LVH",
         "MaxHR": 123,
         "ExerciseAngina": "Y",
         "Oldpeak": 2.5,
         "ST_Slope": "Flat",
         "HeartDisease": 1,
         "_deepnote_index_column": 479
        },
        {
         "Age": 58,
         "Sex": "M",
         "ChestPainType": "ATA",
         "RestingBP": 126,
         "Cholesterol": 0,
         "FastingBS": 1,
         "RestingECG": "Normal",
         "MaxHR": 110,
         "ExerciseAngina": "Y",
         "Oldpeak": 2,
         "ST_Slope": "Flat",
         "HeartDisease": 1,
         "_deepnote_index_column": 480
        },
        {
         "Age": 69,
         "Sex": "M",
         "ChestPainType": "NAP",
         "RestingBP": 140,
         "Cholesterol": 0,
         "FastingBS": 1,
         "RestingECG": "ST",
         "MaxHR": 118,
         "ExerciseAngina": "N",
         "Oldpeak": 2.5,
         "ST_Slope": "Down",
         "HeartDisease": 1,
         "_deepnote_index_column": 481
        },
        {
         "Age": 58,
         "Sex": "M",
         "ChestPainType": "ASY",
         "RestingBP": 120,
         "Cholesterol": 0,
         "FastingBS": 0,
         "RestingECG": "LVH",
         "MaxHR": 106,
         "ExerciseAngina": "Y",
         "Oldpeak": 1.5,
         "ST_Slope": "Down",
         "HeartDisease": 1,
         "_deepnote_index_column": 483
        },
        {
         "Age": 65,
         "Sex": "M",
         "ChestPainType": "ASY",
         "RestingBP": 134,
         "Cholesterol": 0,
         "FastingBS": 0,
         "RestingECG": "Normal",
         "MaxHR": 112,
         "ExerciseAngina": "Y",
         "Oldpeak": 1.1,
         "ST_Slope": "Flat",
         "HeartDisease": 1,
         "_deepnote_index_column": 484
        },
        {
         "Age": 49,
         "Sex": "M",
         "ChestPainType": "TA",
         "RestingBP": 130,
         "Cholesterol": 0,
         "FastingBS": 0,
         "RestingECG": "ST",
         "MaxHR": 145,
         "ExerciseAngina": "N",
         "Oldpeak": 3,
         "ST_Slope": "Flat",
         "HeartDisease": 1,
         "_deepnote_index_column": 492
        },
        {
         "Age": 67,
         "Sex": "M",
         "ChestPainType": "ASY",
         "RestingBP": 120,
         "Cholesterol": 0,
         "FastingBS": 1,
         "RestingECG": "Normal",
         "MaxHR": 150,
         "ExerciseAngina": "N",
         "Oldpeak": 1.5,
         "ST_Slope": "Down",
         "HeartDisease": 1,
         "_deepnote_index_column": 508
        },
        {
         "Age": 43,
         "Sex": "M",
         "ChestPainType": "ASY",
         "RestingBP": 122,
         "Cholesterol": 0,
         "FastingBS": 0,
         "RestingECG": "Normal",
         "MaxHR": 120,
         "ExerciseAngina": "N",
         "Oldpeak": 0.5,
         "ST_Slope": "Up",
         "HeartDisease": 1,
         "_deepnote_index_column": 514
        },
        {
         "Age": 63,
         "Sex": "M",
         "ChestPainType": "NAP",
         "RestingBP": 130,
         "Cholesterol": 0,
         "FastingBS": 1,
         "RestingECG": "ST",
         "MaxHR": 160,
         "ExerciseAngina": "N",
         "Oldpeak": 3,
         "ST_Slope": "Flat",
         "HeartDisease": 0,
         "_deepnote_index_column": 515
        },
        {
         "Age": 48,
         "Sex": "M",
         "ChestPainType": "NAP",
         "RestingBP": 102,
         "Cholesterol": 0,
         "FastingBS": 1,
         "RestingECG": "ST",
         "MaxHR": 110,
         "ExerciseAngina": "Y",
         "Oldpeak": 1,
         "ST_Slope": "Down",
         "HeartDisease": 1,
         "_deepnote_index_column": 518
        },
        {
         "Age": 56,
         "Sex": "M",
         "ChestPainType": "ASY",
         "RestingBP": 130,
         "Cholesterol": 0,
         "FastingBS": 0,
         "RestingECG": "LVH",
         "MaxHR": 122,
         "ExerciseAngina": "Y",
         "Oldpeak": 1,
         "ST_Slope": "Flat",
         "HeartDisease": 1,
         "_deepnote_index_column": 535
        },
        {
         "Age": 62,
         "Sex": "M",
         "ChestPainType": "NAP",
         "RestingBP": 133,
         "Cholesterol": 0,
         "FastingBS": 1,
         "RestingECG": "ST",
         "MaxHR": 119,
         "ExerciseAngina": "Y",
         "Oldpeak": 1.2,
         "ST_Slope": "Flat",
         "HeartDisease": 1,
         "_deepnote_index_column": 536
        }
       ]
      },
      "text/plain": "     Age Sex ChestPainType  RestingBP  Cholesterol  FastingBS RestingECG  \\\n293   65   M           ASY        115            0          0     Normal   \n294   32   M            TA         95            0          1     Normal   \n295   61   M           ASY        105            0          1     Normal   \n296   50   M           ASY        145            0          1     Normal   \n297   57   M           ASY        110            0          1         ST   \n..   ...  ..           ...        ...          ...        ...        ...   \n514   43   M           ASY        122            0          0     Normal   \n515   63   M           NAP        130            0          1         ST   \n518   48   M           NAP        102            0          1         ST   \n535   56   M           ASY        130            0          0        LVH   \n536   62   M           NAP        133            0          1         ST   \n\n     MaxHR ExerciseAngina  Oldpeak ST_Slope  HeartDisease  \n293     93              Y      0.0     Flat             1  \n294    127              N      0.7       Up             1  \n295    110              Y      1.5       Up             1  \n296    139              Y      0.7     Flat             1  \n297    131              Y      1.4       Up             1  \n..     ...            ...      ...      ...           ...  \n514    120              N      0.5       Up             1  \n515    160              N      3.0     Flat             0  \n518    110              Y      1.0     Down             1  \n535    122              Y      1.0     Flat             1  \n536    119              Y      1.2     Flat             1  \n\n[171 rows x 12 columns]",
      "text/html": "<div>\n<style scoped>\n    .dataframe tbody tr th:only-of-type {\n        vertical-align: middle;\n    }\n\n    .dataframe tbody tr th {\n        vertical-align: top;\n    }\n\n    .dataframe thead th {\n        text-align: right;\n    }\n</style>\n<table border=\"1\" class=\"dataframe\">\n  <thead>\n    <tr style=\"text-align: right;\">\n      <th></th>\n      <th>Age</th>\n      <th>Sex</th>\n      <th>ChestPainType</th>\n      <th>RestingBP</th>\n      <th>Cholesterol</th>\n      <th>FastingBS</th>\n      <th>RestingECG</th>\n      <th>MaxHR</th>\n      <th>ExerciseAngina</th>\n      <th>Oldpeak</th>\n      <th>ST_Slope</th>\n      <th>HeartDisease</th>\n    </tr>\n  </thead>\n  <tbody>\n    <tr>\n      <th>293</th>\n      <td>65</td>\n      <td>M</td>\n      <td>ASY</td>\n      <td>115</td>\n      <td>0</td>\n      <td>0</td>\n      <td>Normal</td>\n      <td>93</td>\n      <td>Y</td>\n      <td>0.0</td>\n      <td>Flat</td>\n      <td>1</td>\n    </tr>\n    <tr>\n      <th>294</th>\n      <td>32</td>\n      <td>M</td>\n      <td>TA</td>\n      <td>95</td>\n      <td>0</td>\n      <td>1</td>\n      <td>Normal</td>\n      <td>127</td>\n      <td>N</td>\n      <td>0.7</td>\n      <td>Up</td>\n      <td>1</td>\n    </tr>\n    <tr>\n      <th>295</th>\n      <td>61</td>\n      <td>M</td>\n      <td>ASY</td>\n      <td>105</td>\n      <td>0</td>\n      <td>1</td>\n      <td>Normal</td>\n      <td>110</td>\n      <td>Y</td>\n      <td>1.5</td>\n      <td>Up</td>\n      <td>1</td>\n    </tr>\n    <tr>\n      <th>296</th>\n      <td>50</td>\n      <td>M</td>\n      <td>ASY</td>\n      <td>145</td>\n      <td>0</td>\n      <td>1</td>\n      <td>Normal</td>\n      <td>139</td>\n      <td>Y</td>\n      <td>0.7</td>\n      <td>Flat</td>\n      <td>1</td>\n    </tr>\n    <tr>\n      <th>297</th>\n      <td>57</td>\n      <td>M</td>\n      <td>ASY</td>\n      <td>110</td>\n      <td>0</td>\n      <td>1</td>\n      <td>ST</td>\n      <td>131</td>\n      <td>Y</td>\n      <td>1.4</td>\n      <td>Up</td>\n      <td>1</td>\n    </tr>\n    <tr>\n      <th>...</th>\n      <td>...</td>\n      <td>...</td>\n      <td>...</td>\n      <td>...</td>\n      <td>...</td>\n      <td>...</td>\n      <td>...</td>\n      <td>...</td>\n      <td>...</td>\n      <td>...</td>\n      <td>...</td>\n      <td>...</td>\n    </tr>\n    <tr>\n      <th>514</th>\n      <td>43</td>\n      <td>M</td>\n      <td>ASY</td>\n      <td>122</td>\n      <td>0</td>\n      <td>0</td>\n      <td>Normal</td>\n      <td>120</td>\n      <td>N</td>\n      <td>0.5</td>\n      <td>Up</td>\n      <td>1</td>\n    </tr>\n    <tr>\n      <th>515</th>\n      <td>63</td>\n      <td>M</td>\n      <td>NAP</td>\n      <td>130</td>\n      <td>0</td>\n      <td>1</td>\n      <td>ST</td>\n      <td>160</td>\n      <td>N</td>\n      <td>3.0</td>\n      <td>Flat</td>\n      <td>0</td>\n    </tr>\n    <tr>\n      <th>518</th>\n      <td>48</td>\n      <td>M</td>\n      <td>NAP</td>\n      <td>102</td>\n      <td>0</td>\n      <td>1</td>\n      <td>ST</td>\n      <td>110</td>\n      <td>Y</td>\n      <td>1.0</td>\n      <td>Down</td>\n      <td>1</td>\n    </tr>\n    <tr>\n      <th>535</th>\n      <td>56</td>\n      <td>M</td>\n      <td>ASY</td>\n      <td>130</td>\n      <td>0</td>\n      <td>0</td>\n      <td>LVH</td>\n      <td>122</td>\n      <td>Y</td>\n      <td>1.0</td>\n      <td>Flat</td>\n      <td>1</td>\n    </tr>\n    <tr>\n      <th>536</th>\n      <td>62</td>\n      <td>M</td>\n      <td>NAP</td>\n      <td>133</td>\n      <td>0</td>\n      <td>1</td>\n      <td>ST</td>\n      <td>119</td>\n      <td>Y</td>\n      <td>1.2</td>\n      <td>Flat</td>\n      <td>1</td>\n    </tr>\n  </tbody>\n</table>\n<p>171 rows × 12 columns</p>\n</div>"
     },
     "metadata": {}
    }
   ],
   "execution_count": null
  },
  {
   "cell_type": "code",
   "metadata": {
    "tags": [],
    "cell_id": "00027-fd9b8ad9-ff18-41af-8191-d8de6d5b0011",
    "deepnote_to_be_reexecuted": false,
    "source_hash": "da8af697",
    "execution_start": 1638836514306,
    "execution_millis": 799,
    "deepnote_output_heights": [
     null,
     402,
     402,
     402,
     402,
     402
    ],
    "deepnote_app_coordinates": {
     "x": 0,
     "y": 168,
     "w": 12,
     "h": 5
    },
    "deepnote_cell_type": "code"
   },
   "source": "df_chol_is_not_zero = df[df[\"Cholesterol\"] != 0]\nprint(df_chol_is_not_zero.shape) # confirm the dataframe shape without outliers\n\n# plot numeric categories without outliers\nfor col in num_columns:\n    fig = px.histogram(df_chol_is_not_zero, x=col, color=\"HeartDisease\", marginal=\"box\", width=600, height=400, title = \"Exploring \" + col + \" column (without Cholesterol outliers)\")\n    fig.update_traces(marker_line_width = 1, marker_line_color=\"black\")\n    fig.show()",
   "outputs": [
    {
     "name": "stdout",
     "text": "(746, 12)\n",
     "output_type": "stream"
    },
    {
     "data": {
      "text/html": "<html>\n<head><meta charset=\"utf-8\" /></head>\n<body>\n    <div>            <script src=\"https://cdnjs.cloudflare.com/ajax/libs/mathjax/2.7.5/MathJax.js?config=TeX-AMS-MML_SVG\"></script><script type=\"text/javascript\">if (window.MathJax) {MathJax.Hub.Config({SVG: {font: \"STIX-Web\"}});}</script>                <script type=\"text/javascript\">window.PlotlyConfig = {MathJaxConfig: 'local'};</script>\n        <script src=\"https://cdn.plot.ly/plotly-2.4.2.min.js\"></script>                <div id=\"8ae877e8-e051-4c29-bb57-1e9c3adf0771\" class=\"plotly-graph-div\" style=\"height:400px; width:600px;\"></div>            <script type=\"text/javascript\">                                    window.PLOTLYENV=window.PLOTLYENV || {};                                    if (document.getElementById(\"8ae877e8-e051-4c29-bb57-1e9c3adf0771\")) {                    Plotly.newPlot(                        \"8ae877e8-e051-4c29-bb57-1e9c3adf0771\",                        [{\"alignmentgroup\":\"True\",\"bingroup\":\"x\",\"hovertemplate\":\"HeartDisease=0<br>Age=%{x}<br>count=%{y}<extra></extra>\",\"legendgroup\":\"0\",\"marker\":{\"color\":\"#636efa\",\"line\":{\"color\":\"black\",\"width\":1},\"pattern\":{\"shape\":\"\"}},\"name\":\"0\",\"offsetgroup\":\"0\",\"orientation\":\"v\",\"showlegend\":true,\"type\":\"histogram\",\"x\":[40,37,54,39,45,54,48,37,39,42,54,43,43,44,49,40,36,53,52,53,51,56,43,32,41,48,48,54,35,52,59,37,50,36,45,41,52,51,54,49,43,45,50,37,45,32,44,44,44,46,35,52,55,54,52,53,55,49,39,52,39,43,39,56,41,51,57,48,34,50,39,59,47,38,49,35,52,46,58,54,34,48,54,42,38,61,43,39,53,39,42,43,50,39,48,40,55,41,49,54,47,42,52,48,58,58,29,40,53,49,59,37,46,51,46,54,58,50,46,50,48,45,41,62,49,42,57,47,46,42,31,56,50,35,28,56,56,30,54,55,29,48,33,55,53,41,37,37,40,38,41,54,39,55,43,54,61,62,53,55,36,51,55,46,54,54,34,47,45,32,55,45,59,57,54,60,51,55,42,51,59,53,48,36,48,47,53,44,66,56,62,42,56,51,55,65,58,51,40,60,35,64,55,45,61,57,61,48,68,62,53,75,54,54,59,41,69,37,63,58,55,57,68,51,62,58,67,64,74,65,59,53,44,57,71,64,40,48,43,47,54,48,46,51,71,66,37,42,48,62,44,46,58,52,65,63,45,41,60,57,44,60,63,51,44,57,70,76,67,45,39,42,56,41,57,42,62,59,41,59,66,64,50,44,49,51,45,41,54,42,49,66,65,54,54,52,52,42,54,46,67,34,57,59,51,41,41,50,54,64,51,46,45,56,55,43,64,50,53,45,69,68,34,50,42,42,53,43,52,62,54,54,48,55,58,54,69,68,52,60,58,37,51,43,29,41,63,51,54,44,57,35,41,58,52,45,62,53,47,52,39,53,51,65,44,51,59,71,61,43,58,49,52,44,56,57,53,52,64,66,39,58,47,35,58,56,56,55,41,38],\"xaxis\":\"x\",\"yaxis\":\"y\"},{\"alignmentgroup\":\"True\",\"hovertemplate\":\"HeartDisease=0<br>Age=%{x}<extra></extra>\",\"legendgroup\":\"0\",\"marker\":{\"color\":\"#636efa\",\"line\":{\"color\":\"black\",\"width\":1}},\"name\":\"0\",\"notched\":true,\"offsetgroup\":\"0\",\"showlegend\":false,\"type\":\"box\",\"x\":[40,37,54,39,45,54,48,37,39,42,54,43,43,44,49,40,36,53,52,53,51,56,43,32,41,48,48,54,35,52,59,37,50,36,45,41,52,51,54,49,43,45,50,37,45,32,44,44,44,46,35,52,55,54,52,53,55,49,39,52,39,43,39,56,41,51,57,48,34,50,39,59,47,38,49,35,52,46,58,54,34,48,54,42,38,61,43,39,53,39,42,43,50,39,48,40,55,41,49,54,47,42,52,48,58,58,29,40,53,49,59,37,46,51,46,54,58,50,46,50,48,45,41,62,49,42,57,47,46,42,31,56,50,35,28,56,56,30,54,55,29,48,33,55,53,41,37,37,40,38,41,54,39,55,43,54,61,62,53,55,36,51,55,46,54,54,34,47,45,32,55,45,59,57,54,60,51,55,42,51,59,53,48,36,48,47,53,44,66,56,62,42,56,51,55,65,58,51,40,60,35,64,55,45,61,57,61,48,68,62,53,75,54,54,59,41,69,37,63,58,55,57,68,51,62,58,67,64,74,65,59,53,44,57,71,64,40,48,43,47,54,48,46,51,71,66,37,42,48,62,44,46,58,52,65,63,45,41,60,57,44,60,63,51,44,57,70,76,67,45,39,42,56,41,57,42,62,59,41,59,66,64,50,44,49,51,45,41,54,42,49,66,65,54,54,52,52,42,54,46,67,34,57,59,51,41,41,50,54,64,51,46,45,56,55,43,64,50,53,45,69,68,34,50,42,42,53,43,52,62,54,54,48,55,58,54,69,68,52,60,58,37,51,43,29,41,63,51,54,44,57,35,41,58,52,45,62,53,47,52,39,53,51,65,44,51,59,71,61,43,58,49,52,44,56,57,53,52,64,66,39,58,47,35,58,56,56,55,41,38],\"xaxis\":\"x2\",\"yaxis\":\"y2\"},{\"alignmentgroup\":\"True\",\"bingroup\":\"x\",\"hovertemplate\":\"HeartDisease=1<br>Age=%{x}<br>count=%{y}<extra></extra>\",\"legendgroup\":\"1\",\"marker\":{\"color\":\"#EF553B\",\"line\":{\"color\":\"black\",\"width\":1},\"pattern\":{\"shape\":\"\"}},\"name\":\"1\",\"offsetgroup\":\"1\",\"orientation\":\"v\",\"showlegend\":true,\"type\":\"histogram\",\"x\":[49,48,37,58,49,38,60,36,44,53,54,41,65,54,43,41,50,47,31,58,52,46,52,57,52,55,32,49,63,56,66,65,43,48,58,65,40,40,46,57,33,38,59,34,47,58,46,56,56,49,54,43,52,50,47,56,54,56,38,44,59,49,46,50,52,43,54,52,52,58,41,53,53,35,54,48,50,47,39,46,51,50,38,41,55,48,48,54,55,48,54,48,45,49,44,48,55,46,59,47,52,54,55,51,52,49,63,60,55,65,60,63,46,60,56,55,77,63,60,58,57,59,62,60,57,67,63,57,54,72,75,51,60,64,61,67,62,65,63,69,62,55,75,58,63,62,68,65,63,61,50,59,65,49,72,50,64,55,63,59,74,54,62,76,54,70,48,61,66,55,71,74,58,56,58,64,55,57,61,71,38,55,56,69,64,72,69,56,62,67,57,69,51,48,69,64,57,53,67,74,61,64,58,60,57,55,56,61,61,74,62,53,62,46,54,55,62,70,57,56,59,60,63,61,46,53,67,58,57,59,50,48,61,59,40,59,49,44,66,65,42,61,59,62,51,57,58,47,61,45,58,35,58,50,61,54,54,52,47,58,67,57,63,48,60,59,55,60,46,56,56,49,54,57,62,60,63,66,64,56,64,50,54,53,52,40,58,55,66,38,62,58,65,69,67,62,51,46,67,56,41,56,70,70,35,77,58,60,51,55,64,59,58,54,65,63,62,43,61,39,52,62,43,68,62,60,65,60,60,54,44,55,64,60,58,48,67,43,52,59,57,57,55,61,58,58,67,44,63,63,59,57,45,68,57,57],\"xaxis\":\"x\",\"yaxis\":\"y\"},{\"alignmentgroup\":\"True\",\"hovertemplate\":\"HeartDisease=1<br>Age=%{x}<extra></extra>\",\"legendgroup\":\"1\",\"marker\":{\"color\":\"#EF553B\",\"line\":{\"color\":\"black\",\"width\":1}},\"name\":\"1\",\"notched\":true,\"offsetgroup\":\"1\",\"showlegend\":false,\"type\":\"box\",\"x\":[49,48,37,58,49,38,60,36,44,53,54,41,65,54,43,41,50,47,31,58,52,46,52,57,52,55,32,49,63,56,66,65,43,48,58,65,40,40,46,57,33,38,59,34,47,58,46,56,56,49,54,43,52,50,47,56,54,56,38,44,59,49,46,50,52,43,54,52,52,58,41,53,53,35,54,48,50,47,39,46,51,50,38,41,55,48,48,54,55,48,54,48,45,49,44,48,55,46,59,47,52,54,55,51,52,49,63,60,55,65,60,63,46,60,56,55,77,63,60,58,57,59,62,60,57,67,63,57,54,72,75,51,60,64,61,67,62,65,63,69,62,55,75,58,63,62,68,65,63,61,50,59,65,49,72,50,64,55,63,59,74,54,62,76,54,70,48,61,66,55,71,74,58,56,58,64,55,57,61,71,38,55,56,69,64,72,69,56,62,67,57,69,51,48,69,64,57,53,67,74,61,64,58,60,57,55,56,61,61,74,62,53,62,46,54,55,62,70,57,56,59,60,63,61,46,53,67,58,57,59,50,48,61,59,40,59,49,44,66,65,42,61,59,62,51,57,58,47,61,45,58,35,58,50,61,54,54,52,47,58,67,57,63,48,60,59,55,60,46,56,56,49,54,57,62,60,63,66,64,56,64,50,54,53,52,40,58,55,66,38,62,58,65,69,67,62,51,46,67,56,41,56,70,70,35,77,58,60,51,55,64,59,58,54,65,63,62,43,61,39,52,62,43,68,62,60,65,60,60,54,44,55,64,60,58,48,67,43,52,59,57,57,55,61,58,58,67,44,63,63,59,57,45,68,57,57],\"xaxis\":\"x2\",\"yaxis\":\"y2\"}],                        {\"barmode\":\"relative\",\"height\":400,\"legend\":{\"title\":{\"text\":\"HeartDisease\"},\"tracegroupgap\":0},\"template\":{\"data\":{\"bar\":[{\"error_x\":{\"color\":\"#2a3f5f\"},\"error_y\":{\"color\":\"#2a3f5f\"},\"marker\":{\"line\":{\"color\":\"#E5ECF6\",\"width\":0.5},\"pattern\":{\"fillmode\":\"overlay\",\"size\":10,\"solidity\":0.2}},\"type\":\"bar\"}],\"barpolar\":[{\"marker\":{\"line\":{\"color\":\"#E5ECF6\",\"width\":0.5},\"pattern\":{\"fillmode\":\"overlay\",\"size\":10,\"solidity\":0.2}},\"type\":\"barpolar\"}],\"carpet\":[{\"aaxis\":{\"endlinecolor\":\"#2a3f5f\",\"gridcolor\":\"white\",\"linecolor\":\"white\",\"minorgridcolor\":\"white\",\"startlinecolor\":\"#2a3f5f\"},\"baxis\":{\"endlinecolor\":\"#2a3f5f\",\"gridcolor\":\"white\",\"linecolor\":\"white\",\"minorgridcolor\":\"white\",\"startlinecolor\":\"#2a3f5f\"},\"type\":\"carpet\"}],\"choropleth\":[{\"colorbar\":{\"outlinewidth\":0,\"ticks\":\"\"},\"type\":\"choropleth\"}],\"contour\":[{\"colorbar\":{\"outlinewidth\":0,\"ticks\":\"\"},\"colorscale\":[[0.0,\"#0d0887\"],[0.1111111111111111,\"#46039f\"],[0.2222222222222222,\"#7201a8\"],[0.3333333333333333,\"#9c179e\"],[0.4444444444444444,\"#bd3786\"],[0.5555555555555556,\"#d8576b\"],[0.6666666666666666,\"#ed7953\"],[0.7777777777777778,\"#fb9f3a\"],[0.8888888888888888,\"#fdca26\"],[1.0,\"#f0f921\"]],\"type\":\"contour\"}],\"contourcarpet\":[{\"colorbar\":{\"outlinewidth\":0,\"ticks\":\"\"},\"type\":\"contourcarpet\"}],\"heatmap\":[{\"colorbar\":{\"outlinewidth\":0,\"ticks\":\"\"},\"colorscale\":[[0.0,\"#0d0887\"],[0.1111111111111111,\"#46039f\"],[0.2222222222222222,\"#7201a8\"],[0.3333333333333333,\"#9c179e\"],[0.4444444444444444,\"#bd3786\"],[0.5555555555555556,\"#d8576b\"],[0.6666666666666666,\"#ed7953\"],[0.7777777777777778,\"#fb9f3a\"],[0.8888888888888888,\"#fdca26\"],[1.0,\"#f0f921\"]],\"type\":\"heatmap\"}],\"heatmapgl\":[{\"colorbar\":{\"outlinewidth\":0,\"ticks\":\"\"},\"colorscale\":[[0.0,\"#0d0887\"],[0.1111111111111111,\"#46039f\"],[0.2222222222222222,\"#7201a8\"],[0.3333333333333333,\"#9c179e\"],[0.4444444444444444,\"#bd3786\"],[0.5555555555555556,\"#d8576b\"],[0.6666666666666666,\"#ed7953\"],[0.7777777777777778,\"#fb9f3a\"],[0.8888888888888888,\"#fdca26\"],[1.0,\"#f0f921\"]],\"type\":\"heatmapgl\"}],\"histogram\":[{\"marker\":{\"pattern\":{\"fillmode\":\"overlay\",\"size\":10,\"solidity\":0.2}},\"type\":\"histogram\"}],\"histogram2d\":[{\"colorbar\":{\"outlinewidth\":0,\"ticks\":\"\"},\"colorscale\":[[0.0,\"#0d0887\"],[0.1111111111111111,\"#46039f\"],[0.2222222222222222,\"#7201a8\"],[0.3333333333333333,\"#9c179e\"],[0.4444444444444444,\"#bd3786\"],[0.5555555555555556,\"#d8576b\"],[0.6666666666666666,\"#ed7953\"],[0.7777777777777778,\"#fb9f3a\"],[0.8888888888888888,\"#fdca26\"],[1.0,\"#f0f921\"]],\"type\":\"histogram2d\"}],\"histogram2dcontour\":[{\"colorbar\":{\"outlinewidth\":0,\"ticks\":\"\"},\"colorscale\":[[0.0,\"#0d0887\"],[0.1111111111111111,\"#46039f\"],[0.2222222222222222,\"#7201a8\"],[0.3333333333333333,\"#9c179e\"],[0.4444444444444444,\"#bd3786\"],[0.5555555555555556,\"#d8576b\"],[0.6666666666666666,\"#ed7953\"],[0.7777777777777778,\"#fb9f3a\"],[0.8888888888888888,\"#fdca26\"],[1.0,\"#f0f921\"]],\"type\":\"histogram2dcontour\"}],\"mesh3d\":[{\"colorbar\":{\"outlinewidth\":0,\"ticks\":\"\"},\"type\":\"mesh3d\"}],\"parcoords\":[{\"line\":{\"colorbar\":{\"outlinewidth\":0,\"ticks\":\"\"}},\"type\":\"parcoords\"}],\"pie\":[{\"automargin\":true,\"type\":\"pie\"}],\"scatter\":[{\"marker\":{\"colorbar\":{\"outlinewidth\":0,\"ticks\":\"\"}},\"type\":\"scatter\"}],\"scatter3d\":[{\"line\":{\"colorbar\":{\"outlinewidth\":0,\"ticks\":\"\"}},\"marker\":{\"colorbar\":{\"outlinewidth\":0,\"ticks\":\"\"}},\"type\":\"scatter3d\"}],\"scattercarpet\":[{\"marker\":{\"colorbar\":{\"outlinewidth\":0,\"ticks\":\"\"}},\"type\":\"scattercarpet\"}],\"scattergeo\":[{\"marker\":{\"colorbar\":{\"outlinewidth\":0,\"ticks\":\"\"}},\"type\":\"scattergeo\"}],\"scattergl\":[{\"marker\":{\"colorbar\":{\"outlinewidth\":0,\"ticks\":\"\"}},\"type\":\"scattergl\"}],\"scattermapbox\":[{\"marker\":{\"colorbar\":{\"outlinewidth\":0,\"ticks\":\"\"}},\"type\":\"scattermapbox\"}],\"scatterpolar\":[{\"marker\":{\"colorbar\":{\"outlinewidth\":0,\"ticks\":\"\"}},\"type\":\"scatterpolar\"}],\"scatterpolargl\":[{\"marker\":{\"colorbar\":{\"outlinewidth\":0,\"ticks\":\"\"}},\"type\":\"scatterpolargl\"}],\"scatterternary\":[{\"marker\":{\"colorbar\":{\"outlinewidth\":0,\"ticks\":\"\"}},\"type\":\"scatterternary\"}],\"surface\":[{\"colorbar\":{\"outlinewidth\":0,\"ticks\":\"\"},\"colorscale\":[[0.0,\"#0d0887\"],[0.1111111111111111,\"#46039f\"],[0.2222222222222222,\"#7201a8\"],[0.3333333333333333,\"#9c179e\"],[0.4444444444444444,\"#bd3786\"],[0.5555555555555556,\"#d8576b\"],[0.6666666666666666,\"#ed7953\"],[0.7777777777777778,\"#fb9f3a\"],[0.8888888888888888,\"#fdca26\"],[1.0,\"#f0f921\"]],\"type\":\"surface\"}],\"table\":[{\"cells\":{\"fill\":{\"color\":\"#EBF0F8\"},\"line\":{\"color\":\"white\"}},\"header\":{\"fill\":{\"color\":\"#C8D4E3\"},\"line\":{\"color\":\"white\"}},\"type\":\"table\"}]},\"layout\":{\"annotationdefaults\":{\"arrowcolor\":\"#2a3f5f\",\"arrowhead\":0,\"arrowwidth\":1},\"autotypenumbers\":\"strict\",\"coloraxis\":{\"colorbar\":{\"outlinewidth\":0,\"ticks\":\"\"}},\"colorscale\":{\"diverging\":[[0,\"#8e0152\"],[0.1,\"#c51b7d\"],[0.2,\"#de77ae\"],[0.3,\"#f1b6da\"],[0.4,\"#fde0ef\"],[0.5,\"#f7f7f7\"],[0.6,\"#e6f5d0\"],[0.7,\"#b8e186\"],[0.8,\"#7fbc41\"],[0.9,\"#4d9221\"],[1,\"#276419\"]],\"sequential\":[[0.0,\"#0d0887\"],[0.1111111111111111,\"#46039f\"],[0.2222222222222222,\"#7201a8\"],[0.3333333333333333,\"#9c179e\"],[0.4444444444444444,\"#bd3786\"],[0.5555555555555556,\"#d8576b\"],[0.6666666666666666,\"#ed7953\"],[0.7777777777777778,\"#fb9f3a\"],[0.8888888888888888,\"#fdca26\"],[1.0,\"#f0f921\"]],\"sequentialminus\":[[0.0,\"#0d0887\"],[0.1111111111111111,\"#46039f\"],[0.2222222222222222,\"#7201a8\"],[0.3333333333333333,\"#9c179e\"],[0.4444444444444444,\"#bd3786\"],[0.5555555555555556,\"#d8576b\"],[0.6666666666666666,\"#ed7953\"],[0.7777777777777778,\"#fb9f3a\"],[0.8888888888888888,\"#fdca26\"],[1.0,\"#f0f921\"]]},\"colorway\":[\"#636efa\",\"#EF553B\",\"#00cc96\",\"#ab63fa\",\"#FFA15A\",\"#19d3f3\",\"#FF6692\",\"#B6E880\",\"#FF97FF\",\"#FECB52\"],\"font\":{\"color\":\"#2a3f5f\"},\"geo\":{\"bgcolor\":\"white\",\"lakecolor\":\"white\",\"landcolor\":\"#E5ECF6\",\"showlakes\":true,\"showland\":true,\"subunitcolor\":\"white\"},\"hoverlabel\":{\"align\":\"left\"},\"hovermode\":\"closest\",\"mapbox\":{\"style\":\"light\"},\"paper_bgcolor\":\"white\",\"plot_bgcolor\":\"#E5ECF6\",\"polar\":{\"angularaxis\":{\"gridcolor\":\"white\",\"linecolor\":\"white\",\"ticks\":\"\"},\"bgcolor\":\"#E5ECF6\",\"radialaxis\":{\"gridcolor\":\"white\",\"linecolor\":\"white\",\"ticks\":\"\"}},\"scene\":{\"xaxis\":{\"backgroundcolor\":\"#E5ECF6\",\"gridcolor\":\"white\",\"gridwidth\":2,\"linecolor\":\"white\",\"showbackground\":true,\"ticks\":\"\",\"zerolinecolor\":\"white\"},\"yaxis\":{\"backgroundcolor\":\"#E5ECF6\",\"gridcolor\":\"white\",\"gridwidth\":2,\"linecolor\":\"white\",\"showbackground\":true,\"ticks\":\"\",\"zerolinecolor\":\"white\"},\"zaxis\":{\"backgroundcolor\":\"#E5ECF6\",\"gridcolor\":\"white\",\"gridwidth\":2,\"linecolor\":\"white\",\"showbackground\":true,\"ticks\":\"\",\"zerolinecolor\":\"white\"}},\"shapedefaults\":{\"line\":{\"color\":\"#2a3f5f\"}},\"ternary\":{\"aaxis\":{\"gridcolor\":\"white\",\"linecolor\":\"white\",\"ticks\":\"\"},\"baxis\":{\"gridcolor\":\"white\",\"linecolor\":\"white\",\"ticks\":\"\"},\"bgcolor\":\"#E5ECF6\",\"caxis\":{\"gridcolor\":\"white\",\"linecolor\":\"white\",\"ticks\":\"\"}},\"title\":{\"x\":0.05},\"xaxis\":{\"automargin\":true,\"gridcolor\":\"white\",\"linecolor\":\"white\",\"ticks\":\"\",\"title\":{\"standoff\":15},\"zerolinecolor\":\"white\",\"zerolinewidth\":2},\"yaxis\":{\"automargin\":true,\"gridcolor\":\"white\",\"linecolor\":\"white\",\"ticks\":\"\",\"title\":{\"standoff\":15},\"zerolinecolor\":\"white\",\"zerolinewidth\":2}}},\"title\":{\"text\":\"Exploring Age column (without Cholesterol outliers)\"},\"width\":600,\"xaxis\":{\"anchor\":\"y\",\"domain\":[0.0,1.0],\"title\":{\"text\":\"Age\"}},\"xaxis2\":{\"anchor\":\"y2\",\"domain\":[0.0,1.0],\"matches\":\"x\",\"showgrid\":true,\"showticklabels\":false},\"yaxis\":{\"anchor\":\"x\",\"domain\":[0.0,0.7326],\"title\":{\"text\":\"count\"}},\"yaxis2\":{\"anchor\":\"x2\",\"domain\":[0.7426,1.0],\"matches\":\"y2\",\"showgrid\":false,\"showline\":false,\"showticklabels\":false,\"ticks\":\"\"}},                        {\"responsive\": true}                    ).then(function(){\n                            \nvar gd = document.getElementById('8ae877e8-e051-4c29-bb57-1e9c3adf0771');\nvar x = new MutationObserver(function (mutations, observer) {{\n        var display = window.getComputedStyle(gd).display;\n        if (!display || display === 'none') {{\n            console.log([gd, 'removed!']);\n            Plotly.purge(gd);\n            observer.disconnect();\n        }}\n}});\n\n// Listen for the removal of the full notebook cells\nvar notebookContainer = gd.closest('#notebook-container');\nif (notebookContainer) {{\n    x.observe(notebookContainer, {childList: true});\n}}\n\n// Listen for the clearing of the current output cell\nvar outputEl = gd.closest('.output');\nif (outputEl) {{\n    x.observe(outputEl, {childList: true});\n}}\n\n                        })                };                            </script>        </div>\n</body>\n</html>"
     },
     "metadata": {},
     "output_type": "display_data"
    },
    {
     "data": {
      "text/html": "<html>\n<head><meta charset=\"utf-8\" /></head>\n<body>\n    <div>            <script src=\"https://cdnjs.cloudflare.com/ajax/libs/mathjax/2.7.5/MathJax.js?config=TeX-AMS-MML_SVG\"></script><script type=\"text/javascript\">if (window.MathJax) {MathJax.Hub.Config({SVG: {font: \"STIX-Web\"}});}</script>                <script type=\"text/javascript\">window.PlotlyConfig = {MathJaxConfig: 'local'};</script>\n        <script src=\"https://cdn.plot.ly/plotly-2.4.2.min.js\"></script>                <div id=\"bf9a5f7f-9f11-4457-a4b6-f19d6b245206\" class=\"plotly-graph-div\" style=\"height:400px; width:600px;\"></div>            <script type=\"text/javascript\">                                    window.PLOTLYENV=window.PLOTLYENV || {};                                    if (document.getElementById(\"bf9a5f7f-9f11-4457-a4b6-f19d6b245206\")) {                    Plotly.newPlot(                        \"bf9a5f7f-9f11-4457-a4b6-f19d6b245206\",                        [{\"alignmentgroup\":\"True\",\"bingroup\":\"x\",\"hovertemplate\":\"HeartDisease=0<br>RestingBP=%{x}<br>count=%{y}<extra></extra>\",\"legendgroup\":\"0\",\"marker\":{\"color\":\"#636efa\",\"line\":{\"color\":\"black\",\"width\":1},\"pattern\":{\"shape\":\"\"}},\"name\":\"0\",\"offsetgroup\":\"0\",\"orientation\":\"v\",\"showlegend\":true,\"type\":\"histogram\",\"x\":[140,130,150,120,130,110,120,130,120,115,120,120,100,120,124,130,130,124,120,113,125,130,150,125,110,120,150,150,150,140,130,120,140,112,140,130,130,160,150,100,150,140,110,120,132,110,150,130,120,150,140,140,110,120,160,140,140,110,130,120,110,142,160,120,125,130,140,120,150,140,190,130,140,140,130,120,125,110,130,120,130,108,120,120,145,130,120,120,140,110,120,120,120,130,100,130,120,120,140,160,160,120,140,140,135,140,120,140,140,140,140,130,130,130,110,160,130,120,180,170,130,135,125,160,120,150,130,110,120,160,100,130,150,120,130,130,130,170,120,140,140,120,120,120,120,120,130,130,130,120,112,140,120,145,120,120,125,140,120,130,150,150,122,140,120,160,98,130,120,105,120,180,180,180,130,120,130,110,140,110,140,120,133,120,110,140,130,130,110,126,120,134,124,132,110,140,132,132,106,136,123,130,150,130,139,110,140,132,139,120,155,160,133,132,140,150,142,118,136,100,133,130,134,114,135,140,115,128,120,120,135,142,140,128,112,110,140,130,115,112,132,130,138,120,110,160,120,130,122,124,130,101,140,128,140,140,130,105,120,150,120,150,145,140,118,120,156,140,106,104,94,120,120,130,110,148,128,178,126,140,120,140,120,108,130,100,112,110,135,120,134,150,160,125,160,136,134,140,150,142,152,118,132,138,125,112,112,120,108,130,130,105,128,120,130,110,180,110,130,138,160,120,118,129,120,102,130,130,108,140,140,108,124,135,100,110,140,118,152,102,105,130,125,122,130,130,135,94,120,120,150,138,135,150,118,115,130,138,138,120,140,130,140,155,130,110,150,160,150,150,120,130,172,120,140,140,128,138,170,146,138,130,130,122,125,130,120,132,120,138],\"xaxis\":\"x\",\"yaxis\":\"y\"},{\"alignmentgroup\":\"True\",\"hovertemplate\":\"HeartDisease=0<br>RestingBP=%{x}<extra></extra>\",\"legendgroup\":\"0\",\"marker\":{\"color\":\"#636efa\",\"line\":{\"color\":\"black\",\"width\":1}},\"name\":\"0\",\"notched\":true,\"offsetgroup\":\"0\",\"showlegend\":false,\"type\":\"box\",\"x\":[140,130,150,120,130,110,120,130,120,115,120,120,100,120,124,130,130,124,120,113,125,130,150,125,110,120,150,150,150,140,130,120,140,112,140,130,130,160,150,100,150,140,110,120,132,110,150,130,120,150,140,140,110,120,160,140,140,110,130,120,110,142,160,120,125,130,140,120,150,140,190,130,140,140,130,120,125,110,130,120,130,108,120,120,145,130,120,120,140,110,120,120,120,130,100,130,120,120,140,160,160,120,140,140,135,140,120,140,140,140,140,130,130,130,110,160,130,120,180,170,130,135,125,160,120,150,130,110,120,160,100,130,150,120,130,130,130,170,120,140,140,120,120,120,120,120,130,130,130,120,112,140,120,145,120,120,125,140,120,130,150,150,122,140,120,160,98,130,120,105,120,180,180,180,130,120,130,110,140,110,140,120,133,120,110,140,130,130,110,126,120,134,124,132,110,140,132,132,106,136,123,130,150,130,139,110,140,132,139,120,155,160,133,132,140,150,142,118,136,100,133,130,134,114,135,140,115,128,120,120,135,142,140,128,112,110,140,130,115,112,132,130,138,120,110,160,120,130,122,124,130,101,140,128,140,140,130,105,120,150,120,150,145,140,118,120,156,140,106,104,94,120,120,130,110,148,128,178,126,140,120,140,120,108,130,100,112,110,135,120,134,150,160,125,160,136,134,140,150,142,152,118,132,138,125,112,112,120,108,130,130,105,128,120,130,110,180,110,130,138,160,120,118,129,120,102,130,130,108,140,140,108,124,135,100,110,140,118,152,102,105,130,125,122,130,130,135,94,120,120,150,138,135,150,118,115,130,138,138,120,140,130,140,155,130,110,150,160,150,150,120,130,172,120,140,140,128,138,170,146,138,130,130,122,125,130,120,132,120,138],\"xaxis\":\"x2\",\"yaxis\":\"y2\"},{\"alignmentgroup\":\"True\",\"bingroup\":\"x\",\"hovertemplate\":\"HeartDisease=1<br>RestingBP=%{x}<br>count=%{y}<extra></extra>\",\"legendgroup\":\"1\",\"marker\":{\"color\":\"#EF553B\",\"line\":{\"color\":\"black\",\"width\":1},\"pattern\":{\"shape\":\"\"}},\"name\":\"1\",\"offsetgroup\":\"1\",\"orientation\":\"v\",\"showlegend\":true,\"type\":\"histogram\",\"x\":[160,138,140,136,140,110,100,120,150,145,125,130,140,130,120,110,130,120,120,130,112,120,160,140,120,140,118,130,150,150,140,170,120,160,130,130,150,120,118,150,100,120,130,140,135,180,110,170,150,115,140,150,160,140,160,120,130,155,110,130,140,128,140,140,140,140,140,130,140,160,120,180,120,110,125,106,140,150,110,130,160,145,92,120,140,160,160,200,160,160,120,122,130,130,135,120,145,120,130,140,130,130,140,135,170,150,140,132,142,150,160,170,110,130,120,136,124,160,140,136,139,122,152,141,130,142,139,140,136,120,170,137,142,142,146,160,135,136,130,140,158,136,136,110,160,112,150,150,96,120,144,124,144,131,143,133,143,116,110,125,150,130,138,104,138,170,132,142,112,172,144,145,150,137,137,134,135,144,141,130,110,158,128,140,150,160,142,137,139,146,156,145,131,140,122,141,180,124,140,140,190,130,160,130,122,120,130,140,120,155,160,144,158,134,127,122,120,130,124,130,110,140,150,134,140,140,120,112,128,170,144,130,140,160,152,126,118,110,160,150,136,138,174,120,130,150,136,108,120,142,146,120,150,150,130,124,110,125,110,100,120,165,130,124,150,140,180,158,120,200,130,120,122,152,120,117,108,112,120,125,145,140,192,123,112,110,132,140,178,120,150,128,138,140,100,138,140,150,125,134,110,132,160,145,126,125,125,125,140,160,125,170,128,110,135,130,130,132,145,118,128,160,120,180,140,130,110,140,145,120,112,132,140,130,120,110,160,132,128,134,154,110,128,148,114,170,152,120,140,124,164,140,110,144,130,130],\"xaxis\":\"x\",\"yaxis\":\"y\"},{\"alignmentgroup\":\"True\",\"hovertemplate\":\"HeartDisease=1<br>RestingBP=%{x}<extra></extra>\",\"legendgroup\":\"1\",\"marker\":{\"color\":\"#EF553B\",\"line\":{\"color\":\"black\",\"width\":1}},\"name\":\"1\",\"notched\":true,\"offsetgroup\":\"1\",\"showlegend\":false,\"type\":\"box\",\"x\":[160,138,140,136,140,110,100,120,150,145,125,130,140,130,120,110,130,120,120,130,112,120,160,140,120,140,118,130,150,150,140,170,120,160,130,130,150,120,118,150,100,120,130,140,135,180,110,170,150,115,140,150,160,140,160,120,130,155,110,130,140,128,140,140,140,140,140,130,140,160,120,180,120,110,125,106,140,150,110,130,160,145,92,120,140,160,160,200,160,160,120,122,130,130,135,120,145,120,130,140,130,130,140,135,170,150,140,132,142,150,160,170,110,130,120,136,124,160,140,136,139,122,152,141,130,142,139,140,136,120,170,137,142,142,146,160,135,136,130,140,158,136,136,110,160,112,150,150,96,120,144,124,144,131,143,133,143,116,110,125,150,130,138,104,138,170,132,142,112,172,144,145,150,137,137,134,135,144,141,130,110,158,128,140,150,160,142,137,139,146,156,145,131,140,122,141,180,124,140,140,190,130,160,130,122,120,130,140,120,155,160,144,158,134,127,122,120,130,124,130,110,140,150,134,140,140,120,112,128,170,144,130,140,160,152,126,118,110,160,150,136,138,174,120,130,150,136,108,120,142,146,120,150,150,130,124,110,125,110,100,120,165,130,124,150,140,180,158,120,200,130,120,122,152,120,117,108,112,120,125,145,140,192,123,112,110,132,140,178,120,150,128,138,140,100,138,140,150,125,134,110,132,160,145,126,125,125,125,140,160,125,170,128,110,135,130,130,132,145,118,128,160,120,180,140,130,110,140,145,120,112,132,140,130,120,110,160,132,128,134,154,110,128,148,114,170,152,120,140,124,164,140,110,144,130,130],\"xaxis\":\"x2\",\"yaxis\":\"y2\"}],                        {\"barmode\":\"relative\",\"height\":400,\"legend\":{\"title\":{\"text\":\"HeartDisease\"},\"tracegroupgap\":0},\"template\":{\"data\":{\"bar\":[{\"error_x\":{\"color\":\"#2a3f5f\"},\"error_y\":{\"color\":\"#2a3f5f\"},\"marker\":{\"line\":{\"color\":\"#E5ECF6\",\"width\":0.5},\"pattern\":{\"fillmode\":\"overlay\",\"size\":10,\"solidity\":0.2}},\"type\":\"bar\"}],\"barpolar\":[{\"marker\":{\"line\":{\"color\":\"#E5ECF6\",\"width\":0.5},\"pattern\":{\"fillmode\":\"overlay\",\"size\":10,\"solidity\":0.2}},\"type\":\"barpolar\"}],\"carpet\":[{\"aaxis\":{\"endlinecolor\":\"#2a3f5f\",\"gridcolor\":\"white\",\"linecolor\":\"white\",\"minorgridcolor\":\"white\",\"startlinecolor\":\"#2a3f5f\"},\"baxis\":{\"endlinecolor\":\"#2a3f5f\",\"gridcolor\":\"white\",\"linecolor\":\"white\",\"minorgridcolor\":\"white\",\"startlinecolor\":\"#2a3f5f\"},\"type\":\"carpet\"}],\"choropleth\":[{\"colorbar\":{\"outlinewidth\":0,\"ticks\":\"\"},\"type\":\"choropleth\"}],\"contour\":[{\"colorbar\":{\"outlinewidth\":0,\"ticks\":\"\"},\"colorscale\":[[0.0,\"#0d0887\"],[0.1111111111111111,\"#46039f\"],[0.2222222222222222,\"#7201a8\"],[0.3333333333333333,\"#9c179e\"],[0.4444444444444444,\"#bd3786\"],[0.5555555555555556,\"#d8576b\"],[0.6666666666666666,\"#ed7953\"],[0.7777777777777778,\"#fb9f3a\"],[0.8888888888888888,\"#fdca26\"],[1.0,\"#f0f921\"]],\"type\":\"contour\"}],\"contourcarpet\":[{\"colorbar\":{\"outlinewidth\":0,\"ticks\":\"\"},\"type\":\"contourcarpet\"}],\"heatmap\":[{\"colorbar\":{\"outlinewidth\":0,\"ticks\":\"\"},\"colorscale\":[[0.0,\"#0d0887\"],[0.1111111111111111,\"#46039f\"],[0.2222222222222222,\"#7201a8\"],[0.3333333333333333,\"#9c179e\"],[0.4444444444444444,\"#bd3786\"],[0.5555555555555556,\"#d8576b\"],[0.6666666666666666,\"#ed7953\"],[0.7777777777777778,\"#fb9f3a\"],[0.8888888888888888,\"#fdca26\"],[1.0,\"#f0f921\"]],\"type\":\"heatmap\"}],\"heatmapgl\":[{\"colorbar\":{\"outlinewidth\":0,\"ticks\":\"\"},\"colorscale\":[[0.0,\"#0d0887\"],[0.1111111111111111,\"#46039f\"],[0.2222222222222222,\"#7201a8\"],[0.3333333333333333,\"#9c179e\"],[0.4444444444444444,\"#bd3786\"],[0.5555555555555556,\"#d8576b\"],[0.6666666666666666,\"#ed7953\"],[0.7777777777777778,\"#fb9f3a\"],[0.8888888888888888,\"#fdca26\"],[1.0,\"#f0f921\"]],\"type\":\"heatmapgl\"}],\"histogram\":[{\"marker\":{\"pattern\":{\"fillmode\":\"overlay\",\"size\":10,\"solidity\":0.2}},\"type\":\"histogram\"}],\"histogram2d\":[{\"colorbar\":{\"outlinewidth\":0,\"ticks\":\"\"},\"colorscale\":[[0.0,\"#0d0887\"],[0.1111111111111111,\"#46039f\"],[0.2222222222222222,\"#7201a8\"],[0.3333333333333333,\"#9c179e\"],[0.4444444444444444,\"#bd3786\"],[0.5555555555555556,\"#d8576b\"],[0.6666666666666666,\"#ed7953\"],[0.7777777777777778,\"#fb9f3a\"],[0.8888888888888888,\"#fdca26\"],[1.0,\"#f0f921\"]],\"type\":\"histogram2d\"}],\"histogram2dcontour\":[{\"colorbar\":{\"outlinewidth\":0,\"ticks\":\"\"},\"colorscale\":[[0.0,\"#0d0887\"],[0.1111111111111111,\"#46039f\"],[0.2222222222222222,\"#7201a8\"],[0.3333333333333333,\"#9c179e\"],[0.4444444444444444,\"#bd3786\"],[0.5555555555555556,\"#d8576b\"],[0.6666666666666666,\"#ed7953\"],[0.7777777777777778,\"#fb9f3a\"],[0.8888888888888888,\"#fdca26\"],[1.0,\"#f0f921\"]],\"type\":\"histogram2dcontour\"}],\"mesh3d\":[{\"colorbar\":{\"outlinewidth\":0,\"ticks\":\"\"},\"type\":\"mesh3d\"}],\"parcoords\":[{\"line\":{\"colorbar\":{\"outlinewidth\":0,\"ticks\":\"\"}},\"type\":\"parcoords\"}],\"pie\":[{\"automargin\":true,\"type\":\"pie\"}],\"scatter\":[{\"marker\":{\"colorbar\":{\"outlinewidth\":0,\"ticks\":\"\"}},\"type\":\"scatter\"}],\"scatter3d\":[{\"line\":{\"colorbar\":{\"outlinewidth\":0,\"ticks\":\"\"}},\"marker\":{\"colorbar\":{\"outlinewidth\":0,\"ticks\":\"\"}},\"type\":\"scatter3d\"}],\"scattercarpet\":[{\"marker\":{\"colorbar\":{\"outlinewidth\":0,\"ticks\":\"\"}},\"type\":\"scattercarpet\"}],\"scattergeo\":[{\"marker\":{\"colorbar\":{\"outlinewidth\":0,\"ticks\":\"\"}},\"type\":\"scattergeo\"}],\"scattergl\":[{\"marker\":{\"colorbar\":{\"outlinewidth\":0,\"ticks\":\"\"}},\"type\":\"scattergl\"}],\"scattermapbox\":[{\"marker\":{\"colorbar\":{\"outlinewidth\":0,\"ticks\":\"\"}},\"type\":\"scattermapbox\"}],\"scatterpolar\":[{\"marker\":{\"colorbar\":{\"outlinewidth\":0,\"ticks\":\"\"}},\"type\":\"scatterpolar\"}],\"scatterpolargl\":[{\"marker\":{\"colorbar\":{\"outlinewidth\":0,\"ticks\":\"\"}},\"type\":\"scatterpolargl\"}],\"scatterternary\":[{\"marker\":{\"colorbar\":{\"outlinewidth\":0,\"ticks\":\"\"}},\"type\":\"scatterternary\"}],\"surface\":[{\"colorbar\":{\"outlinewidth\":0,\"ticks\":\"\"},\"colorscale\":[[0.0,\"#0d0887\"],[0.1111111111111111,\"#46039f\"],[0.2222222222222222,\"#7201a8\"],[0.3333333333333333,\"#9c179e\"],[0.4444444444444444,\"#bd3786\"],[0.5555555555555556,\"#d8576b\"],[0.6666666666666666,\"#ed7953\"],[0.7777777777777778,\"#fb9f3a\"],[0.8888888888888888,\"#fdca26\"],[1.0,\"#f0f921\"]],\"type\":\"surface\"}],\"table\":[{\"cells\":{\"fill\":{\"color\":\"#EBF0F8\"},\"line\":{\"color\":\"white\"}},\"header\":{\"fill\":{\"color\":\"#C8D4E3\"},\"line\":{\"color\":\"white\"}},\"type\":\"table\"}]},\"layout\":{\"annotationdefaults\":{\"arrowcolor\":\"#2a3f5f\",\"arrowhead\":0,\"arrowwidth\":1},\"autotypenumbers\":\"strict\",\"coloraxis\":{\"colorbar\":{\"outlinewidth\":0,\"ticks\":\"\"}},\"colorscale\":{\"diverging\":[[0,\"#8e0152\"],[0.1,\"#c51b7d\"],[0.2,\"#de77ae\"],[0.3,\"#f1b6da\"],[0.4,\"#fde0ef\"],[0.5,\"#f7f7f7\"],[0.6,\"#e6f5d0\"],[0.7,\"#b8e186\"],[0.8,\"#7fbc41\"],[0.9,\"#4d9221\"],[1,\"#276419\"]],\"sequential\":[[0.0,\"#0d0887\"],[0.1111111111111111,\"#46039f\"],[0.2222222222222222,\"#7201a8\"],[0.3333333333333333,\"#9c179e\"],[0.4444444444444444,\"#bd3786\"],[0.5555555555555556,\"#d8576b\"],[0.6666666666666666,\"#ed7953\"],[0.7777777777777778,\"#fb9f3a\"],[0.8888888888888888,\"#fdca26\"],[1.0,\"#f0f921\"]],\"sequentialminus\":[[0.0,\"#0d0887\"],[0.1111111111111111,\"#46039f\"],[0.2222222222222222,\"#7201a8\"],[0.3333333333333333,\"#9c179e\"],[0.4444444444444444,\"#bd3786\"],[0.5555555555555556,\"#d8576b\"],[0.6666666666666666,\"#ed7953\"],[0.7777777777777778,\"#fb9f3a\"],[0.8888888888888888,\"#fdca26\"],[1.0,\"#f0f921\"]]},\"colorway\":[\"#636efa\",\"#EF553B\",\"#00cc96\",\"#ab63fa\",\"#FFA15A\",\"#19d3f3\",\"#FF6692\",\"#B6E880\",\"#FF97FF\",\"#FECB52\"],\"font\":{\"color\":\"#2a3f5f\"},\"geo\":{\"bgcolor\":\"white\",\"lakecolor\":\"white\",\"landcolor\":\"#E5ECF6\",\"showlakes\":true,\"showland\":true,\"subunitcolor\":\"white\"},\"hoverlabel\":{\"align\":\"left\"},\"hovermode\":\"closest\",\"mapbox\":{\"style\":\"light\"},\"paper_bgcolor\":\"white\",\"plot_bgcolor\":\"#E5ECF6\",\"polar\":{\"angularaxis\":{\"gridcolor\":\"white\",\"linecolor\":\"white\",\"ticks\":\"\"},\"bgcolor\":\"#E5ECF6\",\"radialaxis\":{\"gridcolor\":\"white\",\"linecolor\":\"white\",\"ticks\":\"\"}},\"scene\":{\"xaxis\":{\"backgroundcolor\":\"#E5ECF6\",\"gridcolor\":\"white\",\"gridwidth\":2,\"linecolor\":\"white\",\"showbackground\":true,\"ticks\":\"\",\"zerolinecolor\":\"white\"},\"yaxis\":{\"backgroundcolor\":\"#E5ECF6\",\"gridcolor\":\"white\",\"gridwidth\":2,\"linecolor\":\"white\",\"showbackground\":true,\"ticks\":\"\",\"zerolinecolor\":\"white\"},\"zaxis\":{\"backgroundcolor\":\"#E5ECF6\",\"gridcolor\":\"white\",\"gridwidth\":2,\"linecolor\":\"white\",\"showbackground\":true,\"ticks\":\"\",\"zerolinecolor\":\"white\"}},\"shapedefaults\":{\"line\":{\"color\":\"#2a3f5f\"}},\"ternary\":{\"aaxis\":{\"gridcolor\":\"white\",\"linecolor\":\"white\",\"ticks\":\"\"},\"baxis\":{\"gridcolor\":\"white\",\"linecolor\":\"white\",\"ticks\":\"\"},\"bgcolor\":\"#E5ECF6\",\"caxis\":{\"gridcolor\":\"white\",\"linecolor\":\"white\",\"ticks\":\"\"}},\"title\":{\"x\":0.05},\"xaxis\":{\"automargin\":true,\"gridcolor\":\"white\",\"linecolor\":\"white\",\"ticks\":\"\",\"title\":{\"standoff\":15},\"zerolinecolor\":\"white\",\"zerolinewidth\":2},\"yaxis\":{\"automargin\":true,\"gridcolor\":\"white\",\"linecolor\":\"white\",\"ticks\":\"\",\"title\":{\"standoff\":15},\"zerolinecolor\":\"white\",\"zerolinewidth\":2}}},\"title\":{\"text\":\"Exploring RestingBP column (without Cholesterol outliers)\"},\"width\":600,\"xaxis\":{\"anchor\":\"y\",\"domain\":[0.0,1.0],\"title\":{\"text\":\"RestingBP\"}},\"xaxis2\":{\"anchor\":\"y2\",\"domain\":[0.0,1.0],\"matches\":\"x\",\"showgrid\":true,\"showticklabels\":false},\"yaxis\":{\"anchor\":\"x\",\"domain\":[0.0,0.7326],\"title\":{\"text\":\"count\"}},\"yaxis2\":{\"anchor\":\"x2\",\"domain\":[0.7426,1.0],\"matches\":\"y2\",\"showgrid\":false,\"showline\":false,\"showticklabels\":false,\"ticks\":\"\"}},                        {\"responsive\": true}                    ).then(function(){\n                            \nvar gd = document.getElementById('bf9a5f7f-9f11-4457-a4b6-f19d6b245206');\nvar x = new MutationObserver(function (mutations, observer) {{\n        var display = window.getComputedStyle(gd).display;\n        if (!display || display === 'none') {{\n            console.log([gd, 'removed!']);\n            Plotly.purge(gd);\n            observer.disconnect();\n        }}\n}});\n\n// Listen for the removal of the full notebook cells\nvar notebookContainer = gd.closest('#notebook-container');\nif (notebookContainer) {{\n    x.observe(notebookContainer, {childList: true});\n}}\n\n// Listen for the clearing of the current output cell\nvar outputEl = gd.closest('.output');\nif (outputEl) {{\n    x.observe(outputEl, {childList: true});\n}}\n\n                        })                };                            </script>        </div>\n</body>\n</html>"
     },
     "metadata": {},
     "output_type": "display_data"
    },
    {
     "data": {
      "text/html": "<html>\n<head><meta charset=\"utf-8\" /></head>\n<body>\n    <div>            <script src=\"https://cdnjs.cloudflare.com/ajax/libs/mathjax/2.7.5/MathJax.js?config=TeX-AMS-MML_SVG\"></script><script type=\"text/javascript\">if (window.MathJax) {MathJax.Hub.Config({SVG: {font: \"STIX-Web\"}});}</script>                <script type=\"text/javascript\">window.PlotlyConfig = {MathJaxConfig: 'local'};</script>\n        <script src=\"https://cdn.plot.ly/plotly-2.4.2.min.js\"></script>                <div id=\"194257ad-c845-43a9-b477-7099d613739c\" class=\"plotly-graph-div\" style=\"height:400px; width:600px;\"></div>            <script type=\"text/javascript\">                                    window.PLOTLYENV=window.PLOTLYENV || {};                                    if (document.getElementById(\"194257ad-c845-43a9-b477-7099d613739c\")) {                    Plotly.newPlot(                        \"194257ad-c845-43a9-b477-7099d613739c\",                        [{\"alignmentgroup\":\"True\",\"bingroup\":\"x\",\"hovertemplate\":\"HeartDisease=0<br>Cholesterol=%{x}<br>count=%{y}<extra></extra>\",\"legendgroup\":\"0\",\"marker\":{\"color\":\"#636efa\",\"line\":{\"color\":\"black\",\"width\":1},\"pattern\":{\"shape\":\"\"}},\"name\":\"0\",\"offsetgroup\":\"0\",\"orientation\":\"v\",\"showlegend\":true,\"type\":\"histogram\",\"x\":[289,283,195,339,237,208,284,211,204,211,273,201,223,184,201,215,209,260,284,468,188,167,186,254,250,177,227,230,264,259,318,223,216,340,224,245,180,194,365,253,254,224,202,260,297,225,412,215,218,163,167,100,277,238,196,216,229,208,307,210,182,207,147,85,269,179,260,254,214,129,241,188,276,297,207,160,272,240,230,246,161,163,230,228,292,294,215,241,243,273,198,249,168,215,159,275,270,291,185,195,263,196,225,238,222,179,243,235,320,187,287,194,238,224,238,312,251,328,280,209,245,192,184,193,297,268,308,249,230,147,219,184,215,308,132,276,219,237,217,196,263,195,298,256,195,295,173,315,281,275,250,309,200,326,266,171,292,271,274,394,160,200,320,275,221,305,220,235,225,198,220,295,213,347,253,246,220,344,358,190,169,181,308,166,211,257,182,209,213,166,220,240,224,218,214,252,458,227,240,195,161,223,160,236,283,197,298,272,181,220,175,310,203,182,274,171,271,240,165,213,185,207,254,258,139,385,564,263,269,177,234,226,235,303,149,211,199,245,303,204,288,275,243,295,265,228,215,180,222,209,233,197,211,205,417,195,234,198,178,126,226,240,233,261,242,354,245,197,223,208,199,209,236,214,201,244,208,270,306,221,302,313,244,141,269,222,160,235,304,295,271,226,360,273,201,196,201,226,232,177,277,210,207,271,213,268,250,219,267,303,256,204,308,193,262,211,325,254,197,236,234,211,182,196,240,265,246,315,233,394,239,309,255,250,248,214,239,277,298,318,240,250,245,213,204,204,252,227,258,220,168,183,203,283,186,260,231,234,257,325,321,264,308,269,219,175,212,302,243,247,340,266,199,263,294,192,216,223,227,278,220,197,253,192,220,221,240,342,157,175],\"xaxis\":\"x\",\"yaxis\":\"y\"},{\"alignmentgroup\":\"True\",\"hovertemplate\":\"HeartDisease=0<br>Cholesterol=%{x}<extra></extra>\",\"legendgroup\":\"0\",\"marker\":{\"color\":\"#636efa\",\"line\":{\"color\":\"black\",\"width\":1}},\"name\":\"0\",\"notched\":true,\"offsetgroup\":\"0\",\"showlegend\":false,\"type\":\"box\",\"x\":[289,283,195,339,237,208,284,211,204,211,273,201,223,184,201,215,209,260,284,468,188,167,186,254,250,177,227,230,264,259,318,223,216,340,224,245,180,194,365,253,254,224,202,260,297,225,412,215,218,163,167,100,277,238,196,216,229,208,307,210,182,207,147,85,269,179,260,254,214,129,241,188,276,297,207,160,272,240,230,246,161,163,230,228,292,294,215,241,243,273,198,249,168,215,159,275,270,291,185,195,263,196,225,238,222,179,243,235,320,187,287,194,238,224,238,312,251,328,280,209,245,192,184,193,297,268,308,249,230,147,219,184,215,308,132,276,219,237,217,196,263,195,298,256,195,295,173,315,281,275,250,309,200,326,266,171,292,271,274,394,160,200,320,275,221,305,220,235,225,198,220,295,213,347,253,246,220,344,358,190,169,181,308,166,211,257,182,209,213,166,220,240,224,218,214,252,458,227,240,195,161,223,160,236,283,197,298,272,181,220,175,310,203,182,274,171,271,240,165,213,185,207,254,258,139,385,564,263,269,177,234,226,235,303,149,211,199,245,303,204,288,275,243,295,265,228,215,180,222,209,233,197,211,205,417,195,234,198,178,126,226,240,233,261,242,354,245,197,223,208,199,209,236,214,201,244,208,270,306,221,302,313,244,141,269,222,160,235,304,295,271,226,360,273,201,196,201,226,232,177,277,210,207,271,213,268,250,219,267,303,256,204,308,193,262,211,325,254,197,236,234,211,182,196,240,265,246,315,233,394,239,309,255,250,248,214,239,277,298,318,240,250,245,213,204,204,252,227,258,220,168,183,203,283,186,260,231,234,257,325,321,264,308,269,219,175,212,302,243,247,340,266,199,263,294,192,216,223,227,278,220,197,253,192,220,221,240,342,157,175],\"xaxis\":\"x2\",\"yaxis\":\"y2\"},{\"alignmentgroup\":\"True\",\"bingroup\":\"x\",\"hovertemplate\":\"HeartDisease=1<br>Cholesterol=%{x}<br>count=%{y}<extra></extra>\",\"legendgroup\":\"1\",\"marker\":{\"color\":\"#EF553B\",\"line\":{\"color\":\"black\",\"width\":1},\"pattern\":{\"shape\":\"\"}},\"name\":\"1\",\"offsetgroup\":\"1\",\"orientation\":\"v\",\"showlegend\":true,\"type\":\"histogram\",\"x\":[180,214,207,164,234,196,248,267,288,518,224,172,306,294,175,289,233,205,270,213,342,277,246,265,182,268,529,206,223,213,139,263,291,329,263,275,392,466,186,255,246,282,338,156,248,393,202,388,230,265,166,247,331,341,291,279,603,342,190,290,264,212,272,231,266,288,216,225,404,211,237,285,246,257,216,263,288,226,280,222,303,264,117,336,295,355,193,198,292,268,237,275,219,341,491,260,248,231,126,193,298,242,201,160,223,222,260,218,228,236,267,177,236,186,100,228,171,230,281,203,277,233,153,316,311,270,217,214,220,214,203,339,216,276,241,384,297,248,308,208,210,245,225,198,267,258,195,235,305,282,349,160,312,142,211,218,306,186,252,222,258,202,204,113,274,192,220,200,261,260,221,216,219,208,232,273,204,270,292,221,289,217,223,110,193,123,210,282,170,369,173,289,152,208,216,244,285,243,219,237,287,258,256,186,264,226,203,284,337,310,254,300,170,310,333,223,254,322,261,256,239,293,407,234,311,203,229,230,229,326,200,256,207,273,223,218,149,197,246,225,315,166,249,281,305,276,319,243,260,309,218,198,270,243,330,266,206,212,275,234,237,289,254,274,258,177,327,305,249,288,283,188,286,274,267,230,269,212,246,249,212,233,283,282,230,167,224,217,228,231,244,259,282,254,299,294,298,231,254,409,172,184,269,174,282,304,300,258,299,289,309,288,216,239,254,330,263,341,307,219,255,164,177,274,268,253,248,185,282,188,290,353,335,206,284,229,286,247,204,204,232,335,205,203,318,225,212,169,187,197,176,241,264,193,131,236],\"xaxis\":\"x\",\"yaxis\":\"y\"},{\"alignmentgroup\":\"True\",\"hovertemplate\":\"HeartDisease=1<br>Cholesterol=%{x}<extra></extra>\",\"legendgroup\":\"1\",\"marker\":{\"color\":\"#EF553B\",\"line\":{\"color\":\"black\",\"width\":1}},\"name\":\"1\",\"notched\":true,\"offsetgroup\":\"1\",\"showlegend\":false,\"type\":\"box\",\"x\":[180,214,207,164,234,196,248,267,288,518,224,172,306,294,175,289,233,205,270,213,342,277,246,265,182,268,529,206,223,213,139,263,291,329,263,275,392,466,186,255,246,282,338,156,248,393,202,388,230,265,166,247,331,341,291,279,603,342,190,290,264,212,272,231,266,288,216,225,404,211,237,285,246,257,216,263,288,226,280,222,303,264,117,336,295,355,193,198,292,268,237,275,219,341,491,260,248,231,126,193,298,242,201,160,223,222,260,218,228,236,267,177,236,186,100,228,171,230,281,203,277,233,153,316,311,270,217,214,220,214,203,339,216,276,241,384,297,248,308,208,210,245,225,198,267,258,195,235,305,282,349,160,312,142,211,218,306,186,252,222,258,202,204,113,274,192,220,200,261,260,221,216,219,208,232,273,204,270,292,221,289,217,223,110,193,123,210,282,170,369,173,289,152,208,216,244,285,243,219,237,287,258,256,186,264,226,203,284,337,310,254,300,170,310,333,223,254,322,261,256,239,293,407,234,311,203,229,230,229,326,200,256,207,273,223,218,149,197,246,225,315,166,249,281,305,276,319,243,260,309,218,198,270,243,330,266,206,212,275,234,237,289,254,274,258,177,327,305,249,288,283,188,286,274,267,230,269,212,246,249,212,233,283,282,230,167,224,217,228,231,244,259,282,254,299,294,298,231,254,409,172,184,269,174,282,304,300,258,299,289,309,288,216,239,254,330,263,341,307,219,255,164,177,274,268,253,248,185,282,188,290,353,335,206,284,229,286,247,204,204,232,335,205,203,318,225,212,169,187,197,176,241,264,193,131,236],\"xaxis\":\"x2\",\"yaxis\":\"y2\"}],                        {\"barmode\":\"relative\",\"height\":400,\"legend\":{\"title\":{\"text\":\"HeartDisease\"},\"tracegroupgap\":0},\"template\":{\"data\":{\"bar\":[{\"error_x\":{\"color\":\"#2a3f5f\"},\"error_y\":{\"color\":\"#2a3f5f\"},\"marker\":{\"line\":{\"color\":\"#E5ECF6\",\"width\":0.5},\"pattern\":{\"fillmode\":\"overlay\",\"size\":10,\"solidity\":0.2}},\"type\":\"bar\"}],\"barpolar\":[{\"marker\":{\"line\":{\"color\":\"#E5ECF6\",\"width\":0.5},\"pattern\":{\"fillmode\":\"overlay\",\"size\":10,\"solidity\":0.2}},\"type\":\"barpolar\"}],\"carpet\":[{\"aaxis\":{\"endlinecolor\":\"#2a3f5f\",\"gridcolor\":\"white\",\"linecolor\":\"white\",\"minorgridcolor\":\"white\",\"startlinecolor\":\"#2a3f5f\"},\"baxis\":{\"endlinecolor\":\"#2a3f5f\",\"gridcolor\":\"white\",\"linecolor\":\"white\",\"minorgridcolor\":\"white\",\"startlinecolor\":\"#2a3f5f\"},\"type\":\"carpet\"}],\"choropleth\":[{\"colorbar\":{\"outlinewidth\":0,\"ticks\":\"\"},\"type\":\"choropleth\"}],\"contour\":[{\"colorbar\":{\"outlinewidth\":0,\"ticks\":\"\"},\"colorscale\":[[0.0,\"#0d0887\"],[0.1111111111111111,\"#46039f\"],[0.2222222222222222,\"#7201a8\"],[0.3333333333333333,\"#9c179e\"],[0.4444444444444444,\"#bd3786\"],[0.5555555555555556,\"#d8576b\"],[0.6666666666666666,\"#ed7953\"],[0.7777777777777778,\"#fb9f3a\"],[0.8888888888888888,\"#fdca26\"],[1.0,\"#f0f921\"]],\"type\":\"contour\"}],\"contourcarpet\":[{\"colorbar\":{\"outlinewidth\":0,\"ticks\":\"\"},\"type\":\"contourcarpet\"}],\"heatmap\":[{\"colorbar\":{\"outlinewidth\":0,\"ticks\":\"\"},\"colorscale\":[[0.0,\"#0d0887\"],[0.1111111111111111,\"#46039f\"],[0.2222222222222222,\"#7201a8\"],[0.3333333333333333,\"#9c179e\"],[0.4444444444444444,\"#bd3786\"],[0.5555555555555556,\"#d8576b\"],[0.6666666666666666,\"#ed7953\"],[0.7777777777777778,\"#fb9f3a\"],[0.8888888888888888,\"#fdca26\"],[1.0,\"#f0f921\"]],\"type\":\"heatmap\"}],\"heatmapgl\":[{\"colorbar\":{\"outlinewidth\":0,\"ticks\":\"\"},\"colorscale\":[[0.0,\"#0d0887\"],[0.1111111111111111,\"#46039f\"],[0.2222222222222222,\"#7201a8\"],[0.3333333333333333,\"#9c179e\"],[0.4444444444444444,\"#bd3786\"],[0.5555555555555556,\"#d8576b\"],[0.6666666666666666,\"#ed7953\"],[0.7777777777777778,\"#fb9f3a\"],[0.8888888888888888,\"#fdca26\"],[1.0,\"#f0f921\"]],\"type\":\"heatmapgl\"}],\"histogram\":[{\"marker\":{\"pattern\":{\"fillmode\":\"overlay\",\"size\":10,\"solidity\":0.2}},\"type\":\"histogram\"}],\"histogram2d\":[{\"colorbar\":{\"outlinewidth\":0,\"ticks\":\"\"},\"colorscale\":[[0.0,\"#0d0887\"],[0.1111111111111111,\"#46039f\"],[0.2222222222222222,\"#7201a8\"],[0.3333333333333333,\"#9c179e\"],[0.4444444444444444,\"#bd3786\"],[0.5555555555555556,\"#d8576b\"],[0.6666666666666666,\"#ed7953\"],[0.7777777777777778,\"#fb9f3a\"],[0.8888888888888888,\"#fdca26\"],[1.0,\"#f0f921\"]],\"type\":\"histogram2d\"}],\"histogram2dcontour\":[{\"colorbar\":{\"outlinewidth\":0,\"ticks\":\"\"},\"colorscale\":[[0.0,\"#0d0887\"],[0.1111111111111111,\"#46039f\"],[0.2222222222222222,\"#7201a8\"],[0.3333333333333333,\"#9c179e\"],[0.4444444444444444,\"#bd3786\"],[0.5555555555555556,\"#d8576b\"],[0.6666666666666666,\"#ed7953\"],[0.7777777777777778,\"#fb9f3a\"],[0.8888888888888888,\"#fdca26\"],[1.0,\"#f0f921\"]],\"type\":\"histogram2dcontour\"}],\"mesh3d\":[{\"colorbar\":{\"outlinewidth\":0,\"ticks\":\"\"},\"type\":\"mesh3d\"}],\"parcoords\":[{\"line\":{\"colorbar\":{\"outlinewidth\":0,\"ticks\":\"\"}},\"type\":\"parcoords\"}],\"pie\":[{\"automargin\":true,\"type\":\"pie\"}],\"scatter\":[{\"marker\":{\"colorbar\":{\"outlinewidth\":0,\"ticks\":\"\"}},\"type\":\"scatter\"}],\"scatter3d\":[{\"line\":{\"colorbar\":{\"outlinewidth\":0,\"ticks\":\"\"}},\"marker\":{\"colorbar\":{\"outlinewidth\":0,\"ticks\":\"\"}},\"type\":\"scatter3d\"}],\"scattercarpet\":[{\"marker\":{\"colorbar\":{\"outlinewidth\":0,\"ticks\":\"\"}},\"type\":\"scattercarpet\"}],\"scattergeo\":[{\"marker\":{\"colorbar\":{\"outlinewidth\":0,\"ticks\":\"\"}},\"type\":\"scattergeo\"}],\"scattergl\":[{\"marker\":{\"colorbar\":{\"outlinewidth\":0,\"ticks\":\"\"}},\"type\":\"scattergl\"}],\"scattermapbox\":[{\"marker\":{\"colorbar\":{\"outlinewidth\":0,\"ticks\":\"\"}},\"type\":\"scattermapbox\"}],\"scatterpolar\":[{\"marker\":{\"colorbar\":{\"outlinewidth\":0,\"ticks\":\"\"}},\"type\":\"scatterpolar\"}],\"scatterpolargl\":[{\"marker\":{\"colorbar\":{\"outlinewidth\":0,\"ticks\":\"\"}},\"type\":\"scatterpolargl\"}],\"scatterternary\":[{\"marker\":{\"colorbar\":{\"outlinewidth\":0,\"ticks\":\"\"}},\"type\":\"scatterternary\"}],\"surface\":[{\"colorbar\":{\"outlinewidth\":0,\"ticks\":\"\"},\"colorscale\":[[0.0,\"#0d0887\"],[0.1111111111111111,\"#46039f\"],[0.2222222222222222,\"#7201a8\"],[0.3333333333333333,\"#9c179e\"],[0.4444444444444444,\"#bd3786\"],[0.5555555555555556,\"#d8576b\"],[0.6666666666666666,\"#ed7953\"],[0.7777777777777778,\"#fb9f3a\"],[0.8888888888888888,\"#fdca26\"],[1.0,\"#f0f921\"]],\"type\":\"surface\"}],\"table\":[{\"cells\":{\"fill\":{\"color\":\"#EBF0F8\"},\"line\":{\"color\":\"white\"}},\"header\":{\"fill\":{\"color\":\"#C8D4E3\"},\"line\":{\"color\":\"white\"}},\"type\":\"table\"}]},\"layout\":{\"annotationdefaults\":{\"arrowcolor\":\"#2a3f5f\",\"arrowhead\":0,\"arrowwidth\":1},\"autotypenumbers\":\"strict\",\"coloraxis\":{\"colorbar\":{\"outlinewidth\":0,\"ticks\":\"\"}},\"colorscale\":{\"diverging\":[[0,\"#8e0152\"],[0.1,\"#c51b7d\"],[0.2,\"#de77ae\"],[0.3,\"#f1b6da\"],[0.4,\"#fde0ef\"],[0.5,\"#f7f7f7\"],[0.6,\"#e6f5d0\"],[0.7,\"#b8e186\"],[0.8,\"#7fbc41\"],[0.9,\"#4d9221\"],[1,\"#276419\"]],\"sequential\":[[0.0,\"#0d0887\"],[0.1111111111111111,\"#46039f\"],[0.2222222222222222,\"#7201a8\"],[0.3333333333333333,\"#9c179e\"],[0.4444444444444444,\"#bd3786\"],[0.5555555555555556,\"#d8576b\"],[0.6666666666666666,\"#ed7953\"],[0.7777777777777778,\"#fb9f3a\"],[0.8888888888888888,\"#fdca26\"],[1.0,\"#f0f921\"]],\"sequentialminus\":[[0.0,\"#0d0887\"],[0.1111111111111111,\"#46039f\"],[0.2222222222222222,\"#7201a8\"],[0.3333333333333333,\"#9c179e\"],[0.4444444444444444,\"#bd3786\"],[0.5555555555555556,\"#d8576b\"],[0.6666666666666666,\"#ed7953\"],[0.7777777777777778,\"#fb9f3a\"],[0.8888888888888888,\"#fdca26\"],[1.0,\"#f0f921\"]]},\"colorway\":[\"#636efa\",\"#EF553B\",\"#00cc96\",\"#ab63fa\",\"#FFA15A\",\"#19d3f3\",\"#FF6692\",\"#B6E880\",\"#FF97FF\",\"#FECB52\"],\"font\":{\"color\":\"#2a3f5f\"},\"geo\":{\"bgcolor\":\"white\",\"lakecolor\":\"white\",\"landcolor\":\"#E5ECF6\",\"showlakes\":true,\"showland\":true,\"subunitcolor\":\"white\"},\"hoverlabel\":{\"align\":\"left\"},\"hovermode\":\"closest\",\"mapbox\":{\"style\":\"light\"},\"paper_bgcolor\":\"white\",\"plot_bgcolor\":\"#E5ECF6\",\"polar\":{\"angularaxis\":{\"gridcolor\":\"white\",\"linecolor\":\"white\",\"ticks\":\"\"},\"bgcolor\":\"#E5ECF6\",\"radialaxis\":{\"gridcolor\":\"white\",\"linecolor\":\"white\",\"ticks\":\"\"}},\"scene\":{\"xaxis\":{\"backgroundcolor\":\"#E5ECF6\",\"gridcolor\":\"white\",\"gridwidth\":2,\"linecolor\":\"white\",\"showbackground\":true,\"ticks\":\"\",\"zerolinecolor\":\"white\"},\"yaxis\":{\"backgroundcolor\":\"#E5ECF6\",\"gridcolor\":\"white\",\"gridwidth\":2,\"linecolor\":\"white\",\"showbackground\":true,\"ticks\":\"\",\"zerolinecolor\":\"white\"},\"zaxis\":{\"backgroundcolor\":\"#E5ECF6\",\"gridcolor\":\"white\",\"gridwidth\":2,\"linecolor\":\"white\",\"showbackground\":true,\"ticks\":\"\",\"zerolinecolor\":\"white\"}},\"shapedefaults\":{\"line\":{\"color\":\"#2a3f5f\"}},\"ternary\":{\"aaxis\":{\"gridcolor\":\"white\",\"linecolor\":\"white\",\"ticks\":\"\"},\"baxis\":{\"gridcolor\":\"white\",\"linecolor\":\"white\",\"ticks\":\"\"},\"bgcolor\":\"#E5ECF6\",\"caxis\":{\"gridcolor\":\"white\",\"linecolor\":\"white\",\"ticks\":\"\"}},\"title\":{\"x\":0.05},\"xaxis\":{\"automargin\":true,\"gridcolor\":\"white\",\"linecolor\":\"white\",\"ticks\":\"\",\"title\":{\"standoff\":15},\"zerolinecolor\":\"white\",\"zerolinewidth\":2},\"yaxis\":{\"automargin\":true,\"gridcolor\":\"white\",\"linecolor\":\"white\",\"ticks\":\"\",\"title\":{\"standoff\":15},\"zerolinecolor\":\"white\",\"zerolinewidth\":2}}},\"title\":{\"text\":\"Exploring Cholesterol column (without Cholesterol outliers)\"},\"width\":600,\"xaxis\":{\"anchor\":\"y\",\"domain\":[0.0,1.0],\"title\":{\"text\":\"Cholesterol\"}},\"xaxis2\":{\"anchor\":\"y2\",\"domain\":[0.0,1.0],\"matches\":\"x\",\"showgrid\":true,\"showticklabels\":false},\"yaxis\":{\"anchor\":\"x\",\"domain\":[0.0,0.7326],\"title\":{\"text\":\"count\"}},\"yaxis2\":{\"anchor\":\"x2\",\"domain\":[0.7426,1.0],\"matches\":\"y2\",\"showgrid\":false,\"showline\":false,\"showticklabels\":false,\"ticks\":\"\"}},                        {\"responsive\": true}                    ).then(function(){\n                            \nvar gd = document.getElementById('194257ad-c845-43a9-b477-7099d613739c');\nvar x = new MutationObserver(function (mutations, observer) {{\n        var display = window.getComputedStyle(gd).display;\n        if (!display || display === 'none') {{\n            console.log([gd, 'removed!']);\n            Plotly.purge(gd);\n            observer.disconnect();\n        }}\n}});\n\n// Listen for the removal of the full notebook cells\nvar notebookContainer = gd.closest('#notebook-container');\nif (notebookContainer) {{\n    x.observe(notebookContainer, {childList: true});\n}}\n\n// Listen for the clearing of the current output cell\nvar outputEl = gd.closest('.output');\nif (outputEl) {{\n    x.observe(outputEl, {childList: true});\n}}\n\n                        })                };                            </script>        </div>\n</body>\n</html>"
     },
     "metadata": {},
     "output_type": "display_data"
    },
    {
     "data": {
      "text/html": "<html>\n<head><meta charset=\"utf-8\" /></head>\n<body>\n    <div>            <script src=\"https://cdnjs.cloudflare.com/ajax/libs/mathjax/2.7.5/MathJax.js?config=TeX-AMS-MML_SVG\"></script><script type=\"text/javascript\">if (window.MathJax) {MathJax.Hub.Config({SVG: {font: \"STIX-Web\"}});}</script>                <script type=\"text/javascript\">window.PlotlyConfig = {MathJaxConfig: 'local'};</script>\n        <script src=\"https://cdn.plot.ly/plotly-2.4.2.min.js\"></script>                <div id=\"02927531-fb00-4428-81d9-53ccd37cec18\" class=\"plotly-graph-div\" style=\"height:400px; width:600px;\"></div>            <script type=\"text/javascript\">                                    window.PLOTLYENV=window.PLOTLYENV || {};                                    if (document.getElementById(\"02927531-fb00-4428-81d9-53ccd37cec18\")) {                    Plotly.newPlot(                        \"02927531-fb00-4428-81d9-53ccd37cec18\",                        [{\"alignmentgroup\":\"True\",\"bingroup\":\"x\",\"hovertemplate\":\"HeartDisease=0<br>MaxHR=%{x}<br>count=%{y}<extra></extra>\",\"legendgroup\":\"0\",\"marker\":{\"color\":\"#636efa\",\"line\":{\"color\":\"black\",\"width\":1},\"pattern\":{\"shape\":\"\"}},\"name\":\"0\",\"offsetgroup\":\"0\",\"orientation\":\"v\",\"showlegend\":true,\"type\":\"histogram\",\"x\":[172,98,122,170,170,142,120,142,145,137,150,165,142,142,164,138,178,112,118,127,145,114,154,155,142,148,130,130,168,170,120,168,170,184,122,150,140,170,134,174,175,144,145,130,144,184,170,135,115,116,150,138,160,154,165,142,110,160,140,148,180,138,160,140,144,100,140,110,168,135,106,124,125,150,135,185,139,140,150,110,190,175,140,152,130,120,175,146,155,132,155,176,160,120,100,150,140,160,130,130,174,150,140,118,100,160,160,188,162,172,150,150,90,150,140,130,110,110,120,116,160,110,180,116,132,136,98,150,150,146,150,100,140,180,185,128,164,170,137,150,170,125,185,137,140,170,184,158,167,129,142,140,160,155,118,137,115,152,130,150,172,120,155,165,138,175,150,145,140,165,134,180,100,126,155,135,160,160,170,120,140,132,156,180,138,135,148,127,99,140,86,160,161,139,180,135,69,138,80,126,153,128,150,144,135,100,120,139,135,86,160,112,137,141,154,128,126,165,133,110,136,96,151,96,137,135,160,105,121,140,161,111,180,159,125,144,178,180,181,143,159,139,152,157,130,138,170,150,186,163,179,156,165,184,157,179,175,168,96,173,169,171,150,186,149,163,143,116,142,148,179,173,178,168,126,178,140,145,163,164,151,133,162,175,163,143,138,153,170,162,162,114,151,152,163,169,158,178,165,160,172,192,168,182,125,172,179,158,167,122,149,172,170,162,155,161,154,159,152,152,131,115,174,163,194,122,173,162,147,157,160,156,175,161,122,158,151,151,178,160,154,187,166,165,202,172,172,154,147,170,174,182,132,162,190,185,146,160,156,172,182,143,142,148,188,123,157,162,137,171,172,171,162,173,153,148,115,169,155,152,152,131,179,174,144,163,169,166,182,173],\"xaxis\":\"x\",\"yaxis\":\"y\"},{\"alignmentgroup\":\"True\",\"hovertemplate\":\"HeartDisease=0<br>MaxHR=%{x}<extra></extra>\",\"legendgroup\":\"0\",\"marker\":{\"color\":\"#636efa\",\"line\":{\"color\":\"black\",\"width\":1}},\"name\":\"0\",\"notched\":true,\"offsetgroup\":\"0\",\"showlegend\":false,\"type\":\"box\",\"x\":[172,98,122,170,170,142,120,142,145,137,150,165,142,142,164,138,178,112,118,127,145,114,154,155,142,148,130,130,168,170,120,168,170,184,122,150,140,170,134,174,175,144,145,130,144,184,170,135,115,116,150,138,160,154,165,142,110,160,140,148,180,138,160,140,144,100,140,110,168,135,106,124,125,150,135,185,139,140,150,110,190,175,140,152,130,120,175,146,155,132,155,176,160,120,100,150,140,160,130,130,174,150,140,118,100,160,160,188,162,172,150,150,90,150,140,130,110,110,120,116,160,110,180,116,132,136,98,150,150,146,150,100,140,180,185,128,164,170,137,150,170,125,185,137,140,170,184,158,167,129,142,140,160,155,118,137,115,152,130,150,172,120,155,165,138,175,150,145,140,165,134,180,100,126,155,135,160,160,170,120,140,132,156,180,138,135,148,127,99,140,86,160,161,139,180,135,69,138,80,126,153,128,150,144,135,100,120,139,135,86,160,112,137,141,154,128,126,165,133,110,136,96,151,96,137,135,160,105,121,140,161,111,180,159,125,144,178,180,181,143,159,139,152,157,130,138,170,150,186,163,179,156,165,184,157,179,175,168,96,173,169,171,150,186,149,163,143,116,142,148,179,173,178,168,126,178,140,145,163,164,151,133,162,175,163,143,138,153,170,162,162,114,151,152,163,169,158,178,165,160,172,192,168,182,125,172,179,158,167,122,149,172,170,162,155,161,154,159,152,152,131,115,174,163,194,122,173,162,147,157,160,156,175,161,122,158,151,151,178,160,154,187,166,165,202,172,172,154,147,170,174,182,132,162,190,185,146,160,156,172,182,143,142,148,188,123,157,162,137,171,172,171,162,173,153,148,115,169,155,152,152,131,179,174,144,163,169,166,182,173],\"xaxis\":\"x2\",\"yaxis\":\"y2\"},{\"alignmentgroup\":\"True\",\"bingroup\":\"x\",\"hovertemplate\":\"HeartDisease=1<br>MaxHR=%{x}<br>count=%{y}<extra></extra>\",\"legendgroup\":\"1\",\"marker\":{\"color\":\"#EF553B\",\"line\":{\"color\":\"black\",\"width\":1},\"pattern\":{\"shape\":\"\"}},\"name\":\"1\",\"offsetgroup\":\"1\",\"orientation\":\"v\",\"showlegend\":true,\"type\":\"histogram\",\"x\":[156,108,130,99,140,166,125,160,150,130,122,130,87,100,120,170,121,98,153,140,96,125,82,145,150,128,130,170,115,125,94,112,155,92,140,115,130,152,124,92,150,170,130,180,170,110,150,122,124,175,118,130,94,125,158,150,125,150,150,100,119,96,175,140,134,135,105,120,124,92,138,120,116,140,140,110,140,98,150,112,150,150,134,118,136,99,102,142,143,103,150,150,130,120,135,115,96,115,125,145,110,91,130,150,126,122,112,140,149,105,157,84,125,140,120,124,110,105,118,123,118,117,97,122,148,125,128,144,140,102,108,127,110,140,148,130,130,140,138,140,112,131,112,110,88,150,132,120,121,135,120,117,113,127,109,128,115,102,140,135,130,112,122,120,105,129,162,100,140,73,108,116,118,122,124,102,126,160,115,115,105,110,119,109,135,130,112,126,120,110,119,110,130,159,84,116,120,122,122,94,150,130,113,140,100,127,98,123,98,112,108,128,138,126,154,100,93,109,141,142,142,170,154,145,120,155,129,165,150,140,126,150,138,125,181,134,126,177,120,114,125,125,143,103,142,112,152,152,140,147,105,130,111,128,169,109,108,168,118,156,71,124,147,166,157,162,117,161,144,133,103,139,116,88,99,160,169,132,96,144,132,163,195,95,160,114,173,111,165,182,154,130,174,146,125,106,122,147,163,150,158,105,112,125,156,162,171,141,173,145,131,159,131,126,127,132,97,136,146,140,161,145,120,150,160,144,158,155,142,113,153,132,158,132,160,168,108,143,156,162,164,143,130,161,140,146,150,144,144,136,90,123,132,141,115,174],\"xaxis\":\"x\",\"yaxis\":\"y\"},{\"alignmentgroup\":\"True\",\"hovertemplate\":\"HeartDisease=1<br>MaxHR=%{x}<extra></extra>\",\"legendgroup\":\"1\",\"marker\":{\"color\":\"#EF553B\",\"line\":{\"color\":\"black\",\"width\":1}},\"name\":\"1\",\"notched\":true,\"offsetgroup\":\"1\",\"showlegend\":false,\"type\":\"box\",\"x\":[156,108,130,99,140,166,125,160,150,130,122,130,87,100,120,170,121,98,153,140,96,125,82,145,150,128,130,170,115,125,94,112,155,92,140,115,130,152,124,92,150,170,130,180,170,110,150,122,124,175,118,130,94,125,158,150,125,150,150,100,119,96,175,140,134,135,105,120,124,92,138,120,116,140,140,110,140,98,150,112,150,150,134,118,136,99,102,142,143,103,150,150,130,120,135,115,96,115,125,145,110,91,130,150,126,122,112,140,149,105,157,84,125,140,120,124,110,105,118,123,118,117,97,122,148,125,128,144,140,102,108,127,110,140,148,130,130,140,138,140,112,131,112,110,88,150,132,120,121,135,120,117,113,127,109,128,115,102,140,135,130,112,122,120,105,129,162,100,140,73,108,116,118,122,124,102,126,160,115,115,105,110,119,109,135,130,112,126,120,110,119,110,130,159,84,116,120,122,122,94,150,130,113,140,100,127,98,123,98,112,108,128,138,126,154,100,93,109,141,142,142,170,154,145,120,155,129,165,150,140,126,150,138,125,181,134,126,177,120,114,125,125,143,103,142,112,152,152,140,147,105,130,111,128,169,109,108,168,118,156,71,124,147,166,157,162,117,161,144,133,103,139,116,88,99,160,169,132,96,144,132,163,195,95,160,114,173,111,165,182,154,130,174,146,125,106,122,147,163,150,158,105,112,125,156,162,171,141,173,145,131,159,131,126,127,132,97,136,146,140,161,145,120,150,160,144,158,155,142,113,153,132,158,132,160,168,108,143,156,162,164,143,130,161,140,146,150,144,144,136,90,123,132,141,115,174],\"xaxis\":\"x2\",\"yaxis\":\"y2\"}],                        {\"barmode\":\"relative\",\"height\":400,\"legend\":{\"title\":{\"text\":\"HeartDisease\"},\"tracegroupgap\":0},\"template\":{\"data\":{\"bar\":[{\"error_x\":{\"color\":\"#2a3f5f\"},\"error_y\":{\"color\":\"#2a3f5f\"},\"marker\":{\"line\":{\"color\":\"#E5ECF6\",\"width\":0.5},\"pattern\":{\"fillmode\":\"overlay\",\"size\":10,\"solidity\":0.2}},\"type\":\"bar\"}],\"barpolar\":[{\"marker\":{\"line\":{\"color\":\"#E5ECF6\",\"width\":0.5},\"pattern\":{\"fillmode\":\"overlay\",\"size\":10,\"solidity\":0.2}},\"type\":\"barpolar\"}],\"carpet\":[{\"aaxis\":{\"endlinecolor\":\"#2a3f5f\",\"gridcolor\":\"white\",\"linecolor\":\"white\",\"minorgridcolor\":\"white\",\"startlinecolor\":\"#2a3f5f\"},\"baxis\":{\"endlinecolor\":\"#2a3f5f\",\"gridcolor\":\"white\",\"linecolor\":\"white\",\"minorgridcolor\":\"white\",\"startlinecolor\":\"#2a3f5f\"},\"type\":\"carpet\"}],\"choropleth\":[{\"colorbar\":{\"outlinewidth\":0,\"ticks\":\"\"},\"type\":\"choropleth\"}],\"contour\":[{\"colorbar\":{\"outlinewidth\":0,\"ticks\":\"\"},\"colorscale\":[[0.0,\"#0d0887\"],[0.1111111111111111,\"#46039f\"],[0.2222222222222222,\"#7201a8\"],[0.3333333333333333,\"#9c179e\"],[0.4444444444444444,\"#bd3786\"],[0.5555555555555556,\"#d8576b\"],[0.6666666666666666,\"#ed7953\"],[0.7777777777777778,\"#fb9f3a\"],[0.8888888888888888,\"#fdca26\"],[1.0,\"#f0f921\"]],\"type\":\"contour\"}],\"contourcarpet\":[{\"colorbar\":{\"outlinewidth\":0,\"ticks\":\"\"},\"type\":\"contourcarpet\"}],\"heatmap\":[{\"colorbar\":{\"outlinewidth\":0,\"ticks\":\"\"},\"colorscale\":[[0.0,\"#0d0887\"],[0.1111111111111111,\"#46039f\"],[0.2222222222222222,\"#7201a8\"],[0.3333333333333333,\"#9c179e\"],[0.4444444444444444,\"#bd3786\"],[0.5555555555555556,\"#d8576b\"],[0.6666666666666666,\"#ed7953\"],[0.7777777777777778,\"#fb9f3a\"],[0.8888888888888888,\"#fdca26\"],[1.0,\"#f0f921\"]],\"type\":\"heatmap\"}],\"heatmapgl\":[{\"colorbar\":{\"outlinewidth\":0,\"ticks\":\"\"},\"colorscale\":[[0.0,\"#0d0887\"],[0.1111111111111111,\"#46039f\"],[0.2222222222222222,\"#7201a8\"],[0.3333333333333333,\"#9c179e\"],[0.4444444444444444,\"#bd3786\"],[0.5555555555555556,\"#d8576b\"],[0.6666666666666666,\"#ed7953\"],[0.7777777777777778,\"#fb9f3a\"],[0.8888888888888888,\"#fdca26\"],[1.0,\"#f0f921\"]],\"type\":\"heatmapgl\"}],\"histogram\":[{\"marker\":{\"pattern\":{\"fillmode\":\"overlay\",\"size\":10,\"solidity\":0.2}},\"type\":\"histogram\"}],\"histogram2d\":[{\"colorbar\":{\"outlinewidth\":0,\"ticks\":\"\"},\"colorscale\":[[0.0,\"#0d0887\"],[0.1111111111111111,\"#46039f\"],[0.2222222222222222,\"#7201a8\"],[0.3333333333333333,\"#9c179e\"],[0.4444444444444444,\"#bd3786\"],[0.5555555555555556,\"#d8576b\"],[0.6666666666666666,\"#ed7953\"],[0.7777777777777778,\"#fb9f3a\"],[0.8888888888888888,\"#fdca26\"],[1.0,\"#f0f921\"]],\"type\":\"histogram2d\"}],\"histogram2dcontour\":[{\"colorbar\":{\"outlinewidth\":0,\"ticks\":\"\"},\"colorscale\":[[0.0,\"#0d0887\"],[0.1111111111111111,\"#46039f\"],[0.2222222222222222,\"#7201a8\"],[0.3333333333333333,\"#9c179e\"],[0.4444444444444444,\"#bd3786\"],[0.5555555555555556,\"#d8576b\"],[0.6666666666666666,\"#ed7953\"],[0.7777777777777778,\"#fb9f3a\"],[0.8888888888888888,\"#fdca26\"],[1.0,\"#f0f921\"]],\"type\":\"histogram2dcontour\"}],\"mesh3d\":[{\"colorbar\":{\"outlinewidth\":0,\"ticks\":\"\"},\"type\":\"mesh3d\"}],\"parcoords\":[{\"line\":{\"colorbar\":{\"outlinewidth\":0,\"ticks\":\"\"}},\"type\":\"parcoords\"}],\"pie\":[{\"automargin\":true,\"type\":\"pie\"}],\"scatter\":[{\"marker\":{\"colorbar\":{\"outlinewidth\":0,\"ticks\":\"\"}},\"type\":\"scatter\"}],\"scatter3d\":[{\"line\":{\"colorbar\":{\"outlinewidth\":0,\"ticks\":\"\"}},\"marker\":{\"colorbar\":{\"outlinewidth\":0,\"ticks\":\"\"}},\"type\":\"scatter3d\"}],\"scattercarpet\":[{\"marker\":{\"colorbar\":{\"outlinewidth\":0,\"ticks\":\"\"}},\"type\":\"scattercarpet\"}],\"scattergeo\":[{\"marker\":{\"colorbar\":{\"outlinewidth\":0,\"ticks\":\"\"}},\"type\":\"scattergeo\"}],\"scattergl\":[{\"marker\":{\"colorbar\":{\"outlinewidth\":0,\"ticks\":\"\"}},\"type\":\"scattergl\"}],\"scattermapbox\":[{\"marker\":{\"colorbar\":{\"outlinewidth\":0,\"ticks\":\"\"}},\"type\":\"scattermapbox\"}],\"scatterpolar\":[{\"marker\":{\"colorbar\":{\"outlinewidth\":0,\"ticks\":\"\"}},\"type\":\"scatterpolar\"}],\"scatterpolargl\":[{\"marker\":{\"colorbar\":{\"outlinewidth\":0,\"ticks\":\"\"}},\"type\":\"scatterpolargl\"}],\"scatterternary\":[{\"marker\":{\"colorbar\":{\"outlinewidth\":0,\"ticks\":\"\"}},\"type\":\"scatterternary\"}],\"surface\":[{\"colorbar\":{\"outlinewidth\":0,\"ticks\":\"\"},\"colorscale\":[[0.0,\"#0d0887\"],[0.1111111111111111,\"#46039f\"],[0.2222222222222222,\"#7201a8\"],[0.3333333333333333,\"#9c179e\"],[0.4444444444444444,\"#bd3786\"],[0.5555555555555556,\"#d8576b\"],[0.6666666666666666,\"#ed7953\"],[0.7777777777777778,\"#fb9f3a\"],[0.8888888888888888,\"#fdca26\"],[1.0,\"#f0f921\"]],\"type\":\"surface\"}],\"table\":[{\"cells\":{\"fill\":{\"color\":\"#EBF0F8\"},\"line\":{\"color\":\"white\"}},\"header\":{\"fill\":{\"color\":\"#C8D4E3\"},\"line\":{\"color\":\"white\"}},\"type\":\"table\"}]},\"layout\":{\"annotationdefaults\":{\"arrowcolor\":\"#2a3f5f\",\"arrowhead\":0,\"arrowwidth\":1},\"autotypenumbers\":\"strict\",\"coloraxis\":{\"colorbar\":{\"outlinewidth\":0,\"ticks\":\"\"}},\"colorscale\":{\"diverging\":[[0,\"#8e0152\"],[0.1,\"#c51b7d\"],[0.2,\"#de77ae\"],[0.3,\"#f1b6da\"],[0.4,\"#fde0ef\"],[0.5,\"#f7f7f7\"],[0.6,\"#e6f5d0\"],[0.7,\"#b8e186\"],[0.8,\"#7fbc41\"],[0.9,\"#4d9221\"],[1,\"#276419\"]],\"sequential\":[[0.0,\"#0d0887\"],[0.1111111111111111,\"#46039f\"],[0.2222222222222222,\"#7201a8\"],[0.3333333333333333,\"#9c179e\"],[0.4444444444444444,\"#bd3786\"],[0.5555555555555556,\"#d8576b\"],[0.6666666666666666,\"#ed7953\"],[0.7777777777777778,\"#fb9f3a\"],[0.8888888888888888,\"#fdca26\"],[1.0,\"#f0f921\"]],\"sequentialminus\":[[0.0,\"#0d0887\"],[0.1111111111111111,\"#46039f\"],[0.2222222222222222,\"#7201a8\"],[0.3333333333333333,\"#9c179e\"],[0.4444444444444444,\"#bd3786\"],[0.5555555555555556,\"#d8576b\"],[0.6666666666666666,\"#ed7953\"],[0.7777777777777778,\"#fb9f3a\"],[0.8888888888888888,\"#fdca26\"],[1.0,\"#f0f921\"]]},\"colorway\":[\"#636efa\",\"#EF553B\",\"#00cc96\",\"#ab63fa\",\"#FFA15A\",\"#19d3f3\",\"#FF6692\",\"#B6E880\",\"#FF97FF\",\"#FECB52\"],\"font\":{\"color\":\"#2a3f5f\"},\"geo\":{\"bgcolor\":\"white\",\"lakecolor\":\"white\",\"landcolor\":\"#E5ECF6\",\"showlakes\":true,\"showland\":true,\"subunitcolor\":\"white\"},\"hoverlabel\":{\"align\":\"left\"},\"hovermode\":\"closest\",\"mapbox\":{\"style\":\"light\"},\"paper_bgcolor\":\"white\",\"plot_bgcolor\":\"#E5ECF6\",\"polar\":{\"angularaxis\":{\"gridcolor\":\"white\",\"linecolor\":\"white\",\"ticks\":\"\"},\"bgcolor\":\"#E5ECF6\",\"radialaxis\":{\"gridcolor\":\"white\",\"linecolor\":\"white\",\"ticks\":\"\"}},\"scene\":{\"xaxis\":{\"backgroundcolor\":\"#E5ECF6\",\"gridcolor\":\"white\",\"gridwidth\":2,\"linecolor\":\"white\",\"showbackground\":true,\"ticks\":\"\",\"zerolinecolor\":\"white\"},\"yaxis\":{\"backgroundcolor\":\"#E5ECF6\",\"gridcolor\":\"white\",\"gridwidth\":2,\"linecolor\":\"white\",\"showbackground\":true,\"ticks\":\"\",\"zerolinecolor\":\"white\"},\"zaxis\":{\"backgroundcolor\":\"#E5ECF6\",\"gridcolor\":\"white\",\"gridwidth\":2,\"linecolor\":\"white\",\"showbackground\":true,\"ticks\":\"\",\"zerolinecolor\":\"white\"}},\"shapedefaults\":{\"line\":{\"color\":\"#2a3f5f\"}},\"ternary\":{\"aaxis\":{\"gridcolor\":\"white\",\"linecolor\":\"white\",\"ticks\":\"\"},\"baxis\":{\"gridcolor\":\"white\",\"linecolor\":\"white\",\"ticks\":\"\"},\"bgcolor\":\"#E5ECF6\",\"caxis\":{\"gridcolor\":\"white\",\"linecolor\":\"white\",\"ticks\":\"\"}},\"title\":{\"x\":0.05},\"xaxis\":{\"automargin\":true,\"gridcolor\":\"white\",\"linecolor\":\"white\",\"ticks\":\"\",\"title\":{\"standoff\":15},\"zerolinecolor\":\"white\",\"zerolinewidth\":2},\"yaxis\":{\"automargin\":true,\"gridcolor\":\"white\",\"linecolor\":\"white\",\"ticks\":\"\",\"title\":{\"standoff\":15},\"zerolinecolor\":\"white\",\"zerolinewidth\":2}}},\"title\":{\"text\":\"Exploring MaxHR column (without Cholesterol outliers)\"},\"width\":600,\"xaxis\":{\"anchor\":\"y\",\"domain\":[0.0,1.0],\"title\":{\"text\":\"MaxHR\"}},\"xaxis2\":{\"anchor\":\"y2\",\"domain\":[0.0,1.0],\"matches\":\"x\",\"showgrid\":true,\"showticklabels\":false},\"yaxis\":{\"anchor\":\"x\",\"domain\":[0.0,0.7326],\"title\":{\"text\":\"count\"}},\"yaxis2\":{\"anchor\":\"x2\",\"domain\":[0.7426,1.0],\"matches\":\"y2\",\"showgrid\":false,\"showline\":false,\"showticklabels\":false,\"ticks\":\"\"}},                        {\"responsive\": true}                    ).then(function(){\n                            \nvar gd = document.getElementById('02927531-fb00-4428-81d9-53ccd37cec18');\nvar x = new MutationObserver(function (mutations, observer) {{\n        var display = window.getComputedStyle(gd).display;\n        if (!display || display === 'none') {{\n            console.log([gd, 'removed!']);\n            Plotly.purge(gd);\n            observer.disconnect();\n        }}\n}});\n\n// Listen for the removal of the full notebook cells\nvar notebookContainer = gd.closest('#notebook-container');\nif (notebookContainer) {{\n    x.observe(notebookContainer, {childList: true});\n}}\n\n// Listen for the clearing of the current output cell\nvar outputEl = gd.closest('.output');\nif (outputEl) {{\n    x.observe(outputEl, {childList: true});\n}}\n\n                        })                };                            </script>        </div>\n</body>\n</html>"
     },
     "metadata": {},
     "output_type": "display_data"
    },
    {
     "data": {
      "text/html": "<html>\n<head><meta charset=\"utf-8\" /></head>\n<body>\n    <div>            <script src=\"https://cdnjs.cloudflare.com/ajax/libs/mathjax/2.7.5/MathJax.js?config=TeX-AMS-MML_SVG\"></script><script type=\"text/javascript\">if (window.MathJax) {MathJax.Hub.Config({SVG: {font: \"STIX-Web\"}});}</script>                <script type=\"text/javascript\">window.PlotlyConfig = {MathJaxConfig: 'local'};</script>\n        <script src=\"https://cdn.plot.ly/plotly-2.4.2.min.js\"></script>                <div id=\"5640bf32-5c3d-44f1-aec0-e4fad91b911c\" class=\"plotly-graph-div\" style=\"height:400px; width:600px;\"></div>            <script type=\"text/javascript\">                                    window.PLOTLYENV=window.PLOTLYENV || {};                                    if (document.getElementById(\"5640bf32-5c3d-44f1-aec0-e4fad91b911c\")) {                    Plotly.newPlot(                        \"5640bf32-5c3d-44f1-aec0-e4fad91b911c\",                        [{\"alignmentgroup\":\"True\",\"bingroup\":\"x\",\"hovertemplate\":\"HeartDisease=0<br>Oldpeak=%{x}<br>count=%{y}<extra></extra>\",\"legendgroup\":\"0\",\"marker\":{\"color\":\"#636efa\",\"line\":{\"color\":\"black\",\"width\":1},\"pattern\":{\"shape\":\"\"}},\"name\":\"0\",\"offsetgroup\":\"0\",\"orientation\":\"v\",\"showlegend\":true,\"type\":\"histogram\",\"x\":[0.0,0.0,0.0,0.0,0.0,0.0,0.0,0.0,0.0,0.0,1.5,0.0,0.0,1.0,0.0,0.0,0.0,3.0,0.0,0.0,0.0,0.0,0.0,0.0,0.0,0.0,1.0,0.0,0.0,0.0,1.0,0.0,0.0,1.0,0.0,0.0,1.5,0.0,1.0,0.0,0.0,0.0,0.0,0.0,0.0,0.0,0.0,0.0,0.0,0.0,0.0,0.0,0.0,0.0,0.0,2.0,0.5,0.0,0.0,0.0,0.0,0.0,0.0,0.0,0.0,0.0,0.0,0.0,0.0,0.0,0.0,1.0,0.0,0.0,0.0,0.0,0.0,0.0,0.0,0.0,0.0,2.0,0.0,1.5,0.0,1.0,0.0,2.0,0.0,0.0,0.0,0.0,0.0,0.0,0.0,0.0,0.0,0.0,0.0,1.0,0.0,0.0,0.0,0.0,0.0,0.0,0.0,0.0,0.0,0.0,0.0,0.0,0.0,0.0,1.0,0.0,0.0,1.0,0.0,0.0,0.0,0.0,0.0,0.0,1.0,0.0,1.0,0.0,0.0,0.0,0.0,0.0,0.0,0.0,0.0,1.0,0.0,0.0,0.0,0.0,0.0,0.0,0.0,0.0,0.0,0.0,0.0,0.0,0.0,0.0,0.0,0.0,1.0,0.0,0.0,2.0,0.0,1.0,0.0,0.0,0.0,0.5,0.0,0.0,1.0,0.0,0.0,2.0,0.0,0.0,0.0,0.0,0.0,0.8,0.0,0.0,2.0,0.0,0.0,0.0,0.0,0.0,2.0,0.0,0.0,1.0,0.0,0.0,1.3,0.0,0.0,0.0,2.0,0.1,0.4,0.3,1.0,0.2,0.0,0.3,-0.1,0.5,0.0,0.1,0.3,0.0,0.0,0.2,0.2,0.0,0.3,2.0,0.2,0.1,2.0,1.5,0.3,1.0,0.2,0.0,0.2,1.0,0.0,1.0,0.2,0.3,1.6,0.2,0.2,0.4,0.5,0.0,0.0,0.0,1.6,1.8,1.4,0.2,1.2,0.1,0.0,0.2,0.0,0.6,0.0,2.3,0.0,0.0,0.0,0.0,0.4,0.0,0.0,0.0,0.8,0.0,0.6,0.0,0.0,0.2,0.0,0.9,2.3,0.0,0.3,0.6,0.0,1.1,0.3,3.0,0.0,0.0,0.8,2.0,1.5,0.8,0.0,4.2,0.0,0.0,0.4,0.2,1.1,0.6,0.0,1.2,0.0,0.0,0.0,0.0,0.0,2.6,0.8,0.5,0.0,0.1,0.8,0.0,1.6,1.4,0.0,0.7,0.0,0.0,1.4,0.0,0.0,1.6,0.0,2.0,0.5,0.0,0.0,1.9,0.0,0.0,0.0,0.0,1.2,0.2,0.1,1.5,0.0,0.0,0.8,0.6,0.0,1.9,0.1,1.2,1.2,0.0,0.0,1.4,1.0,1.6,1.8,1.0,1.2,0.0,0.6,3.5,2.4,0.2,0.0,1.4,0.0,0.0,0.4,0.0,1.6,1.4,0.0,1.0,0.0,0.0,1.8,0.0,0.0,0.2,0.0,0.4,1.5,0.8,0.0,0.6,1.6,0.4,1.0,1.5,0.0,0.6,0.5,0.0,1.3,0.4,0.0,0.0,0.6,0.0,0.0,0.6,0.0,0.0,0.4,0.0,0.0,1.2,0.0,0.0],\"xaxis\":\"x\",\"yaxis\":\"y\"},{\"alignmentgroup\":\"True\",\"hovertemplate\":\"HeartDisease=0<br>Oldpeak=%{x}<extra></extra>\",\"legendgroup\":\"0\",\"marker\":{\"color\":\"#636efa\",\"line\":{\"color\":\"black\",\"width\":1}},\"name\":\"0\",\"notched\":true,\"offsetgroup\":\"0\",\"showlegend\":false,\"type\":\"box\",\"x\":[0.0,0.0,0.0,0.0,0.0,0.0,0.0,0.0,0.0,0.0,1.5,0.0,0.0,1.0,0.0,0.0,0.0,3.0,0.0,0.0,0.0,0.0,0.0,0.0,0.0,0.0,1.0,0.0,0.0,0.0,1.0,0.0,0.0,1.0,0.0,0.0,1.5,0.0,1.0,0.0,0.0,0.0,0.0,0.0,0.0,0.0,0.0,0.0,0.0,0.0,0.0,0.0,0.0,0.0,0.0,2.0,0.5,0.0,0.0,0.0,0.0,0.0,0.0,0.0,0.0,0.0,0.0,0.0,0.0,0.0,0.0,1.0,0.0,0.0,0.0,0.0,0.0,0.0,0.0,0.0,0.0,2.0,0.0,1.5,0.0,1.0,0.0,2.0,0.0,0.0,0.0,0.0,0.0,0.0,0.0,0.0,0.0,0.0,0.0,1.0,0.0,0.0,0.0,0.0,0.0,0.0,0.0,0.0,0.0,0.0,0.0,0.0,0.0,0.0,1.0,0.0,0.0,1.0,0.0,0.0,0.0,0.0,0.0,0.0,1.0,0.0,1.0,0.0,0.0,0.0,0.0,0.0,0.0,0.0,0.0,1.0,0.0,0.0,0.0,0.0,0.0,0.0,0.0,0.0,0.0,0.0,0.0,0.0,0.0,0.0,0.0,0.0,1.0,0.0,0.0,2.0,0.0,1.0,0.0,0.0,0.0,0.5,0.0,0.0,1.0,0.0,0.0,2.0,0.0,0.0,0.0,0.0,0.0,0.8,0.0,0.0,2.0,0.0,0.0,0.0,0.0,0.0,2.0,0.0,0.0,1.0,0.0,0.0,1.3,0.0,0.0,0.0,2.0,0.1,0.4,0.3,1.0,0.2,0.0,0.3,-0.1,0.5,0.0,0.1,0.3,0.0,0.0,0.2,0.2,0.0,0.3,2.0,0.2,0.1,2.0,1.5,0.3,1.0,0.2,0.0,0.2,1.0,0.0,1.0,0.2,0.3,1.6,0.2,0.2,0.4,0.5,0.0,0.0,0.0,1.6,1.8,1.4,0.2,1.2,0.1,0.0,0.2,0.0,0.6,0.0,2.3,0.0,0.0,0.0,0.0,0.4,0.0,0.0,0.0,0.8,0.0,0.6,0.0,0.0,0.2,0.0,0.9,2.3,0.0,0.3,0.6,0.0,1.1,0.3,3.0,0.0,0.0,0.8,2.0,1.5,0.8,0.0,4.2,0.0,0.0,0.4,0.2,1.1,0.6,0.0,1.2,0.0,0.0,0.0,0.0,0.0,2.6,0.8,0.5,0.0,0.1,0.8,0.0,1.6,1.4,0.0,0.7,0.0,0.0,1.4,0.0,0.0,1.6,0.0,2.0,0.5,0.0,0.0,1.9,0.0,0.0,0.0,0.0,1.2,0.2,0.1,1.5,0.0,0.0,0.8,0.6,0.0,1.9,0.1,1.2,1.2,0.0,0.0,1.4,1.0,1.6,1.8,1.0,1.2,0.0,0.6,3.5,2.4,0.2,0.0,1.4,0.0,0.0,0.4,0.0,1.6,1.4,0.0,1.0,0.0,0.0,1.8,0.0,0.0,0.2,0.0,0.4,1.5,0.8,0.0,0.6,1.6,0.4,1.0,1.5,0.0,0.6,0.5,0.0,1.3,0.4,0.0,0.0,0.6,0.0,0.0,0.6,0.0,0.0,0.4,0.0,0.0,1.2,0.0,0.0],\"xaxis\":\"x2\",\"yaxis\":\"y2\"},{\"alignmentgroup\":\"True\",\"bingroup\":\"x\",\"hovertemplate\":\"HeartDisease=1<br>Oldpeak=%{x}<br>count=%{y}<extra></extra>\",\"legendgroup\":\"1\",\"marker\":{\"color\":\"#EF553B\",\"line\":{\"color\":\"black\",\"width\":1},\"pattern\":{\"shape\":\"\"}},\"name\":\"1\",\"offsetgroup\":\"1\",\"orientation\":\"v\",\"showlegend\":true,\"type\":\"histogram\",\"x\":[1.0,1.5,1.5,2.0,1.0,0.0,1.0,3.0,3.0,0.0,2.0,2.0,1.5,0.0,1.0,0.0,2.0,2.0,1.5,0.0,1.0,1.0,4.0,1.0,0.0,1.5,0.0,0.0,0.0,1.0,1.0,2.0,0.0,1.5,2.0,1.0,2.0,1.0,0.0,3.0,1.0,0.0,1.5,0.0,0.0,1.0,0.0,2.0,1.5,0.0,0.0,2.0,2.5,2.5,3.0,1.0,1.0,3.0,1.0,2.0,0.0,0.0,2.0,5.0,2.0,2.0,1.5,2.0,2.0,0.0,1.0,1.5,0.0,0.0,0.0,0.0,0.0,1.5,0.0,0.0,1.0,0.0,2.5,3.0,0.0,2.0,3.0,2.0,2.0,1.0,1.5,2.0,1.0,1.0,0.0,2.0,2.0,0.0,0.0,1.0,1.0,1.0,3.0,2.0,1.5,2.0,3.0,1.5,2.5,0.0,0.5,2.5,2.0,0.5,1.5,1.6,2.0,1.0,1.5,1.2,1.9,1.3,1.6,1.7,2.0,2.5,1.2,2.0,3.0,1.0,0.0,1.7,2.5,1.0,3.0,0.0,1.0,4.0,2.0,2.0,3.0,1.2,3.0,0.0,2.0,1.3,0.0,1.5,1.0,4.0,1.0,1.0,1.7,1.5,1.4,1.1,1.8,0.0,2.0,2.5,4.0,2.0,1.2,3.5,1.5,3.0,0.0,1.5,1.5,2.0,1.8,1.8,0.0,1.8,1.4,4.0,1.1,2.0,1.7,0.0,1.5,2.5,2.0,1.5,0.5,1.5,1.5,1.2,3.0,1.9,3.0,1.8,1.0,1.5,0.0,1.5,0.8,2.0,2.0,0.0,2.0,0.0,1.0,0.5,0.0,1.7,1.5,1.3,0.0,1.5,3.0,1.5,0.0,0.0,0.0,0.0,0.0,2.4,0.3,0.6,1.2,1.2,4.0,2.6,1.8,3.1,2.6,2.5,0.4,3.4,0.9,0.0,1.9,0.0,0.0,2.2,0.8,0.0,0.0,1.0,1.8,3.6,0.0,1.4,1.2,0.6,0.0,0.0,3.6,0.0,2.0,1.6,0.8,2.6,0.0,2.2,0.0,1.0,1.0,0.1,1.0,1.0,1.4,0.5,2.6,0.0,3.4,0.0,0.8,4.0,1.6,2.0,3.2,1.2,1.8,1.4,1.8,0.1,2.2,1.2,2.0,0.6,0.0,2.0,0.0,2.0,3.2,5.6,1.0,3.8,1.4,3.0,1.4,2.0,0.9,1.9,4.2,3.6,0.2,1.9,0.0,2.1,2.9,2.6,0.0,0.0,0.0,2.8,1.6,0.8,1.8,0.2,2.2,2.8,2.8,1.8,1.2,3.0,1.0,1.2,0.0,6.2,2.5,1.6,3.6,1.4,0.6,3.0,2.8,1.4,0.0,1.2,0.0,2.4,1.8,1.0,1.5,0.1,1.0,0.8,0.0,3.0,2.0,0.0,4.4,2.8,0.8,2.8,4.0,0.0,1.0,0.2,1.2,3.4,1.2,0.0],\"xaxis\":\"x\",\"yaxis\":\"y\"},{\"alignmentgroup\":\"True\",\"hovertemplate\":\"HeartDisease=1<br>Oldpeak=%{x}<extra></extra>\",\"legendgroup\":\"1\",\"marker\":{\"color\":\"#EF553B\",\"line\":{\"color\":\"black\",\"width\":1}},\"name\":\"1\",\"notched\":true,\"offsetgroup\":\"1\",\"showlegend\":false,\"type\":\"box\",\"x\":[1.0,1.5,1.5,2.0,1.0,0.0,1.0,3.0,3.0,0.0,2.0,2.0,1.5,0.0,1.0,0.0,2.0,2.0,1.5,0.0,1.0,1.0,4.0,1.0,0.0,1.5,0.0,0.0,0.0,1.0,1.0,2.0,0.0,1.5,2.0,1.0,2.0,1.0,0.0,3.0,1.0,0.0,1.5,0.0,0.0,1.0,0.0,2.0,1.5,0.0,0.0,2.0,2.5,2.5,3.0,1.0,1.0,3.0,1.0,2.0,0.0,0.0,2.0,5.0,2.0,2.0,1.5,2.0,2.0,0.0,1.0,1.5,0.0,0.0,0.0,0.0,0.0,1.5,0.0,0.0,1.0,0.0,2.5,3.0,0.0,2.0,3.0,2.0,2.0,1.0,1.5,2.0,1.0,1.0,0.0,2.0,2.0,0.0,0.0,1.0,1.0,1.0,3.0,2.0,1.5,2.0,3.0,1.5,2.5,0.0,0.5,2.5,2.0,0.5,1.5,1.6,2.0,1.0,1.5,1.2,1.9,1.3,1.6,1.7,2.0,2.5,1.2,2.0,3.0,1.0,0.0,1.7,2.5,1.0,3.0,0.0,1.0,4.0,2.0,2.0,3.0,1.2,3.0,0.0,2.0,1.3,0.0,1.5,1.0,4.0,1.0,1.0,1.7,1.5,1.4,1.1,1.8,0.0,2.0,2.5,4.0,2.0,1.2,3.5,1.5,3.0,0.0,1.5,1.5,2.0,1.8,1.8,0.0,1.8,1.4,4.0,1.1,2.0,1.7,0.0,1.5,2.5,2.0,1.5,0.5,1.5,1.5,1.2,3.0,1.9,3.0,1.8,1.0,1.5,0.0,1.5,0.8,2.0,2.0,0.0,2.0,0.0,1.0,0.5,0.0,1.7,1.5,1.3,0.0,1.5,3.0,1.5,0.0,0.0,0.0,0.0,0.0,2.4,0.3,0.6,1.2,1.2,4.0,2.6,1.8,3.1,2.6,2.5,0.4,3.4,0.9,0.0,1.9,0.0,0.0,2.2,0.8,0.0,0.0,1.0,1.8,3.6,0.0,1.4,1.2,0.6,0.0,0.0,3.6,0.0,2.0,1.6,0.8,2.6,0.0,2.2,0.0,1.0,1.0,0.1,1.0,1.0,1.4,0.5,2.6,0.0,3.4,0.0,0.8,4.0,1.6,2.0,3.2,1.2,1.8,1.4,1.8,0.1,2.2,1.2,2.0,0.6,0.0,2.0,0.0,2.0,3.2,5.6,1.0,3.8,1.4,3.0,1.4,2.0,0.9,1.9,4.2,3.6,0.2,1.9,0.0,2.1,2.9,2.6,0.0,0.0,0.0,2.8,1.6,0.8,1.8,0.2,2.2,2.8,2.8,1.8,1.2,3.0,1.0,1.2,0.0,6.2,2.5,1.6,3.6,1.4,0.6,3.0,2.8,1.4,0.0,1.2,0.0,2.4,1.8,1.0,1.5,0.1,1.0,0.8,0.0,3.0,2.0,0.0,4.4,2.8,0.8,2.8,4.0,0.0,1.0,0.2,1.2,3.4,1.2,0.0],\"xaxis\":\"x2\",\"yaxis\":\"y2\"}],                        {\"barmode\":\"relative\",\"height\":400,\"legend\":{\"title\":{\"text\":\"HeartDisease\"},\"tracegroupgap\":0},\"template\":{\"data\":{\"bar\":[{\"error_x\":{\"color\":\"#2a3f5f\"},\"error_y\":{\"color\":\"#2a3f5f\"},\"marker\":{\"line\":{\"color\":\"#E5ECF6\",\"width\":0.5},\"pattern\":{\"fillmode\":\"overlay\",\"size\":10,\"solidity\":0.2}},\"type\":\"bar\"}],\"barpolar\":[{\"marker\":{\"line\":{\"color\":\"#E5ECF6\",\"width\":0.5},\"pattern\":{\"fillmode\":\"overlay\",\"size\":10,\"solidity\":0.2}},\"type\":\"barpolar\"}],\"carpet\":[{\"aaxis\":{\"endlinecolor\":\"#2a3f5f\",\"gridcolor\":\"white\",\"linecolor\":\"white\",\"minorgridcolor\":\"white\",\"startlinecolor\":\"#2a3f5f\"},\"baxis\":{\"endlinecolor\":\"#2a3f5f\",\"gridcolor\":\"white\",\"linecolor\":\"white\",\"minorgridcolor\":\"white\",\"startlinecolor\":\"#2a3f5f\"},\"type\":\"carpet\"}],\"choropleth\":[{\"colorbar\":{\"outlinewidth\":0,\"ticks\":\"\"},\"type\":\"choropleth\"}],\"contour\":[{\"colorbar\":{\"outlinewidth\":0,\"ticks\":\"\"},\"colorscale\":[[0.0,\"#0d0887\"],[0.1111111111111111,\"#46039f\"],[0.2222222222222222,\"#7201a8\"],[0.3333333333333333,\"#9c179e\"],[0.4444444444444444,\"#bd3786\"],[0.5555555555555556,\"#d8576b\"],[0.6666666666666666,\"#ed7953\"],[0.7777777777777778,\"#fb9f3a\"],[0.8888888888888888,\"#fdca26\"],[1.0,\"#f0f921\"]],\"type\":\"contour\"}],\"contourcarpet\":[{\"colorbar\":{\"outlinewidth\":0,\"ticks\":\"\"},\"type\":\"contourcarpet\"}],\"heatmap\":[{\"colorbar\":{\"outlinewidth\":0,\"ticks\":\"\"},\"colorscale\":[[0.0,\"#0d0887\"],[0.1111111111111111,\"#46039f\"],[0.2222222222222222,\"#7201a8\"],[0.3333333333333333,\"#9c179e\"],[0.4444444444444444,\"#bd3786\"],[0.5555555555555556,\"#d8576b\"],[0.6666666666666666,\"#ed7953\"],[0.7777777777777778,\"#fb9f3a\"],[0.8888888888888888,\"#fdca26\"],[1.0,\"#f0f921\"]],\"type\":\"heatmap\"}],\"heatmapgl\":[{\"colorbar\":{\"outlinewidth\":0,\"ticks\":\"\"},\"colorscale\":[[0.0,\"#0d0887\"],[0.1111111111111111,\"#46039f\"],[0.2222222222222222,\"#7201a8\"],[0.3333333333333333,\"#9c179e\"],[0.4444444444444444,\"#bd3786\"],[0.5555555555555556,\"#d8576b\"],[0.6666666666666666,\"#ed7953\"],[0.7777777777777778,\"#fb9f3a\"],[0.8888888888888888,\"#fdca26\"],[1.0,\"#f0f921\"]],\"type\":\"heatmapgl\"}],\"histogram\":[{\"marker\":{\"pattern\":{\"fillmode\":\"overlay\",\"size\":10,\"solidity\":0.2}},\"type\":\"histogram\"}],\"histogram2d\":[{\"colorbar\":{\"outlinewidth\":0,\"ticks\":\"\"},\"colorscale\":[[0.0,\"#0d0887\"],[0.1111111111111111,\"#46039f\"],[0.2222222222222222,\"#7201a8\"],[0.3333333333333333,\"#9c179e\"],[0.4444444444444444,\"#bd3786\"],[0.5555555555555556,\"#d8576b\"],[0.6666666666666666,\"#ed7953\"],[0.7777777777777778,\"#fb9f3a\"],[0.8888888888888888,\"#fdca26\"],[1.0,\"#f0f921\"]],\"type\":\"histogram2d\"}],\"histogram2dcontour\":[{\"colorbar\":{\"outlinewidth\":0,\"ticks\":\"\"},\"colorscale\":[[0.0,\"#0d0887\"],[0.1111111111111111,\"#46039f\"],[0.2222222222222222,\"#7201a8\"],[0.3333333333333333,\"#9c179e\"],[0.4444444444444444,\"#bd3786\"],[0.5555555555555556,\"#d8576b\"],[0.6666666666666666,\"#ed7953\"],[0.7777777777777778,\"#fb9f3a\"],[0.8888888888888888,\"#fdca26\"],[1.0,\"#f0f921\"]],\"type\":\"histogram2dcontour\"}],\"mesh3d\":[{\"colorbar\":{\"outlinewidth\":0,\"ticks\":\"\"},\"type\":\"mesh3d\"}],\"parcoords\":[{\"line\":{\"colorbar\":{\"outlinewidth\":0,\"ticks\":\"\"}},\"type\":\"parcoords\"}],\"pie\":[{\"automargin\":true,\"type\":\"pie\"}],\"scatter\":[{\"marker\":{\"colorbar\":{\"outlinewidth\":0,\"ticks\":\"\"}},\"type\":\"scatter\"}],\"scatter3d\":[{\"line\":{\"colorbar\":{\"outlinewidth\":0,\"ticks\":\"\"}},\"marker\":{\"colorbar\":{\"outlinewidth\":0,\"ticks\":\"\"}},\"type\":\"scatter3d\"}],\"scattercarpet\":[{\"marker\":{\"colorbar\":{\"outlinewidth\":0,\"ticks\":\"\"}},\"type\":\"scattercarpet\"}],\"scattergeo\":[{\"marker\":{\"colorbar\":{\"outlinewidth\":0,\"ticks\":\"\"}},\"type\":\"scattergeo\"}],\"scattergl\":[{\"marker\":{\"colorbar\":{\"outlinewidth\":0,\"ticks\":\"\"}},\"type\":\"scattergl\"}],\"scattermapbox\":[{\"marker\":{\"colorbar\":{\"outlinewidth\":0,\"ticks\":\"\"}},\"type\":\"scattermapbox\"}],\"scatterpolar\":[{\"marker\":{\"colorbar\":{\"outlinewidth\":0,\"ticks\":\"\"}},\"type\":\"scatterpolar\"}],\"scatterpolargl\":[{\"marker\":{\"colorbar\":{\"outlinewidth\":0,\"ticks\":\"\"}},\"type\":\"scatterpolargl\"}],\"scatterternary\":[{\"marker\":{\"colorbar\":{\"outlinewidth\":0,\"ticks\":\"\"}},\"type\":\"scatterternary\"}],\"surface\":[{\"colorbar\":{\"outlinewidth\":0,\"ticks\":\"\"},\"colorscale\":[[0.0,\"#0d0887\"],[0.1111111111111111,\"#46039f\"],[0.2222222222222222,\"#7201a8\"],[0.3333333333333333,\"#9c179e\"],[0.4444444444444444,\"#bd3786\"],[0.5555555555555556,\"#d8576b\"],[0.6666666666666666,\"#ed7953\"],[0.7777777777777778,\"#fb9f3a\"],[0.8888888888888888,\"#fdca26\"],[1.0,\"#f0f921\"]],\"type\":\"surface\"}],\"table\":[{\"cells\":{\"fill\":{\"color\":\"#EBF0F8\"},\"line\":{\"color\":\"white\"}},\"header\":{\"fill\":{\"color\":\"#C8D4E3\"},\"line\":{\"color\":\"white\"}},\"type\":\"table\"}]},\"layout\":{\"annotationdefaults\":{\"arrowcolor\":\"#2a3f5f\",\"arrowhead\":0,\"arrowwidth\":1},\"autotypenumbers\":\"strict\",\"coloraxis\":{\"colorbar\":{\"outlinewidth\":0,\"ticks\":\"\"}},\"colorscale\":{\"diverging\":[[0,\"#8e0152\"],[0.1,\"#c51b7d\"],[0.2,\"#de77ae\"],[0.3,\"#f1b6da\"],[0.4,\"#fde0ef\"],[0.5,\"#f7f7f7\"],[0.6,\"#e6f5d0\"],[0.7,\"#b8e186\"],[0.8,\"#7fbc41\"],[0.9,\"#4d9221\"],[1,\"#276419\"]],\"sequential\":[[0.0,\"#0d0887\"],[0.1111111111111111,\"#46039f\"],[0.2222222222222222,\"#7201a8\"],[0.3333333333333333,\"#9c179e\"],[0.4444444444444444,\"#bd3786\"],[0.5555555555555556,\"#d8576b\"],[0.6666666666666666,\"#ed7953\"],[0.7777777777777778,\"#fb9f3a\"],[0.8888888888888888,\"#fdca26\"],[1.0,\"#f0f921\"]],\"sequentialminus\":[[0.0,\"#0d0887\"],[0.1111111111111111,\"#46039f\"],[0.2222222222222222,\"#7201a8\"],[0.3333333333333333,\"#9c179e\"],[0.4444444444444444,\"#bd3786\"],[0.5555555555555556,\"#d8576b\"],[0.6666666666666666,\"#ed7953\"],[0.7777777777777778,\"#fb9f3a\"],[0.8888888888888888,\"#fdca26\"],[1.0,\"#f0f921\"]]},\"colorway\":[\"#636efa\",\"#EF553B\",\"#00cc96\",\"#ab63fa\",\"#FFA15A\",\"#19d3f3\",\"#FF6692\",\"#B6E880\",\"#FF97FF\",\"#FECB52\"],\"font\":{\"color\":\"#2a3f5f\"},\"geo\":{\"bgcolor\":\"white\",\"lakecolor\":\"white\",\"landcolor\":\"#E5ECF6\",\"showlakes\":true,\"showland\":true,\"subunitcolor\":\"white\"},\"hoverlabel\":{\"align\":\"left\"},\"hovermode\":\"closest\",\"mapbox\":{\"style\":\"light\"},\"paper_bgcolor\":\"white\",\"plot_bgcolor\":\"#E5ECF6\",\"polar\":{\"angularaxis\":{\"gridcolor\":\"white\",\"linecolor\":\"white\",\"ticks\":\"\"},\"bgcolor\":\"#E5ECF6\",\"radialaxis\":{\"gridcolor\":\"white\",\"linecolor\":\"white\",\"ticks\":\"\"}},\"scene\":{\"xaxis\":{\"backgroundcolor\":\"#E5ECF6\",\"gridcolor\":\"white\",\"gridwidth\":2,\"linecolor\":\"white\",\"showbackground\":true,\"ticks\":\"\",\"zerolinecolor\":\"white\"},\"yaxis\":{\"backgroundcolor\":\"#E5ECF6\",\"gridcolor\":\"white\",\"gridwidth\":2,\"linecolor\":\"white\",\"showbackground\":true,\"ticks\":\"\",\"zerolinecolor\":\"white\"},\"zaxis\":{\"backgroundcolor\":\"#E5ECF6\",\"gridcolor\":\"white\",\"gridwidth\":2,\"linecolor\":\"white\",\"showbackground\":true,\"ticks\":\"\",\"zerolinecolor\":\"white\"}},\"shapedefaults\":{\"line\":{\"color\":\"#2a3f5f\"}},\"ternary\":{\"aaxis\":{\"gridcolor\":\"white\",\"linecolor\":\"white\",\"ticks\":\"\"},\"baxis\":{\"gridcolor\":\"white\",\"linecolor\":\"white\",\"ticks\":\"\"},\"bgcolor\":\"#E5ECF6\",\"caxis\":{\"gridcolor\":\"white\",\"linecolor\":\"white\",\"ticks\":\"\"}},\"title\":{\"x\":0.05},\"xaxis\":{\"automargin\":true,\"gridcolor\":\"white\",\"linecolor\":\"white\",\"ticks\":\"\",\"title\":{\"standoff\":15},\"zerolinecolor\":\"white\",\"zerolinewidth\":2},\"yaxis\":{\"automargin\":true,\"gridcolor\":\"white\",\"linecolor\":\"white\",\"ticks\":\"\",\"title\":{\"standoff\":15},\"zerolinecolor\":\"white\",\"zerolinewidth\":2}}},\"title\":{\"text\":\"Exploring Oldpeak column (without Cholesterol outliers)\"},\"width\":600,\"xaxis\":{\"anchor\":\"y\",\"domain\":[0.0,1.0],\"title\":{\"text\":\"Oldpeak\"}},\"xaxis2\":{\"anchor\":\"y2\",\"domain\":[0.0,1.0],\"matches\":\"x\",\"showgrid\":true,\"showticklabels\":false},\"yaxis\":{\"anchor\":\"x\",\"domain\":[0.0,0.7326],\"title\":{\"text\":\"count\"}},\"yaxis2\":{\"anchor\":\"x2\",\"domain\":[0.7426,1.0],\"matches\":\"y2\",\"showgrid\":false,\"showline\":false,\"showticklabels\":false,\"ticks\":\"\"}},                        {\"responsive\": true}                    ).then(function(){\n                            \nvar gd = document.getElementById('5640bf32-5c3d-44f1-aec0-e4fad91b911c');\nvar x = new MutationObserver(function (mutations, observer) {{\n        var display = window.getComputedStyle(gd).display;\n        if (!display || display === 'none') {{\n            console.log([gd, 'removed!']);\n            Plotly.purge(gd);\n            observer.disconnect();\n        }}\n}});\n\n// Listen for the removal of the full notebook cells\nvar notebookContainer = gd.closest('#notebook-container');\nif (notebookContainer) {{\n    x.observe(notebookContainer, {childList: true});\n}}\n\n// Listen for the clearing of the current output cell\nvar outputEl = gd.closest('.output');\nif (outputEl) {{\n    x.observe(outputEl, {childList: true});\n}}\n\n                        })                };                            </script>        </div>\n</body>\n</html>"
     },
     "metadata": {},
     "output_type": "display_data"
    }
   ],
   "execution_count": null
  },
  {
   "cell_type": "markdown",
   "source": "Comparing this set of plots (without the outliers) to the ones with the outliers we noticed a few things:  \n1.&nbsp;All plots have lower count values - this is reasonable, considering there are less records after removing outliers  \n2. The `RestingBP` and `Oldpeak` plots are missing a handful of smaller values - recall we dropped the `RestingBP` outlier.  \n3. The overall distribution is the same for every plot. That is, they are **not** more skewed to the left or to the right after removing the outliers.\n\nThus far, we believe it will be reasonable to get rid of these outliers. However, let's see what our target attribute `HeartDisease` looks like excluding outliers, before we make our final decision.",
   "metadata": {
    "tags": [],
    "cell_id": "00028-308274f1-1184-4ab6-8f6e-baeae683b16e",
    "deepnote_app_coordinates": {
     "x": 0,
     "y": 174,
     "w": 12,
     "h": 5
    },
    "deepnote_cell_type": "markdown"
   }
  },
  {
   "cell_type": "code",
   "metadata": {
    "tags": [],
    "cell_id": "00028-7774fa38-fc5a-41d2-908b-39fc1adb826e",
    "deepnote_to_be_reexecuted": false,
    "source_hash": "8bf0ef76",
    "execution_start": 1638836515108,
    "execution_millis": 643,
    "deepnote_output_heights": [
     400
    ],
    "deepnote_app_coordinates": {
     "x": 0,
     "y": 180,
     "w": 12,
     "h": 5
    },
    "deepnote_cell_type": "code"
   },
   "source": "# then let's check the balance of HeartDisease with these outliers and without them\n\nfig, axes = plt.subplots(1, 2, figsize=(10, 7))\n\nsns.histplot(df[\"HeartDisease\"], ax=axes[0], color=\"#8d426e\").set(title=\"with outliers\");\n\nsns.histplot(df_chol_is_not_zero[\"HeartDisease\"], ax=axes[1], color=\"#ce6d6c\").set(title=\"without outliers\");\n\nplt.setp(axes, xticks=[0, 1])\n\nfig.tight_layout(pad = 6)",
   "outputs": [
    {
     "data": {
      "text/plain": "<Figure size 720x504 with 2 Axes>",
      "image/png": "[encoded data removed]"
     },
     "metadata": {
      "needs_background": "light",
      "image/png": {
       "width": 614,
       "height": 398
      }
     },
     "output_type": "display_data"
    }
   ],
   "execution_count": null
  },
  {
   "cell_type": "markdown",
   "source": "Taking a close look at the chart above, we notice that the `HeartDisease` column is **more balanced without the outliers**. A large portion of the rows where `Cholesterol = 0` also had `HeartDisease = 1` as such the total count for `HeartDisease = 1` is reduced after removing the outliers.  \n\n##### How we dealt with the HeartDisease outliers\nAs a team, we decided that since we observed the data to be more balanced, and the distribution of other numeric attributes to generally be same after removing the outliers, we will drop these rows from the dataset before continuing on with EDA and further data science.",
   "metadata": {
    "tags": [],
    "cell_id": "00029-04a4ae0e-14dc-467b-ae7c-6ffb22fc5149",
    "deepnote_app_coordinates": {
     "x": 0,
     "y": 186,
     "w": 12,
     "h": 5
    },
    "deepnote_cell_type": "markdown"
   }
  },
  {
   "cell_type": "code",
   "metadata": {
    "tags": [],
    "cell_id": "00031-78b27640-5f52-4e64-8d95-be37ef2e2acf",
    "deepnote_to_be_reexecuted": false,
    "source_hash": "f89df90",
    "execution_start": 1638836515761,
    "execution_millis": 0,
    "deepnote_app_coordinates": {
     "x": 0,
     "y": 192,
     "w": 12,
     "h": 5
    },
    "deepnote_cell_type": "code"
   },
   "source": "df = df[df[\"Cholesterol\"] > 0]\nprint(df.shape, \">> we now have 746 records; we have successfully dropped the anomalies\")",
   "outputs": [
    {
     "name": "stdout",
     "text": "(746, 12) >> we now have 746 records; we have successfully dropped the anomalies\n",
     "output_type": "stream"
    }
   ],
   "execution_count": null
  },
  {
   "cell_type": "markdown",
   "source": "----  \n\n#### Pre-processing Categorical Data\n\nFirst, we noticed our `HeartDisease` and `FastingBS` columns contain `1`s and `0`s only. These are examples of categorical data with two classes each: \n* `1` - has heart disease \n* `0` - does not have heart disease \n&nbsp;\n* `1` - if `FastingBS` > 120 mg/dl\n*  `0` - if `FastingBS` <= 120 mg/dl\n\nTo simplify our plots and make them readable, we will add class label columns `HeartDiseaseLabel` and `FastingBSLabel` to our dataset to correspond to the class values `1` and `0`.",
   "metadata": {
    "tags": [],
    "cell_id": "00017-56bc25bd-6750-426c-89b8-be529a34e628",
    "deepnote_app_coordinates": {
     "x": 0,
     "y": 198,
     "w": 12,
     "h": 5
    },
    "deepnote_cell_type": "markdown"
   }
  },
  {
   "cell_type": "code",
   "metadata": {
    "tags": [],
    "cell_id": "00019-95ff893b-e7e7-4ccd-b533-3a56eea4315e",
    "deepnote_to_be_reexecuted": false,
    "source_hash": "37cb2429",
    "execution_start": 1638836515767,
    "execution_millis": 210,
    "deepnote_output_heights": [
     382.1875
    ],
    "deepnote_app_coordinates": {
     "x": 0,
     "y": 204,
     "w": 12,
     "h": 5
    },
    "deepnote_cell_type": "code"
   },
   "source": "df[\"HeartDiseaseLabel\"] = 'No Heart Disease'\ndf.loc[df['HeartDisease'] == 1, 'HeartDiseaseLabel'] = 'Has Heart Disease'\n\ndf[\"FastingBSLabel\"] = '<= 120 mg/dl'\ndf.loc[df['FastingBS'] == 1, 'FastingBSLabel'] = '> 120 mg/dl'\ndf",
   "outputs": [
    {
     "output_type": "execute_result",
     "execution_count": 15,
     "data": {
      "application/vnd.deepnote.dataframe.v2+json": {
       "row_count": 746,
       "column_count": 14,
       "columns": [
        {
         "name": "Age",
         "dtype": "int64",
         "stats": {
          "unique_count": 49,
          "nan_count": 0,
          "min": "28",
          "max": "77",
          "histogram": [
           {
            "bin_start": 28,
            "bin_end": 32.9,
            "count": 11
           },
           {
            "bin_start": 32.9,
            "bin_end": 37.8,
            "count": 34
           },
           {
            "bin_start": 37.8,
            "bin_end": 42.7,
            "count": 74
           },
           {
            "bin_start": 42.7,
            "bin_end": 47.6,
            "count": 93
           },
           {
            "bin_start": 47.6,
            "bin_end": 52.5,
            "count": 126
           },
           {
            "bin_start": 52.5,
            "bin_end": 57.400000000000006,
            "count": 164
           },
           {
            "bin_start": 57.400000000000006,
            "bin_end": 62.300000000000004,
            "count": 128
           },
           {
            "bin_start": 62.300000000000004,
            "bin_end": 67.2,
            "count": 75
           },
           {
            "bin_start": 67.2,
            "bin_end": 72.1,
            "count": 29
           },
           {
            "bin_start": 72.1,
            "bin_end": 77,
            "count": 12
           }
          ]
         }
        },
        {
         "name": "Sex",
         "dtype": "object",
         "stats": {
          "unique_count": 2,
          "nan_count": 0,
          "categories": [
           {
            "name": "M",
            "count": 564
           },
           {
            "name": "F",
            "count": 182
           }
          ]
         }
        },
        {
         "name": "ChestPainType",
         "dtype": "object",
         "stats": {
          "unique_count": 4,
          "nan_count": 0,
          "categories": [
           {
            "name": "ASY",
            "count": 370
           },
           {
            "name": "NAP",
            "count": 169
           },
           {
            "name": "2 others",
            "count": 207
           }
          ]
         }
        },
        {
         "name": "RestingBP",
         "dtype": "int64",
         "stats": {
          "unique_count": 63,
          "nan_count": 0,
          "min": "92",
          "max": "200",
          "histogram": [
           {
            "bin_start": 92,
            "bin_end": 102.8,
            "count": 19
           },
           {
            "bin_start": 102.8,
            "bin_end": 113.6,
            "count": 77
           },
           {
            "bin_start": 113.6,
            "bin_end": 124.4,
            "count": 153
           },
           {
            "bin_start": 124.4,
            "bin_end": 135.2,
            "count": 187
           },
           {
            "bin_start": 135.2,
            "bin_end": 146,
            "count": 166
           },
           {
            "bin_start": 146,
            "bin_end": 156.8,
            "count": 67
           },
           {
            "bin_start": 156.8,
            "bin_end": 167.60000000000002,
            "count": 45
           },
           {
            "bin_start": 167.60000000000002,
            "bin_end": 178.4,
            "count": 17
           },
           {
            "bin_start": 178.4,
            "bin_end": 189.2,
            "count": 10
           },
           {
            "bin_start": 189.2,
            "bin_end": 200,
            "count": 5
           }
          ]
         }
        },
        {
         "name": "Cholesterol",
         "dtype": "int64",
         "stats": {
          "unique_count": 221,
          "nan_count": 0,
          "min": "85",
          "max": "603",
          "histogram": [
           {
            "bin_start": 85,
            "bin_end": 136.8,
            "count": 12
           },
           {
            "bin_start": 136.8,
            "bin_end": 188.6,
            "count": 91
           },
           {
            "bin_start": 188.6,
            "bin_end": 240.39999999999998,
            "count": 288
           },
           {
            "bin_start": 240.39999999999998,
            "bin_end": 292.2,
            "count": 229
           },
           {
            "bin_start": 292.2,
            "bin_end": 344,
            "count": 96
           },
           {
            "bin_start": 344,
            "bin_end": 395.79999999999995,
            "count": 17
           },
           {
            "bin_start": 395.79999999999995,
            "bin_end": 447.59999999999997,
            "count": 5
           },
           {
            "bin_start": 447.59999999999997,
            "bin_end": 499.4,
            "count": 4
           },
           {
            "bin_start": 499.4,
            "bin_end": 551.2,
            "count": 2
           },
           {
            "bin_start": 551.2,
            "bin_end": 603,
            "count": 2
           }
          ]
         }
        },
        {
         "name": "FastingBS",
         "dtype": "int64",
         "stats": {
          "unique_count": 2,
          "nan_count": 0,
          "min": "0",
          "max": "1",
          "histogram": [
           {
            "bin_start": 0,
            "bin_end": 0.1,
            "count": 621
           },
           {
            "bin_start": 0.1,
            "bin_end": 0.2,
            "count": 0
           },
           {
            "bin_start": 0.2,
            "bin_end": 0.30000000000000004,
            "count": 0
           },
           {
            "bin_start": 0.30000000000000004,
            "bin_end": 0.4,
            "count": 0
           },
           {
            "bin_start": 0.4,
            "bin_end": 0.5,
            "count": 0
           },
           {
            "bin_start": 0.5,
            "bin_end": 0.6000000000000001,
            "count": 0
           },
           {
            "bin_start": 0.6000000000000001,
            "bin_end": 0.7000000000000001,
            "count": 0
           },
           {
            "bin_start": 0.7000000000000001,
            "bin_end": 0.8,
            "count": 0
           },
           {
            "bin_start": 0.8,
            "bin_end": 0.9,
            "count": 0
           },
           {
            "bin_start": 0.9,
            "bin_end": 1,
            "count": 125
           }
          ]
         }
        },
        {
         "name": "RestingECG",
         "dtype": "object",
         "stats": {
          "unique_count": 3,
          "nan_count": 0,
          "categories": [
           {
            "name": "Normal",
            "count": 445
           },
           {
            "name": "LVH",
            "count": 176
           },
           {
            "name": "ST",
            "count": 125
           }
          ]
         }
        },
        {
         "name": "MaxHR",
         "dtype": "int64",
         "stats": {
          "unique_count": 109,
          "nan_count": 0,
          "min": "69",
          "max": "202",
          "histogram": [
           {
            "bin_start": 69,
            "bin_end": 82.3,
            "count": 5
           },
           {
            "bin_start": 82.3,
            "bin_end": 95.6,
            "count": 18
           },
           {
            "bin_start": 95.6,
            "bin_end": 108.9,
            "count": 53
           },
           {
            "bin_start": 108.9,
            "bin_end": 122.2,
            "count": 115
           },
           {
            "bin_start": 122.2,
            "bin_end": 135.5,
            "count": 121
           },
           {
            "bin_start": 135.5,
            "bin_end": 148.8,
            "count": 133
           },
           {
            "bin_start": 148.8,
            "bin_end": 162.10000000000002,
            "count": 154
           },
           {
            "bin_start": 162.10000000000002,
            "bin_end": 175.4,
            "count": 99
           },
           {
            "bin_start": 175.4,
            "bin_end": 188.7,
            "count": 42
           },
           {
            "bin_start": 188.7,
            "bin_end": 202,
            "count": 6
           }
          ]
         }
        },
        {
         "name": "ExerciseAngina",
         "dtype": "object",
         "stats": {
          "unique_count": 2,
          "nan_count": 0,
          "categories": [
           {
            "name": "N",
            "count": 459
           },
           {
            "name": "Y",
            "count": 287
           }
          ]
         }
        },
        {
         "name": "Oldpeak",
         "dtype": "float64",
         "stats": {
          "unique_count": 43,
          "nan_count": 0,
          "min": "-0.1",
          "max": "6.2",
          "histogram": [
           {
            "bin_start": -0.1,
            "bin_end": 0.53,
            "count": 378
           },
           {
            "bin_start": 0.53,
            "bin_end": 1.16,
            "count": 105
           },
           {
            "bin_start": 1.16,
            "bin_end": 1.79,
            "count": 99
           },
           {
            "bin_start": 1.79,
            "bin_end": 2.42,
            "count": 90
           },
           {
            "bin_start": 2.42,
            "bin_end": 3.05,
            "count": 47
           },
           {
            "bin_start": 3.05,
            "bin_end": 3.68,
            "count": 12
           },
           {
            "bin_start": 3.68,
            "bin_end": 4.3100000000000005,
            "count": 11
           },
           {
            "bin_start": 4.3100000000000005,
            "bin_end": 4.94,
            "count": 1
           },
           {
            "bin_start": 4.94,
            "bin_end": 5.57,
            "count": 1
           },
           {
            "bin_start": 5.57,
            "bin_end": 6.2,
            "count": 2
           }
          ]
         }
        },
        {
         "name": "ST_Slope",
         "dtype": "object",
         "stats": {
          "unique_count": 3,
          "nan_count": 0,
          "categories": [
           {
            "name": "Flat",
            "count": 354
           },
           {
            "name": "Up",
            "count": 349
           },
           {
            "name": "Down",
            "count": 43
           }
          ]
         }
        },
        {
         "name": "HeartDisease",
         "dtype": "int64",
         "stats": {
          "unique_count": 2,
          "nan_count": 0,
          "min": "0",
          "max": "1",
          "histogram": [
           {
            "bin_start": 0,
            "bin_end": 0.1,
            "count": 390
           },
           {
            "bin_start": 0.1,
            "bin_end": 0.2,
            "count": 0
           },
           {
            "bin_start": 0.2,
            "bin_end": 0.30000000000000004,
            "count": 0
           },
           {
            "bin_start": 0.30000000000000004,
            "bin_end": 0.4,
            "count": 0
           },
           {
            "bin_start": 0.4,
            "bin_end": 0.5,
            "count": 0
           },
           {
            "bin_start": 0.5,
            "bin_end": 0.6000000000000001,
            "count": 0
           },
           {
            "bin_start": 0.6000000000000001,
            "bin_end": 0.7000000000000001,
            "count": 0
           },
           {
            "bin_start": 0.7000000000000001,
            "bin_end": 0.8,
            "count": 0
           },
           {
            "bin_start": 0.8,
            "bin_end": 0.9,
            "count": 0
           },
           {
            "bin_start": 0.9,
            "bin_end": 1,
            "count": 356
           }
          ]
         }
        },
        {
         "name": "HeartDiseaseLabel",
         "dtype": "object",
         "stats": {
          "unique_count": 2,
          "nan_count": 0,
          "categories": [
           {
            "name": "No Heart Disease",
            "count": 390
           },
           {
            "name": "Has Heart Disease",
            "count": 356
           }
          ]
         }
        },
        {
         "name": "FastingBSLabel",
         "dtype": "object",
         "stats": {
          "unique_count": 2,
          "nan_count": 0,
          "categories": [
           {
            "name": "<= 120 mg/dl",
            "count": 621
           },
           {
            "name": "> 120 mg/dl",
            "count": 125
           }
          ]
         }
        },
        {
         "name": "_deepnote_index_column",
         "dtype": "int64"
        }
       ],
       "rows_top": [
        {
         "Age": 40,
         "Sex": "M",
         "ChestPainType": "ATA",
         "RestingBP": 140,
         "Cholesterol": 289,
         "FastingBS": 0,
         "RestingECG": "Normal",
         "MaxHR": 172,
         "ExerciseAngina": "N",
         "Oldpeak": 0,
         "ST_Slope": "Up",
         "HeartDisease": 0,
         "HeartDiseaseLabel": "No Heart Disease",
         "FastingBSLabel": "<= 120 mg/dl",
         "_deepnote_index_column": 0
        },
        {
         "Age": 49,
         "Sex": "F",
         "ChestPainType": "NAP",
         "RestingBP": 160,
         "Cholesterol": 180,
         "FastingBS": 0,
         "RestingECG": "Normal",
         "MaxHR": 156,
         "ExerciseAngina": "N",
         "Oldpeak": 1,
         "ST_Slope": "Flat",
         "HeartDisease": 1,
         "HeartDiseaseLabel": "Has Heart Disease",
         "FastingBSLabel": "<= 120 mg/dl",
         "_deepnote_index_column": 1
        },
        {
         "Age": 37,
         "Sex": "M",
         "ChestPainType": "ATA",
         "RestingBP": 130,
         "Cholesterol": 283,
         "FastingBS": 0,
         "RestingECG": "ST",
         "MaxHR": 98,
         "ExerciseAngina": "N",
         "Oldpeak": 0,
         "ST_Slope": "Up",
         "HeartDisease": 0,
         "HeartDiseaseLabel": "No Heart Disease",
         "FastingBSLabel": "<= 120 mg/dl",
         "_deepnote_index_column": 2
        },
        {
         "Age": 48,
         "Sex": "F",
         "ChestPainType": "ASY",
         "RestingBP": 138,
         "Cholesterol": 214,
         "FastingBS": 0,
         "RestingECG": "Normal",
         "MaxHR": 108,
         "ExerciseAngina": "Y",
         "Oldpeak": 1.5,
         "ST_Slope": "Flat",
         "HeartDisease": 1,
         "HeartDiseaseLabel": "Has Heart Disease",
         "FastingBSLabel": "<= 120 mg/dl",
         "_deepnote_index_column": 3
        },
        {
         "Age": 54,
         "Sex": "M",
         "ChestPainType": "NAP",
         "RestingBP": 150,
         "Cholesterol": 195,
         "FastingBS": 0,
         "RestingECG": "Normal",
         "MaxHR": 122,
         "ExerciseAngina": "N",
         "Oldpeak": 0,
         "ST_Slope": "Up",
         "HeartDisease": 0,
         "HeartDiseaseLabel": "No Heart Disease",
         "FastingBSLabel": "<= 120 mg/dl",
         "_deepnote_index_column": 4
        },
        {
         "Age": 39,
         "Sex": "M",
         "ChestPainType": "NAP",
         "RestingBP": 120,
         "Cholesterol": 339,
         "FastingBS": 0,
         "RestingECG": "Normal",
         "MaxHR": 170,
         "ExerciseAngina": "N",
         "Oldpeak": 0,
         "ST_Slope": "Up",
         "HeartDisease": 0,
         "HeartDiseaseLabel": "No Heart Disease",
         "FastingBSLabel": "<= 120 mg/dl",
         "_deepnote_index_column": 5
        },
        {
         "Age": 45,
         "Sex": "F",
         "ChestPainType": "ATA",
         "RestingBP": 130,
         "Cholesterol": 237,
         "FastingBS": 0,
         "RestingECG": "Normal",
         "MaxHR": 170,
         "ExerciseAngina": "N",
         "Oldpeak": 0,
         "ST_Slope": "Up",
         "HeartDisease": 0,
         "HeartDiseaseLabel": "No Heart Disease",
         "FastingBSLabel": "<= 120 mg/dl",
         "_deepnote_index_column": 6
        },
        {
         "Age": 54,
         "Sex": "M",
         "ChestPainType": "ATA",
         "RestingBP": 110,
         "Cholesterol": 208,
         "FastingBS": 0,
         "RestingECG": "Normal",
         "MaxHR": 142,
         "ExerciseAngina": "N",
         "Oldpeak": 0,
         "ST_Slope": "Up",
         "HeartDisease": 0,
         "HeartDiseaseLabel": "No Heart Disease",
         "FastingBSLabel": "<= 120 mg/dl",
         "_deepnote_index_column": 7
        },
        {
         "Age": 37,
         "Sex": "M",
         "ChestPainType": "ASY",
         "RestingBP": 140,
         "Cholesterol": 207,
         "FastingBS": 0,
         "RestingECG": "Normal",
         "MaxHR": 130,
         "ExerciseAngina": "Y",
         "Oldpeak": 1.5,
         "ST_Slope": "Flat",
         "HeartDisease": 1,
         "HeartDiseaseLabel": "Has Heart Disease",
         "FastingBSLabel": "<= 120 mg/dl",
         "_deepnote_index_column": 8
        },
        {
         "Age": 48,
         "Sex": "F",
         "ChestPainType": "ATA",
         "RestingBP": 120,
         "Cholesterol": 284,
         "FastingBS": 0,
         "RestingECG": "Normal",
         "MaxHR": 120,
         "ExerciseAngina": "N",
         "Oldpeak": 0,
         "ST_Slope": "Up",
         "HeartDisease": 0,
         "HeartDiseaseLabel": "No Heart Disease",
         "FastingBSLabel": "<= 120 mg/dl",
         "_deepnote_index_column": 9
        },
        {
         "Age": 37,
         "Sex": "F",
         "ChestPainType": "NAP",
         "RestingBP": 130,
         "Cholesterol": 211,
         "FastingBS": 0,
         "RestingECG": "Normal",
         "MaxHR": 142,
         "ExerciseAngina": "N",
         "Oldpeak": 0,
         "ST_Slope": "Up",
         "HeartDisease": 0,
         "HeartDiseaseLabel": "No Heart Disease",
         "FastingBSLabel": "<= 120 mg/dl",
         "_deepnote_index_column": 10
        },
        {
         "Age": 58,
         "Sex": "M",
         "ChestPainType": "ATA",
         "RestingBP": 136,
         "Cholesterol": 164,
         "FastingBS": 0,
         "RestingECG": "ST",
         "MaxHR": 99,
         "ExerciseAngina": "Y",
         "Oldpeak": 2,
         "ST_Slope": "Flat",
         "HeartDisease": 1,
         "HeartDiseaseLabel": "Has Heart Disease",
         "FastingBSLabel": "<= 120 mg/dl",
         "_deepnote_index_column": 11
        },
        {
         "Age": 39,
         "Sex": "M",
         "ChestPainType": "ATA",
         "RestingBP": 120,
         "Cholesterol": 204,
         "FastingBS": 0,
         "RestingECG": "Normal",
         "MaxHR": 145,
         "ExerciseAngina": "N",
         "Oldpeak": 0,
         "ST_Slope": "Up",
         "HeartDisease": 0,
         "HeartDiseaseLabel": "No Heart Disease",
         "FastingBSLabel": "<= 120 mg/dl",
         "_deepnote_index_column": 12
        },
        {
         "Age": 49,
         "Sex": "M",
         "ChestPainType": "ASY",
         "RestingBP": 140,
         "Cholesterol": 234,
         "FastingBS": 0,
         "RestingECG": "Normal",
         "MaxHR": 140,
         "ExerciseAngina": "Y",
         "Oldpeak": 1,
         "ST_Slope": "Flat",
         "HeartDisease": 1,
         "HeartDiseaseLabel": "Has Heart Disease",
         "FastingBSLabel": "<= 120 mg/dl",
         "_deepnote_index_column": 13
        },
        {
         "Age": 42,
         "Sex": "F",
         "ChestPainType": "NAP",
         "RestingBP": 115,
         "Cholesterol": 211,
         "FastingBS": 0,
         "RestingECG": "ST",
         "MaxHR": 137,
         "ExerciseAngina": "N",
         "Oldpeak": 0,
         "ST_Slope": "Up",
         "HeartDisease": 0,
         "HeartDiseaseLabel": "No Heart Disease",
         "FastingBSLabel": "<= 120 mg/dl",
         "_deepnote_index_column": 14
        },
        {
         "Age": 54,
         "Sex": "F",
         "ChestPainType": "ATA",
         "RestingBP": 120,
         "Cholesterol": 273,
         "FastingBS": 0,
         "RestingECG": "Normal",
         "MaxHR": 150,
         "ExerciseAngina": "N",
         "Oldpeak": 1.5,
         "ST_Slope": "Flat",
         "HeartDisease": 0,
         "HeartDiseaseLabel": "No Heart Disease",
         "FastingBSLabel": "<= 120 mg/dl",
         "_deepnote_index_column": 15
        },
        {
         "Age": 38,
         "Sex": "M",
         "ChestPainType": "ASY",
         "RestingBP": 110,
         "Cholesterol": 196,
         "FastingBS": 0,
         "RestingECG": "Normal",
         "MaxHR": 166,
         "ExerciseAngina": "N",
         "Oldpeak": 0,
         "ST_Slope": "Flat",
         "HeartDisease": 1,
         "HeartDiseaseLabel": "Has Heart Disease",
         "FastingBSLabel": "<= 120 mg/dl",
         "_deepnote_index_column": 16
        },
        {
         "Age": 43,
         "Sex": "F",
         "ChestPainType": "ATA",
         "RestingBP": 120,
         "Cholesterol": 201,
         "FastingBS": 0,
         "RestingECG": "Normal",
         "MaxHR": 165,
         "ExerciseAngina": "N",
         "Oldpeak": 0,
         "ST_Slope": "Up",
         "HeartDisease": 0,
         "HeartDiseaseLabel": "No Heart Disease",
         "FastingBSLabel": "<= 120 mg/dl",
         "_deepnote_index_column": 17
        },
        {
         "Age": 60,
         "Sex": "M",
         "ChestPainType": "ASY",
         "RestingBP": 100,
         "Cholesterol": 248,
         "FastingBS": 0,
         "RestingECG": "Normal",
         "MaxHR": 125,
         "ExerciseAngina": "N",
         "Oldpeak": 1,
         "ST_Slope": "Flat",
         "HeartDisease": 1,
         "HeartDiseaseLabel": "Has Heart Disease",
         "FastingBSLabel": "<= 120 mg/dl",
         "_deepnote_index_column": 18
        },
        {
         "Age": 36,
         "Sex": "M",
         "ChestPainType": "ATA",
         "RestingBP": 120,
         "Cholesterol": 267,
         "FastingBS": 0,
         "RestingECG": "Normal",
         "MaxHR": 160,
         "ExerciseAngina": "N",
         "Oldpeak": 3,
         "ST_Slope": "Flat",
         "HeartDisease": 1,
         "HeartDiseaseLabel": "Has Heart Disease",
         "FastingBSLabel": "<= 120 mg/dl",
         "_deepnote_index_column": 19
        },
        {
         "Age": 43,
         "Sex": "F",
         "ChestPainType": "TA",
         "RestingBP": 100,
         "Cholesterol": 223,
         "FastingBS": 0,
         "RestingECG": "Normal",
         "MaxHR": 142,
         "ExerciseAngina": "N",
         "Oldpeak": 0,
         "ST_Slope": "Up",
         "HeartDisease": 0,
         "HeartDiseaseLabel": "No Heart Disease",
         "FastingBSLabel": "<= 120 mg/dl",
         "_deepnote_index_column": 20
        },
        {
         "Age": 44,
         "Sex": "M",
         "ChestPainType": "ATA",
         "RestingBP": 120,
         "Cholesterol": 184,
         "FastingBS": 0,
         "RestingECG": "Normal",
         "MaxHR": 142,
         "ExerciseAngina": "N",
         "Oldpeak": 1,
         "ST_Slope": "Flat",
         "HeartDisease": 0,
         "HeartDiseaseLabel": "No Heart Disease",
         "FastingBSLabel": "<= 120 mg/dl",
         "_deepnote_index_column": 21
        },
        {
         "Age": 49,
         "Sex": "F",
         "ChestPainType": "ATA",
         "RestingBP": 124,
         "Cholesterol": 201,
         "FastingBS": 0,
         "RestingECG": "Normal",
         "MaxHR": 164,
         "ExerciseAngina": "N",
         "Oldpeak": 0,
         "ST_Slope": "Up",
         "HeartDisease": 0,
         "HeartDiseaseLabel": "No Heart Disease",
         "FastingBSLabel": "<= 120 mg/dl",
         "_deepnote_index_column": 22
        },
        {
         "Age": 44,
         "Sex": "M",
         "ChestPainType": "ATA",
         "RestingBP": 150,
         "Cholesterol": 288,
         "FastingBS": 0,
         "RestingECG": "Normal",
         "MaxHR": 150,
         "ExerciseAngina": "Y",
         "Oldpeak": 3,
         "ST_Slope": "Flat",
         "HeartDisease": 1,
         "HeartDiseaseLabel": "Has Heart Disease",
         "FastingBSLabel": "<= 120 mg/dl",
         "_deepnote_index_column": 23
        },
        {
         "Age": 40,
         "Sex": "M",
         "ChestPainType": "NAP",
         "RestingBP": 130,
         "Cholesterol": 215,
         "FastingBS": 0,
         "RestingECG": "Normal",
         "MaxHR": 138,
         "ExerciseAngina": "N",
         "Oldpeak": 0,
         "ST_Slope": "Up",
         "HeartDisease": 0,
         "HeartDiseaseLabel": "No Heart Disease",
         "FastingBSLabel": "<= 120 mg/dl",
         "_deepnote_index_column": 24
        },
        {
         "Age": 36,
         "Sex": "M",
         "ChestPainType": "NAP",
         "RestingBP": 130,
         "Cholesterol": 209,
         "FastingBS": 0,
         "RestingECG": "Normal",
         "MaxHR": 178,
         "ExerciseAngina": "N",
         "Oldpeak": 0,
         "ST_Slope": "Up",
         "HeartDisease": 0,
         "HeartDiseaseLabel": "No Heart Disease",
         "FastingBSLabel": "<= 120 mg/dl",
         "_deepnote_index_column": 25
        },
        {
         "Age": 53,
         "Sex": "M",
         "ChestPainType": "ASY",
         "RestingBP": 124,
         "Cholesterol": 260,
         "FastingBS": 0,
         "RestingECG": "ST",
         "MaxHR": 112,
         "ExerciseAngina": "Y",
         "Oldpeak": 3,
         "ST_Slope": "Flat",
         "HeartDisease": 0,
         "HeartDiseaseLabel": "No Heart Disease",
         "FastingBSLabel": "<= 120 mg/dl",
         "_deepnote_index_column": 26
        },
        {
         "Age": 52,
         "Sex": "M",
         "ChestPainType": "ATA",
         "RestingBP": 120,
         "Cholesterol": 284,
         "FastingBS": 0,
         "RestingECG": "Normal",
         "MaxHR": 118,
         "ExerciseAngina": "N",
         "Oldpeak": 0,
         "ST_Slope": "Up",
         "HeartDisease": 0,
         "HeartDiseaseLabel": "No Heart Disease",
         "FastingBSLabel": "<= 120 mg/dl",
         "_deepnote_index_column": 27
        },
        {
         "Age": 53,
         "Sex": "F",
         "ChestPainType": "ATA",
         "RestingBP": 113,
         "Cholesterol": 468,
         "FastingBS": 0,
         "RestingECG": "Normal",
         "MaxHR": 127,
         "ExerciseAngina": "N",
         "Oldpeak": 0,
         "ST_Slope": "Up",
         "HeartDisease": 0,
         "HeartDiseaseLabel": "No Heart Disease",
         "FastingBSLabel": "<= 120 mg/dl",
         "_deepnote_index_column": 28
        },
        {
         "Age": 51,
         "Sex": "M",
         "ChestPainType": "ATA",
         "RestingBP": 125,
         "Cholesterol": 188,
         "FastingBS": 0,
         "RestingECG": "Normal",
         "MaxHR": 145,
         "ExerciseAngina": "N",
         "Oldpeak": 0,
         "ST_Slope": "Up",
         "HeartDisease": 0,
         "HeartDiseaseLabel": "No Heart Disease",
         "FastingBSLabel": "<= 120 mg/dl",
         "_deepnote_index_column": 29
        },
        {
         "Age": 53,
         "Sex": "M",
         "ChestPainType": "NAP",
         "RestingBP": 145,
         "Cholesterol": 518,
         "FastingBS": 0,
         "RestingECG": "Normal",
         "MaxHR": 130,
         "ExerciseAngina": "N",
         "Oldpeak": 0,
         "ST_Slope": "Flat",
         "HeartDisease": 1,
         "HeartDiseaseLabel": "Has Heart Disease",
         "FastingBSLabel": "<= 120 mg/dl",
         "_deepnote_index_column": 30
        },
        {
         "Age": 56,
         "Sex": "M",
         "ChestPainType": "NAP",
         "RestingBP": 130,
         "Cholesterol": 167,
         "FastingBS": 0,
         "RestingECG": "Normal",
         "MaxHR": 114,
         "ExerciseAngina": "N",
         "Oldpeak": 0,
         "ST_Slope": "Up",
         "HeartDisease": 0,
         "HeartDiseaseLabel": "No Heart Disease",
         "FastingBSLabel": "<= 120 mg/dl",
         "_deepnote_index_column": 31
        },
        {
         "Age": 54,
         "Sex": "M",
         "ChestPainType": "ASY",
         "RestingBP": 125,
         "Cholesterol": 224,
         "FastingBS": 0,
         "RestingECG": "Normal",
         "MaxHR": 122,
         "ExerciseAngina": "N",
         "Oldpeak": 2,
         "ST_Slope": "Flat",
         "HeartDisease": 1,
         "HeartDiseaseLabel": "Has Heart Disease",
         "FastingBSLabel": "<= 120 mg/dl",
         "_deepnote_index_column": 32
        },
        {
         "Age": 41,
         "Sex": "M",
         "ChestPainType": "ASY",
         "RestingBP": 130,
         "Cholesterol": 172,
         "FastingBS": 0,
         "RestingECG": "ST",
         "MaxHR": 130,
         "ExerciseAngina": "N",
         "Oldpeak": 2,
         "ST_Slope": "Flat",
         "HeartDisease": 1,
         "HeartDiseaseLabel": "Has Heart Disease",
         "FastingBSLabel": "<= 120 mg/dl",
         "_deepnote_index_column": 33
        },
        {
         "Age": 43,
         "Sex": "F",
         "ChestPainType": "ATA",
         "RestingBP": 150,
         "Cholesterol": 186,
         "FastingBS": 0,
         "RestingECG": "Normal",
         "MaxHR": 154,
         "ExerciseAngina": "N",
         "Oldpeak": 0,
         "ST_Slope": "Up",
         "HeartDisease": 0,
         "HeartDiseaseLabel": "No Heart Disease",
         "FastingBSLabel": "<= 120 mg/dl",
         "_deepnote_index_column": 34
        }
       ],
       "rows_bottom": [
        {
         "Age": 56,
         "Sex": "F",
         "ChestPainType": "ATA",
         "RestingBP": 140,
         "Cholesterol": 294,
         "FastingBS": 0,
         "RestingECG": "LVH",
         "MaxHR": 153,
         "ExerciseAngina": "N",
         "Oldpeak": 1.3,
         "ST_Slope": "Flat",
         "HeartDisease": 0,
         "HeartDiseaseLabel": "No Heart Disease",
         "FastingBSLabel": "<= 120 mg/dl",
         "_deepnote_index_column": 882
        },
        {
         "Age": 57,
         "Sex": "M",
         "ChestPainType": "ASY",
         "RestingBP": 140,
         "Cholesterol": 192,
         "FastingBS": 0,
         "RestingECG": "Normal",
         "MaxHR": 148,
         "ExerciseAngina": "N",
         "Oldpeak": 0.4,
         "ST_Slope": "Flat",
         "HeartDisease": 0,
         "HeartDiseaseLabel": "No Heart Disease",
         "FastingBSLabel": "<= 120 mg/dl",
         "_deepnote_index_column": 883
        },
        {
         "Age": 67,
         "Sex": "M",
         "ChestPainType": "ASY",
         "RestingBP": 160,
         "Cholesterol": 286,
         "FastingBS": 0,
         "RestingECG": "LVH",
         "MaxHR": 108,
         "ExerciseAngina": "Y",
         "Oldpeak": 1.5,
         "ST_Slope": "Flat",
         "HeartDisease": 1,
         "HeartDiseaseLabel": "Has Heart Disease",
         "FastingBSLabel": "<= 120 mg/dl",
         "_deepnote_index_column": 884
        },
        {
         "Age": 53,
         "Sex": "F",
         "ChestPainType": "NAP",
         "RestingBP": 128,
         "Cholesterol": 216,
         "FastingBS": 0,
         "RestingECG": "LVH",
         "MaxHR": 115,
         "ExerciseAngina": "N",
         "Oldpeak": 0,
         "ST_Slope": "Up",
         "HeartDisease": 0,
         "HeartDiseaseLabel": "No Heart Disease",
         "FastingBSLabel": "<= 120 mg/dl",
         "_deepnote_index_column": 885
        },
        {
         "Age": 52,
         "Sex": "M",
         "ChestPainType": "NAP",
         "RestingBP": 138,
         "Cholesterol": 223,
         "FastingBS": 0,
         "RestingECG": "Normal",
         "MaxHR": 169,
         "ExerciseAngina": "N",
         "Oldpeak": 0,
         "ST_Slope": "Up",
         "HeartDisease": 0,
         "HeartDiseaseLabel": "No Heart Disease",
         "FastingBSLabel": "<= 120 mg/dl",
         "_deepnote_index_column": 886
        },
        {
         "Age": 43,
         "Sex": "M",
         "ChestPainType": "ASY",
         "RestingBP": 132,
         "Cholesterol": 247,
         "FastingBS": 1,
         "RestingECG": "LVH",
         "MaxHR": 143,
         "ExerciseAngina": "Y",
         "Oldpeak": 0.1,
         "ST_Slope": "Flat",
         "HeartDisease": 1,
         "HeartDiseaseLabel": "Has Heart Disease",
         "FastingBSLabel": "> 120 mg/dl",
         "_deepnote_index_column": 887
        },
        {
         "Age": 52,
         "Sex": "M",
         "ChestPainType": "ASY",
         "RestingBP": 128,
         "Cholesterol": 204,
         "FastingBS": 1,
         "RestingECG": "Normal",
         "MaxHR": 156,
         "ExerciseAngina": "Y",
         "Oldpeak": 1,
         "ST_Slope": "Flat",
         "HeartDisease": 1,
         "HeartDiseaseLabel": "Has Heart Disease",
         "FastingBSLabel": "> 120 mg/dl",
         "_deepnote_index_column": 888
        },
        {
         "Age": 59,
         "Sex": "M",
         "ChestPainType": "TA",
         "RestingBP": 134,
         "Cholesterol": 204,
         "FastingBS": 0,
         "RestingECG": "Normal",
         "MaxHR": 162,
         "ExerciseAngina": "N",
         "Oldpeak": 0.8,
         "ST_Slope": "Up",
         "HeartDisease": 1,
         "HeartDiseaseLabel": "Has Heart Disease",
         "FastingBSLabel": "<= 120 mg/dl",
         "_deepnote_index_column": 889
        },
        {
         "Age": 64,
         "Sex": "M",
         "ChestPainType": "TA",
         "RestingBP": 170,
         "Cholesterol": 227,
         "FastingBS": 0,
         "RestingECG": "LVH",
         "MaxHR": 155,
         "ExerciseAngina": "N",
         "Oldpeak": 0.6,
         "ST_Slope": "Flat",
         "HeartDisease": 0,
         "HeartDiseaseLabel": "No Heart Disease",
         "FastingBSLabel": "<= 120 mg/dl",
         "_deepnote_index_column": 890
        },
        {
         "Age": 66,
         "Sex": "F",
         "ChestPainType": "NAP",
         "RestingBP": 146,
         "Cholesterol": 278,
         "FastingBS": 0,
         "RestingECG": "LVH",
         "MaxHR": 152,
         "ExerciseAngina": "N",
         "Oldpeak": 0,
         "ST_Slope": "Flat",
         "HeartDisease": 0,
         "HeartDiseaseLabel": "No Heart Disease",
         "FastingBSLabel": "<= 120 mg/dl",
         "_deepnote_index_column": 891
        },
        {
         "Age": 39,
         "Sex": "F",
         "ChestPainType": "NAP",
         "RestingBP": 138,
         "Cholesterol": 220,
         "FastingBS": 0,
         "RestingECG": "Normal",
         "MaxHR": 152,
         "ExerciseAngina": "N",
         "Oldpeak": 0,
         "ST_Slope": "Flat",
         "HeartDisease": 0,
         "HeartDiseaseLabel": "No Heart Disease",
         "FastingBSLabel": "<= 120 mg/dl",
         "_deepnote_index_column": 892
        },
        {
         "Age": 57,
         "Sex": "M",
         "ChestPainType": "ATA",
         "RestingBP": 154,
         "Cholesterol": 232,
         "FastingBS": 0,
         "RestingECG": "LVH",
         "MaxHR": 164,
         "ExerciseAngina": "N",
         "Oldpeak": 0,
         "ST_Slope": "Up",
         "HeartDisease": 1,
         "HeartDiseaseLabel": "Has Heart Disease",
         "FastingBSLabel": "<= 120 mg/dl",
         "_deepnote_index_column": 893
        },
        {
         "Age": 58,
         "Sex": "F",
         "ChestPainType": "ASY",
         "RestingBP": 130,
         "Cholesterol": 197,
         "FastingBS": 0,
         "RestingECG": "Normal",
         "MaxHR": 131,
         "ExerciseAngina": "N",
         "Oldpeak": 0.6,
         "ST_Slope": "Flat",
         "HeartDisease": 0,
         "HeartDiseaseLabel": "No Heart Disease",
         "FastingBSLabel": "<= 120 mg/dl",
         "_deepnote_index_column": 894
        },
        {
         "Age": 57,
         "Sex": "M",
         "ChestPainType": "ASY",
         "RestingBP": 110,
         "Cholesterol": 335,
         "FastingBS": 0,
         "RestingECG": "Normal",
         "MaxHR": 143,
         "ExerciseAngina": "Y",
         "Oldpeak": 3,
         "ST_Slope": "Flat",
         "HeartDisease": 1,
         "HeartDiseaseLabel": "Has Heart Disease",
         "FastingBSLabel": "<= 120 mg/dl",
         "_deepnote_index_column": 895
        },
        {
         "Age": 47,
         "Sex": "M",
         "ChestPainType": "NAP",
         "RestingBP": 130,
         "Cholesterol": 253,
         "FastingBS": 0,
         "RestingECG": "Normal",
         "MaxHR": 179,
         "ExerciseAngina": "N",
         "Oldpeak": 0,
         "ST_Slope": "Up",
         "HeartDisease": 0,
         "HeartDiseaseLabel": "No Heart Disease",
         "FastingBSLabel": "<= 120 mg/dl",
         "_deepnote_index_column": 896
        },
        {
         "Age": 55,
         "Sex": "F",
         "ChestPainType": "ASY",
         "RestingBP": 128,
         "Cholesterol": 205,
         "FastingBS": 0,
         "RestingECG": "ST",
         "MaxHR": 130,
         "ExerciseAngina": "Y",
         "Oldpeak": 2,
         "ST_Slope": "Flat",
         "HeartDisease": 1,
         "HeartDiseaseLabel": "Has Heart Disease",
         "FastingBSLabel": "<= 120 mg/dl",
         "_deepnote_index_column": 897
        },
        {
         "Age": 35,
         "Sex": "M",
         "ChestPainType": "ATA",
         "RestingBP": 122,
         "Cholesterol": 192,
         "FastingBS": 0,
         "RestingECG": "Normal",
         "MaxHR": 174,
         "ExerciseAngina": "N",
         "Oldpeak": 0,
         "ST_Slope": "Up",
         "HeartDisease": 0,
         "HeartDiseaseLabel": "No Heart Disease",
         "FastingBSLabel": "<= 120 mg/dl",
         "_deepnote_index_column": 898
        },
        {
         "Age": 61,
         "Sex": "M",
         "ChestPainType": "ASY",
         "RestingBP": 148,
         "Cholesterol": 203,
         "FastingBS": 0,
         "RestingECG": "Normal",
         "MaxHR": 161,
         "ExerciseAngina": "N",
         "Oldpeak": 0,
         "ST_Slope": "Up",
         "HeartDisease": 1,
         "HeartDiseaseLabel": "Has Heart Disease",
         "FastingBSLabel": "<= 120 mg/dl",
         "_deepnote_index_column": 899
        },
        {
         "Age": 58,
         "Sex": "M",
         "ChestPainType": "ASY",
         "RestingBP": 114,
         "Cholesterol": 318,
         "FastingBS": 0,
         "RestingECG": "ST",
         "MaxHR": 140,
         "ExerciseAngina": "N",
         "Oldpeak": 4.4,
         "ST_Slope": "Down",
         "HeartDisease": 1,
         "HeartDiseaseLabel": "Has Heart Disease",
         "FastingBSLabel": "<= 120 mg/dl",
         "_deepnote_index_column": 900
        },
        {
         "Age": 58,
         "Sex": "F",
         "ChestPainType": "ASY",
         "RestingBP": 170,
         "Cholesterol": 225,
         "FastingBS": 1,
         "RestingECG": "LVH",
         "MaxHR": 146,
         "ExerciseAngina": "Y",
         "Oldpeak": 2.8,
         "ST_Slope": "Flat",
         "HeartDisease": 1,
         "HeartDiseaseLabel": "Has Heart Disease",
         "FastingBSLabel": "> 120 mg/dl",
         "_deepnote_index_column": 901
        },
        {
         "Age": 58,
         "Sex": "M",
         "ChestPainType": "ATA",
         "RestingBP": 125,
         "Cholesterol": 220,
         "FastingBS": 0,
         "RestingECG": "Normal",
         "MaxHR": 144,
         "ExerciseAngina": "N",
         "Oldpeak": 0.4,
         "ST_Slope": "Flat",
         "HeartDisease": 0,
         "HeartDiseaseLabel": "No Heart Disease",
         "FastingBSLabel": "<= 120 mg/dl",
         "_deepnote_index_column": 902
        },
        {
         "Age": 56,
         "Sex": "M",
         "ChestPainType": "ATA",
         "RestingBP": 130,
         "Cholesterol": 221,
         "FastingBS": 0,
         "RestingECG": "LVH",
         "MaxHR": 163,
         "ExerciseAngina": "N",
         "Oldpeak": 0,
         "ST_Slope": "Up",
         "HeartDisease": 0,
         "HeartDiseaseLabel": "No Heart Disease",
         "FastingBSLabel": "<= 120 mg/dl",
         "_deepnote_index_column": 903
        },
        {
         "Age": 56,
         "Sex": "M",
         "ChestPainType": "ATA",
         "RestingBP": 120,
         "Cholesterol": 240,
         "FastingBS": 0,
         "RestingECG": "Normal",
         "MaxHR": 169,
         "ExerciseAngina": "N",
         "Oldpeak": 0,
         "ST_Slope": "Down",
         "HeartDisease": 0,
         "HeartDiseaseLabel": "No Heart Disease",
         "FastingBSLabel": "<= 120 mg/dl",
         "_deepnote_index_column": 904
        },
        {
         "Age": 67,
         "Sex": "M",
         "ChestPainType": "NAP",
         "RestingBP": 152,
         "Cholesterol": 212,
         "FastingBS": 0,
         "RestingECG": "LVH",
         "MaxHR": 150,
         "ExerciseAngina": "N",
         "Oldpeak": 0.8,
         "ST_Slope": "Flat",
         "HeartDisease": 1,
         "HeartDiseaseLabel": "Has Heart Disease",
         "FastingBSLabel": "<= 120 mg/dl",
         "_deepnote_index_column": 905
        },
        {
         "Age": 55,
         "Sex": "F",
         "ChestPainType": "ATA",
         "RestingBP": 132,
         "Cholesterol": 342,
         "FastingBS": 0,
         "RestingECG": "Normal",
         "MaxHR": 166,
         "ExerciseAngina": "N",
         "Oldpeak": 1.2,
         "ST_Slope": "Up",
         "HeartDisease": 0,
         "HeartDiseaseLabel": "No Heart Disease",
         "FastingBSLabel": "<= 120 mg/dl",
         "_deepnote_index_column": 906
        },
        {
         "Age": 44,
         "Sex": "M",
         "ChestPainType": "ASY",
         "RestingBP": 120,
         "Cholesterol": 169,
         "FastingBS": 0,
         "RestingECG": "Normal",
         "MaxHR": 144,
         "ExerciseAngina": "Y",
         "Oldpeak": 2.8,
         "ST_Slope": "Down",
         "HeartDisease": 1,
         "HeartDiseaseLabel": "Has Heart Disease",
         "FastingBSLabel": "<= 120 mg/dl",
         "_deepnote_index_column": 907
        },
        {
         "Age": 63,
         "Sex": "M",
         "ChestPainType": "ASY",
         "RestingBP": 140,
         "Cholesterol": 187,
         "FastingBS": 0,
         "RestingECG": "LVH",
         "MaxHR": 144,
         "ExerciseAngina": "Y",
         "Oldpeak": 4,
         "ST_Slope": "Up",
         "HeartDisease": 1,
         "HeartDiseaseLabel": "Has Heart Disease",
         "FastingBSLabel": "<= 120 mg/dl",
         "_deepnote_index_column": 908
        },
        {
         "Age": 63,
         "Sex": "F",
         "ChestPainType": "ASY",
         "RestingBP": 124,
         "Cholesterol": 197,
         "FastingBS": 0,
         "RestingECG": "Normal",
         "MaxHR": 136,
         "ExerciseAngina": "Y",
         "Oldpeak": 0,
         "ST_Slope": "Flat",
         "HeartDisease": 1,
         "HeartDiseaseLabel": "Has Heart Disease",
         "FastingBSLabel": "<= 120 mg/dl",
         "_deepnote_index_column": 909
        },
        {
         "Age": 41,
         "Sex": "M",
         "ChestPainType": "ATA",
         "RestingBP": 120,
         "Cholesterol": 157,
         "FastingBS": 0,
         "RestingECG": "Normal",
         "MaxHR": 182,
         "ExerciseAngina": "N",
         "Oldpeak": 0,
         "ST_Slope": "Up",
         "HeartDisease": 0,
         "HeartDiseaseLabel": "No Heart Disease",
         "FastingBSLabel": "<= 120 mg/dl",
         "_deepnote_index_column": 910
        },
        {
         "Age": 59,
         "Sex": "M",
         "ChestPainType": "ASY",
         "RestingBP": 164,
         "Cholesterol": 176,
         "FastingBS": 1,
         "RestingECG": "LVH",
         "MaxHR": 90,
         "ExerciseAngina": "N",
         "Oldpeak": 1,
         "ST_Slope": "Flat",
         "HeartDisease": 1,
         "HeartDiseaseLabel": "Has Heart Disease",
         "FastingBSLabel": "> 120 mg/dl",
         "_deepnote_index_column": 911
        },
        {
         "Age": 57,
         "Sex": "F",
         "ChestPainType": "ASY",
         "RestingBP": 140,
         "Cholesterol": 241,
         "FastingBS": 0,
         "RestingECG": "Normal",
         "MaxHR": 123,
         "ExerciseAngina": "Y",
         "Oldpeak": 0.2,
         "ST_Slope": "Flat",
         "HeartDisease": 1,
         "HeartDiseaseLabel": "Has Heart Disease",
         "FastingBSLabel": "<= 120 mg/dl",
         "_deepnote_index_column": 912
        },
        {
         "Age": 45,
         "Sex": "M",
         "ChestPainType": "TA",
         "RestingBP": 110,
         "Cholesterol": 264,
         "FastingBS": 0,
         "RestingECG": "Normal",
         "MaxHR": 132,
         "ExerciseAngina": "N",
         "Oldpeak": 1.2,
         "ST_Slope": "Flat",
         "HeartDisease": 1,
         "HeartDiseaseLabel": "Has Heart Disease",
         "FastingBSLabel": "<= 120 mg/dl",
         "_deepnote_index_column": 913
        },
        {
         "Age": 68,
         "Sex": "M",
         "ChestPainType": "ASY",
         "RestingBP": 144,
         "Cholesterol": 193,
         "FastingBS": 1,
         "RestingECG": "Normal",
         "MaxHR": 141,
         "ExerciseAngina": "N",
         "Oldpeak": 3.4,
         "ST_Slope": "Flat",
         "HeartDisease": 1,
         "HeartDiseaseLabel": "Has Heart Disease",
         "FastingBSLabel": "> 120 mg/dl",
         "_deepnote_index_column": 914
        },
        {
         "Age": 57,
         "Sex": "M",
         "ChestPainType": "ASY",
         "RestingBP": 130,
         "Cholesterol": 131,
         "FastingBS": 0,
         "RestingECG": "Normal",
         "MaxHR": 115,
         "ExerciseAngina": "Y",
         "Oldpeak": 1.2,
         "ST_Slope": "Flat",
         "HeartDisease": 1,
         "HeartDiseaseLabel": "Has Heart Disease",
         "FastingBSLabel": "<= 120 mg/dl",
         "_deepnote_index_column": 915
        },
        {
         "Age": 57,
         "Sex": "F",
         "ChestPainType": "ATA",
         "RestingBP": 130,
         "Cholesterol": 236,
         "FastingBS": 0,
         "RestingECG": "LVH",
         "MaxHR": 174,
         "ExerciseAngina": "N",
         "Oldpeak": 0,
         "ST_Slope": "Flat",
         "HeartDisease": 1,
         "HeartDiseaseLabel": "Has Heart Disease",
         "FastingBSLabel": "<= 120 mg/dl",
         "_deepnote_index_column": 916
        },
        {
         "Age": 38,
         "Sex": "M",
         "ChestPainType": "NAP",
         "RestingBP": 138,
         "Cholesterol": 175,
         "FastingBS": 0,
         "RestingECG": "Normal",
         "MaxHR": 173,
         "ExerciseAngina": "N",
         "Oldpeak": 0,
         "ST_Slope": "Up",
         "HeartDisease": 0,
         "HeartDiseaseLabel": "No Heart Disease",
         "FastingBSLabel": "<= 120 mg/dl",
         "_deepnote_index_column": 917
        }
       ]
      },
      "text/plain": "     Age Sex ChestPainType  RestingBP  Cholesterol  FastingBS RestingECG  \\\n0     40   M           ATA        140          289          0     Normal   \n1     49   F           NAP        160          180          0     Normal   \n2     37   M           ATA        130          283          0         ST   \n3     48   F           ASY        138          214          0     Normal   \n4     54   M           NAP        150          195          0     Normal   \n..   ...  ..           ...        ...          ...        ...        ...   \n913   45   M            TA        110          264          0     Normal   \n914   68   M           ASY        144          193          1     Normal   \n915   57   M           ASY        130          131          0     Normal   \n916   57   F           ATA        130          236          0        LVH   \n917   38   M           NAP        138          175          0     Normal   \n\n     MaxHR ExerciseAngina  Oldpeak ST_Slope  HeartDisease  HeartDiseaseLabel  \\\n0      172              N      0.0       Up             0   No Heart Disease   \n1      156              N      1.0     Flat             1  Has Heart Disease   \n2       98              N      0.0       Up             0   No Heart Disease   \n3      108              Y      1.5     Flat             1  Has Heart Disease   \n4      122              N      0.0       Up             0   No Heart Disease   \n..     ...            ...      ...      ...           ...                ...   \n913    132              N      1.2     Flat             1  Has Heart Disease   \n914    141              N      3.4     Flat             1  Has Heart Disease   \n915    115              Y      1.2     Flat             1  Has Heart Disease   \n916    174              N      0.0     Flat             1  Has Heart Disease   \n917    173              N      0.0       Up             0   No Heart Disease   \n\n    FastingBSLabel  \n0     <= 120 mg/dl  \n1     <= 120 mg/dl  \n2     <= 120 mg/dl  \n3     <= 120 mg/dl  \n4     <= 120 mg/dl  \n..             ...  \n913   <= 120 mg/dl  \n914    > 120 mg/dl  \n915   <= 120 mg/dl  \n916   <= 120 mg/dl  \n917   <= 120 mg/dl  \n\n[746 rows x 14 columns]",
      "text/html": "<div>\n<style scoped>\n    .dataframe tbody tr th:only-of-type {\n        vertical-align: middle;\n    }\n\n    .dataframe tbody tr th {\n        vertical-align: top;\n    }\n\n    .dataframe thead th {\n        text-align: right;\n    }\n</style>\n<table border=\"1\" class=\"dataframe\">\n  <thead>\n    <tr style=\"text-align: right;\">\n      <th></th>\n      <th>Age</th>\n      <th>Sex</th>\n      <th>ChestPainType</th>\n      <th>RestingBP</th>\n      <th>Cholesterol</th>\n      <th>FastingBS</th>\n      <th>RestingECG</th>\n      <th>MaxHR</th>\n      <th>ExerciseAngina</th>\n      <th>Oldpeak</th>\n      <th>ST_Slope</th>\n      <th>HeartDisease</th>\n      <th>HeartDiseaseLabel</th>\n      <th>FastingBSLabel</th>\n    </tr>\n  </thead>\n  <tbody>\n    <tr>\n      <th>0</th>\n      <td>40</td>\n      <td>M</td>\n      <td>ATA</td>\n      <td>140</td>\n      <td>289</td>\n      <td>0</td>\n      <td>Normal</td>\n      <td>172</td>\n      <td>N</td>\n      <td>0.0</td>\n      <td>Up</td>\n      <td>0</td>\n      <td>No Heart Disease</td>\n      <td>&lt;= 120 mg/dl</td>\n    </tr>\n    <tr>\n      <th>1</th>\n      <td>49</td>\n      <td>F</td>\n      <td>NAP</td>\n      <td>160</td>\n      <td>180</td>\n      <td>0</td>\n      <td>Normal</td>\n      <td>156</td>\n      <td>N</td>\n      <td>1.0</td>\n      <td>Flat</td>\n      <td>1</td>\n      <td>Has Heart Disease</td>\n      <td>&lt;= 120 mg/dl</td>\n    </tr>\n    <tr>\n      <th>2</th>\n      <td>37</td>\n      <td>M</td>\n      <td>ATA</td>\n      <td>130</td>\n      <td>283</td>\n      <td>0</td>\n      <td>ST</td>\n      <td>98</td>\n      <td>N</td>\n      <td>0.0</td>\n      <td>Up</td>\n      <td>0</td>\n      <td>No Heart Disease</td>\n      <td>&lt;= 120 mg/dl</td>\n    </tr>\n    <tr>\n      <th>3</th>\n      <td>48</td>\n      <td>F</td>\n      <td>ASY</td>\n      <td>138</td>\n      <td>214</td>\n      <td>0</td>\n      <td>Normal</td>\n      <td>108</td>\n      <td>Y</td>\n      <td>1.5</td>\n      <td>Flat</td>\n      <td>1</td>\n      <td>Has Heart Disease</td>\n      <td>&lt;= 120 mg/dl</td>\n    </tr>\n    <tr>\n      <th>4</th>\n      <td>54</td>\n      <td>M</td>\n      <td>NAP</td>\n      <td>150</td>\n      <td>195</td>\n      <td>0</td>\n      <td>Normal</td>\n      <td>122</td>\n      <td>N</td>\n      <td>0.0</td>\n      <td>Up</td>\n      <td>0</td>\n      <td>No Heart Disease</td>\n      <td>&lt;= 120 mg/dl</td>\n    </tr>\n    <tr>\n      <th>...</th>\n      <td>...</td>\n      <td>...</td>\n      <td>...</td>\n      <td>...</td>\n      <td>...</td>\n      <td>...</td>\n      <td>...</td>\n      <td>...</td>\n      <td>...</td>\n      <td>...</td>\n      <td>...</td>\n      <td>...</td>\n      <td>...</td>\n      <td>...</td>\n    </tr>\n    <tr>\n      <th>913</th>\n      <td>45</td>\n      <td>M</td>\n      <td>TA</td>\n      <td>110</td>\n      <td>264</td>\n      <td>0</td>\n      <td>Normal</td>\n      <td>132</td>\n      <td>N</td>\n      <td>1.2</td>\n      <td>Flat</td>\n      <td>1</td>\n      <td>Has Heart Disease</td>\n      <td>&lt;= 120 mg/dl</td>\n    </tr>\n    <tr>\n      <th>914</th>\n      <td>68</td>\n      <td>M</td>\n      <td>ASY</td>\n      <td>144</td>\n      <td>193</td>\n      <td>1</td>\n      <td>Normal</td>\n      <td>141</td>\n      <td>N</td>\n      <td>3.4</td>\n      <td>Flat</td>\n      <td>1</td>\n      <td>Has Heart Disease</td>\n      <td>&gt; 120 mg/dl</td>\n    </tr>\n    <tr>\n      <th>915</th>\n      <td>57</td>\n      <td>M</td>\n      <td>ASY</td>\n      <td>130</td>\n      <td>131</td>\n      <td>0</td>\n      <td>Normal</td>\n      <td>115</td>\n      <td>Y</td>\n      <td>1.2</td>\n      <td>Flat</td>\n      <td>1</td>\n      <td>Has Heart Disease</td>\n      <td>&lt;= 120 mg/dl</td>\n    </tr>\n    <tr>\n      <th>916</th>\n      <td>57</td>\n      <td>F</td>\n      <td>ATA</td>\n      <td>130</td>\n      <td>236</td>\n      <td>0</td>\n      <td>LVH</td>\n      <td>174</td>\n      <td>N</td>\n      <td>0.0</td>\n      <td>Flat</td>\n      <td>1</td>\n      <td>Has Heart Disease</td>\n      <td>&lt;= 120 mg/dl</td>\n    </tr>\n    <tr>\n      <th>917</th>\n      <td>38</td>\n      <td>M</td>\n      <td>NAP</td>\n      <td>138</td>\n      <td>175</td>\n      <td>0</td>\n      <td>Normal</td>\n      <td>173</td>\n      <td>N</td>\n      <td>0.0</td>\n      <td>Up</td>\n      <td>0</td>\n      <td>No Heart Disease</td>\n      <td>&lt;= 120 mg/dl</td>\n    </tr>\n  </tbody>\n</table>\n<p>746 rows × 14 columns</p>\n</div>"
     },
     "metadata": {}
    }
   ],
   "execution_count": null
  },
  {
   "cell_type": "markdown",
   "source": "## Tackling our research questions with Exploratory Data Analysis\n\nNow that we have cleaned, balanced, and pre-processed our data, we can start searching for answers to our research questions.",
   "metadata": {
    "tags": [],
    "cell_id": "00019-886ef8f4-fe1f-422f-ad70-f8cc5e3b1573",
    "deepnote_app_coordinates": {
     "x": 0,
     "y": 210,
     "w": 12,
     "h": 5
    },
    "deepnote_cell_type": "markdown"
   }
  },
  {
   "cell_type": "markdown",
   "source": "#### 1. Does high cholesterol level always mean that an individual has heart disease?\nTo answer this question, we will look at the current relationship between `Cholesterol` and `HeartDisease` in our dataset.\n\nInitially, we intended to use `seaborn.heatmap` to visualize this, but this gave us inconclusive results as it did not display the data in a readable manner.",
   "metadata": {
    "tags": [],
    "cell_id": "00020-04f30035-526f-420c-838d-31add558849a",
    "deepnote_app_coordinates": {
     "x": 0,
     "y": 216,
     "w": 12,
     "h": 5
    },
    "deepnote_cell_type": "markdown"
   }
  },
  {
   "cell_type": "code",
   "metadata": {
    "tags": [],
    "cell_id": "00025-9f3ddbaa-ed0a-40f9-9cd9-acbc22ea9989",
    "deepnote_to_be_reexecuted": false,
    "source_hash": "ec08d1b5",
    "execution_start": 1638836516024,
    "execution_millis": 514,
    "deepnote_output_heights": [
     255
    ],
    "deepnote_app_coordinates": {
     "x": 0,
     "y": 222,
     "w": 12,
     "h": 5
    },
    "deepnote_cell_type": "code"
   },
   "source": "disease = df[df['HeartDisease'] == 1]\nnoDisease = df[df['HeartDisease'] == 0]\n\nsns.heatmap(data=disease[[\"Cholesterol\", \"Age\"]]);\n# df_hm = df.pivot(\"Cholesterol\", \"Age\")\n#sns.heatmap(df_hm)",
   "outputs": [
    {
     "data": {
      "text/plain": "<Figure size 432x288 with 2 Axes>",
      "image/png": "[encoded data removed]"
     },
     "metadata": {
      "needs_background": "light",
      "image/png": {
       "width": 361,
       "height": 253
      }
     },
     "output_type": "display_data"
    }
   ],
   "execution_count": null
  },
  {
   "cell_type": "markdown",
   "source": "Instead we used [`seaborn.displot`](https://seaborn.pydata.org/generated/seaborn.displot.html#seaborn.displot) which allows for a more versatile data visualization based on the parameters passed.  \nThe following is a bivariate plot in which we assigned `x` to `Age` and `y` to  `Cholesterol`, passing `HeartDiseaseLabel` as the `hue` to distinguish which class the record falls under. ",
   "metadata": {
    "tags": [],
    "cell_id": "00025-3b28c1d2-c3a7-4be5-b7e4-7e3ad6596b1e",
    "deepnote_app_coordinates": {
     "x": 0,
     "y": 228,
     "w": 12,
     "h": 5
    },
    "deepnote_cell_type": "markdown"
   }
  },
  {
   "cell_type": "code",
   "metadata": {
    "tags": [],
    "cell_id": "00022-983b1e1d-1211-41c7-aa2d-42a3b085d128",
    "deepnote_to_be_reexecuted": false,
    "source_hash": "3b391057",
    "execution_start": 1638836516575,
    "execution_millis": 632,
    "deepnote_output_heights": [
     442
    ],
    "deepnote_app_coordinates": {
     "x": 0,
     "y": 234,
     "w": 12,
     "h": 5
    },
    "deepnote_cell_type": "code"
   },
   "source": "ax0=sns.displot(data = df, x = \"Age\", y = \"Cholesterol\", hue=\"HeartDiseaseLabel\", palette=\"husl\", height=6);\nplt.title(\"Heart Disease vs Cholesterol\");",
   "outputs": [
    {
     "data": {
      "text/plain": "<Figure size 560.375x432 with 1 Axes>",
      "image/png": "[encoded data removed]"
     },
     "metadata": {
      "needs_background": "light",
      "image/png": {
       "width": 558,
       "height": 440
      }
     },
     "output_type": "display_data"
    }
   ],
   "execution_count": null
  },
  {
   "cell_type": "markdown",
   "source": "From the above plot, there does not seem to be a clear pattern of correletion between high cholesterol and heart disease. Notably, we see that out of the records of `Cholesterol > 500`, only one of the patients did not have heart disease while the others did. Other than this, the patients who have heart disease all have varying levels of cholesterol with no apparent pattern. \n\nSince the plot includes the patients' age, our team had follow-up questions!\n\n#### Follow-up questions: \n##### How do the patients' cholesterol levels change with age? \nTo our surprise, the data show that cholesterol levels are roughly the same across the age ranges. However, the few extremely high values of cholesterol levels occur for patients older than 40.\n\n##### Are older patients more likely to have heart disease?\n\nWell, we notice that heart disease was generally more prevalent in older patients, with a large number of them ranging from 50 to 70 years old - represented on the plot by the deep blue shade in this area.",
   "metadata": {
    "tags": [],
    "cell_id": "00040-9629518c-c120-4107-a87f-394736d30924",
    "deepnote_app_coordinates": {
     "x": 0,
     "y": 240,
     "w": 12,
     "h": 5
    },
    "deepnote_cell_type": "markdown"
   }
  },
  {
   "cell_type": "code",
   "metadata": {
    "tags": [],
    "cell_id": "00043-ce2059b3-cc53-4858-ab94-c330ee16581c",
    "deepnote_to_be_reexecuted": false,
    "source_hash": "aa978bc8",
    "execution_start": 1638836517216,
    "execution_millis": 3,
    "deepnote_app_coordinates": {
     "x": 0,
     "y": 246,
     "w": 12,
     "h": 5
    },
    "deepnote_cell_type": "code"
   },
   "source": "# create a function to plot the different attributes against HeartDisease\ndef plot_factor(factor_name, xticks = None, title = None):\n    plt.figure(figsize=(13,7)) \n\n    ax = sns.countplot(x = df[factor_name], data=df, hue = df[\"HeartDiseaseLabel\"], palette=\"flare\");\n    sns.set(font_scale = 1.5)\n\n    if title:\n        ax.set_title(title);\n    else:\n        ax.set_title(\"Heart Disease vs \" + factor_name);\n\n\n    if xticks:\n        ax.set_xticklabels(xticks);\n    ax.set(ylabel = \"Count\");\n    plt.show();",
   "outputs": [],
   "execution_count": null
  },
  {
   "cell_type": "markdown",
   "source": "Our research questions from `2` to all the sub questions in `3` follow the same pattern of comparing the frequency of `HeartDisease` against different attributes in our dataset. We have created a function using `seaborn.countplot` to plot each of these, and save time rewriting the same block of code.",
   "metadata": {
    "tags": [],
    "cell_id": "00042-86ddc2d4-e894-4dfa-a09f-d0c3093722c9",
    "deepnote_app_coordinates": {
     "x": 0,
     "y": 252,
     "w": 12,
     "h": 5
    },
    "deepnote_cell_type": "markdown"
   }
  },
  {
   "cell_type": "markdown",
   "source": "#### 2. Is heart disease more prevalent in men or women? ",
   "metadata": {
    "tags": [],
    "cell_id": "00020-c03f705a-b3a5-44ba-9192-23be9137852b",
    "deepnote_app_coordinates": {
     "x": 0,
     "y": 258,
     "w": 12,
     "h": 5
    },
    "deepnote_cell_type": "markdown"
   }
  },
  {
   "cell_type": "code",
   "metadata": {
    "tags": [],
    "cell_id": "00020-0f81403a-7a02-4b57-8f77-72d11a0cb56c",
    "deepnote_to_be_reexecuted": false,
    "source_hash": "dab3a986",
    "execution_start": 1638836517244,
    "execution_millis": 300,
    "deepnote_output_heights": [
     447
    ],
    "deepnote_app_coordinates": {
     "x": 0,
     "y": 264,
     "w": 12,
     "h": 5
    },
    "deepnote_cell_type": "code"
   },
   "source": "plot_factor(\"Sex\", [\"Male\", \"Female\"], \"Heart Disease Distribution Among Male and Female\")",
   "outputs": [
    {
     "data": {
      "text/plain": "<Figure size 936x504 with 1 Axes>",
      "image/png": "[encoded data removed]"
     },
     "metadata": {
      "needs_background": "light",
      "image/png": {
       "width": 779,
       "height": 445
      }
     },
     "output_type": "display_data"
    }
   ],
   "execution_count": null
  },
  {
   "cell_type": "markdown",
   "source": "From this data, we find that a larger proportion of the male patients had heart disease, than their female counterparts. This corresponds to the current real-world research, which states that [men are more likely to develop heart disease than women](https://www.sciencedirect.com/science/article/pii/S2590093519300256#:~:text=According%20to%20the%20American%20Heart,men%20and%2047.1%25%20were%20women.). ",
   "metadata": {
    "tags": [],
    "cell_id": "00044-e9303174-0ad6-44a8-88c8-c5388feab876",
    "deepnote_app_coordinates": {
     "x": 0,
     "y": 270,
     "w": 12,
     "h": 5
    },
    "deepnote_cell_type": "markdown"
   }
  },
  {
   "cell_type": "markdown",
   "source": "#### 3. Correlation of other data with heart disease",
   "metadata": {
    "tags": [],
    "cell_id": "00024-cfa5c5c3-07a2-4d4c-9c1a-695edbec1edc",
    "deepnote_app_coordinates": {
     "x": 0,
     "y": 276,
     "w": 12,
     "h": 5
    },
    "deepnote_cell_type": "markdown"
   }
  },
  {
   "cell_type": "markdown",
   "source": "##### 3.1. Heart Disease vs RestingECG",
   "metadata": {
    "tags": [],
    "cell_id": "00029-fcdedcff-936f-43b9-bd64-754d195198a8",
    "deepnote_app_coordinates": {
     "x": 0,
     "y": 282,
     "w": 12,
     "h": 5
    },
    "deepnote_cell_type": "markdown"
   }
  },
  {
   "cell_type": "code",
   "metadata": {
    "tags": [],
    "cell_id": "00025-d62aae0f-db87-48d0-8e23-0507b578a5b6",
    "deepnote_to_be_reexecuted": false,
    "source_hash": "86716a80",
    "execution_start": 1638836517556,
    "execution_millis": 336,
    "deepnote_output_heights": [
     463.28125
    ],
    "deepnote_app_coordinates": {
     "x": 0,
     "y": 288,
     "w": 12,
     "h": 5
    },
    "deepnote_cell_type": "code"
   },
   "source": "plot_factor(\"RestingECG\", [\"Normal\", \"ST\",\"LVH\"])",
   "outputs": [
    {
     "data": {
      "text/plain": "<Figure size 936x504 with 1 Axes>",
      "image/png": "[encoded data removed]"
     },
     "metadata": {
      "image/png": {
       "width": 802,
       "height": 464
      }
     },
     "output_type": "display_data"
    }
   ],
   "execution_count": null
  },
  {
   "cell_type": "markdown",
   "source": "Comparatively when the patient's ECG is normal, there were less cases with heart disease, but when the patient's ECG displays left ventricular hypertrophy (LVH) or ST wave abnormalities (ST) there is a much higher likelihood that they had a heart disease.",
   "metadata": {
    "tags": [],
    "cell_id": "00030-74c48b33-9ddc-446b-bf47-4a81f1bb00b0",
    "deepnote_app_coordinates": {
     "x": 0,
     "y": 294,
     "w": 12,
     "h": 5
    },
    "deepnote_cell_type": "markdown"
   }
  },
  {
   "cell_type": "markdown",
   "source": "##### 3.2. Heart Disease vs Chest Pain Type",
   "metadata": {
    "tags": [],
    "cell_id": "00032-23a1d20a-bb38-4e35-894d-adae5724bc5d",
    "deepnote_app_coordinates": {
     "x": 0,
     "y": 300,
     "w": 12,
     "h": 5
    },
    "deepnote_cell_type": "markdown"
   }
  },
  {
   "cell_type": "code",
   "metadata": {
    "tags": [],
    "cell_id": "00027-7d2777cc-ae3d-422c-91e6-3dc915580a31",
    "deepnote_to_be_reexecuted": false,
    "source_hash": "2fd7a164",
    "execution_start": 1638836517981,
    "execution_millis": 535,
    "deepnote_output_heights": [
     463.28125
    ],
    "deepnote_app_coordinates": {
     "x": 0,
     "y": 306,
     "w": 12,
     "h": 5
    },
    "deepnote_cell_type": "code"
   },
   "source": "plot_factor(\"ChestPainType\")",
   "outputs": [
    {
     "data": {
      "text/plain": "<Figure size 936x504 with 1 Axes>",
      "image/png": "[encoded data removed]"
     },
     "metadata": {
      "image/png": {
       "width": 802,
       "height": 464
      }
     },
     "output_type": "display_data"
    }
   ],
   "execution_count": null
  },
  {
   "cell_type": "markdown",
   "source": "Patients experiencing Atypical Angina usually did not have a heart disease. About a third of Patients experiencing Non-Anginal Pain and half of patients experiencing Typical Angina had heart diseases.\nThe vast majority of patients with heart disease, almost 4 times as many as without, displayed no symptoms of Angina. This may be because the disease itself was the cause of the patient's heart failure or because any experienced pain was considered 'normal'.",
   "metadata": {
    "tags": [],
    "cell_id": "00034-5e142ec2-d30a-4868-aced-3538248774c1",
    "deepnote_app_coordinates": {
     "x": 0,
     "y": 312,
     "w": 12,
     "h": 5
    },
    "deepnote_cell_type": "markdown"
   }
  },
  {
   "cell_type": "markdown",
   "source": "##### 3.3. Heart Disease vs Exercise Angina",
   "metadata": {
    "tags": [],
    "cell_id": "00035-c97eecee-3772-4ae5-97ab-8152c037879e",
    "deepnote_app_coordinates": {
     "x": 0,
     "y": 318,
     "w": 12,
     "h": 5
    },
    "deepnote_cell_type": "markdown"
   }
  },
  {
   "cell_type": "code",
   "metadata": {
    "tags": [],
    "cell_id": "00028-6cabf745-ace3-4b2c-aadc-7e24f5e6e81e",
    "deepnote_to_be_reexecuted": false,
    "source_hash": "8127e9ee",
    "execution_start": 1638836518310,
    "execution_millis": 368,
    "deepnote_output_heights": [
     463.28125
    ],
    "deepnote_app_coordinates": {
     "x": 0,
     "y": 324,
     "w": 12,
     "h": 5
    },
    "deepnote_cell_type": "code"
   },
   "source": "plot_factor(\"ExerciseAngina\")",
   "outputs": [
    {
     "data": {
      "text/plain": "<Figure size 936x504 with 1 Axes>",
      "image/png": "[encoded data removed]"
     },
     "metadata": {
      "image/png": {
       "width": 802,
       "height": 464
      }
     },
     "output_type": "display_data"
    }
   ],
   "execution_count": null
  },
  {
   "cell_type": "markdown",
   "source": "The chart above shows that patients with heart diseases experienced exercise-induced angina far more than patients without heart disease. This is probably because heart disease increases the risk of angina during exercise.",
   "metadata": {
    "tags": [],
    "cell_id": "00038-f1d83ec3-a1a8-4424-a1b4-5fa1e67980e9",
    "deepnote_app_coordinates": {
     "x": 0,
     "y": 330,
     "w": 12,
     "h": 5
    },
    "deepnote_cell_type": "markdown"
   }
  },
  {
   "cell_type": "markdown",
   "source": "##### 3.4. Heart Disease vs Fasting Blood Sugar",
   "metadata": {
    "tags": [],
    "cell_id": "00038-b98dcd8c-c22d-485a-8a24-186e872af5a4",
    "deepnote_app_coordinates": {
     "x": 0,
     "y": 336,
     "w": 12,
     "h": 5
    },
    "deepnote_cell_type": "markdown"
   }
  },
  {
   "cell_type": "code",
   "metadata": {
    "tags": [],
    "cell_id": "00029-17781865-429a-4519-99be-08ee7eb55191",
    "deepnote_to_be_reexecuted": false,
    "source_hash": "1e46f4a1",
    "execution_start": 1638836518686,
    "execution_millis": 369,
    "deepnote_output_heights": [
     463.28125
    ],
    "deepnote_app_coordinates": {
     "x": 0,
     "y": 342,
     "w": 12,
     "h": 5
    },
    "deepnote_cell_type": "code"
   },
   "source": "plot_factor(\"FastingBSLabel\")",
   "outputs": [
    {
     "data": {
      "text/plain": "<Figure size 936x504 with 1 Axes>",
      "image/png": "[encoded data removed]"
     },
     "metadata": {
      "image/png": {
       "width": 802,
       "height": 464
      }
     },
     "output_type": "display_data"
    }
   ],
   "execution_count": null
  },
  {
   "cell_type": "markdown",
   "source": "In general, there were significantly more patients with normal or low fasting blood sugar (`<= 120 mg/dl`) than patients with high blood sugar. However, more patients with heart disease had high blood sugar than patients without heart disease. This makes sense considering a fasting blood sugar level [above 125 mg/dl is considered diabetic](https://www.mayoclinic.org/diseases-conditions/diabetes/diagnosis-treatment/drc-20371451#:~:text=A%20fasting%20blood%20sugar%20level,Oral%20glucose%20tolerance%20test.), and diabetes is one of the risk factors of heart disease.\n",
   "metadata": {
    "tags": [],
    "cell_id": "00040-b24d08ad-8356-4e01-acca-34a785d31ca4",
    "deepnote_app_coordinates": {
     "x": 0,
     "y": 348,
     "w": 12,
     "h": 5
    },
    "deepnote_cell_type": "markdown"
   }
  },
  {
   "cell_type": "markdown",
   "source": "##### 3.5. Heart Disease vs ST Slope",
   "metadata": {
    "tags": [],
    "cell_id": "00041-d6cedb28-d5a5-44d3-ad94-a11d844e31f9",
    "deepnote_app_coordinates": {
     "x": 0,
     "y": 354,
     "w": 12,
     "h": 5
    },
    "deepnote_cell_type": "markdown"
   }
  },
  {
   "cell_type": "code",
   "metadata": {
    "tags": [],
    "cell_id": "00030-7d2c6c80-210a-48f8-865b-3e90615f63c0",
    "deepnote_to_be_reexecuted": false,
    "source_hash": "c74dfe31",
    "execution_start": 1638836519079,
    "execution_millis": 340,
    "deepnote_output_heights": [
     463.28125
    ],
    "deepnote_app_coordinates": {
     "x": 0,
     "y": 360,
     "w": 12,
     "h": 5
    },
    "deepnote_cell_type": "code"
   },
   "source": "plot_factor(\"ST_Slope\")",
   "outputs": [
    {
     "data": {
      "text/plain": "<Figure size 936x504 with 1 Axes>",
      "image/png": "[encoded data removed]"
     },
     "metadata": {
      "image/png": {
       "width": 802,
       "height": 464
      }
     },
     "output_type": "display_data"
    }
   ],
   "execution_count": null
  },
  {
   "cell_type": "markdown",
   "source": "Observing the graph above, it is seen that patients tend to have heart disease when the ST slope is flat compared to having a ST slope up or down. This is due to patients having irregularity in their heart beats. However, there are some patiatents who have flat ST slopes but do not have heart disease. This is due to other factors such as stress, anxiety or other medical issues that can lead to these iregularites. Another factor could be from drug usage, such as prescribed medicines, caffiene, etc.",
   "metadata": {
    "tags": [],
    "cell_id": "00044-0ed4129e-48cb-45d8-b447-8ce12bf9fb86",
    "deepnote_app_coordinates": {
     "x": 0,
     "y": 366,
     "w": 12,
     "h": 5
    },
    "deepnote_cell_type": "markdown"
   }
  },
  {
   "cell_type": "markdown",
   "source": "#### 3.6. Heart Disease vs Maximum Heart Rate",
   "metadata": {
    "tags": [],
    "cell_id": "00044-28f37b69-de4b-4009-9c24-ace8505d41f7",
    "deepnote_app_coordinates": {
     "x": 0,
     "y": 372,
     "w": 12,
     "h": 5
    },
    "deepnote_cell_type": "markdown"
   }
  },
  {
   "cell_type": "markdown",
   "source": "Because the `MaxHR` column contains **many** distinct values, we will use `seaborn.histplot` instead of `countplot` to make our data visualization more concise and readable.",
   "metadata": {
    "tags": [],
    "cell_id": "00062-a5c70add-ec30-4c32-9004-6ab4c0be2c55",
    "deepnote_app_coordinates": {
     "x": 0,
     "y": 378,
     "w": 12,
     "h": 5
    },
    "deepnote_cell_type": "markdown"
   }
  },
  {
   "cell_type": "code",
   "metadata": {
    "tags": [],
    "cell_id": "00034-97a5829b-fb4d-408d-8612-fe750cd9f730",
    "deepnote_to_be_reexecuted": false,
    "source_hash": "e9f8dc57",
    "execution_start": 1638836519429,
    "execution_millis": 746,
    "deepnote_output_heights": [
     434.5
    ],
    "deepnote_app_coordinates": {
     "x": 0,
     "y": 384,
     "w": 12,
     "h": 5
    },
    "deepnote_cell_type": "code"
   },
   "source": "plt.figure(figsize=(14, 7))\nax6=sns.histplot(data=df, x = df[\"MaxHR\"], hue = df[\"HeartDiseaseLabel\"], palette=\"flare\", kde=True);\n\nsns.set(font_scale = 1)\nax6.set_title(\"Heart Disease Vs Maximum Heart Rate\");\nax6.set(ylabel = \"Count\");",
   "outputs": [
    {
     "data": {
      "text/plain": "<Figure size 1008x504 with 1 Axes>",
      "image/png": "[encoded data removed]"
     },
     "metadata": {
      "image/png": {
       "width": 848,
       "height": 460
      }
     },
     "output_type": "display_data"
    }
   ],
   "execution_count": null
  },
  {
   "cell_type": "markdown",
   "source": "While the results are surprisingly similar between patients with heart disease and without, the range of maximum heart rates of patients without heart disease is higher than the range of maximum heart rate reading of patients with heart rate.",
   "metadata": {
    "tags": [],
    "cell_id": "00066-89012217-fde9-4e60-85a4-9bfe00c0a44e",
    "deepnote_app_coordinates": {
     "x": 0,
     "y": 390,
     "w": 12,
     "h": 5
    },
    "deepnote_cell_type": "markdown"
   }
  },
  {
   "cell_type": "markdown",
   "source": "#### 4. At what age and sex are each type of chest pain most common?",
   "metadata": {
    "tags": [],
    "cell_id": "00059-0d288ac1-f378-49fc-bbaa-fe249010d060",
    "deepnote_app_coordinates": {
     "x": 0,
     "y": 396,
     "w": 12,
     "h": 5
    },
    "deepnote_cell_type": "markdown"
   }
  },
  {
   "cell_type": "code",
   "metadata": {
    "tags": [],
    "cell_id": "00062-b52a0a63-23a7-4a13-9ab1-430e565289f5",
    "deepnote_to_be_reexecuted": false,
    "source_hash": "d272b73a",
    "execution_start": 1638836520180,
    "execution_millis": 626,
    "deepnote_output_heights": [
     366
    ],
    "deepnote_app_coordinates": {
     "x": 0,
     "y": 402,
     "w": 12,
     "h": 5
    },
    "deepnote_cell_type": "code"
   },
   "source": "ax8=sns.displot(data = df, x = \"ChestPainType\", y = \"Age\", hue=\"Sex\", palette=\"husl\", height=5);\nplt.title(\"Sex & Age vs Chest Pain types\");",
   "outputs": [
    {
     "data": {
      "text/plain": "<Figure size 409.1x360 with 1 Axes>",
      "image/png": "[encoded data removed]"
     },
     "metadata": {
      "image/png": {
       "width": 405,
       "height": 364
      }
     },
     "output_type": "display_data"
    }
   ],
   "execution_count": null
  },
  {
   "cell_type": "markdown",
   "source": "From this plot, we see that females have more chest pain then males, which [according to real-world research](https://www.heart.org/en/health-topics/heart-attack/warning-signs-of-a-heart-attack/heart-attack-symptoms-in-women), is true. These chest pains tend to be ATypical Angina (ATA) and Non-Anginal Chest Pain (NAP). However, some females were asymptomatic (ASY). A large proportion of these females are between the ages of 32-62. When it comes to male patients they tend have chest pain between the ages 35 and below and 72 and up. Males experience Typical Angina (TA) chest pain between the ages  35-42 and 45-55.",
   "metadata": {
    "tags": [],
    "cell_id": "00064-1227f7f1-cdbb-4625-ad98-f053a1a7d021",
    "deepnote_app_coordinates": {
     "x": 0,
     "y": 408,
     "w": 12,
     "h": 5
    },
    "deepnote_cell_type": "markdown"
   }
  },
  {
   "cell_type": "markdown",
   "source": "#### 5. How do different types of chest pain relate to high cholesterol and heart disease among patients?",
   "metadata": {
    "tags": [],
    "cell_id": "00063-0df15e13-6b60-48fc-9d1c-bce0b955b23b",
    "deepnote_app_coordinates": {
     "x": 0,
     "y": 414,
     "w": 12,
     "h": 5
    },
    "deepnote_cell_type": "markdown"
   }
  },
  {
   "cell_type": "code",
   "metadata": {
    "tags": [],
    "cell_id": "00064-3e11d494-a1ff-42ec-bf37-efde2758b638",
    "deepnote_to_be_reexecuted": false,
    "source_hash": "e78133b7",
    "execution_start": 1638837570648,
    "execution_millis": 717,
    "deepnote_output_heights": [
     438
    ],
    "deepnote_app_coordinates": {
     "x": 0,
     "y": 420,
     "w": 12,
     "h": 5
    },
    "deepnote_cell_type": "code"
   },
   "source": "ax8=sns.displot(data = df, x = \"ChestPainType\", y = \"Cholesterol\", hue=\"HeartDiseaseLabel\", palette=\"husl\", height=6);\nplt.title(\"Chest Pain Types & Cholesterol vs Heart Disease\");",
   "outputs": [
    {
     "data": {
      "text/plain": "<Figure size 574.1x432 with 1 Axes>",
      "image/png": "[encoded data removed]"
     },
     "metadata": {
      "image/png": {
       "width": 570,
       "height": 436
      }
     },
     "output_type": "display_data"
    }
   ],
   "execution_count": null
  },
  {
   "cell_type": "markdown",
   "source": "We noticed the deep concentration of heart disease patients on the plot have a cholestrol level between 200-300, and showed no symptoms of chest pain. Then, patients who did not have heart disease and recorded ATypical Angina (ATA) chest pain and tended to have a cholesterol of 200-180 and 160-100.",
   "metadata": {
    "tags": [],
    "cell_id": "00066-0ae64849-0977-4ced-a420-c4c683ed6948",
    "deepnote_app_coordinates": {
     "x": 0,
     "y": 426,
     "w": 12,
     "h": 5
    },
    "deepnote_cell_type": "markdown"
   }
  },
  {
   "cell_type": "markdown",
   "source": "## Potential for Data Science\n\nAfter Exploratory Data Analysis (EDA) ususlly comes the data science tasks where we draw insights. This is outside the scope of our project, but but let us outline the potential for data science of this dataset.  \nAs mentioned earlier, the key usefulness of the data is to **create a model to predict the occurence of heart disease in patients based on the attributes listed** here (cholesterol, type of chest pain, age, sex, blood sugar level, etc.). This will help individuals and healthcare providers detect heart disease early, and start treatment before the patient's health deteriorates.\n\n",
   "metadata": {
    "tags": [],
    "cell_id": "00068-68e81aa0-1bc1-4563-b9d3-1254acb1d104",
    "deepnote_app_coordinates": {
     "x": 0,
     "y": 432,
     "w": 12,
     "h": 5
    },
    "deepnote_cell_type": "markdown"
   }
  },
  {
   "cell_type": "markdown",
   "source": "## Conclusion\nOverall, we felt like this analysis turned out well as we managed to find the information needed to answer the research questions that our group came up with. However, we came into problems with the data set when it came to outliers. We had a lot of patients who were recorded to have `0` cholesterol level which is impossible. This may have severely changed the answers/conclusions drawn from our findings.\n\nWe learned many things from our analysis, and one of the major lessons we learned is that the graphs we decide to choose matter. When it come to heatmaps, we thought it would help us with our research, but it only made it harder to draw conclusions from them. We resorted to displot graphs which helped us out as it made it easier to read. Most of the time we spent checking over the analysis was to check if a graph helped answer our questions.\n\nThe data set did not give us a lot of limitations, however, we felt that if a column showed every patient's country, we could draw a lot more conclusions about that country's health care or patterns with patients who have heart disease and their country.",
   "metadata": {
    "tags": [],
    "cell_id": "00074-db9e4ad5-cdf6-4fff-b4b1-e2da115575bc",
    "deepnote_app_coordinates": {
     "x": 0,
     "y": 438,
     "w": 12,
     "h": 5
    },
    "deepnote_cell_type": "markdown"
   }
  },
  {
   "cell_type": "markdown",
   "source": "<a style='text-decoration:none;line-height:16px;display:flex;color:#5B5B62;padding:10px;justify-content:end;' href='https://deepnote.com?utm_source=created-in-deepnote-cell&projectId=6c1334f9-4d1c-4af5-beee-d3f2a665905b' target=\"_blank\">\n<img alt='Created in deepnote.com' style='display:inline;max-height:16px;margin:0px;margin-right:7.5px;' src='data:image/svg+xml;base64,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' > </img>\nCreated in <span style='font-weight:600;margin-left:4px;'>Deepnote</span></a>",
   "metadata": {
    "tags": [],
    "created_in_deepnote_cell": true,
    "deepnote_cell_type": "markdown"
   }
  }
 ],
 "nbformat": 4,
 "nbformat_minor": 2,
 "metadata": {
  "interpreter": {
   "hash": "768d37b7758e2dc91dd8a7c0b21b7a9e4a83b364f5a51f102074aadb076d42ce"
  },
  "kernelspec": {
   "display_name": "Python 3",
   "language": "python",
   "name": "python3"
  },
  "language_info": {
   "codemirror_mode": {
    "name": "ipython",
    "version": 3
   },
   "file_extension": ".py",
   "mimetype": "text/x-python",
   "name": "python",
   "nbconvert_exporter": "python",
   "pygments_lexer": "ipython3",
   "version": "3.8.8"
  },
  "deepnote_notebook_id": "ee8dd3fc-9804-4df6-bff6-a42b6a43f4e3",
  "deepnote": {},
  "deepnote_execution_queue": [],
  "deepnote_app_layout": "article"
 }
}